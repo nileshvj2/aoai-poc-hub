{
 "cells": [
  {
   "cell_type": "markdown",
   "metadata": {},
   "source": [
    "### AutoGen Example Tool Use: Get Current time based on city"
   ]
  },
  {
   "cell_type": "code",
   "execution_count": 62,
   "metadata": {},
   "outputs": [
    {
     "data": {
      "text/plain": [
       "True"
      ]
     },
     "execution_count": 62,
     "metadata": {},
     "output_type": "execute_result"
    }
   ],
   "source": [
    "import os\n",
    "import dotenv\n",
    "from autogen import ConversableAgent\n",
    "import openai\n",
    "\n",
    "dotenv.load_dotenv(\"..\\\\common\\\\credentials.env\", verbose=True, override=True)"
   ]
  },
  {
   "cell_type": "markdown",
   "metadata": {},
   "source": [
    "Default config for autogen points to open ai format APIs. \n",
    "To use azure API's set config as below"
   ]
  },
  {
   "cell_type": "code",
   "execution_count": 63,
   "metadata": {},
   "outputs": [],
   "source": [
    "aoai_endpoint = os.environ[\"AZURE_OPENAI_ENDPOINT\"]\n",
    "aoai_api_key = os.environ[\"AZURE_OPENAI_API_KEY\"]\n",
    "aoai_api_type = os.environ[\"OPENAI_API_TYPE\"]\n",
    "deployment_name = \"gpt-4o\" # \"gpt-4\" #use GPT-4 as 3.5 turbo seems to not work well for math problems\n",
    "aoai_api_version = \"2024-02-15-preview\" #Using latest version as of this date. Older versions may not work with the code as syntax has changed drastically.\n",
    "\n",
    "config_list = [\n",
    "    {\n",
    "        \"model\": deployment_name,  \n",
    "        \"base_url\": aoai_endpoint, \n",
    "        \"api_type\": aoai_api_type, \n",
    "        \"api_version\": aoai_api_version, \n",
    "        \"api_key\": aoai_api_key,\n",
    "        \"temperature\": 0.7\n",
    " }\n",
    "]"
   ]
  },
  {
   "cell_type": "code",
   "execution_count": 64,
   "metadata": {},
   "outputs": [],
   "source": [
    "# importing datetime\n",
    "from datetime import datetime\n",
    "\n",
    "# importing pytz module\n",
    "import pytz\n",
    "\n",
    "\n",
    "\n",
    "def getCurrentTime(city: str) -> str:\n",
    "    # giving the format of datetime\n",
    "    format = \"%Y-%m-%d %H:%M:%S %Z%z\"\n",
    "\n",
    "    # getting the standard UTC time\n",
    "    original_tz = pytz.utc \n",
    "\n",
    "    if city == \"Mumbai\":\n",
    "        converted_tz = pytz.timezone('Asia/Kolkata')\n",
    "    elif city == \"New York\":\n",
    "        converted_tz = pytz.timezone('US/Eastern')\n",
    "    elif city == \"Dallas\":\n",
    "        converted_tz = pytz.timezone('US/Central')\n",
    "    elif city == \"Los Angeles\":\n",
    "        converted_tz = pytz.timezone('US/Pacific')\n",
    "    else:\n",
    "        converted_tz = original_tz\n",
    "\n",
    "    return datetime.now(converted_tz).strftime(format)\n",
    "\n",
    "  "
   ]
  },
  {
   "cell_type": "code",
   "execution_count": 65,
   "metadata": {},
   "outputs": [
    {
     "data": {
      "text/plain": [
       "'2024-12-18 19:12:00 EST-0500'"
      ]
     },
     "execution_count": 65,
     "metadata": {},
     "output_type": "execute_result"
    }
   ],
   "source": [
    "getCurrentTime(\"New York\")"
   ]
  },
  {
   "cell_type": "code",
   "execution_count": null,
   "metadata": {},
   "outputs": [
    {
     "data": {
      "text/plain": [
       "<function __main__.getCurrentTime(city: str) -> str>"
      ]
     },
     "execution_count": 70,
     "metadata": {},
     "output_type": "execute_result"
    }
   ],
   "source": [
    "import os\n",
    "\n",
    "from autogen import ConversableAgent\n",
    "\n",
    "# Let's first define the assistant agent that suggests tool calls.\n",
    "time_agent = ConversableAgent(\n",
    "    name=\"TimeAgent\",\n",
    "    system_message=\"\"\"You are a helpful AI assistant who help answering questions about current time based on the city.\n",
    "    If question is not about time then dont suggest function call instead reply based on your knowledge and add keyword 'TERMINATE' at the end. \n",
    "    Return 'TERMINATE' when the task is done.\"\"\",\n",
    "    llm_config={\"config_list\": config_list},\n",
    ")\n",
    "\n",
    "# The proxy_agent is used for  function calling and executing code\n",
    "#Also, it will be used for interacting with the time agent.\n",
    "proxy_agent = ConversableAgent(\n",
    "    name=\"ProxyAgent\",\n",
    "    llm_config=False,\n",
    "    is_termination_msg=lambda msg: msg.get(\"content\") is not None and \"TERMINATE\" in msg[\"content\"],\n",
    "    human_input_mode=\"NEVER\"\n",
    ")\n",
    "\n"
   ]
  },
  {
   "cell_type": "code",
   "execution_count": 71,
   "metadata": {},
   "outputs": [],
   "source": [
    "from autogen import register_function\n",
    "\n",
    "\n",
    "# Register the tool signature with the time assistant agent.\n",
    "time_agent.register_for_llm(name=\"getCurrentTime\", description=\"Gives you current time based on city\")(getCurrentTime)\n",
    "\n",
    "# Register the tool function with the proxy agent.\n",
    "proxy_agent.register_for_execution(name=\"getCurrentTime\")(getCurrentTime)\n",
    "\n",
    "# Register the getCurrentTime function to the two agents.\n",
    "register_function(\n",
    "    getCurrentTime,\n",
    "    caller=time_agent,  # The TimeAgent can suggest call to the getCurrentTime function.\n",
    "    executor=proxy_agent,  # The code executor agent can execute the function.    \n",
    "    name=\"getCurrentTime\",  # By default, the function name is used as the tool name.\n",
    "    description=\"Gives you current time based on city\",  # A description of the tool.\n",
    ")"
   ]
  },
  {
   "cell_type": "markdown",
   "metadata": {},
   "source": [
    "Initiate chat using user proxy(executor) agent"
   ]
  },
  {
   "cell_type": "code",
   "execution_count": 72,
   "metadata": {},
   "outputs": [
    {
     "name": "stdout",
     "output_type": "stream",
     "text": [
      "\u001b[33mProxyAgent\u001b[0m (to TimeAgent):\n",
      "\n",
      "What is current time in Dallas\n",
      "\n",
      "--------------------------------------------------------------------------------\n",
      "\u001b[31m\n",
      ">>>>>>>> USING AUTO REPLY...\u001b[0m\n",
      "\u001b[33mTimeAgent\u001b[0m (to ProxyAgent):\n",
      "\n",
      "\u001b[32m***** Suggested tool call (call_LGoYczDvWxt17hZnVMfTJTn0): getCurrentTime *****\u001b[0m\n",
      "Arguments: \n",
      "{\"city\":\"Dallas\"}\n",
      "\u001b[32m*******************************************************************************\u001b[0m\n",
      "\n",
      "--------------------------------------------------------------------------------\n",
      "\u001b[35m\n",
      ">>>>>>>> EXECUTING FUNCTION getCurrentTime...\u001b[0m\n",
      "\u001b[33mProxyAgent\u001b[0m (to TimeAgent):\n",
      "\n",
      "\u001b[33mProxyAgent\u001b[0m (to TimeAgent):\n",
      "\n",
      "\u001b[32m***** Response from calling tool (call_LGoYczDvWxt17hZnVMfTJTn0) *****\u001b[0m\n",
      "2024-12-18 18:32:55 CST-0600\n",
      "\u001b[32m**********************************************************************\u001b[0m\n",
      "\n",
      "--------------------------------------------------------------------------------\n",
      "\u001b[31m\n",
      ">>>>>>>> USING AUTO REPLY...\u001b[0m\n",
      "\u001b[33mTimeAgent\u001b[0m (to ProxyAgent):\n",
      "\n",
      "The current time in Dallas is 6:32 PM CST on December 18, 2024. TERMINATE\n",
      "\n",
      "--------------------------------------------------------------------------------\n"
     ]
    }
   ],
   "source": [
    "chat_result = proxy_agent.initiate_chat(time_agent, message=\"What is current time in Dallas\")"
   ]
  },
  {
   "cell_type": "code",
   "execution_count": 73,
   "metadata": {},
   "outputs": [
    {
     "name": "stdout",
     "output_type": "stream",
     "text": [
      "\u001b[33mProxyAgent\u001b[0m (to TimeAgent):\n",
      "\n",
      "who is president of united states\n",
      "\n",
      "--------------------------------------------------------------------------------\n",
      "\u001b[31m\n",
      ">>>>>>>> USING AUTO REPLY...\u001b[0m\n",
      "\u001b[33mTimeAgent\u001b[0m (to ProxyAgent):\n",
      "\n",
      "As of October 2023, the President of the United States is Joe Biden. TERMINATE\n",
      "\n",
      "--------------------------------------------------------------------------------\n"
     ]
    }
   ],
   "source": [
    "chat_result = proxy_agent.initiate_chat(time_agent, message=\"who is president of united states\")"
   ]
  },
  {
   "cell_type": "code",
   "execution_count": null,
   "metadata": {},
   "outputs": [],
   "source": []
  }
 ],
 "metadata": {
  "kernelspec": {
   "display_name": "Python 3",
   "language": "python",
   "name": "python3"
  },
  "language_info": {
   "codemirror_mode": {
    "name": "ipython",
    "version": 3
   },
   "file_extension": ".py",
   "mimetype": "text/x-python",
   "name": "python",
   "nbconvert_exporter": "python",
   "pygments_lexer": "ipython3",
   "version": "3.11.10"
  }
 },
 "nbformat": 4,
 "nbformat_minor": 2
}
