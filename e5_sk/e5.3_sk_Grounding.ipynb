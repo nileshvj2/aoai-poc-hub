{
 "cells": [
  {
   "cell_type": "code",
   "execution_count": 1,
   "metadata": {},
   "outputs": [],
   "source": [
    "import asyncio\n",
    "import logging\n",
    "import os\n",
    "import dotenv\n",
    "\n",
    "from semantic_kernel import Kernel\n",
    "from semantic_kernel.connectors.ai.open_ai import AzureChatCompletion, OpenAIChatCompletion\n",
    "from semantic_kernel.functions import KernelArguments"
   ]
  },
  {
   "cell_type": "markdown",
   "metadata": {},
   "source": [
    "reference: https://github.com/microsoft/semantic-kernel/blob/main/python/samples/getting_started/09-groundedness-checking.ipynb"
   ]
  },
  {
   "cell_type": "code",
   "execution_count": 2,
   "metadata": {},
   "outputs": [
    {
     "data": {
      "text/plain": [
       "True"
      ]
     },
     "execution_count": 2,
     "metadata": {},
     "output_type": "execute_result"
    }
   ],
   "source": [
    "dotenv.load_dotenv(\"..\\\\common\\\\credentials.env\", verbose=True, override=True)"
   ]
  },
  {
   "cell_type": "code",
   "execution_count": 3,
   "metadata": {},
   "outputs": [],
   "source": [
    "aoai_endpoint = os.environ[\"AZURE_OPENAI_ENDPOINT\"]\n",
    "aoai_api_key = os.environ[\"AZURE_OPENAI_API_KEY\"]\n",
    "aoai_api_type = os.environ[\"OPENAI_API_TYPE\"]\n",
    "deployment_name = \"gpt-35-turbo\" # \"gpt-4\" \n",
    "aoai_api_version = \"2024-08-01-preview\" #Using latest version as of this date. Older versions may not work with the code as syntax has changed drastically."
   ]
  },
  {
   "cell_type": "code",
   "execution_count": 4,
   "metadata": {},
   "outputs": [],
   "source": [
    "def get_grounding_text():\n",
    "    return \"\"\"I am by birth a Genevese, and my family is one of the most distinguished of that republic.\n",
    "My ancestors had been for many years counsellors and syndics, and my father had filled several public situations\n",
    "with honour and reputation. He was respected by all who knew him for his integrity and indefatigable attention\n",
    "to public business. He passed his younger days perpetually occupied by the affairs of his country; a variety\n",
    "of circumstances had prevented his marrying early, nor was it until the decline of life that he became a husband\n",
    "and the father of a family.\n",
    "\n",
    "As the circumstances of his marriage illustrate his character, I cannot refrain from relating them. One of his\n",
    "most intimate friends was a merchant who, from a flourishing state, fell, through numerous mischances, into poverty.\n",
    "This man, whose name was Beaufort, was of a proud and unbending disposition and could not bear to live in poverty\n",
    "and oblivion in the same country where he had formerly been distinguished for his rank and magnificence. Having\n",
    "paid his debts, therefore, in the most honourable manner, he retreated with his daughter to the town of Lucerne,\n",
    "where he lived unknown and in wretchedness. My father loved Beaufort with the truest friendship and was deeply\n",
    "grieved by his retreat in these unfortunate circumstances. He bitterly deplored the false pride which led his friend\n",
    "to a conduct so little worthy of the affection that united them. He lost no time in endeavouring to seek him out,\n",
    "with the hope of persuading him to begin the world again through his credit and assistance.\n",
    "\n",
    "Beaufort had taken effectual measures to conceal himself, and it was ten months before my father discovered his\n",
    "abode. Overjoyed at this discovery, he hastened to the house, which was situated in a mean street near the Reuss.\n",
    "But when he entered, misery and despair alone welcomed him. Beaufort had saved but a very small sum of money from\n",
    "the wreck of his fortunes, but it was sufficient to provide him with sustenance for some months, and in the meantime\n",
    "he hoped to procure some respectable employment in a merchant's house. The interval was, consequently, spent in\n",
    "inaction; his grief only became more deep and rankling when he had leisure for reflection, and at length it took\n",
    "so fast hold of his mind that at the end of three months he lay on a bed of sickness, incapable of any exertion.\n",
    "\n",
    "His daughter attended him with the greatest tenderness, but she saw with despair that their little fund was\n",
    "rapidly decreasing and that there was no other prospect of support. But Caroline Beaufort possessed a mind of an\n",
    "uncommon mould, and her courage rose to support her in her adversity. She procured plain work; she plaited straw\n",
    "and by various means contrived to earn a pittance scarcely sufficient to support life.\n",
    "\n",
    "Several months passed in this manner. Her father grew worse; her time was more entirely occupied in attending him;\n",
    "her means of subsistence decreased; and in the tenth month her father died in her arms, leaving her an orphan and\n",
    "a beggar. This last blow overcame her, and she knelt by Beaufort's coffin weeping bitterly, when my father entered\n",
    "the chamber. He came like a protecting spirit to the poor girl, who committed herself to his care; and after the\n",
    "interment of his friend he conducted her to Geneva and placed her under the protection of a relation. Two years\n",
    "after this event Caroline became his wife.\"\"\"\n"
   ]
  },
  {
   "cell_type": "code",
   "execution_count": 5,
   "metadata": {},
   "outputs": [],
   "source": [
    "logger = logging.getLogger()\n",
    "logger.setLevel(logging.DEBUG)"
   ]
  },
  {
   "cell_type": "code",
   "execution_count": 6,
   "metadata": {},
   "outputs": [],
   "source": [
    "def setup(use_azure: bool = False, plugin_name: str = \"GroundingPlugin\"):\n",
    "    kernel = Kernel()\n",
    "\n",
    "    # Configure AI service used by the kernel\n",
    "    # if use_azure:\n",
    "    service_id = \"chat_completion\"\n",
    "    kernel.add_service(\n",
    "        AzureChatCompletion(\n",
    "            service_id=service_id,\n",
    "            api_key=aoai_api_key, \n",
    "            endpoint=aoai_endpoint, \n",
    "            api_version=aoai_api_version,\n",
    "            deployment_name=deployment_name\n",
    "        ),\n",
    "    )\n",
    "    # else:\n",
    "    #     service_id = \"chat-gpt\"\n",
    "    #     kernel.add_service(\n",
    "    #         OpenAIChatCompletion(service_id=service_id, ai_model_id=\"gpt-3.5-turbo\"),\n",
    "    #     )\n",
    "\n",
    "    # note: using plugins from the samples folder\n",
    "    plugins_directory = os.path.join(__file__, \"../../../../../prompt_template_samples/\")\n",
    "\n",
    "    kernel.add_plugin(parent_directory=plugins_directory, plugin_name=plugin_name)\n",
    "\n",
    "    return kernel"
   ]
  },
  {
   "cell_type": "code",
   "execution_count": 7,
   "metadata": {},
   "outputs": [],
   "source": [
    "def get_summary_text():\n",
    "    summary_text = \"\"\"My father, a respected resident of Milan, was a close friend of a merchant named Beaufort who, after a series of misfortunes, moved to Zurich in poverty. My father was upset by his friend's troubles and sought him out, finding him in a mean street. Beaufort had saved a small sum of money, but it was not enough to support him and his daughter, Mary. Mary procured work to eek out a living, but after ten months her father died, leaving her a beggar. My father came to her aid and two years later they married when they visited Rome.\"\"\"  # noqa: E501\n",
    "\n",
    "    return summary_text.replace(\"\\n\", \" \").replace(\"  \", \" \")\n"
   ]
  },
  {
   "cell_type": "code",
   "execution_count": 8,
   "metadata": {},
   "outputs": [],
   "source": [
    "async def run_entity_extraction(kernel: Kernel, plugin_name: str, summary_text: str):\n",
    "    arguments = KernelArguments(\n",
    "        topic=\"people and places\", example_entities=\"John, Jane, mother, brother, Paris, Rome\", input=summary_text\n",
    "    )\n",
    "\n",
    "    return await kernel.invoke(plugin_name=plugin_name, function_name=\"ExtractEntities\", arguments=arguments)\n"
   ]
  },
  {
   "cell_type": "code",
   "execution_count": 9,
   "metadata": {},
   "outputs": [],
   "source": [
    "async def run_reference_check(kernel: Kernel, plugin_name: str, extraction_result):\n",
    "    return await kernel.invoke(\n",
    "        plugin_name=plugin_name,\n",
    "        function_name=\"ReferenceCheckEntities\",\n",
    "        input=str(extraction_result),\n",
    "        reference_context=get_grounding_text(),\n",
    "    )"
   ]
  },
  {
   "cell_type": "code",
   "execution_count": 10,
   "metadata": {},
   "outputs": [],
   "source": [
    "async def run_entity_excision(kernel: Kernel, plugin_name: str, summary_text, grounding_result):\n",
    "    return await kernel.invoke(\n",
    "        plugin_name=plugin_name,\n",
    "        function_name=\"ExciseEntities\",\n",
    "        input=summary_text,\n",
    "        ungrounded_entities=grounding_result,\n",
    "    )"
   ]
  },
  {
   "cell_type": "code",
   "execution_count": 11,
   "metadata": {},
   "outputs": [],
   "source": [
    "async def run_grounding(use_azure: bool = False):\n",
    "    plugin_name = \"GroundingPlugin\"\n",
    "    kernel = setup(use_azure, plugin_name=plugin_name)\n",
    "    print(f\"\\nGroundingsness Checking Plugins\\n\")\n",
    "    print(f\"\\n{'-' * 80}\\n\")\n",
    "    print(\n",
    "        f\"\"\"A well-known problem with large language models (LLMs) is that they make things up. These are sometimes called 'hallucinations' but a safer (and less anthropomorphic) term is 'ungrounded addition' - something in the text which cannot be firmly established. When attempting to establish whether or not something in an LLM response is 'true' we can either check for it in the supplied prompt (this is called 'narrow grounding') or use our general knowledge ('broad grounding'). Note that narrow grounding can lead to things being classified as 'true, but ungrounded.' For example \"I live in Switzerland\" is **not** _narrowly_ grounded in \"I live in Geneva\" even though it must be true (it **is** _broadly_ grounded).\n",
    "\n",
    "In this sample we run a simple grounding pipeline, to see if a summary text has any ungrounded additions as compared to the original, and use this information to improve the summary text. This can be done in three stages:\n",
    "\n",
    "1. Make a list of the entities in the summary text\n",
    "1. Check to see if these entities appear in the original (grounding) text\n",
    "1. Remove the ungrounded entities from the summary text\n",
    "\n",
    "What is an 'entity' in this context? In its simplest form, it's a named object such as a person or place (so 'Dean' or 'Seattle'). However, the idea could be a _claim_ which relates concepts (such as 'Dean lives near Seattle'). In this sample, we will keep to the simpler case of named objects.\"\"\"  # noqa: E501\n",
    "    )\n",
    "\n",
    "    print(f\"\\nThe grounding text: \\n{get_grounding_text()}\")\n",
    "\n",
    "    print(f\"\\n{'-' * 80}\\n\")\n",
    "    summary_text = get_summary_text()\n",
    "    print(f\"Summary text: \\n{summary_text}\")\n",
    "    print(f\"\\n{'-' * 80}\\n\")\n",
    "    print(\n",
    "        f\"\"\"Some things to note:\n",
    "\n",
    "- The implied residence of Geneva has been changed to Milan\n",
    "- Lucerne has been changed to Zurich\n",
    "- Caroline has been renamed as Mary\n",
    "- A reference to Rome has been added\n",
    "\n",
    "\n",
    "The grounding plugin has three stages:\n",
    "\n",
    "1. Extract entities from a summary text\n",
    "2. Perform a reference check against the grounding text\n",
    "3. Excise any entities which failed the reference check from the summary\n",
    "\n",
    "Now, let us start calling individual semantic functions.\"\"\"\n",
    "    )\n",
    "    print(f\"\\n{'-' * 80}\\n\")\n",
    "    print(\n",
    "        f\"First we run the extraction function on the summary, this results in all the extracted entities.\"  # noqa: E501\n",
    "    )\n",
    "    extraction_result = await run_entity_extraction(kernel, plugin_name, summary_text)\n",
    "    print(f\"Extraction result: \\n{extraction_result!s}\")\n",
    "    print(f\"\\n{'-' * 80}\\n\")\n",
    "    print(\n",
    "        f\"Next we run the reference check function on the summary, this loads the grounding text as part of it in order to know the 'truth'. This returns a list of ungrounded entities.{Colors.CEND.value}\"  # noqa: E501\n",
    "    )\n",
    "    grounding_result = await run_reference_check(kernel, plugin_name, extraction_result)\n",
    "    print(f\"Grounding result: \\n{grounding_result!s}\")\n",
    "    print(f\"\\n{'-' * 80}\\n\")\n",
    "    print(\n",
    "        f\"Finally we run the excision function on the summary, this removes the ungrounded entities from the summary.\"  # noqa: E501\n",
    "    )\n",
    "    excision_result = await run_entity_excision(kernel, plugin_name, summary_text, grounding_result)\n",
    "    print(f\"The final summary text: \\n{excision_result!s}\")\n",
    "    print(f\"\\n{'-' * 80}\\n\")\n",
    "    print(f\"Finished!\")"
   ]
  },
  {
   "cell_type": "code",
   "execution_count": 12,
   "metadata": {},
   "outputs": [
    {
     "ename": "NameError",
     "evalue": "name '__file__' is not defined",
     "output_type": "error",
     "traceback": [
      "\u001b[1;31m---------------------------------------------------------------------------\u001b[0m",
      "\u001b[1;31mNameError\u001b[0m                                 Traceback (most recent call last)",
      "Cell \u001b[1;32mIn[12], line 1\u001b[0m\n\u001b[1;32m----> 1\u001b[0m \u001b[38;5;28;01mawait\u001b[39;00m run_grounding(use_azure\u001b[38;5;241m=\u001b[39m\u001b[38;5;28;01mFalse\u001b[39;00m)\n",
      "Cell \u001b[1;32mIn[11], line 3\u001b[0m, in \u001b[0;36mrun_grounding\u001b[1;34m(use_azure)\u001b[0m\n\u001b[0;32m      1\u001b[0m \u001b[38;5;28;01masync\u001b[39;00m \u001b[38;5;28;01mdef\u001b[39;00m \u001b[38;5;21mrun_grounding\u001b[39m(use_azure: \u001b[38;5;28mbool\u001b[39m \u001b[38;5;241m=\u001b[39m \u001b[38;5;28;01mFalse\u001b[39;00m):\n\u001b[0;32m      2\u001b[0m     plugin_name \u001b[38;5;241m=\u001b[39m \u001b[38;5;124m\"\u001b[39m\u001b[38;5;124mGroundingPlugin\u001b[39m\u001b[38;5;124m\"\u001b[39m\n\u001b[1;32m----> 3\u001b[0m     kernel \u001b[38;5;241m=\u001b[39m \u001b[43msetup\u001b[49m\u001b[43m(\u001b[49m\u001b[43muse_azure\u001b[49m\u001b[43m,\u001b[49m\u001b[43m \u001b[49m\u001b[43mplugin_name\u001b[49m\u001b[38;5;241;43m=\u001b[39;49m\u001b[43mplugin_name\u001b[49m\u001b[43m)\u001b[49m\n\u001b[0;32m      4\u001b[0m     \u001b[38;5;28mprint\u001b[39m(\u001b[38;5;124mf\u001b[39m\u001b[38;5;124m\"\u001b[39m\u001b[38;5;130;01m\\n\u001b[39;00m\u001b[38;5;124mGroundingsness Checking Plugins\u001b[39m\u001b[38;5;130;01m\\n\u001b[39;00m\u001b[38;5;124m\"\u001b[39m)\n\u001b[0;32m      5\u001b[0m     \u001b[38;5;28mprint\u001b[39m(\u001b[38;5;124mf\u001b[39m\u001b[38;5;124m\"\u001b[39m\u001b[38;5;130;01m\\n\u001b[39;00m\u001b[38;5;132;01m{\u001b[39;00m\u001b[38;5;124m'\u001b[39m\u001b[38;5;124m-\u001b[39m\u001b[38;5;124m'\u001b[39m\u001b[38;5;250m \u001b[39m\u001b[38;5;241m*\u001b[39m\u001b[38;5;250m \u001b[39m\u001b[38;5;241m80\u001b[39m\u001b[38;5;132;01m}\u001b[39;00m\u001b[38;5;130;01m\\n\u001b[39;00m\u001b[38;5;124m\"\u001b[39m)\n",
      "Cell \u001b[1;32mIn[6], line 23\u001b[0m, in \u001b[0;36msetup\u001b[1;34m(use_azure, plugin_name)\u001b[0m\n\u001b[0;32m      7\u001b[0m kernel\u001b[38;5;241m.\u001b[39madd_service(\n\u001b[0;32m      8\u001b[0m     AzureChatCompletion(\n\u001b[0;32m      9\u001b[0m         service_id\u001b[38;5;241m=\u001b[39mservice_id,\n\u001b[1;32m   (...)\u001b[0m\n\u001b[0;32m     14\u001b[0m     ),\n\u001b[0;32m     15\u001b[0m )\n\u001b[0;32m     16\u001b[0m \u001b[38;5;66;03m# else:\u001b[39;00m\n\u001b[0;32m     17\u001b[0m \u001b[38;5;66;03m#     service_id = \"chat-gpt\"\u001b[39;00m\n\u001b[0;32m     18\u001b[0m \u001b[38;5;66;03m#     kernel.add_service(\u001b[39;00m\n\u001b[1;32m   (...)\u001b[0m\n\u001b[0;32m     21\u001b[0m \n\u001b[0;32m     22\u001b[0m \u001b[38;5;66;03m# note: using plugins from the samples folder\u001b[39;00m\n\u001b[1;32m---> 23\u001b[0m plugins_directory \u001b[38;5;241m=\u001b[39m os\u001b[38;5;241m.\u001b[39mpath\u001b[38;5;241m.\u001b[39mjoin(\u001b[38;5;18;43m__file__\u001b[39;49m, \u001b[38;5;124m\"\u001b[39m\u001b[38;5;124m../../../../../prompt_template_samples/\u001b[39m\u001b[38;5;124m\"\u001b[39m)\n\u001b[0;32m     25\u001b[0m kernel\u001b[38;5;241m.\u001b[39madd_plugin(parent_directory\u001b[38;5;241m=\u001b[39mplugins_directory, plugin_name\u001b[38;5;241m=\u001b[39mplugin_name)\n\u001b[0;32m     27\u001b[0m \u001b[38;5;28;01mreturn\u001b[39;00m kernel\n",
      "\u001b[1;31mNameError\u001b[0m: name '__file__' is not defined"
     ]
    }
   ],
   "source": [
    "await run_grounding(use_azure=False)"
   ]
  },
  {
   "cell_type": "code",
   "execution_count": null,
   "metadata": {},
   "outputs": [],
   "source": []
  }
 ],
 "metadata": {
  "kernelspec": {
   "display_name": "Python 3",
   "language": "python",
   "name": "python3"
  },
  "language_info": {
   "codemirror_mode": {
    "name": "ipython",
    "version": 3
   },
   "file_extension": ".py",
   "mimetype": "text/x-python",
   "name": "python",
   "nbconvert_exporter": "python",
   "pygments_lexer": "ipython3",
   "version": "3.11.10"
  }
 },
 "nbformat": 4,
 "nbformat_minor": 2
}
