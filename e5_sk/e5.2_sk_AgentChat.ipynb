{
 "cells": [
  {
   "cell_type": "markdown",
   "metadata": {},
   "source": [
    "### Semantic Kernel - Multi Agent Chat Example"
   ]
  },
  {
   "cell_type": "code",
   "execution_count": 32,
   "metadata": {},
   "outputs": [],
   "source": [
    "import asyncio\n",
    "import dotenv\n",
    "import os\n",
    "from semantic_kernel.agents import AgentGroupChat, ChatCompletionAgent\n",
    "from semantic_kernel.agents.strategies.termination.termination_strategy import TerminationStrategy\n",
    "from semantic_kernel.connectors.ai.open_ai.services.azure_chat_completion import AzureChatCompletion\n",
    "from semantic_kernel.contents.chat_message_content import ChatMessageContent\n",
    "from semantic_kernel.contents.utils.author_role import AuthorRole\n",
    "from semantic_kernel.kernel import Kernel"
   ]
  },
  {
   "cell_type": "code",
   "execution_count": 33,
   "metadata": {},
   "outputs": [
    {
     "data": {
      "text/plain": [
       "True"
      ]
     },
     "execution_count": 33,
     "metadata": {},
     "output_type": "execute_result"
    }
   ],
   "source": [
    "dotenv.load_dotenv(\"..\\\\common\\\\credentials.env\", verbose=True, override=True)"
   ]
  },
  {
   "cell_type": "code",
   "execution_count": 34,
   "metadata": {},
   "outputs": [],
   "source": [
    "class ApprovalTerminationStrategy(TerminationStrategy):\n",
    "    \"\"\"A strategy for determining when an agent should terminate.\"\"\"\n",
    "\n",
    "    async def should_agent_terminate(self, agent, history):\n",
    "        \"\"\"Check if the agent should terminate.\"\"\"\n",
    "        return \"approved\" in history[-1].content.lower()\n",
    "    \n"
   ]
  },
  {
   "cell_type": "code",
   "execution_count": 35,
   "metadata": {},
   "outputs": [],
   "source": [
    "REVIEWER_NAME = \"Reviewer\"\n",
    "REVIEWER_INSTRUCTIONS = \"\"\"\n",
    "You are an reviewer who has opinions about copywriting born of a love for David Ogilvy.\n",
    "The goal is to determine if the given copy is acceptable to print.\n",
    "If so, state that it is approved.\n",
    "If not, provide insight on how to refine suggested copy without example.\n",
    "\"\"\"\n",
    "\n",
    "COPYWRITER1_NAME = \"CopyWriter1\"\n",
    "COPYWRITER1_INSTRUCTIONS = \"\"\"\n",
    "You are a copywriter with ten years of experience and are known for brevity and a dry humor.\n",
    "The goal is to refine and decide on the single best copy as an expert in the field.\n",
    "Only provide a single proposal per response.\n",
    "You're laser focused on the goal at hand.\n",
    "Don't waste time with chit chat.\n",
    "Consider suggestions when refining an idea.\n",
    "\"\"\"\n",
    "\n",
    "\n",
    "\n",
    "COPYWRITER2_NAME = \"CopyWriter2\"\n",
    "COPYWRITER2_INSTRUCTIONS = \"\"\"\n",
    "You are a copywriter with 0 years of experience and argues with your collegues about the solutions they provide.\n",
    "The goal is to learn from collegues but also provide some solutions which you think are better.\n",
    "Most of the times you are not sure about your solutions and give incorrect solutions.\n",
    "Only provide a single proposal per response.\n",
    "Dont consider any suggestions from team mates.\n",
    "\"\"\""
   ]
  },
  {
   "cell_type": "code",
   "execution_count": 36,
   "metadata": {},
   "outputs": [],
   "source": [
    "aoai_endpoint = os.environ[\"AZURE_OPENAI_ENDPOINT\"]\n",
    "aoai_api_key = os.environ[\"AZURE_OPENAI_API_KEY\"]\n",
    "aoai_api_type = os.environ[\"OPENAI_API_TYPE\"]\n",
    "deployment_name = \"gpt-4o\" #gpt-35-turbo\" # \"gpt-4\" \n",
    "aoai_api_version = \"2024-08-01-preview\" #Using latest version as of this date. Older versions may not work with the code as syntax has changed drastically."
   ]
  },
  {
   "cell_type": "code",
   "execution_count": 37,
   "metadata": {},
   "outputs": [],
   "source": [
    "def _create_kernel_with_chat_completion(service_id: str) -> Kernel:\n",
    "    kernel = Kernel()\n",
    "    kernel.add_service(AzureChatCompletion(service_id=service_id, api_key=aoai_api_key, endpoint=aoai_endpoint, api_version=aoai_api_version,deployment_name=deployment_name))\n",
    "    return kernel"
   ]
  },
  {
   "cell_type": "code",
   "execution_count": 40,
   "metadata": {},
   "outputs": [],
   "source": [
    "#async def main():\n",
    "agent_reviewer = ChatCompletionAgent(\n",
    "    service_id=\"reviewer\",\n",
    "    kernel=_create_kernel_with_chat_completion(\"reviewer\"),\n",
    "    name=REVIEWER_NAME,\n",
    "    instructions=REVIEWER_INSTRUCTIONS,\n",
    ")\n",
    "\n",
    "agent_writer1 = ChatCompletionAgent(\n",
    "    service_id=\"copywriter1\",\n",
    "    kernel=_create_kernel_with_chat_completion(\"copywriter1\"),\n",
    "    name=COPYWRITER1_NAME,\n",
    "    instructions=COPYWRITER1_INSTRUCTIONS,\n",
    ")\n",
    "agent_writer2 = ChatCompletionAgent(\n",
    "    service_id=\"copywriter2\",\n",
    "    kernel=_create_kernel_with_chat_completion(\"copywriter2\"),\n",
    "    name=COPYWRITER2_NAME,\n",
    "    instructions=COPYWRITER2_INSTRUCTIONS,\n",
    ")\n",
    "\n",
    "\n",
    "chat = AgentGroupChat(\n",
    "    agents=[agent_writer1, agent_writer2, agent_reviewer],\n",
    "    termination_strategy=ApprovalTerminationStrategy(agents=[agent_reviewer], maximum_iterations=10),\n",
    ")\n"
   ]
  },
  {
   "cell_type": "code",
   "execution_count": 41,
   "metadata": {},
   "outputs": [
    {
     "name": "stdout",
     "output_type": "stream",
     "text": [
      "# AuthorRole.USER: 'a slogan for a new line of electric cars.'\n",
      "# AuthorRole.ASSISTANT - CopyWriter1: '\"Drive Tomorrow.\"'\n",
      "# AuthorRole.ASSISTANT - CopyWriter2: '\"Electrifying Your Journey Ahead.\"'\n",
      "# AuthorRole.ASSISTANT - Reviewer: 'While \"Drive Tomorrow.\" is concise and has a forward-looking appeal, it might not be distinctive enough to stand out in the emerging market of electric cars. The phrase \"Electrifying Your Journey Ahead.\" aims to convey the innovative nature of the product, but it could be more impactful.\n",
      "\n",
      "Consider refining the slogan to more clearly reflect the unique benefits and emotional appeal of the electric cars. Focus on highlighting aspects like sustainability, innovation, or the exhilarating experience of driving.\n",
      "\n",
      "If you find a balance between emotional resonance and a clear statement of benefit, you'll craft a slogan that truly captures the spirit of your new product line.'\n",
      "# AuthorRole.ASSISTANT - CopyWriter1: '\"Charge Ahead.\"'\n",
      "# AuthorRole.ASSISTANT - CopyWriter2: '\"Green Power, Future Drive.\"'\n",
      "# AuthorRole.ASSISTANT - Reviewer: 'Both \"Charge Ahead.\" and \"Green Power, Future Drive.\" are steps in the right direction, but still have room for improvement.\n",
      "\n",
      "\"Charge Ahead.\" is brief and catchy, but it may be too ambiguous and lacks a definite emotional appeal or clear emphasis on the benefits of electric cars.\n",
      "\n",
      "\"Green Power, Future Drive.\" effectively combines the idea of environmental sustainability with future-oriented innovation; however, it could benefit from a more fluid and engaging phrasing that is easier to recall.\n",
      "\n",
      "To refine your tagline:\n",
      "\n",
      "1. Ensure it clearly distinguishes the electric car brand from its competitors.\n",
      "2. Evoke emotions and values that resonate with your target audience, such as sustainability, technological advancement, or the thrill of driving.\n",
      "3. Keep it concise but powerful, ensuring it captures the essence of the product.\n",
      "\n",
      "Revisiting these points should help you craft a standout slogan for your new line of electric cars.'\n",
      "# AuthorRole.ASSISTANT - CopyWriter1: '\"Future-Driven, Earth-Friendly.\"'\n",
      "# AuthorRole.ASSISTANT - CopyWriter2: '\"Embrace the Spark of Change.\"'\n",
      "# AuthorRole.ASSISTANT - Reviewer: '\"Future-Driven, Earth-Friendly.\" clearly highlights the product's commitment to both innovation and sustainability, which are crucial selling points for electric cars. However, it could sound a bit straightforward and might benefit from a more dynamic and engaging tone.\n",
      "\n",
      "\"Embrace the Spark of Change.\" is more evocative and carries an emotional punch. It suggests innovation, transformation, and a forward-thinking mindset. However, it might benefit from being a bit more explicit about the vehicle aspect to ensure clarity.\n",
      "\n",
      "Consider these insights to further refine your slogan:\n",
      "\n",
      "1. Combine the strong points of both suggestions for a slogan that is both clear and evocative.\n",
      "2. Ensure the slogan effortlessly ties back to the electric car experience for clarity.\n",
      "3. Keep it concise, memorable, and distinct.\n",
      "\n",
      "Integrate these elements to craft a resonant and impactful slogan for your new line of electric cars.'\n",
      "# AuthorRole.ASSISTANT - CopyWriter1: '\"Drive the Future, Sustain the Earth.\"'\n",
      "# IS COMPLETE: False\n"
     ]
    }
   ],
   "source": [
    "chat.is_complete = False\n",
    "input = \"a slogan for a new line of electric cars.\"\n",
    "#\"slogan for Microsoft's SMC team working in presales\"  \n",
    "\n",
    "await chat.add_chat_message(ChatMessageContent(role=AuthorRole.USER, content=input))\n",
    "print(f\"# {AuthorRole.USER}: '{input}'\")\n",
    "\n",
    "async for content in chat.invoke():\n",
    "    print(f\"# {content.role} - {content.name or '*'}: '{content.content}'\")\n",
    "\n",
    "print(f\"# IS COMPLETE: {chat.is_complete}\")"
   ]
  },
  {
   "cell_type": "code",
   "execution_count": null,
   "metadata": {},
   "outputs": [],
   "source": []
  }
 ],
 "metadata": {
  "kernelspec": {
   "display_name": "Python 3",
   "language": "python",
   "name": "python3"
  },
  "language_info": {
   "codemirror_mode": {
    "name": "ipython",
    "version": 3
   },
   "file_extension": ".py",
   "mimetype": "text/x-python",
   "name": "python",
   "nbconvert_exporter": "python",
   "pygments_lexer": "ipython3",
   "version": "3.11.10"
  }
 },
 "nbformat": 4,
 "nbformat_minor": 2
}
