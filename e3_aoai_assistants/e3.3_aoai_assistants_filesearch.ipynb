{
 "cells": [
  {
   "cell_type": "markdown",
   "metadata": {},
   "source": [
    "Use vector search option with Assistants API v2"
   ]
  },
  {
   "cell_type": "code",
   "execution_count": 1,
   "metadata": {},
   "outputs": [
    {
     "data": {
      "text/plain": [
       "True"
      ]
     },
     "execution_count": 1,
     "metadata": {},
     "output_type": "execute_result"
    }
   ],
   "source": [
    "import openai\n",
    "import os\n",
    "from openai import AzureOpenAI\n",
    "import json\n",
    "import pandas as pd\n",
    "from dotenv import load_dotenv\n",
    "import requests\n",
    "import time\n",
    "load_dotenv(\"credentials.env\")"
   ]
  },
  {
   "cell_type": "code",
   "execution_count": null,
   "metadata": {},
   "outputs": [],
   "source": [
    "from typing import Iterable\n",
    "from openai.types import FileObject\n",
    "from openai.types.beta.threads import Message, TextContentBlock, ImageFileContentBlock, Run\n",
    "from openai.types.beta.thread import Thread\n",
    "\n",
    "def format_messages(messages: Iterable[Message]) -> None:\n",
    "    message_list = []\n",
    "\n",
    "    # Get all the messages till the last user message\n",
    "    for message in messages:\n",
    "        message_list.append(message)\n",
    "        if message.role == \"user\":\n",
    "            break\n",
    "\n",
    "    # Reverse the messages to show the last user message first\n",
    "    message_list.reverse()\n",
    "\n",
    "    # Print the user or Assistant messages or images\n",
    "    for message in message_list:\n",
    "        for item in message.content:\n",
    "            # Determine the content type\n",
    "            if isinstance(item, TextContentBlock):\n",
    "                print(f\"{message.role}:\\n{item.text.value}\\n\")\n",
    "            elif isinstance(item, ImageFileContentBlock):\n",
    "                # Retrieve image from file id\n",
    "                response_content = client.files.content(item.image_file.file_id)\n",
    "                data_in_bytes = response_content.read()\n",
    "                # Convert bytes to image\n",
    "                readable_buffer = io.BytesIO(data_in_bytes)\n",
    "                image = Image.open(readable_buffer)\n",
    "                # Resize image to fit in terminal\n",
    "                width, height = image.size\n",
    "                image = image.resize((width // 2, height // 2), Image.LANCZOS)\n",
    "                # Display image\n",
    "                image.show()"
   ]
  },
  {
   "cell_type": "code",
   "execution_count": 2,
   "metadata": {},
   "outputs": [],
   "source": [
    "endpoint = \"https://ai-njonpdaistudiohubeus2637795437656.openai.azure.com/\"\n",
    "client = AzureOpenAI(\n",
    "  azure_endpoint=endpoint, #os.getenv(\"AZURE_OPENAI_ENDPOINT\"),\n",
    "  api_key= \"2293295d97f94bd882e7390552cfc596\", #os.getenv(\"AZURE_OPENAI_API_KEY\"),\n",
    "  api_version=\"2024-05-01-preview\"\n",
    ")\n",
    "\n",
    "\n",
    "\n",
    "assistant = client.beta.assistants.create(\n",
    "  model=\"gpt-4o\", # replace with model deployment name.\n",
    "  instructions=\"You are an AI assistant that retrieves information from given document and answers questions based on the information in the document.\",\n",
    "  tools=[{\"type\":\"file_search\"}],\n",
    "  tool_resources={\"file_search\":{\"vector_store_ids\":[\"vs_6ZDlmxqolj0gt3FYHq4hNUml\"]}},\n",
    "  temperature=1,\n",
    "  top_p=1\n",
    ")\n",
    "\n",
    "# assistant = client.beta.assistants.update(\n",
    "#   assistant_id=assistant.id,\n",
    "#   tool_resources={\"file_search\": {\"vector_store_ids\": [\"vs_6ZDlmxqolj0gt3FYHq4hNUml\"]}},\n",
    "# )\n"
   ]
  },
  {
   "cell_type": "code",
   "execution_count": 3,
   "metadata": {},
   "outputs": [
    {
     "name": "stdout",
     "output_type": "stream",
     "text": [
      "SyncCursorPage[Message](data=[Message(id='msg_wsXqmJKwgHouiy8GuKOEchko', assistant_id='asst_cXxafCYiLj2cjlJsihykEYrC', attachments=[], completed_at=None, content=[TextContentBlock(text=Text(annotations=[FileCitationAnnotation(end_index=727, file_citation=FileCitation(file_id='assistant-L48XnFjcgvv1wRjouqHLnBP5'), start_index=715, text='【4:0†source】', type='file_citation'), FileCitationAnnotation(end_index=739, file_citation=FileCitation(file_id='assistant-L48XnFjcgvv1wRjouqHLnBP5'), start_index=727, text='【4:0†source】', type='file_citation'), FileCitationAnnotation(end_index=1330, file_citation=FileCitation(file_id='assistant-nc8a6u6yila2h2DDf39K1ifL'), start_index=1318, text='【4:1†source】', type='file_citation'), FileCitationAnnotation(end_index=1342, file_citation=FileCitation(file_id='assistant-nc8a6u6yila2h2DDf39K1ifL'), start_index=1330, text='【4:2†source】', type='file_citation'), FileCitationAnnotation(end_index=1600, file_citation=FileCitation(file_id='assistant-nc8a6u6yila2h2DDf39K1ifL'), start_index=1588, text='【4:1†source】', type='file_citation'), FileCitationAnnotation(end_index=1612, file_citation=FileCitation(file_id='assistant-nc8a6u6yila2h2DDf39K1ifL'), start_index=1600, text='【4:2†source】', type='file_citation')], value=\"The provided documents outline several benefits offered to employees:\\n\\n### 1. PerksPlus Program:\\nThe PerksPlus program is designed to support employees' health and wellness with the opportunity to expense up to $1000 for fitness-related activities. This program covers:\\n- Gym memberships\\n- Personal training sessions\\n- Yoga and Pilates classes\\n- Fitness equipment purchases\\n- Sports team fees\\n- Health retreats and spas\\n- Outdoor adventure activities (e.g., rock climbing, hiking, kayaking)\\n- Group fitness classes (e.g., dance, martial arts, cycling)\\n- Virtual fitness programs (e.g., online yoga and workout classes)\\n- Lessons and experiences like skiing, snowboarding, scuba diving, surfing, and horseback riding【4:0†source】【4:0†source】.\\n\\n### 2. Health Insurance Plans:\\nContoso Electronics offers two comprehensive health insurance plans via Northwind Health:\\n\\n**Northwind Health Plus:**\\n- Comprehensive coverage for medical, vision, and dental services\\n- Prescription drug coverage (generic, brand-name, and specialty drugs)\\n- Mental health and substance abuse coverage\\n- Preventive care services\\n- Coverage for emergency services (both in-network and out-of-network)\\n- Vision exams, glasses, contact lenses, dental exams, cleanings, and fillings\\n- Coverage for hospital stays, doctor visits, lab tests, and X-rays【4:1†source】【4:2†source】.\\n\\n**Northwind Standard:**\\n- Basic coverage for medical, vision, and dental services\\n- Prescription drug coverage (generic and brand-name drugs)\\n- Preventive care services\\n- Vision exams and glasses\\n- Coverage for doctor visits and lab tests only【4:1†source】【4:2†source】.\\n\\nThese benefits provide a comprehensive support framework for employees' physical and mental health, thus ensuring a well-rounded benefits package aimed at promoting overall well-being and satisfaction.\"), type='text')], created_at=1730226871, incomplete_at=None, incomplete_details=None, metadata={}, object='thread.message', role='assistant', run_id='run_MPc2MPWg2CPrJmGaSelwx27G', status=None, thread_id='thread_OjBd3ZUeSkMNxNOWyqWasOeY'), Message(id='msg_Xxi6XXp13YO6vri1eOP2P7Uv', assistant_id=None, attachments=[], completed_at=None, content=[TextContentBlock(text=Text(annotations=[], value='list all benefits'), type='text')], created_at=1730226869, incomplete_at=None, incomplete_details=None, metadata={}, object='thread.message', role='user', run_id=None, status=None, thread_id='thread_OjBd3ZUeSkMNxNOWyqWasOeY')], object='list', first_id='msg_wsXqmJKwgHouiy8GuKOEchko', last_id='msg_Xxi6XXp13YO6vri1eOP2P7Uv', has_more=False)\n"
     ]
    }
   ],
   "source": [
    "# Create a thread\n",
    "thread = client.beta.threads.create()\n",
    "\n",
    "# Add a user question to the thread\n",
    "message = client.beta.threads.messages.create(\n",
    "  thread_id=thread.id,\n",
    "  role=\"user\",\n",
    "  content=\"list all benefits\" # Replace this with your prompt\n",
    ")\n",
    "\n",
    "\n",
    "\n",
    "# Run the thread\n",
    "run = client.beta.threads.runs.create(\n",
    "  thread_id=thread.id,\n",
    "  assistant_id=assistant.id\n",
    ")\n",
    "\n",
    "# Looping until the run completes or fails\n",
    "while run.status in ['queued', 'in_progress', 'cancelling']:\n",
    "  time.sleep(1)\n",
    "  run = client.beta.threads.runs.retrieve(\n",
    "    thread_id=thread.id,\n",
    "    run_id=run.id\n",
    "  )\n",
    "\n",
    "if run.status == 'completed':\n",
    "  messages = client.beta.threads.messages.list(\n",
    "    thread_id=thread.id\n",
    "  )\n",
    "  print(messages)\n",
    "elif run.status == 'requires_action':\n",
    "  # the assistant requires calling some functions\n",
    "  # and submit the tool outputs back to the run\n",
    "  pass\n",
    "else:\n",
    "  print(run.status)\n"
   ]
  },
  {
   "cell_type": "code",
   "execution_count": 17,
   "metadata": {},
   "outputs": [
    {
     "name": "stdout",
     "output_type": "stream",
     "text": [
      "user:\n",
      "list all benefits\n",
      "\n",
      "assistant:\n",
      "The provided documents outline several benefits offered to employees:\n",
      "\n",
      "### 1. PerksPlus Program:\n",
      "The PerksPlus program is designed to support employees' health and wellness with the opportunity to expense up to $1000 for fitness-related activities. This program covers:\n",
      "- Gym memberships\n",
      "- Personal training sessions\n",
      "- Yoga and Pilates classes\n",
      "- Fitness equipment purchases\n",
      "- Sports team fees\n",
      "- Health retreats and spas\n",
      "- Outdoor adventure activities (e.g., rock climbing, hiking, kayaking)\n",
      "- Group fitness classes (e.g., dance, martial arts, cycling)\n",
      "- Virtual fitness programs (e.g., online yoga and workout classes)\n",
      "- Lessons and experiences like skiing, snowboarding, scuba diving, surfing, and horseback riding【4:0†source】【4:0†source】.\n",
      "\n",
      "### 2. Health Insurance Plans:\n",
      "Contoso Electronics offers two comprehensive health insurance plans via Northwind Health:\n",
      "\n",
      "**Northwind Health Plus:**\n",
      "- Comprehensive coverage for medical, vision, and dental services\n",
      "- Prescription drug coverage (generic, brand-name, and specialty drugs)\n",
      "- Mental health and substance abuse coverage\n",
      "- Preventive care services\n",
      "- Coverage for emergency services (both in-network and out-of-network)\n",
      "- Vision exams, glasses, contact lenses, dental exams, cleanings, and fillings\n",
      "- Coverage for hospital stays, doctor visits, lab tests, and X-rays【4:1†source】【4:2†source】.\n",
      "\n",
      "**Northwind Standard:**\n",
      "- Basic coverage for medical, vision, and dental services\n",
      "- Prescription drug coverage (generic and brand-name drugs)\n",
      "- Preventive care services\n",
      "- Vision exams and glasses\n",
      "- Coverage for doctor visits and lab tests only【4:1†source】【4:2†source】.\n",
      "\n",
      "These benefits provide a comprehensive support framework for employees' physical and mental health, thus ensuring a well-rounded benefits package aimed at promoting overall well-being and satisfaction.\n",
      "\n"
     ]
    }
   ],
   "source": [
    "messages = client.beta.threads.messages.list(thread_id=thread.id)\n",
    "format_messages(messages)"
   ]
  },
  {
   "cell_type": "code",
   "execution_count": null,
   "metadata": {},
   "outputs": [],
   "source": []
  }
 ],
 "metadata": {
  "kernelspec": {
   "display_name": "Python 3",
   "language": "python",
   "name": "python3"
  },
  "language_info": {
   "codemirror_mode": {
    "name": "ipython",
    "version": 3
   },
   "file_extension": ".py",
   "mimetype": "text/x-python",
   "name": "python",
   "nbconvert_exporter": "python",
   "pygments_lexer": "ipython3",
   "version": "3.11.9"
  }
 },
 "nbformat": 4,
 "nbformat_minor": 2
}
