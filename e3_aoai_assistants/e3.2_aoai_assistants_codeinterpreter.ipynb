{
 "cells": [
  {
   "cell_type": "markdown",
   "metadata": {},
   "source": [
    "### AOAI assistants API example - using code interpreter tool! "
   ]
  },
  {
   "cell_type": "code",
   "execution_count": 1,
   "metadata": {},
   "outputs": [
    {
     "data": {
      "text/plain": [
       "True"
      ]
     },
     "execution_count": 1,
     "metadata": {},
     "output_type": "execute_result"
    }
   ],
   "source": [
    "import openai\n",
    "import os\n",
    "from openai import AzureOpenAI\n",
    "import json\n",
    "import pandas as pd\n",
    "from dotenv import load_dotenv\n",
    "load_dotenv(\"credentials.env\")"
   ]
  },
  {
   "cell_type": "code",
   "execution_count": 2,
   "metadata": {},
   "outputs": [],
   "source": [
    "import os\n",
    "import json\n",
    "from openai import AzureOpenAI\n",
    "    \n",
    "# Using different endpoint and API key as Assistants API while writing this code is still in preview and not available in all regions. \n",
    "# Hence I have to create AOAI endpoint in East US and use it for creating the assistant.\n",
    "client = AzureOpenAI(\n",
    "    azure_endpoint = os.getenv(\"AZURE_OPENAI_ENDPOINT_EUS\"), \n",
    "    api_key=os.getenv(\"AZURE_OPENAI_API_KEY_EUS\"),  \n",
    "    api_version=\"2024-05-01-preview\" #Assistants work in this API\n",
    ")\n",
    "# Create an assistant\n",
    "assistant = client.beta.assistants.create(\n",
    "    name=\"Data Visualization\",\n",
    "    instructions=f\"You are a helpful AI assistant who makes interesting visualizations based on data.\" \n",
    "    f\"You have access to a sandboxed environment for writing and testing code.\"\n",
    "    f\"When you are asked to create a visualization you should follow these steps:\"\n",
    "    f\"1. Write the code.\"\n",
    "    f\"2. Anytime you write new code display a preview of the code to show your work.\"\n",
    "    f\"3. Run the code to confirm that it runs.\"\n",
    "    f\"4. If the code is successful display the visualization.\"\n",
    "    f\"5. If the code is unsuccessful display the error message and try to revise the code and rerun going through the steps from above again.\",\n",
    "    tools=[{\"type\": \"code_interpreter\"}],\n",
    "    model=\"gpt-4o\" #You must replace this value with the deployment name for your model.\n",
    ")"
   ]
  },
  {
   "cell_type": "code",
   "execution_count": 3,
   "metadata": {},
   "outputs": [
    {
     "name": "stdout",
     "output_type": "stream",
     "text": [
      "{\n",
      "  \"id\": \"asst_NVblBTkCVHRYi7vLj4fO6DzP\",\n",
      "  \"created_at\": 1730217987,\n",
      "  \"description\": null,\n",
      "  \"file_ids\": null,\n",
      "  \"instructions\": \"You are a helpful AI assistant who makes interesting visualizations based on data.You have access to a sandboxed environment for writing and testing code.When you are asked to create a visualization you should follow these steps:1. Write the code.2. Anytime you write new code display a preview of the code to show your work.3. Run the code to confirm that it runs.4. If the code is successful display the visualization.5. If the code is unsuccessful display the error message and try to revise the code and rerun going through the steps from above again.\",\n",
      "  \"metadata\": {},\n",
      "  \"model\": \"gpt-4o\",\n",
      "  \"name\": \"Data Visualization\",\n",
      "  \"object\": \"assistant\",\n",
      "  \"tools\": [\n",
      "    {\n",
      "      \"type\": \"code_interpreter\"\n",
      "    }\n",
      "  ],\n",
      "  \"top_p\": 1.0,\n",
      "  \"temperature\": 1.0,\n",
      "  \"tool_resources\": {\n",
      "    \"code_interpreter\": {\n",
      "      \"file_ids\": []\n",
      "    }\n",
      "  },\n",
      "  \"response_format\": \"auto\"\n",
      "}\n"
     ]
    }
   ],
   "source": [
    "print(assistant.model_dump_json(indent=2))"
   ]
  },
  {
   "cell_type": "code",
   "execution_count": 4,
   "metadata": {},
   "outputs": [
    {
     "name": "stdout",
     "output_type": "stream",
     "text": [
      "Thread(id='thread_TsgZtM0wOfS7E5TDRH2LwKVS', created_at=1730218000, metadata={}, object='thread', tool_resources={})\n"
     ]
    }
   ],
   "source": [
    "# Create a thread\n",
    "thread = client.beta.threads.create()\n",
    "print(thread)"
   ]
  },
  {
   "cell_type": "code",
   "execution_count": 5,
   "metadata": {},
   "outputs": [],
   "source": [
    "# Add a user question to the thread\n",
    "message = client.beta.threads.messages.create(\n",
    "    thread_id=thread.id,\n",
    "    role=\"user\",\n",
    "    content=\"Create a visualization of a sinewave\"\n",
    ")"
   ]
  },
  {
   "cell_type": "code",
   "execution_count": 6,
   "metadata": {},
   "outputs": [
    {
     "name": "stdout",
     "output_type": "stream",
     "text": [
      "{\n",
      "  \"data\": [\n",
      "    {\n",
      "      \"id\": \"msg_auPN9q3wNsMPhS77M5p6Bw1q\",\n",
      "      \"assistant_id\": null,\n",
      "      \"content\": [\n",
      "        {\n",
      "          \"text\": {\n",
      "            \"annotations\": [],\n",
      "            \"value\": \"Create a visualization of a sinewave\"\n",
      "          },\n",
      "          \"type\": \"text\"\n",
      "        }\n",
      "      ],\n",
      "      \"created_at\": 1730218010,\n",
      "      \"file_ids\": null,\n",
      "      \"metadata\": {},\n",
      "      \"object\": \"thread.message\",\n",
      "      \"role\": \"user\",\n",
      "      \"run_id\": null,\n",
      "      \"thread_id\": \"thread_TsgZtM0wOfS7E5TDRH2LwKVS\",\n",
      "      \"attachments\": []\n",
      "    }\n",
      "  ],\n",
      "  \"object\": \"list\",\n",
      "  \"first_id\": \"msg_auPN9q3wNsMPhS77M5p6Bw1q\",\n",
      "  \"last_id\": \"msg_auPN9q3wNsMPhS77M5p6Bw1q\",\n",
      "  \"has_more\": false\n",
      "}\n"
     ]
    }
   ],
   "source": [
    "thread_messages = client.beta.threads.messages.list(thread.id)\n",
    "print(thread_messages.model_dump_json(indent=2))"
   ]
  },
  {
   "cell_type": "code",
   "execution_count": 7,
   "metadata": {},
   "outputs": [],
   "source": [
    "run = client.beta.threads.runs.create(\n",
    "  thread_id=thread.id,\n",
    "  assistant_id=assistant.id,\n",
    "  #instructions=\"New instructions\" #You can optionally provide new instructions but these will override the default instructions\n",
    ")"
   ]
  },
  {
   "cell_type": "code",
   "execution_count": 8,
   "metadata": {},
   "outputs": [
    {
     "name": "stdout",
     "output_type": "stream",
     "text": [
      "in_progress\n"
     ]
    }
   ],
   "source": [
    "# Retrieve the status of the run\n",
    "run = client.beta.threads.runs.retrieve(\n",
    "  thread_id=thread.id,\n",
    "  run_id=run.id\n",
    ")\n",
    "\n",
    "status = run.status\n",
    "print(status)"
   ]
  },
  {
   "cell_type": "code",
   "execution_count": 9,
   "metadata": {},
   "outputs": [
    {
     "name": "stdout",
     "output_type": "stream",
     "text": [
      "Status: completed\n",
      "Elapsed time: 0 minutes 6 seconds\n",
      "{\n",
      "  \"data\": [\n",
      "    {\n",
      "      \"id\": \"msg_h8LU3bQ6T8BGszSLDugCrM46\",\n",
      "      \"assistant_id\": \"asst_NVblBTkCVHRYi7vLj4fO6DzP\",\n",
      "      \"content\": [\n",
      "        {\n",
      "          \"image_file\": {\n",
      "            \"file_id\": \"assistant-D2BKExU1ZA0LypYaAyBnrPwx\"\n",
      "          },\n",
      "          \"type\": \"image_file\"\n",
      "        },\n",
      "        {\n",
      "          \"text\": {\n",
      "            \"annotations\": [],\n",
      "            \"value\": \"Here is the visualization of the sinewave. If you have any other requests or need further modifications to the plot, please let me know!\"\n",
      "          },\n",
      "          \"type\": \"text\"\n",
      "        }\n",
      "      ],\n",
      "      \"created_at\": 1730218026,\n",
      "      \"file_ids\": null,\n",
      "      \"metadata\": {},\n",
      "      \"object\": \"thread.message\",\n",
      "      \"role\": \"assistant\",\n",
      "      \"run_id\": \"run_IyRR53wKZf9Ht9pqzjEkV7Is\",\n",
      "      \"thread_id\": \"thread_TsgZtM0wOfS7E5TDRH2LwKVS\",\n",
      "      \"attachments\": []\n",
      "    },\n",
      "    {\n",
      "      \"id\": \"msg_Y502CmO8hyzAYt1iJSUEdnVd\",\n",
      "      \"assistant_id\": \"asst_NVblBTkCVHRYi7vLj4fO6DzP\",\n",
      "      \"content\": [\n",
      "        {\n",
      "          \"text\": {\n",
      "            \"annotations\": [],\n",
      "            \"value\": \"Sure, let's start by writing the code to create a sinewave visualization using Python and Matplotlib. \\n\\nFirst, I will write the code to generate and plot the sinewave:\\n\\n```python\\nimport numpy as np\\nimport matplotlib.pyplot as plt\\n\\n# Generate the data for the sinewave\\nx = np.linspace(0, 2 * np.pi, 1000)\\ny = np.sin(x)\\n\\n# Create the plot\\nplt.figure(figsize=(10, 6))\\nplt.plot(x, y, label='Sine wave')\\n\\n# Add title and labels\\nplt.title('Sinewave Visualization')\\nplt.xlabel('X values')\\nplt.ylabel('Y values')\\nplt.legend()\\n\\n# Display the plot\\nplt.grid(True)\\nplt.show()\\n```\\n\\nNow, let's run this code to display the sinewave visualization.\"\n",
      "          },\n",
      "          \"type\": \"text\"\n",
      "        }\n",
      "      ],\n",
      "      \"created_at\": 1730218019,\n",
      "      \"file_ids\": null,\n",
      "      \"metadata\": {},\n",
      "      \"object\": \"thread.message\",\n",
      "      \"role\": \"assistant\",\n",
      "      \"run_id\": \"run_IyRR53wKZf9Ht9pqzjEkV7Is\",\n",
      "      \"thread_id\": \"thread_TsgZtM0wOfS7E5TDRH2LwKVS\",\n",
      "      \"attachments\": []\n",
      "    },\n",
      "    {\n",
      "      \"id\": \"msg_auPN9q3wNsMPhS77M5p6Bw1q\",\n",
      "      \"assistant_id\": null,\n",
      "      \"content\": [\n",
      "        {\n",
      "          \"text\": {\n",
      "            \"annotations\": [],\n",
      "            \"value\": \"Create a visualization of a sinewave\"\n",
      "          },\n",
      "          \"type\": \"text\"\n",
      "        }\n",
      "      ],\n",
      "      \"created_at\": 1730218010,\n",
      "      \"file_ids\": null,\n",
      "      \"metadata\": {},\n",
      "      \"object\": \"thread.message\",\n",
      "      \"role\": \"user\",\n",
      "      \"run_id\": null,\n",
      "      \"thread_id\": \"thread_TsgZtM0wOfS7E5TDRH2LwKVS\",\n",
      "      \"attachments\": []\n",
      "    }\n",
      "  ],\n",
      "  \"object\": \"list\",\n",
      "  \"first_id\": \"msg_h8LU3bQ6T8BGszSLDugCrM46\",\n",
      "  \"last_id\": \"msg_auPN9q3wNsMPhS77M5p6Bw1q\",\n",
      "  \"has_more\": false\n",
      "}\n"
     ]
    }
   ],
   "source": [
    "import time\n",
    "from IPython.display import clear_output\n",
    "\n",
    "start_time = time.time()\n",
    "\n",
    "status = run.status\n",
    "\n",
    "while status not in [\"completed\", \"cancelled\", \"expired\", \"failed\"]:\n",
    "    time.sleep(5)\n",
    "    run = client.beta.threads.runs.retrieve(thread_id=thread.id,run_id=run.id)\n",
    "    print(\"Elapsed time: {} minutes {} seconds\".format(int((time.time() - start_time) // 60), int((time.time() - start_time) % 60)))\n",
    "    status = run.status\n",
    "    print(f'Status: {status}')\n",
    "    clear_output(wait=True)\n",
    "\n",
    "messages = client.beta.threads.messages.list(\n",
    "  thread_id=thread.id\n",
    ") \n",
    "\n",
    "print(f'Status: {status}')\n",
    "print(\"Elapsed time: {} minutes {} seconds\".format(int((time.time() - start_time) // 60), int((time.time() - start_time) % 60)))\n",
    "print(messages.model_dump_json(indent=2))"
   ]
  },
  {
   "cell_type": "code",
   "execution_count": 10,
   "metadata": {},
   "outputs": [
    {
     "name": "stdout",
     "output_type": "stream",
     "text": [
      "{\n",
      "  \"data\": [\n",
      "    {\n",
      "      \"id\": \"msg_h8LU3bQ6T8BGszSLDugCrM46\",\n",
      "      \"assistant_id\": \"asst_NVblBTkCVHRYi7vLj4fO6DzP\",\n",
      "      \"content\": [\n",
      "        {\n",
      "          \"image_file\": {\n",
      "            \"file_id\": \"assistant-D2BKExU1ZA0LypYaAyBnrPwx\"\n",
      "          },\n",
      "          \"type\": \"image_file\"\n",
      "        },\n",
      "        {\n",
      "          \"text\": {\n",
      "            \"annotations\": [],\n",
      "            \"value\": \"Here is the visualization of the sinewave. If you have any other requests or need further modifications to the plot, please let me know!\"\n",
      "          },\n",
      "          \"type\": \"text\"\n",
      "        }\n",
      "      ],\n",
      "      \"created_at\": 1730218026,\n",
      "      \"file_ids\": null,\n",
      "      \"metadata\": {},\n",
      "      \"object\": \"thread.message\",\n",
      "      \"role\": \"assistant\",\n",
      "      \"run_id\": \"run_IyRR53wKZf9Ht9pqzjEkV7Is\",\n",
      "      \"thread_id\": \"thread_TsgZtM0wOfS7E5TDRH2LwKVS\",\n",
      "      \"attachments\": []\n",
      "    },\n",
      "    {\n",
      "      \"id\": \"msg_Y502CmO8hyzAYt1iJSUEdnVd\",\n",
      "      \"assistant_id\": \"asst_NVblBTkCVHRYi7vLj4fO6DzP\",\n",
      "      \"content\": [\n",
      "        {\n",
      "          \"text\": {\n",
      "            \"annotations\": [],\n",
      "            \"value\": \"Sure, let's start by writing the code to create a sinewave visualization using Python and Matplotlib. \\n\\nFirst, I will write the code to generate and plot the sinewave:\\n\\n```python\\nimport numpy as np\\nimport matplotlib.pyplot as plt\\n\\n# Generate the data for the sinewave\\nx = np.linspace(0, 2 * np.pi, 1000)\\ny = np.sin(x)\\n\\n# Create the plot\\nplt.figure(figsize=(10, 6))\\nplt.plot(x, y, label='Sine wave')\\n\\n# Add title and labels\\nplt.title('Sinewave Visualization')\\nplt.xlabel('X values')\\nplt.ylabel('Y values')\\nplt.legend()\\n\\n# Display the plot\\nplt.grid(True)\\nplt.show()\\n```\\n\\nNow, let's run this code to display the sinewave visualization.\"\n",
      "          },\n",
      "          \"type\": \"text\"\n",
      "        }\n",
      "      ],\n",
      "      \"created_at\": 1730218019,\n",
      "      \"file_ids\": null,\n",
      "      \"metadata\": {},\n",
      "      \"object\": \"thread.message\",\n",
      "      \"role\": \"assistant\",\n",
      "      \"run_id\": \"run_IyRR53wKZf9Ht9pqzjEkV7Is\",\n",
      "      \"thread_id\": \"thread_TsgZtM0wOfS7E5TDRH2LwKVS\",\n",
      "      \"attachments\": []\n",
      "    },\n",
      "    {\n",
      "      \"id\": \"msg_auPN9q3wNsMPhS77M5p6Bw1q\",\n",
      "      \"assistant_id\": null,\n",
      "      \"content\": [\n",
      "        {\n",
      "          \"text\": {\n",
      "            \"annotations\": [],\n",
      "            \"value\": \"Create a visualization of a sinewave\"\n",
      "          },\n",
      "          \"type\": \"text\"\n",
      "        }\n",
      "      ],\n",
      "      \"created_at\": 1730218010,\n",
      "      \"file_ids\": null,\n",
      "      \"metadata\": {},\n",
      "      \"object\": \"thread.message\",\n",
      "      \"role\": \"user\",\n",
      "      \"run_id\": null,\n",
      "      \"thread_id\": \"thread_TsgZtM0wOfS7E5TDRH2LwKVS\",\n",
      "      \"attachments\": []\n",
      "    }\n",
      "  ],\n",
      "  \"object\": \"list\",\n",
      "  \"first_id\": \"msg_h8LU3bQ6T8BGszSLDugCrM46\",\n",
      "  \"last_id\": \"msg_auPN9q3wNsMPhS77M5p6Bw1q\",\n",
      "  \"has_more\": false\n",
      "}\n"
     ]
    }
   ],
   "source": [
    "messages = client.beta.threads.messages.list(\n",
    "  thread_id=thread.id\n",
    ")\n",
    "\n",
    "print(messages.model_dump_json(indent=2))"
   ]
  },
  {
   "cell_type": "code",
   "execution_count": 11,
   "metadata": {},
   "outputs": [
    {
     "name": "stdout",
     "output_type": "stream",
     "text": [
      "assistant-D2BKExU1ZA0LypYaAyBnrPwx\n"
     ]
    }
   ],
   "source": [
    "data = json.loads(messages.model_dump_json(indent=2))  # Load JSON data into a Python object\n",
    "image_file_id = data['data'][0]['content'][0]['image_file']['file_id']\n",
    "\n",
    "print(image_file_id)  # Outputs: assistant-1YGVTvNzc2JXajI5JU9F0HMD"
   ]
  },
  {
   "cell_type": "code",
   "execution_count": 12,
   "metadata": {},
   "outputs": [],
   "source": [
    "content = client.files.content(image_file_id)\n",
    "\n",
    "image= content.write_to_file(\"data\\sinewave.png\")"
   ]
  },
  {
   "cell_type": "code",
   "execution_count": null,
   "metadata": {},
   "outputs": [],
   "source": [
    "#Uncomment below code to see sinwave png file here. Alternatively go to the folder and open the file\n",
    "\n",
    "# from PIL import Image\n",
    "# # Display the image in the default image viewer\n",
    "# image = Image.open(\"sinewave.png\")\n",
    "# image.show()"
   ]
  }
 ],
 "metadata": {
  "kernelspec": {
   "display_name": "aoaipoc",
   "language": "python",
   "name": "python3"
  },
  "language_info": {
   "codemirror_mode": {
    "name": "ipython",
    "version": 3
   },
   "file_extension": ".py",
   "mimetype": "text/x-python",
   "name": "python",
   "nbconvert_exporter": "python",
   "pygments_lexer": "ipython3",
   "version": "3.11.9"
  }
 },
 "nbformat": 4,
 "nbformat_minor": 2
}
