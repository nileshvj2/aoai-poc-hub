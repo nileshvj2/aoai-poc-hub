{
 "cells": [
  {
   "cell_type": "markdown",
   "metadata": {},
   "source": [
    "## Auto gen Example Tool Use"
   ]
  },
  {
   "attachments": {
    "image.png": {
     "image/png": "[encoded data removed]"
    }
   },
   "cell_type": "markdown",
   "metadata": {},
   "source": [
    "![image.png](attachment:image.png)"
   ]
  },
  {
   "cell_type": "code",
   "execution_count": null,
   "metadata": {},
   "outputs": [],
   "source": [
    "#pip install pyautogen \n",
    "#pip install openai==1.42.0\n",
    "#pip install -qqq matplotlib numpy"
   ]
  },
  {
   "cell_type": "code",
   "execution_count": 13,
   "metadata": {},
   "outputs": [
    {
     "data": {
      "text/plain": [
       "True"
      ]
     },
     "execution_count": 13,
     "metadata": {},
     "output_type": "execute_result"
    }
   ],
   "source": [
    "import os\n",
    "import dotenv\n",
    "from autogen import ConversableAgent\n",
    "import openai\n",
    "\n",
    "dotenv.load_dotenv(\"credentials.env\")"
   ]
  },
  {
   "cell_type": "markdown",
   "metadata": {},
   "source": [
    "Default config for autogen points to open ai format APIs. \n",
    "To use azure API's set config as below"
   ]
  },
  {
   "cell_type": "code",
   "execution_count": 14,
   "metadata": {},
   "outputs": [],
   "source": [
    "aoai_endpoint = os.environ[\"AZURE_OPENAI_ENDPOINT\"]\n",
    "aoai_api_key = os.environ[\"AZURE_OPENAI_API_KEY\"]\n",
    "aoai_api_type = os.environ[\"OPENAI_API_TYPE\"]\n",
    "deployment_name = \"gpt-4\"\n",
    "aoai_api_version = \"2024-02-15-preview\" #Using latest version as of this date. Older versions may not work with the code as syntax has changed drastically.\n",
    "\n",
    "config_list = [\n",
    "    {\n",
    "        \"model\": deployment_name,  \n",
    "        \"base_url\": aoai_endpoint, \n",
    "        \"api_type\": aoai_api_type, \n",
    "        \"api_version\": aoai_api_version, \n",
    "        \"api_key\": aoai_api_key,\n",
    "        \"temperature\": 0.7\n",
    " }\n",
    "]"
   ]
  },
  {
   "cell_type": "code",
   "execution_count": 15,
   "metadata": {},
   "outputs": [],
   "source": [
    "import tempfile\n",
    "\n",
    "from autogen import ConversableAgent\n",
    "from autogen.coding import LocalCommandLineCodeExecutor\n",
    "\n",
    "# Create a temporary directory to store the code files.\n",
    "temp_dir = tempfile.TemporaryDirectory()\n",
    "\n",
    "# Create a local command line code executor.\n",
    "executor = LocalCommandLineCodeExecutor(\n",
    "    timeout=10,  # Timeout for each code execution in seconds.\n",
    "    work_dir=temp_dir.name,  # Use the temporary directory to store the code files.\n",
    ")\n",
    "\n",
    "# Create an agent with code executor configuration.\n",
    "code_executor_agent = ConversableAgent(\n",
    "    \"code_executor_agent\",\n",
    "    llm_config=False,  # Turn off LLM for this agent.\n",
    "    code_execution_config={\"executor\": executor},  # Use the local command line code executor.\n",
    "    human_input_mode=\"NEVER\",  # Always take human input for this agent for safety.\n",
    ")"
   ]
  },
  {
   "cell_type": "code",
   "execution_count": 16,
   "metadata": {},
   "outputs": [],
   "source": [
    "# The code writer agent's system message is to instruct the LLM on how to use\n",
    "# the code executor in the code executor agent.\n",
    "code_writer_system_message = \"\"\"You are a helpful AI assistant.\n",
    "Solve tasks using your coding and language skills.\n",
    "In the following cases, suggest python code (in a python coding block) or shell script (in a sh coding block) for the user to execute.\n",
    "1. When you need to collect info, use the code to output the info you need, for example, browse or search the web, download/read a file, print the content of a webpage or a file, get the current date/time, check the operating system. After sufficient info is printed and the task is ready to be solved based on your language skill, you can solve the task by yourself.\n",
    "2. When you need to perform some task with code, use the code to perform the task and output the result. Finish the task smartly.\n",
    "Solve the task step by step if you need to. If a plan is not provided, explain your plan first. Be clear which step uses code, and which step uses your language skill.\n",
    "When using code, you must indicate the script type in the code block. The user cannot provide any other feedback or perform any other action beyond executing the code you suggest. The user can't modify your code. So do not suggest incomplete code which requires users to modify. Don't use a code block if it's not intended to be executed by the user.\n",
    "If you want the user to save the code in a file before executing it, put # filename: <filename> inside the code block as the first line. Don't include multiple code blocks in one response. Do not ask users to copy and paste the result. Instead, use 'print' function for the output when relevant. Check the execution result returned by the user.\n",
    "If the result indicates there is an error, fix the error and output the code again. Suggest the full code instead of partial code or code changes. If the error can't be fixed or if the task is not solved even after the code is executed successfully, analyze the problem, revisit your assumption, collect additional info you need, and think of a different approach to try.\n",
    "When you find an answer, verify the answer carefully. Include verifiable evidence in your response if possible.\n",
    "Reply 'TERMINATE' in the end when everything is done.\n",
    "\"\"\"\n",
    "\n",
    "code_writer_agent = ConversableAgent(\n",
    "    \"code_writer_agent\",\n",
    "    system_message=code_writer_system_message,\n",
    "    llm_config={\"config_list\": config_list},\n",
    "    code_execution_config=False,  # Turn off code execution for this agent.\n",
    ")"
   ]
  },
  {
   "cell_type": "code",
   "execution_count": 17,
   "metadata": {},
   "outputs": [
    {
     "name": "stdout",
     "output_type": "stream",
     "text": [
      "\u001b[33mcode_executor_agent\u001b[0m (to code_writer_agent):\n",
      "\n",
      "Write Python code to calculate the 14th Fibonacci number.\n",
      "\n",
      "--------------------------------------------------------------------------------\n",
      "\u001b[31m\n",
      ">>>>>>>> USING AUTO REPLY...\u001b[0m\n",
      "\u001b[33mcode_writer_agent\u001b[0m (to code_executor_agent):\n",
      "\n",
      "```python\n",
      "# Calculate the 14th Fibonacci number\n",
      "\n",
      "# Function to calculate the nth Fibonacci number\n",
      "def fibonacci(n):\n",
      "    a, b = 0, 1\n",
      "    for _ in range(n-1):\n",
      "        a, b = b, a + b\n",
      "    return a\n",
      "\n",
      "# Calculate the 14th Fibonacci number\n",
      "fib_number = fibonacci(14)\n",
      "print(fib_number)\n",
      "```\n",
      "\n",
      "--------------------------------------------------------------------------------\n",
      "\u001b[31m\n",
      ">>>>>>>> EXECUTING CODE BLOCK (inferred language is python)...\u001b[0m\n",
      "\u001b[33mcode_executor_agent\u001b[0m (to code_writer_agent):\n",
      "\n",
      "exitcode: 0 (execution succeeded)\n",
      "Code output: 233\n",
      "\n",
      "\n",
      "--------------------------------------------------------------------------------\n",
      "\u001b[31m\n",
      ">>>>>>>> USING AUTO REPLY...\u001b[0m\n",
      "\u001b[33mcode_writer_agent\u001b[0m (to code_executor_agent):\n",
      "\n",
      "The 14th Fibonacci number is 233.\n",
      "\n",
      "TERMINATE\n",
      "\n",
      "--------------------------------------------------------------------------------\n",
      "\u001b[33mcode_executor_agent\u001b[0m (to code_writer_agent):\n",
      "\n",
      "\n",
      "\n",
      "--------------------------------------------------------------------------------\n",
      "\u001b[31m\n",
      ">>>>>>>> USING AUTO REPLY...\u001b[0m\n",
      "\u001b[33mcode_writer_agent\u001b[0m (to code_executor_agent):\n",
      "\n",
      "\n",
      "\n",
      "--------------------------------------------------------------------------------\n",
      "\u001b[33mcode_executor_agent\u001b[0m (to code_writer_agent):\n",
      "\n",
      "\n",
      "\n",
      "--------------------------------------------------------------------------------\n",
      "\u001b[31m\n",
      ">>>>>>>> USING AUTO REPLY...\u001b[0m\n",
      "\u001b[33mcode_writer_agent\u001b[0m (to code_executor_agent):\n",
      "\n",
      "TERMINATE\n",
      "\n",
      "--------------------------------------------------------------------------------\n"
     ]
    }
   ],
   "source": [
    "chat_result = code_executor_agent.initiate_chat(\n",
    "    code_writer_agent,\n",
    "    message=\"Write Python code to calculate the 14th Fibonacci number.\",\n",
    ")"
   ]
  },
  {
   "cell_type": "markdown",
   "metadata": {},
   "source": [
    "More complex example "
   ]
  },
  {
   "cell_type": "code",
   "execution_count": 21,
   "metadata": {},
   "outputs": [
    {
     "name": "stdout",
     "output_type": "stream",
     "text": [
      "\u001b[33mcode_executor_agent\u001b[0m (to code_writer_agent):\n",
      "\n",
      "Today is 2024-08-24. Write Python code to plot TSLA's and META's stock price gains YTD, and save the plot to a file named 'stock_gains.png'.\n",
      "\n",
      "--------------------------------------------------------------------------------\n",
      "\u001b[31m\n",
      ">>>>>>>> USING AUTO REPLY...\u001b[0m\n",
      "\u001b[33mcode_writer_agent\u001b[0m (to code_executor_agent):\n",
      "\n",
      "To plot TSLA's and META's stock price gains year-to-date (YTD), we'll need to fetch the stock price data first. We can use the `yfinance` library, which is a popular choice for downloading financial market data from Yahoo Finance. If the `yfinance` library is not installed, you'll need to install it using the command `!pip install yfinance`.\n",
      "\n",
      "Once we have the stock data, we'll calculate the YTD gains by comparing the stock prices from the start of the year to the most recent available prices. We'll then use `matplotlib` to plot the gains and save the plot to a file named 'stock_gains.png'.\n",
      "\n",
      "Here's the Python code to perform these tasks:\n",
      "\n",
      "```python\n",
      "# filename: plot_stock_gains_ytd.py\n",
      "import yfinance as yf\n",
      "import matplotlib.pyplot as plt\n",
      "from datetime import datetime\n",
      "\n",
      "def get_ytd_gains(ticker):\n",
      "    # Get the stock data from the start of the current year to the current date\n",
      "    start_date = datetime(datetime.now().year, 1, 1)\n",
      "    end_date = datetime.now()\n",
      "    data = yf.download(ticker, start=start_date, end=end_date)\n",
      "    \n",
      "    if data.empty:\n",
      "        raise ValueError(f\"No data found for {ticker}\")\n",
      "    \n",
      "    # Calculate the percentage gain from the first available closing price this year to the latest\n",
      "    ytd_gain = (data['Close'][-1] - data['Close'][0]) / data['Close'][0] * 100\n",
      "    return ytd_gain\n",
      "\n",
      "def plot_gains(tsla_gain, meta_gain):\n",
      "    # Create a bar plot for the YTD gains\n",
      "    tickers = ['TSLA', 'META']\n",
      "    gains = [tsla_gain, meta_gain]\n",
      "    plt.bar(tickers, gains, color=['blue', 'green'])\n",
      "    \n",
      "    plt.title('YTD Stock Price Gains for TSLA and META')\n",
      "    plt.ylabel('Percentage Gain (%)')\n",
      "    \n",
      "    # Save the plot to a file\n",
      "    plt.savefig('stock_gains.png')\n",
      "    plt.close()\n",
      "\n",
      "try:\n",
      "    tsla_gain = get_ytd_gains('TSLA')\n",
      "    meta_gain = get_ytd_gains('META')\n",
      "    \n",
      "    plot_gains(tsla_gain, meta_gain)\n",
      "    print(\"Plot successfully saved as stock_gains.png\")\n",
      "except Exception as e:\n",
      "    print(f\"An error occurred: {e}\")\n",
      "```\n",
      "\n",
      "Execute this script, and it will save the plot to 'stock_gains.png'. Make sure you have an internet connection to download the stock data and that the `matplotlib` library is also installed. If it's not, you can install it using `!pip install matplotlib`.\n",
      "\n",
      "--------------------------------------------------------------------------------\n",
      "\u001b[31m\n",
      ">>>>>>>> EXECUTING CODE BLOCK (inferred language is python)...\u001b[0m\n",
      "\u001b[33mcode_executor_agent\u001b[0m (to code_writer_agent):\n",
      "\n",
      "exitcode: 0 (execution succeeded)\n",
      "Code output: \n",
      "[*********************100%***********************]  1 of 1 completed\n",
      "C:\\Users\\nileshjoshi\\AppData\\Local\\Temp\\tmpvi37qwjw\\plot_stock_gains_ytd.py:16: FutureWarning: Series.__getitem__ treating keys as positions is deprecated. In a future version, integer keys will always be treated as labels (consistent with DataFrame behavior). To access a value by position, use `ser.iloc[pos]`\n",
      "  ytd_gain = (data['Close'][-1] - data['Close'][0]) / data['Close'][0] * 100\n",
      "\n",
      "[*********************100%***********************]  1 of 1 completed\n",
      "C:\\Users\\nileshjoshi\\AppData\\Local\\Temp\\tmpvi37qwjw\\plot_stock_gains_ytd.py:16: FutureWarning: Series.__getitem__ treating keys as positions is deprecated. In a future version, integer keys will always be treated as labels (consistent with DataFrame behavior). To access a value by position, use `ser.iloc[pos]`\n",
      "  ytd_gain = (data['Close'][-1] - data['Close'][0]) / data['Close'][0] * 100\n",
      "Plot successfully saved as stock_gains.png\n",
      "\n",
      "\n",
      "--------------------------------------------------------------------------------\n",
      "\u001b[31m\n",
      ">>>>>>>> USING AUTO REPLY...\u001b[0m\n",
      "\u001b[33mcode_writer_agent\u001b[0m (to code_executor_agent):\n",
      "\n",
      "The code executed successfully and the plot was saved as 'stock_gains.png'. However, there's a warning indicating that using integer keys as positions is deprecated when indexing with `['Close'][-1]` and `['Close'][0]`.\n",
      "\n",
      "To address this warning and future-proof the code, we should use `.iloc[]` to access elements by position. I'll update the code accordingly:\n",
      "\n",
      "```python\n",
      "# filename: plot_stock_gains_ytd_updated.py\n",
      "import yfinance as yf\n",
      "import matplotlib.pyplot as plt\n",
      "from datetime import datetime\n",
      "\n",
      "def get_ytd_gains(ticker):\n",
      "    # Get the stock data from the start of the current year to the current date\n",
      "    start_date = datetime(datetime.now().year, 1, 1)\n",
      "    end_date = datetime.now()\n",
      "    data = yf.download(ticker, start=start_date, end=end_date)\n",
      "    \n",
      "    if data.empty:\n",
      "        raise ValueError(f\"No data found for {ticker}\")\n",
      "    \n",
      "    # Calculate the percentage gain from the first available closing price this year to the latest\n",
      "    ytd_gain = (data['Close'].iloc[-1] - data['Close'].iloc[0]) / data['Close'].iloc[0] * 100\n",
      "    return ytd_gain\n",
      "\n",
      "def plot_gains(tsla_gain, meta_gain):\n",
      "    # Create a bar plot for the YTD gains\n",
      "    tickers = ['TSLA', 'META']\n",
      "    gains = [tsla_gain, meta_gain]\n",
      "    plt.bar(tickers, gains, color=['blue', 'green'])\n",
      "    \n",
      "    plt.title('YTD Stock Price Gains for TSLA and META')\n",
      "    plt.ylabel('Percentage Gain (%)')\n",
      "    \n",
      "    # Save the plot to a file\n",
      "    plt.savefig('stock_gains.png')\n",
      "    plt.close()\n",
      "\n",
      "try:\n",
      "    tsla_gain = get_ytd_gains('TSLA')\n",
      "    meta_gain = get_ytd_gains('META')\n",
      "    \n",
      "    plot_gains(tsla_gain, meta_gain)\n",
      "    print(\"Plot successfully saved as stock_gains.png\")\n",
      "except Exception as e:\n",
      "    print(f\"An error occurred: {e}\")\n",
      "```\n",
      "\n",
      "You can execute this updated script to generate the plot without the warning. The resulting image 'stock_gains.png' should now be generated in a way that is compatible with future versions of pandas.\n",
      "\n",
      "--------------------------------------------------------------------------------\n",
      "\u001b[31m\n",
      ">>>>>>>> EXECUTING CODE BLOCK (inferred language is python)...\u001b[0m\n",
      "\u001b[33mcode_executor_agent\u001b[0m (to code_writer_agent):\n",
      "\n",
      "exitcode: 0 (execution succeeded)\n",
      "Code output: \n",
      "[*********************100%***********************]  1 of 1 completed\n",
      "\n",
      "[*********************100%***********************]  1 of 1 completed\n",
      "Plot successfully saved as stock_gains.png\n",
      "\n",
      "\n",
      "--------------------------------------------------------------------------------\n",
      "\u001b[31m\n",
      ">>>>>>>> USING AUTO REPLY...\u001b[0m\n",
      "\u001b[33mcode_writer_agent\u001b[0m (to code_executor_agent):\n",
      "\n",
      "The updated script executed successfully and the new plot was saved as 'stock_gains.png' without any warnings. The task is now complete.\n",
      "\n",
      "TERMINATE\n",
      "\n",
      "--------------------------------------------------------------------------------\n",
      "\u001b[33mcode_executor_agent\u001b[0m (to code_writer_agent):\n",
      "\n",
      "\n",
      "\n",
      "--------------------------------------------------------------------------------\n",
      "\u001b[31m\n",
      ">>>>>>>> USING AUTO REPLY...\u001b[0m\n",
      "\u001b[33mcode_writer_agent\u001b[0m (to code_executor_agent):\n",
      "\n",
      "TERMINATE\n",
      "\n",
      "--------------------------------------------------------------------------------\n"
     ]
    }
   ],
   "source": [
    "import datetime\n",
    "\n",
    "today = datetime.datetime.now().strftime(\"%Y-%m-%d\")\n",
    "chat_result = code_executor_agent.initiate_chat(\n",
    "    code_writer_agent,\n",
    "    message=f\"Today is {today}. Write Python code to plot TSLA's and META's \"\n",
    "    \"stock price gains YTD, and save the plot to a file named 'stock_gains.png'.\",\n",
    ")"
   ]
  },
  {
   "cell_type": "code",
   "execution_count": 25,
   "metadata": {},
   "outputs": [
    {
     "data": {
      "text/plain": [
       "'C:\\\\Users\\\\NILESH~1\\\\AppData\\\\Local\\\\Temp\\\\tmpvi37qwjw'"
      ]
     },
     "execution_count": 25,
     "metadata": {},
     "output_type": "execute_result"
    }
   ],
   "source": [
    "temp_dir.name"
   ]
  },
  {
   "cell_type": "code",
   "execution_count": 26,
   "metadata": {},
   "outputs": [
    {
     "data": {
      "image/png": "[encoded data removed]",
      "text/plain": [
       "<IPython.core.display.Image object>"
      ]
     },
     "execution_count": 26,
     "metadata": {},
     "output_type": "execute_result"
    }
   ],
   "source": [
    "from IPython.display import Image\n",
    "\n",
    "Image(os.path.join(temp_dir.name, \"stock_gains.png\"))"
   ]
  },
  {
   "cell_type": "code",
   "execution_count": 27,
   "metadata": {},
   "outputs": [],
   "source": [
    "temp_dir.cleanup()"
   ]
  },
  {
   "cell_type": "code",
   "execution_count": null,
   "metadata": {},
   "outputs": [],
   "source": []
  }
 ],
 "metadata": {
  "kernelspec": {
   "display_name": "Python 3",
   "language": "python",
   "name": "python3"
  },
  "language_info": {
   "codemirror_mode": {
    "name": "ipython",
    "version": 3
   },
   "file_extension": ".py",
   "mimetype": "text/x-python",
   "name": "python",
   "nbconvert_exporter": "python",
   "pygments_lexer": "ipython3",
   "version": "3.11.9"
  }
 },
 "nbformat": 4,
 "nbformat_minor": 2
}
