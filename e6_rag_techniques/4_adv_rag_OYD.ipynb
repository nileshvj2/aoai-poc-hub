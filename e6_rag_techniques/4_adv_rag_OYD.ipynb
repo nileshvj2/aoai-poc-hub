{
 "cells": [
  {
   "cell_type": "code",
   "execution_count": 2,
   "metadata": {},
   "outputs": [
    {
     "data": {
      "text/plain": [
       "True"
      ]
     },
     "execution_count": 2,
     "metadata": {},
     "output_type": "execute_result"
    }
   ],
   "source": [
    "import pandas as pd\n",
    "import json\n",
    "import openai\n",
    "import inspect\n",
    "from dotenv import load_dotenv\n",
    "import os\n",
    "load_dotenv(\"..\\credentials.env\",override=True)"
   ]
  },
  {
   "cell_type": "code",
   "execution_count": 3,
   "metadata": {},
   "outputs": [],
   "source": [
    "from azure.search.documents import SearchClient\n",
    "from azure.search.documents.models import VectorizableTextQuery\n",
    "from azure.core.credentials import AzureKeyCredential"
   ]
  },
  {
   "cell_type": "code",
   "execution_count": 7,
   "metadata": {},
   "outputs": [],
   "source": [
    "endpoint = os.environ[\"AZURE_OPENAI_ENDPOINT\"]\n",
    "subscription_key = os.environ[\"AZURE_OPENAI_API_KEY\"]\n",
    "deployment = \"gpt-4o\"\n",
    "\n",
    "# Azure AI Search setup\n",
    "search_endpoint = os.getenv(\"AZURE_SEARCH_ENDPOINT\"); # Add your Azure AI Search endpoint here\n",
    "search_key = os.getenv(\"AZURE_SEARCH_KEY\"); # Add your Azure AI Search admin key here\n",
    "search_index_name = \"northwind-vectorstore\"\n",
    "\n",
    "state_messages = []"
   ]
  },
  {
   "cell_type": "code",
   "execution_count": 5,
   "metadata": {},
   "outputs": [],
   "source": [
    "client = openai.AzureOpenAI(  \n",
    "    azure_endpoint=endpoint,  \n",
    "    api_key=subscription_key,  \n",
    "    api_version=\"2024-05-01-preview\",  \n",
    ")\n",
    "\n",
    "search_client = SearchClient(\n",
    "     endpoint=search_endpoint,\n",
    "     index_name=search_index_name,    \n",
    "     credential=AzureKeyCredential(search_key)\n",
    " )"
   ]
  },
  {
   "cell_type": "code",
   "execution_count": 8,
   "metadata": {},
   "outputs": [],
   "source": [
    "# Provide instructions to the model\n",
    "GROUNDED_PROMPT=\"\"\"\n",
    "You are an AI assistant that helps users learn from the information found in the source material.\n",
    "Answer the query using only the sources provided.\n",
    "Use bullets if the answer has multiple points.\n",
    "If the answer is longer than 3 sentences, provide a summary.\n",
    "Answer ONLY with the facts listed in the list of sources below. Cite your source when you answer the question\n",
    "If there isn't enough information below, say you don't know.\n",
    "Do not generate answers that is not contained in the retrieved information from provided sources.\n",
    "\"\"\"\n",
    "\n",
    "#"
   ]
  },
  {
   "cell_type": "code",
   "execution_count": 11,
   "metadata": {},
   "outputs": [],
   "source": [
    "\n",
    "def advanced_rag_OYD(user_query, system_msg = GROUNDED_PROMPT, reset_history=False):\n",
    "    \n",
    "    if(reset_history):\n",
    "        state_messages.clear()\n",
    "        state_messages.append({\"role\": \"system\", \"content\": system_msg})\n",
    "\n",
    "    state_messages.append({\"role\": \"user\", \"content\": user_query})\n",
    "\n",
    "    messages=[\n",
    "            {\"role\": \"user\", \"content\": m[\"content\"]}\n",
    "            for m in state_messages\n",
    "    ]\n",
    "\n",
    "    # Generate the completion  \n",
    "    response = client.chat.completions.create(  \n",
    "        model=deployment,  \n",
    "        messages=messages,  \n",
    "        max_tokens=800,  \n",
    "        temperature=0.7,  \n",
    "        top_p=0.95,  \n",
    "        frequency_penalty=0,  \n",
    "        presence_penalty=0,  \n",
    "        stop=None,  \n",
    "        stream=False, #no streaming     \n",
    "        extra_body={\n",
    "        \"data_sources\": [{\n",
    "            \"type\": \"azure_search\",\n",
    "            \"parameters\": {\n",
    "                \"filter\": None,\n",
    "                \"endpoint\": f\"{search_endpoint}\",\n",
    "                \"index_name\": search_index_name,\n",
    "                \"semantic_configuration\": \"northwind-vectorstore-semantic-configuration\",\n",
    "                \"authentication\": {\n",
    "                \"type\": \"api_key\",\n",
    "                \"key\": f\"{search_key}\"\n",
    "                },\n",
    "                \"embedding_dependency\": {\n",
    "                \"type\": \"endpoint\",\n",
    "                \"endpoint\": f\"{endpoint}/openai/deployments/text-embedding-ada-002/embeddings?api-version=2023-03-15-preview\",\n",
    "                \"authentication\": {\n",
    "                    \"type\": \"api_key\",\n",
    "                    \"key\": subscription_key\n",
    "                }\n",
    "                },\n",
    "                \"query_type\": \"vector_simple_hybrid\",\n",
    "                \"in_scope\": True,\n",
    "                \"role_information\": \"You are an AI assistant that helps people find information based on retrieved data.\\n\",\n",
    "                \"strictness\": 3,\n",
    "                \"top_n_documents\": 5\n",
    "            }\n",
    "            }]\n",
    "        }\n",
    "    )\n",
    "    print(response.choices[0].message.content)"
   ]
  },
  {
   "cell_type": "code",
   "execution_count": 12,
   "metadata": {},
   "outputs": [
    {
     "name": "stdout",
     "output_type": "stream",
     "text": [
      "Yes, the Northwind health plan covers vision services, which would include eye exams [doc1][doc4].\n"
     ]
    }
   ],
   "source": [
    "advanced_rag_OYD(\"Does Northwind health plan covers eye exams?\")"
   ]
  },
  {
   "cell_type": "code",
   "execution_count": 13,
   "metadata": {},
   "outputs": [
    {
     "name": "stdout",
     "output_type": "stream",
     "text": [
      "Yes, the Northwind Standard plan covers hearing tests and evaluations as part of its comprehensive health plan, which includes medical, vision, and dental services [doc1][doc2]. The plan provides coverage for routine hearing aid maintenance and repair, as well as counseling and hearing aid evaluations [doc2].\n"
     ]
    }
   ],
   "source": [
    "advanced_rag_OYD(\"I am unable to listen to the sound, does northwind cover the test?\")"
   ]
  },
  {
   "cell_type": "code",
   "execution_count": 14,
   "metadata": {},
   "outputs": [
    {
     "name": "stdout",
     "output_type": "stream",
     "text": [
      "The requested information is not available in the retrieved data. Please try another query or topic.\n"
     ]
    }
   ],
   "source": [
    "advanced_rag_OYD(\"what should I do if I feel feverish?\")"
   ]
  },
  {
   "cell_type": "code",
   "execution_count": 15,
   "metadata": {},
   "outputs": [
    {
     "name": "stdout",
     "output_type": "stream",
     "text": [
      "To improve your health, you can consider the following tips:\n",
      "\n",
      "1. **Get enough sleep:** Ensure that you are getting adequate rest each night as it helps your body to recover and stay energized [doc2].\n",
      "2. **Eat a balanced diet:** Incorporate a variety of fruits, vegetables, lean proteins, and whole grains into your meals to maintain a healthy diet [doc2].\n",
      "3. **Exercise regularly:** Aim for at least 30 minutes of physical activity each day to help burn calories and improve your physical health [doc2].\n",
      "4. **Drink plenty of water:** Staying hydrated is important for overall health and can assist with weight management [doc2].\n",
      "5. **Avoid sugary drinks:** Try to reduce or eliminate the consumption of sodas and energy drinks that add extra calories to your diet [doc2].\n",
      "6. **Track your progress:** Keep a record of your health goals and monitor your progress to stay motivated and on track [doc2].\n",
      "7. **Seek support:** Surround yourself with a support system, including friends, family, or healthcare professionals, to stay accountable and motivated [doc2].\n",
      "\n",
      "By following these tips, you can take significant steps towards improving your overall health and well-being.\n"
     ]
    }
   ],
   "source": [
    "advanced_rag_OYD(\"how can I improve my health?\")"
   ]
  },
  {
   "cell_type": "code",
   "execution_count": 16,
   "metadata": {},
   "outputs": [
    {
     "name": "stdout",
     "output_type": "stream",
     "text": [
      "Yes, Northwind health plans cover testing for cholesterol levels. This service is included as part of the preventive care services under the Northwind Standard plan [doc1].\n"
     ]
    }
   ],
   "source": [
    "advanced_rag_OYD(\"Does Northwind plans cover testing cholestrol levels?\")\n"
   ]
  },
  {
   "cell_type": "code",
   "execution_count": null,
   "metadata": {},
   "outputs": [],
   "source": []
  }
 ],
 "metadata": {
  "kernelspec": {
   "display_name": "Python 3",
   "language": "python",
   "name": "python3"
  },
  "language_info": {
   "codemirror_mode": {
    "name": "ipython",
    "version": 3
   },
   "file_extension": ".py",
   "mimetype": "text/x-python",
   "name": "python",
   "nbconvert_exporter": "python",
   "pygments_lexer": "ipython3",
   "version": "3.11.11"
  }
 },
 "nbformat": 4,
 "nbformat_minor": 2
}
