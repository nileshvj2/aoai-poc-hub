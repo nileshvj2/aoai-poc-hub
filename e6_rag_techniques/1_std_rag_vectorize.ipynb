{
 "cells": [
  {
   "cell_type": "code",
   "execution_count": 82,
   "metadata": {},
   "outputs": [
    {
     "data": {
      "text/plain": [
       "True"
      ]
     },
     "execution_count": 82,
     "metadata": {},
     "output_type": "execute_result"
    }
   ],
   "source": [
    "import os\n",
    "import re\n",
    "import requests\n",
    "import sys\n",
    "import pandas as pd\n",
    "import numpy as np\n",
    "from openai import AzureOpenAI\n",
    "import json\n",
    "from dotenv import load_dotenv\n",
    "import azure.search.documents as azsearch\n",
    "load_dotenv(\"credentials.env\", override=True)"
   ]
  },
  {
   "cell_type": "code",
   "execution_count": 83,
   "metadata": {},
   "outputs": [],
   "source": [
    "aoai_endpoint = os.environ[\"AZURE_OPENAI_ENDPOINT\"]\n",
    "aoai_api_key = os.environ[\"AZURE_OPENAI_API_KEY\"]\n",
    "deployment_name = \"gpt-4o\"\n",
    "aoai_api_version = os.environ[\"AZURE_OPENAI_API_VERSION\"] #Using latest version as of this date. Older versions may not work with the code as syntax has changed drastically.\n",
    "embedding_deployment = \"text-embedding-ada-002\"\n",
    "# Azure AI Search setup\n",
    "search_endpoint = os.environ[\"AZURE_SEARCH_ENDPOINT\"] # Add your Azure AI Search endpoint here\n",
    "search_key = os.environ[\"AZURE_SEARCH_KEY\"] # Add your Azure AI Search admin key here\n",
    "search_index_name = \"elonmusk-vindex-6whqjwtaeogci\"; # Add your Azure AI Search index name here\n",
    "AZURE_SEARCH_API_VERSION=\"2024-05-01-preview\"\n",
    "\n",
    "blob_connection_string = os.environ[\"BLOB_CONNECTION_STRING\"]\n",
    "blob_container_name = \"elonmusk-wiki\"\n",
    "blob_sas_token = os.environ[\"BLOB_SAS_TOKEN\"]\n",
    "\n",
    "# Create an Azure OpenAI client.  \n",
    "client = AzureOpenAI(        \n",
    "    #base_url=f\"{aoai_endpoint}/openai/deployments/{deployment_name}/extensions/\",\n",
    "    azure_endpoint=aoai_endpoint,    \n",
    "    api_key=aoai_api_key,    \n",
    "    api_version=aoai_api_version\n",
    ")"
   ]
  },
  {
   "cell_type": "markdown",
   "metadata": {},
   "source": [
    "Create a blob data source connector on Azure AI Search\n"
   ]
  },
  {
   "cell_type": "code",
   "execution_count": 84,
   "metadata": {},
   "outputs": [],
   "source": [
    "from azure.core.credentials import AzureKeyCredential\n",
    "\n",
    "# Create a client\n",
    "search_key_credential = AzureKeyCredential(search_key)\n",
    "search_client = azsearch.SearchClient(endpoint=search_endpoint,\n",
    "                      index_name=search_index_name,\n",
    "                      credential=search_key_credential)"
   ]
  },
  {
   "cell_type": "code",
   "execution_count": 85,
   "metadata": {},
   "outputs": [],
   "source": [
    "# Setup the Payloads header\n",
    "headers = {'Content-Type': 'application/json','api-key': search_key}\n",
    "params = {'api-version': AZURE_SEARCH_API_VERSION}"
   ]
  },
  {
   "cell_type": "markdown",
   "metadata": {},
   "source": [
    "create data source"
   ]
  },
  {
   "cell_type": "code",
   "execution_count": 41,
   "metadata": {},
   "outputs": [],
   "source": [
    "search_datasource_name = f\"{search_index_name}-source\""
   ]
  },
  {
   "cell_type": "code",
   "execution_count": 172,
   "metadata": {},
   "outputs": [
    {
     "name": "stdout",
     "output_type": "stream",
     "text": [
      "201\n",
      "True\n"
     ]
    }
   ],
   "source": [
    "# The following code sends the json paylod to Azure Search engine to create the Datasource\n",
    "\n",
    "datasource_payload = {\n",
    "    \"name\": search_datasource_name,\n",
    "    \"description\": \"elon musk wiki files to demonstrate cognitive search capabilities.\",\n",
    "    \"type\": \"azureblob\",\n",
    "    \"credentials\": {\n",
    "        \"connectionString\": blob_connection_string\n",
    "    },\n",
    "    \"dataDeletionDetectionPolicy\" : {\n",
    "        \"@odata.type\" :\"#Microsoft.Azure.Search.NativeBlobSoftDeleteDeletionDetectionPolicy\" # this makes sure that if the item is deleted from the source, it will be deleted from the index\n",
    "    },\n",
    "    \"container\": {\n",
    "        \"name\": blob_container_name\n",
    "    }\n",
    "}\n",
    "r = requests.put(os.environ['AZURE_SEARCH_ENDPOINT'] + \"/datasources/\" + search_datasource_name,\n",
    "                 data=json.dumps(datasource_payload), headers=headers, params=params)\n",
    "print(r.status_code)\n",
    "print(r.ok)"
   ]
  },
  {
   "cell_type": "markdown",
   "metadata": {},
   "source": [
    "201 - Successfully created\n",
    "\n",
    "204 - Succesfully overwritten\n",
    "\n",
    "40X - Authentication Error"
   ]
  },
  {
   "cell_type": "markdown",
   "metadata": {},
   "source": [
    "create index"
   ]
  },
  {
   "cell_type": "code",
   "execution_count": 173,
   "metadata": {},
   "outputs": [
    {
     "name": "stdout",
     "output_type": "stream",
     "text": [
      "201\n",
      "True\n"
     ]
    }
   ],
   "source": [
    "# Create an index\n",
    "# Queries operate over the searchable fields and filterable fields in the index\n",
    "index_payload = {\n",
    "    \"name\": search_index_name,\n",
    "    \"vectorSearch\": {\n",
    "        \"algorithms\": [\n",
    "            {\n",
    "                \"name\": \"myalgo\",\n",
    "                \"kind\": \"hnsw\"\n",
    "            }\n",
    "        ],\n",
    "        \"vectorizers\": [\n",
    "            {\n",
    "                \"name\": \"openai\",\n",
    "                \"kind\": \"azureOpenAI\",\n",
    "                \"azureOpenAIParameters\":\n",
    "                {\n",
    "                    \"resourceUri\" : aoai_endpoint,\n",
    "                    \"apiKey\" : aoai_api_key,\n",
    "                    \"deploymentId\" : embedding_deployment,\n",
    "                    \"modelName\" : embedding_deployment,\n",
    "     \n",
    "                }\n",
    "            }\n",
    "        ],\n",
    "        \"profiles\": [\n",
    "            {\n",
    "                \"name\": \"myprofile\",\n",
    "                \"algorithm\": \"myalgo\",\n",
    "                \"vectorizer\":\"openai\"\n",
    "            }\n",
    "        ]\n",
    "    },\n",
    "    \"semantic\": {\n",
    "        \"configurations\": [\n",
    "            {\n",
    "                \"name\": \"my-semantic-config\",\n",
    "                \"prioritizedFields\": {\n",
    "                    \"titleField\": {\n",
    "                        \"fieldName\": \"title\"\n",
    "                    },\n",
    "                    \"prioritizedContentFields\": [\n",
    "                        {\n",
    "                            \"fieldName\": \"chunk\"\n",
    "                        }\n",
    "                    ],\n",
    "                    \"prioritizedKeywordsFields\": []\n",
    "                }\n",
    "            }\n",
    "        ]\n",
    "    },\n",
    "    \"fields\": [\n",
    "        {\"name\": \"id\", \"type\": \"Edm.String\", \"key\": \"true\", \"analyzer\": \"keyword\", \"searchable\": \"true\", \"retrievable\": \"true\", \"sortable\": \"false\", \"filterable\": \"false\",\"facetable\": \"false\"},\n",
    "        {\"name\": \"ParentKey\", \"type\": \"Edm.String\", \"searchable\": \"true\", \"retrievable\": \"true\", \"facetable\": \"false\", \"filterable\": \"true\", \"sortable\": \"false\"},\n",
    "        {\"name\": \"title\", \"type\": \"Edm.String\", \"searchable\": \"true\", \"retrievable\": \"true\", \"facetable\": \"false\", \"filterable\": \"true\", \"sortable\": \"false\"},\n",
    "        {\"name\": \"name\", \"type\": \"Edm.String\", \"searchable\": \"true\", \"retrievable\": \"true\", \"sortable\": \"false\", \"filterable\": \"false\", \"facetable\": \"false\"},\n",
    "        {\"name\": \"filepath\", \"type\": \"Edm.String\", \"searchable\": \"true\", \"retrievable\": \"true\", \"sortable\": \"false\", \"filterable\": \"false\", \"facetable\": \"false\"},   \n",
    "        {\"name\": \"chunk\",\"type\": \"Edm.String\", \"searchable\": \"true\", \"retrievable\": \"true\", \"sortable\": \"false\", \"filterable\": \"false\", \"facetable\": \"false\"},\n",
    "        {\n",
    "            \"name\": \"chunkVector\",\n",
    "            \"type\": \"Collection(Edm.Single)\",\n",
    "            \"dimensions\": 1536, # IMPORTANT: Make sure these dimmensions match your embedding model name\n",
    "            \"vectorSearchProfile\": \"myprofile\",\n",
    "            \"searchable\": \"true\",\n",
    "            \"retrievable\": \"true\",\n",
    "            \"filterable\": \"false\",\n",
    "            \"sortable\": \"false\",\n",
    "            \"facetable\": \"false\"\n",
    "        }\n",
    "    ]\n",
    "}\n",
    "\n",
    "r = requests.put(search_endpoint + \"/indexes/\" + search_index_name,\n",
    "                 data=json.dumps(index_payload), headers=headers, params=params)\n",
    "print(r.status_code)\n",
    "print(r.ok)"
   ]
  },
  {
   "cell_type": "code",
   "execution_count": 174,
   "metadata": {},
   "outputs": [
    {
     "data": {
      "text/plain": [
       "'{\"@odata.context\":\"https://6whqjwtaeogci-search.search.windows.net/$metadata#indexes/$entity\",\"@odata.etag\":\"\\\\\"0x8DD2C32B4E565F8\\\\\"\",\"name\":\"elonmusk-vindex-6whqjwtaeogci\",\"defaultScoringProfile\":null,\"fields\":[{\"name\":\"id\",\"type\":\"Edm.String\",\"searchable\":true,\"filterable\":false,\"retrievable\":true,\"stored\":true,\"sortable\":false,\"facetable\":false,\"key\":true,\"indexAnalyzer\":null,\"searchAnalyzer\":null,\"analyzer\":\"keyword\",\"normalizer\":null,\"dimensions\":null,\"vectorSearchProfile\":null,\"vectorEncoding\":null,\"synonymMaps\":[]},{\"name\":\"ParentKey\",\"type\":\"Edm.String\",\"searchable\":true,\"filterable\":true,\"retrievable\":true,\"stored\":true,\"sortable\":false,\"facetable\":false,\"key\":false,\"indexAnalyzer\":null,\"searchAnalyzer\":null,\"analyzer\":null,\"normalizer\":null,\"dimensions\":null,\"vectorSearchProfile\":null,\"vectorEncoding\":null,\"synonymMaps\":[]},{\"name\":\"title\",\"type\":\"Edm.String\",\"searchable\":true,\"filterable\":true,\"retrievable\":true,\"stored\":true,\"sortable\":false,\"facetable\":false,\"key\":false,\"indexAnalyzer\":null,\"searchAnalyzer\":null,\"analyzer\":null,\"normalizer\":null,\"dimensions\":null,\"vectorSearchProfile\":null,\"vectorEncoding\":null,\"synonymMaps\":[]},{\"name\":\"name\",\"type\":\"Edm.String\",\"searchable\":true,\"filterable\":false,\"retrievable\":true,\"stored\":true,\"sortable\":false,\"facetable\":false,\"key\":false,\"indexAnalyzer\":null,\"searchAnalyzer\":null,\"analyzer\":null,\"normalizer\":null,\"dimensions\":null,\"vectorSearchProfile\":null,\"vectorEncoding\":null,\"synonymMaps\":[]},{\"name\":\"filepath\",\"type\":\"Edm.String\",\"searchable\":true,\"filterable\":false,\"retrievable\":true,\"stored\":true,\"sortable\":false,\"facetable\":false,\"key\":false,\"indexAnalyzer\":null,\"searchAnalyzer\":null,\"analyzer\":null,\"normalizer\":null,\"dimensions\":null,\"vectorSearchProfile\":null,\"vectorEncoding\":null,\"synonymMaps\":[]},{\"name\":\"chunk\",\"type\":\"Edm.String\",\"searchable\":true,\"filterable\":false,\"retrievable\":true,\"stored\":true,\"sortable\":false,\"facetable\":false,\"key\":false,\"indexAnalyzer\":null,\"searchAnalyzer\":null,\"analyzer\":null,\"normalizer\":null,\"dimensions\":null,\"vectorSearchProfile\":null,\"vectorEncoding\":null,\"synonymMaps\":[]},{\"name\":\"chunkVector\",\"type\":\"Collection(Edm.Single)\",\"searchable\":true,\"filterable\":false,\"retrievable\":true,\"stored\":true,\"sortable\":false,\"facetable\":false,\"key\":false,\"indexAnalyzer\":null,\"searchAnalyzer\":null,\"analyzer\":null,\"normalizer\":null,\"dimensions\":1536,\"vectorSearchProfile\":\"myprofile\",\"vectorEncoding\":null,\"synonymMaps\":[]}],\"scoringProfiles\":[],\"corsOptions\":null,\"suggesters\":[],\"analyzers\":[],\"normalizers\":[],\"tokenizers\":[],\"tokenFilters\":[],\"charFilters\":[],\"encryptionKey\":null,\"similarity\":{\"@odata.type\":\"#Microsoft.Azure.Search.BM25Similarity\",\"k1\":null,\"b\":null},\"semantic\":{\"defaultConfiguration\":null,\"configurations\":[{\"name\":\"my-semantic-config\",\"prioritizedFields\":{\"titleField\":{\"fieldName\":\"title\"},\"prioritizedContentFields\":[{\"fieldName\":\"chunk\"}],\"prioritizedKeywordsFields\":[]}}]},\"vectorSearch\":{\"algorithms\":[{\"name\":\"myalgo\",\"kind\":\"hnsw\",\"hnswParameters\":{\"metric\":\"cosine\",\"m\":4,\"efConstruction\":400,\"efSearch\":500},\"exhaustiveKnnParameters\":null}],\"profiles\":[{\"name\":\"myprofile\",\"algorithm\":\"myalgo\",\"vectorizer\":\"openai\",\"compression\":null}],\"vectorizers\":[{\"name\":\"openai\",\"kind\":\"azureOpenAI\",\"azureOpenAIParameters\":{\"resourceUri\":\"https://njo-npd-openai-dev-ce.openai.azure.com\",\"deploymentId\":\"text-embedding-ada-002\",\"apiKey\":\"82f56ab50f5e4e8c82b41f881bdd7dc2\",\"modelName\":\"text-embedding-ada-002\",\"authIdentity\":null},\"customWebApiParameters\":null,\"aiServicesVisionParameters\":null,\"amlParameters\":null}],\"compressions\":[]}}'"
      ]
     },
     "execution_count": 174,
     "metadata": {},
     "output_type": "execute_result"
    }
   ],
   "source": [
    "r.text"
   ]
  },
  {
   "cell_type": "markdown",
   "metadata": {},
   "source": [
    "Create Skillset - OCR, Text Splitter, AzureOpenAIEmbeddingSkill"
   ]
  },
  {
   "cell_type": "code",
   "execution_count": 175,
   "metadata": {},
   "outputs": [
    {
     "name": "stdout",
     "output_type": "stream",
     "text": [
      "201\n",
      "True\n"
     ]
    }
   ],
   "source": [
    "skillset_name = \"elonmusk-wiki-skill\"\n",
    "\n",
    "# Create a skillset\n",
    "skillset_payload = {\n",
    "\"name\": skillset_name,\n",
    "\"description\": \"e2e Skillset for RAG - Files\",\n",
    "\"skills\":\n",
    "[\n",
    "    {\n",
    "        \"@odata.type\": \"#Microsoft.Skills.Vision.OcrSkill\",\n",
    "        \"description\": \"Extract text (plain and structured) from image.\",\n",
    "        \"context\": \"/document/normalized_images/*\",\n",
    "        \"defaultLanguageCode\": \"en\",\n",
    "        \"detectOrientation\": True,\n",
    "        \"inputs\": [\n",
    "            {\n",
    "                \"name\": \"image\",\n",
    "                \"source\": \"/document/normalized_images/*\"\n",
    "            }\n",
    "        ],\n",
    "            \"outputs\": [\n",
    "            {\n",
    "                \"name\": \"text\",\n",
    "                \"targetName\" : \"images_text\"\n",
    "            }\n",
    "        ]\n",
    "    },\n",
    "    {\n",
    "        \"@odata.type\": \"#Microsoft.Skills.Text.MergeSkill\",\n",
    "        \"description\": \"Create merged_text, which includes all the textual representation of each image inserted at the right location in the content field. This is useful for PDF and other file formats that supported embedded images.\",\n",
    "        \"context\": \"/document\",\n",
    "        \"insertPreTag\": \" \",\n",
    "        \"insertPostTag\": \" \",\n",
    "        \"inputs\": [\n",
    "            {\n",
    "                \"name\":\"text\", \"source\": \"/document/content\"\n",
    "            },\n",
    "            {\n",
    "                \"name\": \"itemsToInsert\", \"source\": \"/document/normalized_images/*/images_text\"\n",
    "            },\n",
    "            {\n",
    "                \"name\":\"offsets\", \"source\": \"/document/normalized_images/*/contentOffset\"\n",
    "            }\n",
    "        ],\n",
    "        \"outputs\": [\n",
    "            {\n",
    "                \"name\": \"mergedText\", \n",
    "                \"targetName\" : \"merged_text\"\n",
    "            }\n",
    "        ]\n",
    "    },\n",
    "    {\n",
    "        \"@odata.type\": \"#Microsoft.Skills.Text.SplitSkill\",\n",
    "        \"context\": \"/document\",\n",
    "        \"textSplitMode\": \"pages\",  # although it says \"pages\" it actally means chunks, not actual pages\n",
    "        \"maximumPageLength\": 500, # 5000 characters is default and a good choice\n",
    "        \"pageOverlapLength\": 50,  # 15% overlap among chunks\n",
    "        \"defaultLanguageCode\": \"en\",\n",
    "        \"inputs\": [\n",
    "            {\n",
    "                \"name\": \"text\",\n",
    "                \"source\": \"/document/merged_text\"\n",
    "            }\n",
    "        ],\n",
    "        \"outputs\": [\n",
    "            {\n",
    "                \"name\": \"textItems\",\n",
    "                \"targetName\": \"chunks\"\n",
    "            }\n",
    "        ]\n",
    "    },\n",
    "    {\n",
    "        \"@odata.type\": \"#Microsoft.Skills.Text.AzureOpenAIEmbeddingSkill\",\n",
    "        \"description\": \"Azure OpenAI Embedding Skill\",\n",
    "        \"context\": \"/document/chunks/*\",\n",
    "        \"resourceUri\": aoai_endpoint,\n",
    "        \"apiKey\": aoai_api_key,\n",
    "        \"deploymentId\": embedding_deployment,\n",
    "        \"modelName\": embedding_deployment,\n",
    "        \"inputs\": [\n",
    "            {\n",
    "                \"name\": \"text\",\n",
    "                \"source\": \"/document/chunks/*\"\n",
    "            }\n",
    "        ],\n",
    "        \"outputs\": [\n",
    "            {\n",
    "                \"name\": \"embedding\",\n",
    "                \"targetName\": \"vector\"\n",
    "            }\n",
    "        ]\n",
    "    }\n",
    "],\n",
    "\"indexProjections\": {\n",
    "    \"selectors\": [\n",
    "        {\n",
    "            \"targetIndexName\": search_index_name,\n",
    "            \"parentKeyFieldName\": \"ParentKey\",\n",
    "            \"sourceContext\": \"/document/chunks/*\",\n",
    "            \"mappings\": [\n",
    "                {\n",
    "                    \"name\": \"title\",\n",
    "                    \"source\": \"/document/title\"\n",
    "                },\n",
    "                {\n",
    "                    \"name\": \"name\",\n",
    "                    \"source\": \"/document/name\"\n",
    "                },\n",
    "                {\n",
    "                    \"name\": \"filepath\",\n",
    "                    \"source\": \"/document/location\"\n",
    "                },\n",
    "                {\n",
    "                    \"name\": \"chunk\",\n",
    "                    \"source\": \"/document/chunks/*\"\n",
    "                },\n",
    "                {\n",
    "                    \"name\": \"chunkVector\",\n",
    "                    \"source\": \"/document/chunks/*/vector\"\n",
    "                }\n",
    "            ]\n",
    "        }\n",
    "    ],\n",
    "    \"parameters\": {\n",
    "        \"projectionMode\": \"skipIndexingParentDocuments\"\n",
    "    }\n",
    "},\n",
    "\"cognitiveServices\": {\n",
    "    \"@odata.type\": \"#Microsoft.Azure.Search.CognitiveServicesByKey\",\n",
    "    \"description\": os.environ['COG_SERVICES_NAME'],\n",
    "    \"key\": os.environ['COG_SERVICES_KEY']\n",
    "}\n",
    "}\n",
    "\n",
    "r = requests.put(search_endpoint + \"/skillsets/\" + skillset_name,\n",
    "                data=json.dumps(skillset_payload), headers=headers, params=params)\n",
    "print(r.status_code)\n",
    "print(r.ok)"
   ]
  },
  {
   "cell_type": "code",
   "execution_count": 176,
   "metadata": {},
   "outputs": [
    {
     "data": {
      "text/plain": [
       "'{\"@odata.context\":\"https://6whqjwtaeogci-search.search.windows.net/$metadata#skillsets/$entity\",\"@odata.etag\":\"\\\\\"0x8DD2C32BD9AD1CC\\\\\"\",\"name\":\"elonmusk-wiki-skill\",\"description\":\"e2e Skillset for RAG - Files\",\"skills\":[{\"@odata.type\":\"#Microsoft.Skills.Vision.OcrSkill\",\"name\":null,\"description\":\"Extract text (plain and structured) from image.\",\"context\":\"/document/normalized_images/*\",\"textExtractionAlgorithm\":null,\"lineEnding\":null,\"defaultLanguageCode\":\"en\",\"detectOrientation\":true,\"inputs\":[{\"name\":\"image\",\"source\":\"/document/normalized_images/*\",\"sourceContext\":null,\"inputs\":[]}],\"outputs\":[{\"name\":\"text\",\"targetName\":\"images_text\"}]},{\"@odata.type\":\"#Microsoft.Skills.Text.MergeSkill\",\"name\":null,\"description\":\"Create merged_text, which includes all the textual representation of each image inserted at the right location in the content field. This is useful for PDF and other file formats that supported embedded images.\",\"context\":\"/document\",\"insertPreTag\":\" \",\"insertPostTag\":\" \",\"inputs\":[{\"name\":\"text\",\"source\":\"/document/content\",\"sourceContext\":null,\"inputs\":[]},{\"name\":\"itemsToInsert\",\"source\":\"/document/normalized_images/*/images_text\",\"sourceContext\":null,\"inputs\":[]},{\"name\":\"offsets\",\"source\":\"/document/normalized_images/*/contentOffset\",\"sourceContext\":null,\"inputs\":[]}],\"outputs\":[{\"name\":\"mergedText\",\"targetName\":\"merged_text\"}]},{\"@odata.type\":\"#Microsoft.Skills.Text.SplitSkill\",\"name\":null,\"description\":null,\"context\":\"/document\",\"defaultLanguageCode\":\"en\",\"textSplitMode\":\"pages\",\"maximumPageLength\":500,\"pageOverlapLength\":50,\"maximumPagesToTake\":null,\"inputs\":[{\"name\":\"text\",\"source\":\"/document/merged_text\",\"sourceContext\":null,\"inputs\":[]}],\"outputs\":[{\"name\":\"textItems\",\"targetName\":\"chunks\"}]},{\"@odata.type\":\"#Microsoft.Skills.Text.AzureOpenAIEmbeddingSkill\",\"name\":null,\"description\":\"Azure OpenAI Embedding Skill\",\"context\":\"/document/chunks/*\",\"resourceUri\":\"https://njo-npd-openai-dev-ce.openai.azure.com/\",\"apiKey\":\"82f56ab50f5e4e8c82b41f881bdd7dc2\",\"deploymentId\":\"text-embedding-ada-002\",\"dimensions\":null,\"modelName\":\"text-embedding-ada-002\",\"inputs\":[{\"name\":\"text\",\"source\":\"/document/chunks/*\",\"sourceContext\":null,\"inputs\":[]}],\"outputs\":[{\"name\":\"embedding\",\"targetName\":\"vector\"}],\"authIdentity\":null}],\"cognitiveServices\":{\"@odata.type\":\"#Microsoft.Azure.Search.CognitiveServicesByKey\",\"description\":\"cognitiveservice-techexcel-eus2\",\"key\":\"d91a5cf6c90e42efbe71eec0ca2496ac\"},\"knowledgeStore\":null,\"indexProjections\":{\"selectors\":[{\"targetIndexName\":\"elonmusk-vindex-6whqjwtaeogci\",\"parentKeyFieldName\":\"ParentKey\",\"sourceContext\":\"/document/chunks/*\",\"mappings\":[{\"name\":\"title\",\"source\":\"/document/title\",\"sourceContext\":null,\"inputs\":[]},{\"name\":\"name\",\"source\":\"/document/name\",\"sourceContext\":null,\"inputs\":[]},{\"name\":\"filepath\",\"source\":\"/document/location\",\"sourceContext\":null,\"inputs\":[]},{\"name\":\"chunk\",\"source\":\"/document/chunks/*\",\"sourceContext\":null,\"inputs\":[]},{\"name\":\"chunkVector\",\"source\":\"/document/chunks/*/vector\",\"sourceContext\":null,\"inputs\":[]}]}],\"parameters\":{\"projectionMode\":\"skipIndexingParentDocuments\"}},\"encryptionKey\":null}'"
      ]
     },
     "execution_count": 176,
     "metadata": {},
     "output_type": "execute_result"
    }
   ],
   "source": [
    "r.text"
   ]
  },
  {
   "cell_type": "markdown",
   "metadata": {},
   "source": [
    "Create and Run the Indexer - (runs the pipeline)\n",
    "\n",
    "The three components you have created thus far (data source, skillset, index) are inputs to an indexer. Creating the indexer on Azure Cognitive Search is the event that puts the entire pipeline into motion."
   ]
  },
  {
   "cell_type": "code",
   "execution_count": 177,
   "metadata": {},
   "outputs": [
    {
     "name": "stdout",
     "output_type": "stream",
     "text": [
      "201\n",
      "True\n"
     ]
    }
   ],
   "source": [
    "search_indexer_name = search_index_name + \"-indexer\"\n",
    "# Create an indexer\n",
    "indexer_payload = {\n",
    "    \"name\": search_indexer_name,\n",
    "    \"dataSourceName\": search_datasource_name,\n",
    "    \"targetIndexName\": search_index_name,\n",
    "    \"skillsetName\": skillset_name,\n",
    "    \"schedule\" : { \"interval\" : \"PT30M\"}, # How often do you want to check for new content in the data source\n",
    "    \"fieldMappings\": [\n",
    "        {\n",
    "          \"sourceFieldName\" : \"metadata_title\",\n",
    "          \"targetFieldName\" : \"title\"\n",
    "        },\n",
    "        {\n",
    "          \"sourceFieldName\" : \"metadata_storage_name\",\n",
    "          \"targetFieldName\" : \"name\"\n",
    "        },\n",
    "        {\n",
    "          \"sourceFieldName\" : \"metadata_storage_name\",\n",
    "          \"targetFieldName\" : \"filepath\"\n",
    "        },\n",
    "        {\n",
    "          \"sourceFieldName\" : \"id\",\n",
    "          \"targetFieldName\" : \"chunk_id\"\n",
    "        }\n",
    "    ],\n",
    "    \"outputFieldMappings\":[],\n",
    "    \"parameters\":\n",
    "    {\n",
    "        \"maxFailedItems\": -1,\n",
    "        \"maxFailedItemsPerBatch\": -1,\n",
    "        \"configuration\":\n",
    "        {\n",
    "            \"dataToExtract\": \"contentAndMetadata\",\n",
    "            \"imageAction\": \"generateNormalizedImages\"\n",
    "        }\n",
    "    }\n",
    "}\n",
    "\n",
    "r = requests.put(search_endpoint + \"/indexers/\" + search_indexer_name ,\n",
    "                 data=json.dumps(indexer_payload), headers=headers, params=params)\n",
    "print(r.status_code)\n",
    "print(r.ok)"
   ]
  },
  {
   "cell_type": "code",
   "execution_count": 140,
   "metadata": {},
   "outputs": [
    {
     "data": {
      "text/plain": [
       "'{\"error\":{\"code\":\"\",\"message\":\"This indexer refers to a skillset \\'elonmusk-wiki-skill\\' that doesn\\'t exist\"}}'"
      ]
     },
     "execution_count": 140,
     "metadata": {},
     "output_type": "execute_result"
    }
   ],
   "source": [
    "# Uncomment if you find an error\n",
    "r.text"
   ]
  },
  {
   "cell_type": "markdown",
   "metadata": {},
   "source": [
    "Note: If you get a 400 unauthorize error, make sure that you are using the Azure Search MANAGEMENT KEY, not the QUERY key"
   ]
  },
  {
   "cell_type": "code",
   "execution_count": 171,
   "metadata": {},
   "outputs": [
    {
     "name": "stdout",
     "output_type": "stream",
     "text": [
      "200\n",
      "Wait a few seconds until the process starts and run this cell again.\n"
     ]
    }
   ],
   "source": [
    "# Optionally, get indexer status to confirm that it's running\n",
    "try:\n",
    "    r = requests.get(search_endpoint + \"/indexers/\" + search_indexer_name +\n",
    "                     \"/status\", headers=headers, params=params)\n",
    "    # pprint(json.dumps(r.json(), indent=1))\n",
    "    print(r.status_code)\n",
    "    print(\"Status:\",r.json().get('lastResult').get('status'))\n",
    "    print(\"Items Processed:\",r.json().get('lastResult').get('itemsProcessed'))\n",
    "    print(r.ok)\n",
    "    \n",
    "except Exception as e:\n",
    "    print(\"Wait a few seconds until the process starts and run this cell again.\")"
   ]
  },
  {
   "cell_type": "markdown",
   "metadata": {},
   "source": [
    "When the indexer finishes running we will have all documents indexed in the AI Search Engine!."
   ]
  },
  {
   "cell_type": "code",
   "execution_count": 161,
   "metadata": {},
   "outputs": [
    {
     "name": "stdout",
     "output_type": "stream",
     "text": [
      "{'filepath': None, 'chunkVector': [-0.009935394, -0.0195259, 0.013424057, -0.008715025, -0.00033162197, 0.0018073397, -0.040802766, 0.014670955, -0.014339333, 0.006884472, 0.014418922, 0.02615834, 0.0045830156, 0.021528898, -0.010664962, -0.009013485, 0.03934363, -0.00090118265, 0.011036378, -0.00736864, -0.010844038, -0.0043077692, -0.022908445, 0.001721118, 0.0017111693, -0.009278783, 0.002100825, -0.03366626, 0.01957896, -0.003415706, 0.011600136, -0.018610625, -0.010452724, -0.008469624, -0.0072359913, 0.010068042, -0.0061814333, -0.011341471, 0.026728729, -0.020467708, 0.014206684, 0.04135989, 0.0032366302, -0.007832911, -0.024168609, 0.0036975848, -0.011494017, -0.0012941547, -0.00019596785, 0.012197056, 0.038919155, 0.024128813, -0.010989952, -0.006387039, -0.017549435, -0.020189146, -0.01517502, 0.020215675, 0.01620968, 0.019353457, 0.01960549, -0.013954652, -0.024221668, 0.009252253, -0.013477116, 0.016594363, -0.037964083, 0.020069761, -0.00026674842, 0.008144636, 0.034117267, 0.010247119, 0.00292988, -0.027352178, 0.026224663, -0.013523543, -0.018279003, 0.006857942, -0.008045149, 0.0063770902, 0.011328206, 0.019074894, 0.0018305532, 0.008151268, 0.014379128, 0.006765088, -0.0012444113, 0.008025251, -0.008270652, -0.010505783, -0.0135965, -0.0027972313, 0.009331842, 0.031968355, -0.019247338, 0.035443753, -0.0058896057, 0.008814512, -0.0149362525, -0.034143798, 0.008250754, -0.012362867, 0.00095009693, -0.018239208, -0.019433046, 0.007103342, 0.003999361, 0.028811315, 0.002326328, -0.003369279, 0.0017227761, 0.005766906, 0.010160897, -0.026290989, -0.0037705416, -0.021873785, 0.008648701, -0.0084629925, 0.009617037, -0.028625607, 0.042076193, 0.019791199, 0.0050074914, -0.027511358, 0.02012282, 0.022099286, -0.044251636, -0.018783068, 0.005378908, -0.00872829, 0.02928885, 0.005786803, -0.0044967937, -0.0037838065, 0.013344468, 0.037247777, -0.047727033, -0.003952934, -0.012502148, -0.036372297, 0.00405242, 0.0156127615, 0.0007001369, 0.0054386, -0.031862237, 0.04149254, 0.00026467576, 0.02237785, 0.022696206, 0.015626026, 0.019300397, -0.027086882, -0.0032217074, 0.006164852, -0.00031607717, 0.007083445, 0.0059857764, -0.008608906, -0.006572747, -0.013782209, -0.023651278, 0.007733424, 0.006678866, 0.016302535, 0.008595641, 0.028890904, 0.03915792, 0.014617896, 0.023226801, -0.006781669, -0.03403768, 0.010857303, -0.05022083, 0.013715884, 0.0038600797, 0.05128202, -0.010174162, 0.0112486165, -0.038839564, -0.013165392, -0.011368001, 0.0060620494, 0.020666681, 0.03939669, 0.012462353, 0.011673093, 0.02248397, -0.0037838065, 0.025654275, -0.016660687, 0.037592664, 0.022284996, -0.011945023, -0.006506423, -0.63628966, -0.03926404, -0.018411651, 0.029660268, -0.014909723, 0.03268466, 0.013861798, 0.008098208, -0.018040234, 0.027988894, -0.017297402, 0.0039297203, -0.009749685, -0.01421995, -0.011414427, 8.974519e-05, 0.0086155385, -0.013609765, 0.026980763, 0.009636934, -0.021104421, 0.037327368, -0.019870788, -0.012568472, -0.0008112302, 0.018013705, -0.0001665364, -0.021170747, -0.021727871, 0.0001463282, -0.013211818, 0.012329704, 0.006755139, 0.0055778814, 0.04456999, -0.02061362, -0.018451445, 0.017337196, 0.015029107, 0.02069321, -0.017801467, -0.016302535, 0.008986955, 0.0064301495, -0.0024341051, 0.014127095, 0.009192561, -0.0032880318, -0.01750964, -0.016474979, 0.009663464, 0.004851629, -0.016581098, -0.001750964, -0.0006018939, -0.0007784825, 0.032870367, -0.011958288, -0.0070900773, -0.0085359495, -0.023173742, 0.005312584, -0.025853248, 0.007839543, -0.016050503, 0.0284399, -0.008668598, 0.015679086, -0.0018023653, -0.017721877, 0.014604631, 0.040961944, -0.021130951, -0.0012112492, 0.01577194, 0.012966419, 0.027153205, -0.021515632, -0.0074283318, 0.0054286513, -0.0011275146, -0.023730867, -0.014949518, -0.0036577901, 0.022178877, 0.0019383304, -0.01626274, -0.008336976, 0.002732565, 0.002505404, 0.0066125416, 0.008555846, 0.0021555426, -0.024128813, 0.0013886669, 0.0062311767, 0.0004887279, -0.013941387, -0.0057735383, -0.026662406, 0.0064500473, 0.000588629, 0.04337615, 0.016634157, 0.022961505, 0.016474979, 0.0038302336, 0.0077864835, 0.0059559303, -0.03804367, -0.020454442, -0.0020577142, -0.0015063927, 0.0021256967, -0.018557565, -0.021091156, 0.0035417224, -0.0074216994, -0.014233215, 0.0021240385, 0.022656413, 0.0234921, 0.0026927702, -0.015453584, 0.009530815, 0.010505783, 0.00027089368, -0.026450166, -0.0294215, -0.005392173, -0.013530176, -0.016939249, 0.03714166, -0.002417524, 0.012349602, 0.0077400566, 0.013523543, -0.012913359, 0.0043707774, -0.0009882335, -0.017098429, -0.0083104465, 0.012468985, -0.008370138, -0.04244761, -0.037406955, -0.0042314962, 0.0022848754, -0.009537447, -0.006582696, -0.018172882, 0.013072537, -0.004397307, 0.03390503, 0.005876341, -0.003896558, -0.033692792, -0.019353457, -0.007998722, -0.0013787183, 0.0070967097, 0.026463432, -0.0217544, 0.0014840083, -0.002478874, 0.02343904, -0.005617676, 0.03048269, -0.023584954, -0.033454023, 0.0033626466, -0.01623621, 0.027020557, 0.009689993, -0.013795474, 0.023478834, -0.00978948, 0.011241985, -0.020467708, 0.003158699, 0.0068048825, 0.0079125, -0.003261502, -0.005441916, 0.033003017, 0.0061681685, 0.014087301, 0.0020742954, -0.0054717623, 0.007501289, -0.008880836, -0.004536588, 0.0077201594, -0.007627305, 0.0044006235, 0.014724015, -0.008118105, -0.0120776715, 0.0137291495, -0.0027856245, 0.02390331, 0.005756957, 0.001901852, -0.025296124, 0.009404799, -0.010054777, -0.009119604, 0.0034190223, -0.0033908344, -0.00096999423, 0.014724015, 0.01041293, -0.017496375, -0.022855386, 0.0048085186, 0.034939688, -0.010001718, 0.018239208, -0.038759973, 0.016620893, 0.010989952, -0.0076538348, -0.014697485, -0.017854527, -0.025442036, 0.018849391, 0.0053258487, 0.016276006, 0.01973814, -0.03621312, -0.0068181474, 0.0038269174, 0.007209461, 0.01223685, 0.03241936, 0.007222726, 0.033003017, -0.004062369, 0.03698248, -0.0121506285, -0.017708613, -0.008562479, 0.024022695, -0.004861578, 0.026543021, -0.0032714505, 0.0432435, 0.018212678, 0.008821144, -0.0018919032, -0.026436903, 0.010817508, -0.011885331, 0.003637893, 0.014020977, -0.010572108, 0.013888327, -0.009020117, 0.0021074575, 0.022550292, -0.0027541204, -0.005574565, -0.0063538766, 0.0027193, 0.0024672674, -0.016514773, -0.016846396, -0.001148241, -0.002054398, -0.0050207563, -0.006042152, -0.0038169688, 0.02071974, -0.027458299, 0.026741995, 0.007050283, 0.0080849435, 0.019592226, 0.021064626, 0.009112972, -0.025269592, -0.035470285, 0.012177158, 0.009212458, -0.010021616, -0.027431767, 0.005919452, 0.033347905, -0.014949518, -0.0029696745, -0.0015362387, 0.0044172043, -0.025601216, 0.0056541543, -0.009577242, -0.033109136, 0.02227173, -0.003966199, 0.006118425, -0.030058214, 0.017443314, 0.0049013724, -0.0050074914, 0.01473728, 0.03058881, -0.015970914, -0.021409513, -0.0007643886, -0.031119404, -0.006453363, 0.017191282, -0.009086441, 0.0044138883, -0.021648282, -0.008582376, 0.003637893, -0.0002348298, -0.024367582, 0.016382124, 0.006058733, -0.0022716103, -0.017708613, -0.033878498, -0.0016722038, 0.08409933, 0.029050084, 0.0032664763, 0.035629462, 0.0017443314, -0.015214816, -0.00015855675, -0.019340193, 0.022470703, -0.024712468, -0.0039363527, 0.01028028, -0.0021688077, -0.017761672, 0.04135989, -0.024341052, 0.018186148, 0.0028519488, 0.01245572, -0.033268314, -0.0013488723, -0.018822862, 0.020534031, 0.013662824, 0.006204647, -0.02928885, 0.025030825, 0.037486546, -0.0083834035, 0.002492139, 0.020520767, 0.0047819884, 0.025694069, 0.014631161, -0.014803604, 0.01114913, 0.014074036, 0.014193419, 0.02346557, 0.022258466, -0.005770222, -0.0076007755, -0.0029166152, -0.010048145, 0.00023172084, -0.027988894, -0.008595641, 0.043827157, -0.015373994, -0.024632879, 0.023797192, -0.008993587, -0.041757837, -0.0065495335, 0.0033328007, 0.014670955, 0.017337196, -0.008277284, -0.015148491, 0.010844038, -0.00921909, -0.024566555, -0.0049312185, -0.00087962725, 0.024805322, -0.011865433, 0.0025319336, -0.0013099067, -0.024301257, 0.011440958, 0.036425356, -0.018955512, -0.024778793, 0.0029431449, 0.03268466, -0.0065926444, 0.0072426237, -0.010897097, 0.0006230348, 0.02947456, -0.004997543, -0.028890904, -0.01114913, -0.051971793, 0.032180596, -0.006443415, 0.0038236012, -0.012714386, -0.0021406198, 0.02512368, 0.012813873, -0.0025833352, 0.0034488684, 0.009716523, -0.004234812, -0.004861578, 0.0013455561, 0.031172464, -0.0019433047, -0.0061515872, 0.017536169, -0.030296981, -0.027484829, -0.010698125, 8.430452e-05, -0.011679726, 0.0061084763, 0.0013090777, -0.0044802125, -0.01846471, 0.019260604, 0.004984278, 0.00010684445, -0.020029966, 0.0015818367, 0.013689354, 0.014511777, -0.0025236432, -0.0020643466, -0.0030243923, -0.021873785, -0.02678179, -0.0040391553, 0.019990172, 0.008734922, 0.011016482, -0.0047919373, -0.024447171, -0.037247777, 0.0057072137, -0.011958288, 0.0011747708, -0.0034555008, -0.024977766, 0.006390355, -0.023664543, -0.0023478835, -0.014962783, -0.0012245141, -0.0026678985, 0.007295683, 0.012283278, -0.011673093, 0.017416785, 0.021608487, -0.037911024, 0.0026662406, 0.009146133, 0.032021414, 0.0153872585, -0.006025571, 0.0054253354, -0.01892898, 0.018584095, 0.028758256, -0.04019258, -0.0070104883, 0.00043442476, 0.029686797, 0.013032743, 0.040908884, 0.012661327, 0.03937016, 0.015519908, 0.015944384, -0.01701884, 0.025216533, 0.01471075, -0.0070104883, -0.004158539, 0.003866712, 0.0040822662, 0.025256328, 0.009391534, 0.004636075, 0.01473728, 0.0070768124, -0.009040015, -0.017668817, -0.041200712, -0.03035004, 0.01724434, -0.017098429, -0.0035914658, -0.004967697, -0.019910581, 0.029156202, 0.044012867, 0.0063969875, 0.0030641868, 0.02934191, -0.020136084, 0.021701341, -0.0013538466, -0.012362867, -0.013689354, -0.0059227683, -0.034647863, -0.015652556, 0.0073487423, -0.006241125, 0.009888967, 0.02408902, 0.00026716295, 0.0107976105, 0.010897097, -0.028917436, 0.002145594, -0.0035483548, -0.044251636, -0.0028187865, -0.02390331, -0.01846471, -0.02727259, 0.015679086, 0.021329924, -0.013967916, 0.013636295, -0.0328969, -0.038759973, -0.0067717205, -0.016965779, 0.033109136, 0.018040234, 0.03679677, 0.04159866, 0.004835048, -0.01960549, 0.000936003, 0.006297501, 0.0066092256, 0.018305533, 0.028572548, -0.0033958089, 0.008124738, -0.005839863, 0.0081645325, -0.020414649, -0.035072338, 0.02183399, -0.007050283, 0.024672674, 0.0018620573, -0.033056077, -0.014074036, -0.0021240385, -0.012362867, -0.028519489, -0.0049444833, -0.03403768, -0.0026513175, -0.009782848, -0.004015942, 0.0026546337, 0.00027462444, 0.0058232816, -0.0020593724, -0.015440319, -0.002974649, -0.0016581098, -0.024725733, 0.04159866, -0.025879778, 0.011673093, -0.007899235, -0.021688076, 0.0023412511, -0.009835907, 0.0032880318, 0.02947456, -0.0054386, 0.009477756, 0.0052197296, -0.029235791, 0.017549435, -0.0077732187, -0.013271511, 0.003836866, -0.028174601, -0.0066689174, 0.027644007, 0.018477976, -0.0059227683, -0.02499103, 0.0043144017, -0.02162175, 0.022019697, 0.010824141, 0.0025402242, -0.02351863, 0.0015470164, 0.023558423, -0.03913139, -0.008827777, 0.009849172, 0.00078470045, -0.014047506, 0.0262114, -0.02118401, 0.009796113, 0.006904369, -0.00057163334, -0.004304453, 0.006930899, 0.017416785, -0.017376991, -0.0033659628, -0.005392173, -0.03594782, -0.02727259, -0.015373994, 0.008343608, -0.0030161017, 0.017204547, 0.0015155124, 0.007660467, -0.013311305, -0.0051666703, -0.019990172, 0.023173742, 0.01794738, 0.001118395, 0.023253331, -0.016435184, 0.024646144, -0.021674812, 0.017270872, 0.0075477157, -0.028121542, -0.014180155, 0.0033775696, 0.013284775, -0.004546537, -0.0038932418, -0.018292267, -0.012760813, -0.042686377, -0.013636295, 0.010373135, -0.007282418, 0.010233854, 0.015320934, 0.007501289, -0.013012846, -0.017178018, -0.018650418, -0.023266597, -0.021661546, -0.0151617555, -0.00561436, -0.008230857, 0.037380427, -0.0031454342, -0.007003856, -0.018663684, 0.02846643, -0.025190003, -0.02071974, 0.0030442895, 0.017231077, 0.038441617, 0.003518509, 0.01093026, -0.0034356036, -0.0046161776, -0.014949518, -0.012064407, 0.0020228939, 0.0043906746, -0.0042712907, 0.013238348, -0.0038401822, -0.022417644, -0.011739417, 0.014498512, -0.012210321, -0.00071547437, 0.03690289, -0.006844677, -0.0010288571, 0.001118395, -0.01057874, -0.004695767, 0.008986955, -0.019459577, -0.029925566, 0.02680832, 0.00299123, -0.006871207, -0.011295044, 0.003923088, 0.02577366, 0.0019167749, -0.0009559003, -0.0072558885, 0.0060786307, 0.0015428711, -0.0041187447, 0.037884492, 0.014339333, -0.005269473, 0.030323511, 0.01204451, -0.016276006, -0.00598246, 0.013954652, 0.016647423, -0.014379128, 0.015692351, -0.016700482, 0.03151735, 0.013158759, 0.023558423, -0.029686797, -0.0066357553, -0.030376572, -0.0013339493, -0.027458299, 0.01362303, 0.0249645, -0.019353457, 0.010333341, -0.011195557, 0.009212458, -0.010339973, -0.029739857, -0.0012974709, -0.018477976, -0.026317518, 0.0061582197, 0.00818443, -0.028917436, 0.0016108537, 0.0013836926, 0.0011954971, 0.010976687, 0.19653244, -0.02395637, -0.00892063, 0.03183571, 0.0050937133, -0.016872926, 0.05361664, 0.0009310286, -0.008721657, 0.013118965, -0.0033792278, 0.038362026, -0.028386839, -3.8311405e-06, 0.0033427493, -0.010200691, -0.024632879, -0.036292706, -0.012270012, -0.015957648, 0.0032697925, -0.0025501729, 0.008449728, -0.004954432, 0.020892182, -0.0074084345, -0.004029207, -0.009311944, 0.006304133, 0.017788202, -0.041068062, 0.01199145, 0.0013770602, 0.008933895, -0.02944803, -0.010956789, 0.009079809, 0.01908816, 0.040829297, 0.009252253, 0.014869928, -0.013609765, -0.0048449966, 0.023624748, 0.0034986117, 0.0015146832, 0.00086470426, -0.038919155, -0.0057370597, 0.023677807, -0.018663684, 0.00057453505, 0.018159619, 0.01579847, -0.0050506024, -0.009099706, -0.007846176, 0.016090298, 0.0046626045, 0.007534451, -0.0036478415, 0.028599078, -0.017735142, 0.018915717, -0.013609765, 0.024447171, -0.023996165, 0.024168609, -0.012939889, -0.018186148, -1.2192936e-06, -0.032074474, -0.025481831, 0.01914122, -0.004732245, -0.02836031, 0.033507083, 0.04247414, 0.0024390796, 0.041625187, -0.0034621332, -0.013563338, 0.012409294, -0.019446312, 0.0050406535, -0.027988894, 0.030376572, 0.0055646165, -0.0033328007, 0.00845636, -0.01784126, -0.0057038977, 0.0051467726, -0.008098208, 0.008197695, -0.022019697, 0.031119404, 0.0018852708, -0.02061362, -0.0067120283, -0.028652137, 0.023704337, 0.01416689, 0.022855386, 0.0015834948, -0.000792991, -0.016939249, 0.034541745, -0.015480113, -0.012163893, -0.0027242743, -0.025243063, 0.00026198136, -0.0067120283, 0.0028005475, 0.0070171207, -0.016382124, -0.0049477997, 0.008078311, -0.020003436, 0.0012046167, -0.026290989, 0.008648701, -0.025667539, -0.002220209, -0.028095013, -0.033162195, -0.012177158, -0.027047087, -0.038839564, 0.01228991, -0.0055546677, 0.0050472864, 0.023478834, -0.01424648, -0.00018550103, 0.032817308, -0.023744132, 0.021197276, -0.0014898117, -0.02623793, -0.0021406198, 0.003909823, -0.01364956, 0.0064898417, -0.020733004, 0.018889187, 0.007879337, -0.0074946564, 0.004158539, -0.04135989, 0.0015047346, -0.003218391, -0.010731286, 0.013676089, 0.02822766, -0.006897737, -0.007567613, -0.026344048, 0.013822003, -0.026317518, 0.014392393, -0.017708613, -0.013563338, -0.009185928, -0.01424648, -0.16830477, 0.0045830156, 0.02833378, -0.02387678, 0.024102284, 0.010034881, 0.024898177, -0.0076670996, -0.014962783, -0.014392393, 0.013251614, -0.01011447, -0.012309807, -0.027405238, -0.0079125, 0.0040424718, -0.013450586, 0.020679945, 0.0067153447, -0.020626886, 0.026635876, -0.031066345, -0.0030890584, -0.007448229, 0.004168488, 0.013185289, -0.005213097, 0.028784785, -0.009086441, -0.020189146, -0.02455329, -0.015320934, 0.0383355, -0.0153076695, 0.0054286513, -0.00017575963, 0.00034219242, -0.0054352838, -0.03687636, 0.020335058, 0.030429631, 0.04250067, 0.025853248, 0.009610404, -0.02286865, 0.010724654, 0.019512637, -0.021581957, -0.0055115568, -0.023253331, -0.009643567, -0.0084629925, -0.015944384, 0.007594143, -0.0013812054, 0.014670955, 0.024805322, 0.0073155803, 0.008608906, -0.0011043011, -0.008476257, -0.012760813, -0.00946449, -0.03915792, 0.002007971, -0.019950377, -0.028917436, 0.0036776876, -0.032260183, 0.019592226, -0.016514773, 0.010519048, 0.0049511157, -0.009709891, 0.008197695, -0.008661966, -0.034170326, -0.005919452, -0.015639292, 0.006466628, 0.00625439, 0.023836987, 0.0019151168, 7.3682255e-05, 0.012316439, -0.004602913, 0.014551572, 0.022643147, 0.005216413, -0.01517502, 0.011235352, -0.015320934, -0.018769803, -0.035204988, 0.0006246929, -0.00036519868, 0.0067153447, 0.020945244, 7.420041e-05, -0.009888967, 0.02162175, 0.0023014564, -0.0069574285, -0.025309388, 0.03056228, 0.02955415, -0.013954652, 0.01421995, 0.032127537, 0.0024125497, -0.012913359, -0.017735142, 0.01299958, 0.0003032268, -0.010830773, -0.01644845, -0.0013662825, -0.019671815, 0.018146353, 0.0035118766, 0.03472745, 0.015864795, -0.009112972, 0.018146353, -0.010651697, -0.025163474, -0.08149941, -0.03472745, 0.01228991, 0.030668398, 0.0052097808, 0.03058881, -0.007156402, 0.028201131, -0.028997025, 0.03165, -0.009537447, -0.03809673, 2.2734239e-05, 0.0063936715, 0.02849296, -0.025667539, 0.018862657, -0.028068483, -0.04462305, 0.016567834, 0.015506643, -0.020255469, 0.00065826956, -0.0062311767, -0.003611363, -0.0023843618, -0.04024564, 0.021250335, 0.013145494, -0.011520547, -0.009563977, -0.005843179, -0.013059272, -0.031862237, -0.0012153945, -0.024314523, -0.00435088, -0.03915792, 0.003986096, -0.023213537, -0.013676089, 0.026688935, 0.030668398, -0.015599497, -0.014127095, -0.036955953, -0.018756539, 0.01577194, -0.0064069363, -0.012933256, -0.013185289, 0.00058241107, -0.010784346, -0.006118425, 0.01362303, 0.0217544, 0.006373774, 0.0111226, 0.019937113, -0.021661546, -0.0022119184, 0.005518189, -0.007434964, 0.0073222127, 0.013185289, -0.0067418744, -0.016554568, -0.012475618, -0.009040015, -0.029050084, 0.008078311, 0.018769803, -0.019393252, 0.00019348068, -0.02836031, -0.0060521006, 0.006436782, -0.00078470045, 0.01471075, 0.0077135265, 0.011646563, -0.01280724, -0.0058995546, -0.0023611484, 0.012389396, 0.012203688, -0.020534031, 0.012634796, 0.0042712907, -0.033692792, 0.027007293, 0.007156402, 0.0038236012, -0.021714605, -0.00066946185, 0.011911861, -0.011500649, 0.012210321, 0.02406249, 0.023770662, -0.018066764, 0.003803704, -0.06924266, 0.047594383, 0.009152766, 0.00016643277, -0.019419782, 0.014538307, 0.015864795, -0.022643147, -0.01093026, 0.046029128, -0.031862237, -0.008071679, -0.0076206727, -0.0153872585, -0.037672255, 0.013609765, 0.0056740516, -0.0095175505, 0.0064135687, 0.018292267, 0.0074813915, 0.0057005812, -0.0020179197, -0.0035980982, -0.0045432206, 0.024287991, -0.020401383, 0.018504506, -0.01288683, -0.032047946, 0.012495515, -0.015480113, -0.019472841, -0.0004068587, -0.017960645, -0.0079390295, 0.01620968, 0.014233215, 0.012847034, 0.053165633, -0.003564936, -0.01784126, -0.0011814032, -0.006672234, -0.015042372, 0.0045995964, -0.018398385, 0.021329924, 0.024884911, 0.018146353, 0.026078751, 0.007534451, -0.057463452, -0.0014931279, 0.0072691534, 0.0017493059, 0.011566974, 0.024884911, 0.028201131, 0.014777075, 0.018371856, 0.029978625, 0.028599078, -0.024102284, 0.0031222207, -0.00078635855, -0.002117406, -0.015015842, 0.01802697, 0.007401802, -0.011076174, -0.022338055, 0.011142498, 0.014392393, 0.014631161, -0.008224225, -0.0020643466, 0.02082586, -0.023120683, 0.003276425, 0.014564836, -0.0042314962, -0.004914637, 0.0018288951, 0.0024291307, 0.03056228, -0.003352698, 0.010300178, 0.0017575964, -0.016819866, -0.015997443, -0.011314942, -0.0284399, 0.013822003, 0.030270452, -0.0034820305, -0.008396668, 0.028864374, 0.019260604, 0.002100825, 0.016501509, -0.012873564, 0.00010839893, -0.0153076695, -0.03488663, 0.008290549, -0.011215455, -0.01171952, -0.0018869289, 0.012541942, 0.0012866932, 0.018371856, -0.006721977, -0.005136824, -0.033984616, 0.025495095, 0.007275786, -0.0058697085, -0.030694928, 0.043057796, 0.03817632, 0.008589009, 0.026741995, -0.010154264, 0.021130951, 0.0110960705, 0.0065661147, -0.02058709, 0.011062909, -0.011029746, -0.0038302336, -0.011586871, 0.0014674271, 0.010366502, -0.022152347, -0.008330343, -0.015519908, 0.023611484, -0.0039164554, 0.0633, 0.031968355, -0.025110414, -0.0033129035, -0.01724434, 0.0069574285, 0.0061383224, 0.0058896057, -0.021608487, -0.009676728, 0.005103662, -0.017085163, 0.015944384, -0.013158759, 0.013046008, 0.009013485, 0.007401802, 0.026609346, -0.0023827038, -0.0053988053, 0.028095013, 0.008781349, 0.004997543, 0.0061714845, -0.012323072, -0.013099067, 0.017138222, -0.023120683, 0.0005873854, -0.024831852, 0.002870188, 0.027139941, -0.018013705, -0.022616617, 0.0153076695, 0.00067733787, -2.146475e-05, -0.027856244, 0.022961505, -0.014525042, -0.006721977, 0.010844038, -0.0057503246, -0.026795054, -0.011089439, -0.017708613, -0.00682478, -0.01476381, 0.0023412511], 'name': 'Elon_Musk.pdf', 'chunk': 'https://slate.com/technology/2022/10/longtermism-debate-william-macaskill-elon-musk-robert-wright.html\\nhttps://web.archive.org/web/20221224062330/https://slate.com/technology/2022/10/longtermism-debate-william-macaskill-elon-musk-robert-wright.html\\nhttps://web.archive.org/web/20221224062330/https://slate.com/technology/2022/10/longtermism-debate-william-macaskill-elon-musk-robert-wright.html\\nhttps://www.theguardian.com/technology/2014/oct/27/elon-musk-artificial-intelligence-ai-biggest-existential-threat\\nhttps://www.theguardian.com/technology/2014/oct/27/elon-musk-artificial-intelligence-ai-biggest-existential-threat\\nhttps://www.theguardian.com/technology/2014/oct/27/elon-musk-artificial-intelligence-ai-biggest-existential-threat\\nhttps://web.archive.org/web/20151030054330/http://www.theguardian.com/technology/2014/oct/27/elon-musk-artificial-intelligence-ai-biggest-existential-threat', 'ParentKey': 'aHR0cHM6Ly82d2hxand0YWVvZ2Npc2EuYmxvYi5jb3JlLndpbmRvd3MubmV0L2Vsb25tdXNrLXdpa2kvRWxvbl9NdXNrLnBkZg2', 'title': 'Elon Musk - Wikipedia', 'id': 'c75748b74652_aHR0cHM6Ly82d2hxand0YWVvZ2Npc2EuYmxvYi5jb3JlLndpbmRvd3MubmV0L2Vsb25tdXNrLXdpa2kvRWxvbl9NdXNrLnBkZg2_chunks_582', '@search.score': 1.0158291, '@search.reranker_score': None, '@search.highlights': None, '@search.captions': None})\n",
      "{'filepath': None, 'chunkVector': [-0.007057843, -0.018472055, 0.017543219, -0.014207261, -0.003018716, 0.0055403085, -0.024267467, -0.0071821236, -0.027053973, -0.014939863, 0.019178493, 0.01724233, -0.013513904, -0.014743631, -0.016169589, -0.012493493, 0.026334453, -0.027341781, 0.033673562, -0.020604452, 0.008980925, 0.0025968151, -0.008483802, -0.003610685, -0.01128339, -0.0053865924, 0.012755137, -0.008464178, 0.008693117, -0.022815343, 0.008496883, -0.0032852655, 0.010557329, 0.0050333734, -0.0109432535, -0.006750411, 0.007554966, -0.04188918, 0.017438563, -0.011034829, 0.0018020719, 0.02583733, -0.0050693494, 0.004755377, -0.033045616, 0.0046768836, 0.00865387, -0.005108596, 0.023207808, 0.034693975, 0.024450617, 0.010223733, -0.0033588528, -0.009059418, 0.00029945956, -0.028257534, -0.025968151, 0.022959247, -0.007829692, -0.0026671318, 0.012859794, -0.009275274, -0.014599727, 0.0076530823, -0.026726918, -0.0033212416, -0.011623528, -0.01551548, -0.011440377, -0.009340685, 0.038304657, 0.03621151, -0.015855616, -0.033804383, 0.04678192, -0.004366182, -0.009360309, 0.0013482834, -0.023181645, -0.026844658, 0.020225069, -0.006809281, -0.0023924059, 0.012493493, 0.013409247, 0.030821644, -0.004572226, 0.015149178, -0.014429658, 0.010262979, -0.022069657, 0.023744179, 0.0061976886, 0.035740547, -0.010740479, 0.03121411, -0.011263767, 0.02650452, -0.009713528, -0.029173288, 0.0038984932, -0.00071175303, -0.0033555822, -0.0039246576, -0.03880178, 0.0124477055, 0.0023302655, -0.007718493, 0.01128339, 0.007097089, -0.00063080696, 0.0044315928, -0.0047357534, -0.038749453, 0.017935686, -0.0011814855, 0.02380959, -0.017935686, -0.019139247, -0.038827945, 0.03186822, 0.0158687, -0.017360069, -0.027420275, 0.02226589, 0.01331113, -0.0017644607, 0.0150837675, 0.029330274, 0.016876027, 0.04947685, 0.0025657448, 0.0043792636, -0.011590823, 0.0038265411, 0.032810137, -0.02345637, 0.005376781, -0.027132466, -0.048534933, 0.015018356, 0.0063121575, -0.017647877, 0.0035223803, -0.021232398, 0.04215082, -0.0066882707, 0.004405428, 0.012657021, -0.0024316525, 0.011126405, 0.007123254, 0.013461576, 0.0042157364, 0.0043171234, 0.013239179, -0.0036499316, 0.018406644, 0.004804435, 0.0027603426, -0.00358125, 0.014625891, -0.0025641096, 0.0021765498, -0.015502398, 0.024267467, 0.04403466, -0.0021716438, -0.0028682705, -0.019309316, -0.027865069, 0.015973356, -0.038095344, 0.0036630137, 0.011662774, 0.039429728, 0.009478048, 0.011178733, -0.042883426, 0.002513416, -0.018550549, 0.020225069, 0.016025685, 0.02399274, 0.017909521, 0.01259161, 0.017333904, -0.026923152, 0.025811166, 0.00728024, 0.043014247, 0.007973596, -0.015345411, -0.0390111, -0.627108, -0.030167535, -0.0014038828, 0.034353837, 0.0060210787, 0.02231822, 0.004804435, 0.003676096, -0.023953494, 0.021978082, -0.018720618, 0.006737329, -0.022867672, -0.023940412, -0.03317644, -0.012002911, -0.01301024, -0.03914192, 0.050758906, 0.0016843323, -0.011329179, 0.03369973, 0.0015543279, -0.019806439, 0.0063808393, -0.004068562, 0.0013818066, -0.018053425, -0.012500035, 0.023090068, -0.0043792636, 0.005442192, 0.0043432876, 0.026007397, 0.039351232, -0.014416575, -0.0007665347, 0.018668288, -0.007496096, 0.030847808, -0.008156747, -0.0021651029, 0.0058346577, -0.0002099283, 0.00531137, 0.008431473, 0.014573562, 0.0023858647, -0.009085583, -0.022344384, 0.021912672, 0.017517054, -0.00090430654, 0.022226645, -0.0011773973, 0.008261404, 0.014691302, -0.017033014, -0.016627466, -0.013219555, -0.009818185, 0.0124477055, -0.032888632, 0.0073129456, -0.014521233, 0.007496096, -0.02757726, 0.003967175, 0.004971233, 0.0056286133, -0.0033882877, 0.028022055, 0.0061551714, -0.0035910618, 0.013108357, 0.0032116782, 0.030978631, -0.014481987, -0.013814795, 0.02345637, -0.037572056, -0.013422329, -0.009432261, -0.012571987, 0.022213561, 0.009150993, -0.031842057, 0.0072998633, 0.017543219, -0.0065378253, 0.011414212, 0.016012603, -0.0027194608, -0.0019786817, -0.031842057, 0.0063546747, -0.0044544865, 0.0010285873, 0.0034406164, -0.010073287, 0.012172979, 0.0011160745, 0.013154144, 0.0044152397, 0.003264007, 0.008745445, -0.0045983903, -0.0011634975, 0.035845205, -0.013029863, -0.012421541, 0.00632524, 0.0095696235, -0.0024839812, 0.0038330823, -0.029251782, 0.014534315, 0.01306911, 0.0035289214, -0.02524863, 0.012526199, 0.011460001, 0.007711952, -0.016692877, 0.0008151841, 0.011231062, -0.004094726, -0.012061781, -0.032940958, -0.018040342, 0.014351165, 0.007293322, 0.031240275, -0.008523048, 0.004493733, 0.027655754, 0.010845137, -0.015502398, 0.01163661, -0.0021879966, -0.004232089, 0.010544247, 0.02315548, 0.0125392815, 0.004045668, -0.013749383, -0.009706986, 0.00182006, -0.0158687, 0.012153356, 0.0006410274, -0.011198357, 0.011780514, 0.004111079, 0.00531137, 0.0022370548, -0.018772945, -0.0026589555, 0.000504482, -0.019963425, 0.013984864, 0.025798082, -0.032496165, 0.009877055, 0.021520207, -0.0009966996, 0.008274486, 0.0059295036, -0.013474658, -0.010020959, -0.005867363, 0.00046441783, 0.0069401027, -0.0088631855, -0.007430685, -0.032574657, 0.0002831068, -0.0076727057, -0.0045035444, 0.014089521, 0.009406096, 0.024921576, -0.045028906, 0.0069204797, 0.039429728, 0.013003699, 0.0037611302, 0.03377822, -0.006642483, 0.020931507, -0.020735275, 0.0118720895, 0.02238363, 0.014011027, -0.016261164, -0.0052067125, -0.0055108736, -0.011479624, 0.00044970034, -0.0034275344, 0.020735275, 0.0046638013, 0.03134493, -0.03354274, 0.00794089, -7.721559e-05, -0.004552603, -0.003079221, 0.02106233, -0.010930171, 0.020604452, -0.008568835, -0.029330274, -0.018145, -0.021114659, 0.020630617, -0.003079221, -0.003473322, -0.016692877, 0.023076987, 0.007646541, -0.005321182, -0.00919024, 0.0011594093, -0.03963904, -0.0029925515, 2.3903107e-05, 0.00769887, 0.039534383, -0.0032591012, 0.0075876713, 0.018720618, 0.0043727225, 0.020617535, 0.012303801, -0.011688938, 0.0107012335, 0.00028535532, -0.002434923, -0.03131877, 0.0050104796, 0.010020959, 0.01819733, 0.011479624, -0.0003268504, -0.011368425, 0.02524863, 0.015332329, 0.0011242509, -0.011414212, -0.027603425, 0.022462124, -0.017438563, -0.008052089, 0.0033326885, -0.050706577, -0.006037432, 0.013461576, 0.03568822, 0.023168562, 0.03383055, -0.010289144, 0.0006083219, -0.006498579, 0.0012370847, 0.0057692467, -0.0023319006, 0.011191815, 0.010295685, -0.019741029, -0.031083288, -0.021036165, 0.0072475346, -0.015463151, 0.012689726, -0.0001016936, 0.011702021, 0.00924911, 0.03759822, 0.006828904, -0.024149727, -0.028859315, -0.003496216, 0.011852466, 0.00764, -0.015136097, -0.016784452, 0.032940958, -0.03927274, 0.008431473, -0.015227672, 0.024385206, -0.03969137, 0.013284966, -0.02208274, -0.02638678, 0.024738425, -0.016810616, -0.012035617, -0.02106233, 0.0033752054, 0.0060505136, -0.0046474487, 0.019675616, 0.018733699, -0.014468905, 0.0185113, -0.017268494, 0.010505, 0.0054291096, 0.0043759933, 0.0065803425, 0.0025935445, -0.011787055, -0.01665363, 0.00966774, -0.010897466, -0.0067831166, 0.019309316, 0.013736302, 0.019427055, -0.001184756, -0.025078563, -0.013657808, 0.09246493, 0.028676165, 0.015149178, 0.019047672, 0.016915275, -0.025745753, -0.013513904, -0.041156575, -0.00042312715, -0.010590035, -0.00919024, 0.009203322, -0.016156508, 0.0032607364, 0.03717959, -0.0158687, 0.0072671575, -0.013337295, -0.001049846, -0.016391987, 0.0062630996, -0.008012842, -0.014822124, 0.039298903, 0.0153061645, -0.0061028427, 0.00029455373, 0.04911055, 0.012630857, -0.010969418, 0.009438802, 0.00788202, 0.024162808, -0.0014570291, -0.025327124, -0.00728024, 0.012192603, 0.015541644, 0.003265642, 0.0026883904, 0.0117608905, -0.001700685, -0.014547397, 0.0043825344, 0.0072671575, -0.025523357, -0.00044356807, 0.031371098, -0.010472295, 0.008156747, 0.014246508, -0.0048404112, -0.053558495, -0.022540618, -0.012277638, 0.00841185, 0.004003151, -0.015463151, -0.026818493, 0.017281575, 0.002871541, -0.015123014, -0.0069073974, -0.013474658, -0.006998973, 0.0034471576, -0.013396164, -0.00022668985, -0.01247387, 0.014063356, 0.03443233, -0.028623836, -0.031135617, 0.02781274, 0.045683015, 0.014691302, 0.00026900257, -0.011904795, 0.0064724144, 0.026465274, 0.0039050344, -0.025170138, -0.0027897775, -0.023587191, -0.0014692937, 0.006959726, -0.02119315, 0.017203083, 0.0054879794, -0.023351712, 0.018655205, 0.0064495206, 0.00028126713, -0.0022713956, 0.0044839215, 0.028571507, -0.023482535, 0.019440137, 0.0042157364, 0.029618083, 0.005576284, -0.011747808, -0.026465274, 0.00066392124, -0.008320274, -0.009994795, 0.010518082, 0.004660531, 0.0035485446, -0.0021291268, 0.010688151, -0.026870823, -0.009536918, 0.012441165, -0.01677137, 0.00829411, 0.01044613, 0.004094726, -0.009445342, -0.0020604453, -0.017817946, -0.034589317, 0.001748108, 0.01856363, -0.005245959, 0.028388357, -0.043825343, -0.00930798, -0.023247056, 0.01950555, -0.0089024315, 0.014233425, 0.01838048, -0.00901363, -0.01725541, -0.025654178, 0.0009517295, 0.004588579, 0.008575377, 0.0018086131, -0.0047095893, -0.001862577, -0.005216524, -0.0017988014, 0.0029680224, -0.035191096, 0.0023825942, 0.02082685, -0.00055517553, 0.020539042, 0.02070911, 0.016143424, -0.0108320555, 0.0037186132, 0.016104179, -0.03176356, -0.0016001156, 0.0026507792, 0.024045069, 0.010191028, 0.048116304, 0.013958699, -0.0073783565, 0.0033097947, 0.013749383, 0.004160137, 0.018105755, 0.011047911, -0.014795959, 0.012290719, 0.012087946, 0.01700685, 0.017019931, 0.0107012335, -0.016365822, 0.012794384, -0.0041208905, 0.00769887, -0.018838357, -0.018236576, -0.018576713, -0.009942466, -0.010655445, 0.0056482363, -0.010315308, -0.02674, 0.023168562, -0.004166678, 0.011950582, -0.00423536, 0.005579555, -0.015554726, 0.031606577, 0.008300651, -0.0067700343, -0.026295206, 0.0133569185, -0.015109932, 0.002416935, 0.015044521, -0.003777483, 0.00674387, 0.010236816, 0.016719041, -0.0117412675, 0.02662226, -0.015358494, -0.023718014, -0.008104418, -0.04649411, -0.0067896578, -0.0055697435, 0.0028012244, 0.0027668837, 0.0056678597, 0.0037316952, 0.00030068602, 0.0014374058, -0.028100548, -0.034039862, -0.0050366437, -0.009654658, 0.02883315, 0.019806439, 0.033464245, 0.03032452, 0.015031438, -0.01951863, 0.007424144, -0.0049973973, -0.0025820977, 0.029356439, 0.014102603, -0.014259589, -0.012107569, -0.0013262072, 0.0037578596, 0.0016941439, -0.017163835, 0.037205756, 0.0062925345, 0.018524384, 0.009092123, -0.03139726, -0.008791233, 0.006796199, -0.008634247, -0.0122056855, 0.004552603, -0.031083288, -0.037990686, 0.03652548, 0.006469144, 0.0057954113, -0.011747808, -0.017713288, 0.017098425, -0.0107012335, -0.0028159418, -0.0068485276, -0.02131089, 0.027603425, -0.022370549, 0.023652604, 0.000981982, -0.009373391, 0.005860822, -0.010105994, 0.018851439, 0.011244144, -0.014233425, 0.009759315, 0.014939863, 0.0063775685, 0.015070685, 0.013840959, -0.02189959, -0.011244144, -0.03903726, -0.023495616, 0.004006421, 0.008366061, -0.005108596, -0.015201507, -0.008222158, -0.010066747, -0.0010997218, 0.0045493324, 0.015777124, -0.011826302, -0.01169548, -0.01240846, -0.020473631, -0.028152877, 0.0032607364, 0.0131345205, -0.0046409075, 0.033150274, -0.023561029, 0.029984385, -0.007483014, 0.028309863, -0.014325, -0.0026507792, 0.00024876607, -0.0040849145, 0.005118408, -0.022488289, -0.048011646, -0.003378476, -0.012709349, 0.007868938, 0.020395137, -0.0041928426, -0.004457757, 0.008222158, -0.0024267465, -0.026295206, 0.0018674829, 0.045578357, 0.0065803425, 0.0100340415, 0.024345959, -0.020120412, -0.0089940075, -0.009615411, 0.020525958, 0.010707774, -0.026648425, -0.015907945, 0.013958699, 0.0049614212, 0.004958151, -0.0109825, -0.02995822, 0.0002849465, -0.028754659, -0.002513416, 0.021454794, 0.0017333905, 0.004254983, 0.03950822, 0.035635892, -0.0051478427, 0.00919024, -0.026452193, -0.02136322, -0.02238363, -0.0125392815, -0.021637946, -0.0024267465, 0.037284248, -0.0034111815, -0.004624555, -0.008025925, 0.024843082, -0.01725541, 0.014782877, -0.010204109, 0.031972878, 0.022671439, 0.005546849, 0.0070447605, 0.0107012335, 0.009137911, 0.010066747, 0.014717466, -0.014586644, 0.008143664, -0.014325, 0.007986678, 0.013095275, -0.03150192, 0.007868938, 0.0005465903, 0.020028835, -0.0005903339, 0.03498178, -0.014874453, -0.008241781, 0.010485377, -0.0013008604, -0.016575137, -0.00039185255, 0.017700206, -0.028519178, -0.0041634077, 0.0025444864, 0.018929932, -0.035740547, 0.012846713, 0.0011234332, 0.0063219694, -0.015659384, -0.026609179, -0.0043759933, -0.0073194862, -0.019427055, 0.024267467, 0.020198904, -0.012415, 0.024319796, -0.0029745635, -0.0027668837, -0.010531165, 0.0048796576, -0.0072671575, 0.00022239727, 0.03252233, -0.010590035, 0.038200002, 0.023090068, 0.017713288, -0.0030628683, -0.02189959, -0.006737329, -0.0034765925, -0.01444274, 0.010727397, 0.010845137, -0.022723768, -2.5471309e-06, -0.0206437, 0.011669315, -0.033150274, -0.023233972, 0.0037807536, -0.009438802, -0.035191096, -0.018589795, -0.006531284, -0.034772467, -0.00081845466, -0.0037284247, 0.005455274, 0.0010735574, 0.20293096, -0.044374794, 0.010661987, 0.021794932, -0.017896438, -0.0027014727, 0.026596097, 0.0044806506, -0.0034406164, -0.0026246149, -0.021938836, -0.004071832, -0.026282124, -0.0031380907, -0.01062274, -0.01940089, -0.021755686, -0.04379918, -0.051543836, -0.034720138, -0.0063775685, 0.0037611302, -0.0046638013, -0.0012984076, 0.0017055908, 0.0057954113, -0.016666712, 0.013775548, 0.013513904, 0.006462603, -0.037676714, 0.006822363, -0.004977774, -0.005425839, -0.0050170207, -0.010249898, 0.013337295, 0.020735275, 0.03388288, -0.002351524, 0.007777363, -0.013448494, -0.011898254, 0.0028666353, 0.0034765925, 0.012042157, -0.0011422388, -0.012395377, -0.0029255052, 0.033019453, -0.018301986, -0.0026720378, 0.026609179, 0.0347463, 0.008555753, -0.011139487, 0.013500822, 0.02906863, -0.004856764, 0.0053015584, 0.00063693925, 0.02226589, -0.019845685, 0.017464727, -0.029199453, 0.022867672, 0.004824058, 0.013971781, 0.0028600942, 0.00069335615, -0.004124161, -0.019243905, -0.005713647, -0.0024136645, -0.0074568493, -0.03252233, 0.031658906, 0.02650452, 0.012931746, 0.03670863, 0.011119863, 0.012061781, 0.0015420634, -0.0034177226, 0.012244931, -0.028780822, 0.018118836, 0.017660959, 0.010105994, -0.022579864, -0.0050758906, -0.034641646, -0.01713767, -0.005932774, -0.0060603255, -0.016470479, 0.02213507, -0.003288536, -0.016562056, -0.008032466, -0.02494774, 0.0145081505, 0.014455822, 0.023940412, -0.019270068, -0.03427534, 0.014390411, 0.027263287, -0.016378904, -0.025667261, 0.012192603, -0.019060753, 0.023613356, -0.005000668, 0.013710137, 0.0052950173, -0.031083288, -0.027106302, 0.023731096, -0.01635274, -0.0017219435, -0.044845756, 0.006099572, -0.02762959, -0.004173219, 0.00459512, -0.033019453, 0.0056613185, -0.0056024487, -0.041993838, 0.034824796, 0.0011814855, 0.009118288, 0.0147305485, -0.008078254, -0.0069008563, 0.024084315, -0.0012403553, 0.023770344, -0.024594521, 0.012074864, -0.015528562, 0.0052623115, 0.0026098974, 0.01588178, 0.0043302057, 0.043903835, 0.0061322777, 0.0001104832, -0.0013801713, -0.037886027, -0.0034994865, 0.01945322, -0.017974932, 0.012087946, 0.022357466, -0.013840959, -0.033490412, -0.030690823, 0.032025207, -0.053584658, -0.0066163186, -0.008856644, -0.02357411, -0.012362671, -0.0053506168, -0.16399837, 0.012931746, 0.005059538, 0.00018468375, 0.02632137, 0.023783425, 0.020290479, -0.023731096, -0.006815822, -0.017870273, 0.007450308, -0.012905583, -0.015253836, -0.039900687, -0.017739452, 0.0052263355, -0.02739411, 0.020957671, 0.001351554, 0.0030481508, 0.037859865, -0.03359507, 0.0072540753, -0.0037284247, -0.0006393921, -0.012709349, -0.020355891, -0.019531712, -0.004101267, -0.015489316, -0.014246508, -0.009033253, 0.033568904, 0.0019149058, -0.003574709, 0.020355891, 0.00871274, 0.00041454195, -0.026465274, 0.05068041, -0.00015003639, 0.022108905, 0.018694453, 0.020931507, -0.016391987, -0.007450308, 0.012074864, -0.015593973, -0.0037382364, 0.011649692, 0.0063154283, -0.00423536, -0.016679795, -0.0015477869, 0.0066457535, -0.0034929453, 0.029775068, 0.0011258861, 0.019427055, 0.003097209, -0.02762959, -0.01950555, 0.018537465, -0.015659384, -0.024345959, -0.001608292, -0.016274247, 0.023168562, -0.044139314, 0.0025820977, -0.004333476, 0.0010433048, 0.015371576, -0.0336474, 0.018472055, -0.007345651, -0.03694411, 0.008313733, -0.0119375, 0.002344983, -0.009360309, 0.036028355, -0.002529769, -0.014795959, -0.00501375, 0.007908185, -0.0009394649, 0.029644247, 0.016535891, 0.0074764728, -0.004320394, -0.016797535, 0.0034242638, -0.017477809, 0.016509727, -0.013683973, 0.03759822, 0.0133569185, -0.0030988443, 0.0035518152, -0.0065182024, 0.0020146575, -0.014141849, -0.018733699, 0.028545342, 0.0073718154, 0.008928596, 0.0045918496, 0.035348084, -0.0031707962, -0.02590274, 0.014338083, 0.012297261, 0.026949316, -0.008634247, 0.00013102633, 0.019649452, -0.011800137, 0.010112534, 0.0036924486, 0.040371645, 0.014128767, 0.005736541, -0.016143424, -0.0051838188, -0.005255771, -0.089325204, -0.042517126, 0.039900687, 0.0047161304, 0.012513117, 0.022959247, 0.013513904, 0.032993287, -0.017333904, 0.037702877, -0.009334144, -0.0007109354, 0.027551096, 0.0008863185, 0.035740547, -0.014076439, -0.008555753, -0.01849822, -0.035191096, 0.021559453, -0.0069401027, -0.010334931, 0.004719401, -0.00913137, 0.027891234, 0.004304041, -0.027786575, 0.020866096, 0.012840171, -0.02893781, -0.009706986, -0.033987533, 0.004529709, -0.030900137, -0.0146389725, 0.0057627056, -0.013984864, -0.02469918, -0.00049916736, -0.01998959, -0.011316096, 0.011662774, -0.0038886815, -0.04434863, -0.001524893, -0.0143773295, -0.026452193, -0.00018723887, 0.0033850172, 0.005896798, -0.0033408648, -0.0008429838, 0.0053506168, 0.0030465154, 0.013389624, 0.0062271236, 0.025340205, 0.01486137, -0.021389384, -0.03950822, 0.011780514, -0.014599727, -0.007770822, 0.010923631, 0.0076007536, 0.01068161, -0.0347463, -0.0063841096, 0.015463151, 0.01593411, -0.018576713, 0.008523048, -0.0146389725, 0.016719041, -0.038356986, -0.0017039555, -0.012879418, -0.014351165, 0.040607125, 0.005707106, 0.017935686, -0.018341234, 0.011263767, 0.0081959935, 0.028100548, 0.019793356, 0.014756713, 0.03131877, -0.0034177226, -0.018040342, -0.02506548, 0.008385685, 0.004428322, -0.027943563, 0.006178065, 0.034353837, -0.02243596, -0.0050039385, -0.022985412, 0.015227672, -0.023966575, -0.0037447775, -0.05949781, 0.026726918, -0.0023531592, -0.0011839384, -0.017229248, 0.008130582, 0.026177466, -0.020303562, -0.013049487, 0.022959247, -0.0070709246, 0.017817946, 0.0016777911, -0.039115753, -0.005180548, -0.007515719, 0.01658822, -0.022658357, 0.00091166527, 0.011728185, -0.0034275344, 0.004111079, 0.02119315, -0.010747021, 0.007227911, 0.008202534, -0.017569384, 0.019060753, -0.010675069, -0.017098425, 0.019283151, -0.035191096, -0.020198904, 0.010498459, -0.020565206, -0.008019384, -0.0041568666, 0.01862904, -0.0053800517, 0.047959317, -0.038984932, -0.030533835, -0.024790755, 0.004869846, 0.0020620804, 0.009052877, -0.013827877, 0.021978082, 0.0024218408, 0.0019737757, -0.019361645, 0.00012325878, -0.04427014, -0.010184486, -0.0036433905, 0.009105206, 0.021533288, 0.02244904, 0.021206234, 0.009092123, 0.027237125, 0.027786575, 0.037912194, -0.03919425, -0.015829453, 0.017791782, 0.0020588099, -0.033071782, -0.012244931, -0.035191096, -0.019662535, -0.0051838188, -0.004254983, 0.012015994, 0.0024316525, -0.024254384, -0.00775774, 0.006073408, -0.013540069, 0.015293082, 0.025209384, -0.018145, -0.019178493, 0.0011201627, 0.0052001714, 0.021088494, -0.016025685, 0.014194178, 0.00196887, 0.013854042, 0.0046866955, -0.010406883, -0.007967055, 0.020015754, 0.017464727, -0.016457397, -0.008300651, 0.005085702, 0.026687672, 0.01205524, 0.022043495, -0.008065172, -0.008392226, -0.03448466, -0.022828424, -0.0015404281, -0.024202054, -0.022409795, -0.01528, 0.019884933, 0.00061936, -0.0023973116, -0.025824247, 0.020905342, -0.02411048, 0.018943014, 0.010053664, -0.014338083, -0.0206437, 0.04489808, 0.017857192, 0.0020424572, 0.027969727, -0.015711712, 0.024162808, -0.0028780822, 0.020120412, 0.0003846982, -0.019270068, -0.016797535, 0.007097089, -0.009052877, 0.00016311859, -0.0024921575, -0.039063424, -0.010204109, -0.017713288, 0.0026066268, -0.006302346, 0.04453178, 0.012290719, -0.008032466, -0.0072540753, -0.008751987, 0.015790205, 0.012598151, -0.019100001, -0.016025685, -0.031475753, -0.0007485467, -0.006465873, 0.013042945, -0.03466781, -0.0024332877, -0.007214829, 0.031972878, 0.04099959, -0.042046167, -0.0017432021, 0.030873973, -5.2175463e-05, 0.0048731165, 0.022409795, -0.013082192, -0.015737876, 0.027001644, 0.010851678, 0.014913699, -0.02225281, 0.006724247, 0.009229487, -0.039769866, -0.0084183905, 0.007411062, -0.027184796, 0.003496216, -0.02488233, 0.01038072, -0.0035027568, -0.015607055, 0.030743152, -0.0132260965, -0.03181589, 0.0153061645, -0.0030056336, 0.012735514, 0.0071755825, -0.0026769435], 'name': 'Elon_Musk.pdf', 'chunk': 'https://www.npr.org/2022/10/04/1126714896/elon-musk-ukraine-peace-plan-zelenskyy\\nhttps://www.npr.org/2022/10/04/1126714896/elon-musk-ukraine-peace-plan-zelenskyy\\nhttps://web.archive.org/web/20221029000900/https://www.npr.org/2022/10/04/1126714896/elon-musk-ukraine-peace-plan-zelenskyy\\nhttps://web.archive.org/web/20221029000900/https://www.npr.org/2022/10/04/1126714896/elon-musk-ukraine-peace-plan-zelenskyy\\nhttps://www.vice.com/en/article/ake44z/elon-musk-vladimir-putin-ukraine\\nhttps://www.vice.com/en/article/ake44z/elon-musk-vladimir-putin-ukraine\\nhttps://web.archive.org/web/20221015223209/https://www.vice.com/en/article/ake44z/elon-musk-vladimir-putin-ukraine\\nhttps://web.archive.org/web/20221015223209/https://www.vice.com/en/article/ake44z/elon-musk-vladimir-putin-ukraine\\n\\n\\n485. \"Elon Musk denies he spoke to Putin about Ukraine war\" (https://www.bbc.com/news/world-\\neurope-63225781).', 'ParentKey': 'aHR0cHM6Ly82d2hxand0YWVvZ2Npc2EuYmxvYi5jb3JlLndpbmRvd3MubmV0L2Vsb25tdXNrLXdpa2kvRWxvbl9NdXNrLnBkZg2', 'title': 'Elon Musk - Wikipedia', 'id': 'c75748b74652_aHR0cHM6Ly82d2hxand0YWVvZ2Npc2EuYmxvYi5jb3JlLndpbmRvd3MubmV0L2Vsb25tdXNrLXdpa2kvRWxvbl9NdXNrLnBkZg2_chunks_709', '@search.score': 1.0123665, '@search.reranker_score': None, '@search.highlights': None, '@search.captions': None})\n",
      "{'filepath': None, 'chunkVector': [-0.0011797721, -0.029523524, 0.02077334, -0.020158822, -0.0024046309, 0.013706396, -0.022670327, -0.031260204, -0.015296125, -0.014093809, 0.03887487, 0.017099598, 0.0023127873, -0.003085943, -0.0011739274, 0.0076280236, 0.012764582, -0.00038741276, 0.030351786, -0.01295161, 0.019784769, -0.0061217896, -0.031367075, 0.015630102, 0.008429567, -0.015536588, 0.029416652, 9.5183306e-05, 0.028561672, -0.00027761798, -0.005954801, 0.0067496654, -0.0023411755, -0.025702832, -0.030886149, -0.027546383, 0.013185393, -0.049268216, 0.028214335, -0.018301914, 0.02063975, 0.023391714, -0.00022835644, -0.022857353, -0.019357279, 0.01719311, -0.012544158, -0.017981296, 0.016004154, 0.018074809, 0.014441145, 0.02673148, -0.029897578, 0.0069333524, 0.020185541, -0.025061598, -0.018943148, 0.015736973, 0.014988866, -0.006712928, 0.01180941, -0.020238977, -0.021093957, -0.002219274, -0.015135815, 0.0066661714, 0.0011204912, -0.027653256, -0.008837018, 0.0018986565, 0.026357427, 0.0074476763, 0.014040372, -0.026410863, 0.022523377, -0.034493096, -0.0020923628, 0.0071137, 0.0029206246, -0.015109098, 0.007060264, -0.027653256, 0.0035434908, 0.03810004, 0.012464004, 0.0003333503, -0.009899064, 0.024433723, -0.035481665, -0.0030308368, 0.0070869816, 0.039916873, 0.008396169, 0.0099525, -0.010860916, 0.04119934, -0.029096033, -0.002018888, -0.035668693, -0.047772, 0.0063188355, 0.017674036, -0.018822916, -0.004608876, -0.012557517, 0.019317202, 0.017380137, 0.011261689, -0.018128246, -0.010046014, 0.010072731, 0.03542823, -0.027840283, -0.028214335, 0.016004154, -0.0077749733, 0.01863589, -0.005771114, -0.026504377, -0.036443517, 0.04154668, 0.014614812, 0.0060950713, -0.028962443, 0.026250554, 0.020706544, -0.015576664, -0.006656152, 0.020225618, -0.0079152435, 0.002459737, -0.01921033, -0.01250408, 0.0040444555, 0.013960218, 0.014093809, -0.018969866, 0.014668249, -0.017112957, -0.031260204, 0.013318984, -0.008362772, -0.0050397054, 0.02829449, -0.035855718, 0.028321208, 0.031473946, 0.026223836, 0.02500816, 0.019824846, 0.017126316, 0.010326554, -0.015509869, 0.011996437, -0.00024505527, -0.010653851, -0.0007080302, 0.021361139, -0.0024580671, -0.027786845, 0.00939142, 0.0029506825, 0.00782841, -0.019103456, 0.015924001, 0.019090097, 0.03313047, -0.0053035473, 0.0050664237, 0.0039910194, -0.012924891, 0.02630399, -0.024353568, 0.005076443, -0.0050697634, 0.018595813, -0.0006328855, -0.0032345625, -0.027867, -0.012323733, 0.008282618, 0.00045420806, 0.021588242, 0.03029835, 0.014374349, 0.006372272, 0.017527087, -0.02347187, 0.007815051, -0.002232633, 0.02149473, 0.035374794, -0.012904853, -0.016992725, -0.6198604, -0.026210478, 0.011588985, 0.005857948, -0.013733114, 0.013893423, -0.008055514, 0.013519369, -0.03142051, -0.0013759832, -0.018301914, 0.029763987, 0.0013409157, -0.021868782, -0.024433723, -0.0033163868, 0.018502299, -0.011041264, 0.029336497, 0.0040444555, -0.02984414, 0.043416947, -0.011996437, -0.009571767, 0.012757903, 0.012303695, 0.033210624, -0.011922962, -0.008462965, 0.005460516, -0.030458659, 0.018275196, 0.013880064, 0.009084161, 0.026116963, -0.015416356, -0.027332637, 0.022683686, -0.017807627, 0.035187766, -0.012697787, -0.009979218, 0.027145611, 0.0028187619, -0.0182084, 0.008763543, 0.0139067825, -0.008282618, -0.018996585, -0.024393644, 0.0015922331, 0.013151995, 0.0012390529, 0.026464298, 0.002075664, 0.00089923176, 0.0061084307, -0.004712409, 0.0050564045, 0.019704614, -0.0022009052, 0.02518183, -0.021334419, 0.022723762, -0.014107168, 0.039863437, -0.013339022, -0.0026501038, 0.037619114, 0.0005986529, 0.0034099002, 0.035187766, -0.019878283, 0.01891643, 0.009865667, 0.0073742014, 0.018301914, -0.011582306, 0.019864922, 0.022389786, -0.015322843, -0.008449606, 0.009965859, -0.012123347, 0.0018552395, -0.005019667, -0.020947007, 0.042775713, 0.013893423, -0.0018552395, 0.001621456, -0.0059080445, 0.008783583, -0.014855276, -0.018114887, -0.001963782, -0.0010987828, 0.019223688, -0.006068353, -0.061344806, -0.003683761, -0.025970014, 0.036229774, 0.014280836, 0.0045521, 0.01237717, -0.013586164, 0.0028237714, 0.023992874, -0.039863437, -0.0047825435, -0.015616742, -0.0019387336, -0.010039334, -0.010339913, -0.021120675, 0.017593883, 0.02590322, 0.0047257678, -0.018462222, 0.023538664, -0.0012599264, -0.003964301, 0.0028471497, 0.0055239717, -0.0030041188, 0.00852976, -0.010126168, -0.01082084, 0.02304438, 0.006198604, -0.018074809, 0.024981443, -0.0204928, 0.0143476315, 0.021922218, 0.027132252, 3.7572358e-05, 0.0152293295, -0.01323883, 0.0035468305, 0.005617485, 0.014133886, -0.029951014, -0.022550095, -0.016271336, -0.0064223683, -0.007440997, 0.00312602, -0.025115034, 0.009885705, 0.0038707878, 0.009745435, 0.013332343, 0.0012081601, -0.00227438, -0.02518183, -0.02176191, -0.0072205723, -0.011361881, -0.00541042, 0.037619114, -0.03513433, 0.019170253, 0.014601453, -0.0024296793, -0.015389638, 0.0028922367, -0.003197825, -0.036336645, 0.004395131, -0.020038592, 0.020466082, -0.0124773625, -0.006024936, 4.4225795e-05, 0.003967641, -0.006088392, -0.022643607, -0.015309484, -0.006145168, 0.019517587, 0.0027085496, 0.014173963, 0.01635149, 0.004251521, 0.049856015, -0.0025348817, -0.0120966295, 0.01676562, -0.028775416, 0.029817423, 0.026370786, -0.0011822769, -0.013205431, 0.013559447, 0.0113819195, 0.002090693, -0.0072205723, 0.0061652064, -0.0054805544, 0.0069333524, 0.013733114, -0.04480629, 0.018662607, -0.019557664, -0.005220053, -0.016939288, 0.018662607, 0.006385631, 0.021908859, -0.019544305, -0.015670178, 0.00036027716, 0.013839987, 0.03016476, 0.0011772672, -0.004745806, -0.012858096, 0.0047558257, -0.005089802, -0.00096435717, 0.019504229, -0.008235861, -0.02460739, -0.0045854975, 0.014574735, 0.00022773024, -0.017593883, -0.025996732, -0.003284659, 0.013986937, 0.01322547, 0.0075278305, 0.023912719, -0.02260353, -0.002459737, 0.009204393, 0.02161496, -0.02629063, -0.0007956991, 0.012637671, 0.014868635, -0.0018936469, -0.003044196, 0.007708178, 0.0069934684, 0.009932461, 0.0026684725, 0.0035869079, -0.011428677, 0.007788332, -0.012390529, -0.002105722, 0.0061752256, -0.01636485, -0.0092377905, 0.022095887, 0.0048326403, 0.01635149, 0.014775121, -0.014040372, 0.019076739, 0.0055573694, 0.011168174, -0.0054872343, -0.005791153, -0.005888006, 0.013332343, -0.034092322, -0.012250259, -0.0018619191, 0.0039476026, -0.01151551, 0.025996732, 0.013866705, -0.010680569, 0.01408045, 0.017593883, 0.019544305, -0.0168057, -0.040344365, 0.02588986, -0.0036804213, -0.0018352009, 0.014828557, 0.0020923628, 0.0052534505, 0.0014127207, 0.014107168, 0.004171367, 0.01720647, -0.02059967, -0.0051799756, 0.0035501705, -0.014441145, 0.006599376, -0.0281609, 0.00526681, -0.017233187, 0.014628171, 0.01819504, -0.006014917, 0.01633813, 0.02089357, 0.011001186, -0.02161496, -0.017259907, -0.005660902, 0.0010837538, -0.0015112438, -0.010453465, -0.04079857, 0.0007869322, 0.0009084161, 0.01351269, 0.014013655, -0.017219828, 0.022643607, -0.0007322435, 0.014454504, -0.013285586, -0.03256939, -0.014067091, 0.09810894, 0.06364256, 0.021334419, 0.014000296, 0.0070068273, -0.0011547238, -0.01835535, -0.046569686, -0.008837018, -0.022363067, 0.0022543415, 0.007193854, 0.0063589127, -0.008068873, 0.038474094, -0.030111322, -0.012818019, 0.0055907667, 0.0076480624, -0.026691403, -0.002945673, -0.0035067534, -0.009591806, 0.028267773, 0.004876057, -0.016418286, 0.009484933, 0.039061893, 0.012978327, -0.028748699, 0.022830635, -0.0056508826, -0.005704319, 0.00010128882, 0.0024964744, -0.0067763836, 0.028000591, 0.0061318087, -0.012617633, -0.0038407298, 0.004762505, -0.0057944926, -0.004805922, 0.010186284, 0.008309335, -0.027319279, -0.0034933945, 0.020172182, -0.011735935, -0.014868635, 0.0015888932, -0.0150022255, -0.030084604, -0.0032045047, 0.028561672, 0.0026217157, 0.0073408037, -0.022697045, -0.015964078, 0.015256047, 0.0040945522, -0.008469644, -0.020559594, 0.000966862, -0.019998513, 0.0026968603, 0.0042281426, -0.0013609543, -0.017513728, -0.017727474, 0.0154430745, -0.038554247, -0.032943442, 0.022162681, 0.033878576, 0.0053235856, 0.018849635, -0.006312156, 0.012350451, -6.1316e-05, 0.025542524, -0.01676562, 0.00057694444, -0.027359357, -2.1682381e-05, -0.005934763, 0.008743505, 0.010453465, -0.0065125423, 0.006088392, 0.027813565, -0.0098923845, -0.00412127, -0.0022994282, 0.013880064, 0.014267477, 0.020452721, 0.0039709806, -0.0027920436, 0.01593736, -0.011882884, -0.015189252, 0.020466082, 0.008636633, 0.0026634627, -0.022069167, -0.0030659044, -0.0016715524, -0.0060616736, -0.002957362, -0.007354163, -0.021374498, -0.013265547, -0.0040043783, -0.00045170324, -6.8360816e-05, 0.020693185, -0.006739646, -0.02543565, -0.002945673, -0.0059915385, -0.032943442, 0.006753005, 0.01947751, -0.010720646, 0.0244738, -0.011268368, -0.0062553803, -0.023418434, 0.006485824, 0.0027219085, 0.0021023822, -0.0023027682, -0.017153034, -0.018662607, -0.03810004, -0.023364997, -0.025676114, -0.013880064, -0.0038407298, -0.0028621787, 0.022202758, -0.008162386, 0.00045671288, 0.00016907562, -0.031473946, -0.024086386, -0.0033932014, 0.03283657, 0.028187618, -0.010727325, 0.0036436839, -0.017740833, -0.0007911069, 0.015977437, -0.035882436, 0.0018368708, 0.001465322, 0.04579486, 0.0062653995, 0.048119336, 0.015616742, 0.029603679, -0.005811191, 0.011695857, 0.0071738157, 0.011542228, -0.0015972427, -0.014173963, -0.0068598776, -0.017567165, 0.0115489075, 0.01620454, 0.014494581, -0.023979513, 0.021160752, 0.009798871, 0.026998661, -0.014841916, -0.040584825, -0.03727178, 0.0152293295, -0.018849635, -0.004375092, -0.021107316, -0.019076739, 0.022656966, 0.031367075, 0.0016431644, 0.005033026, 0.014881994, -0.019009944, 0.019985154, 0.014588094, 0.0062921178, -0.013719755, -0.013572806, -0.011361881, -0.014868635, -0.019597743, 0.0017316682, 0.013546088, 0.008583196, 0.019437434, -0.0037639153, 0.040077183, -0.020532876, -0.004067834, 0.0036503633, -0.01623126, -0.022336349, -0.01623126, -0.01633813, -0.0094047785, -0.0009159306, 0.039756566, 0.0005218383, 0.018088168, -0.024086386, -0.0070469044, -0.019009944, -0.00754119, 0.029496806, 0.027573101, 0.03911533, 0.046035323, 0.00284381, -3.7259255e-05, 0.016004154, 0.0131920725, -0.004949532, 0.025595961, 0.013038443, -0.0069333524, -0.006198604, -0.009084161, -0.016177822, -0.016979367, -0.029603679, 0.016498439, -0.02174855, 0.013138636, -0.020025233, -0.025676114, 0.0062653995, -0.0053870413, -0.004238162, -0.005163277, -0.00021082268, -0.016565235, -0.043149766, 0.024954725, 0.0057377163, 0.011542228, -0.0023528645, -0.03158082, -0.0067763836, -0.0016882513, -0.018008014, -0.019090097, 0.00341324, 0.026891788, -0.0106672095, 0.012911532, 0.0005001298, -0.02077334, 0.020359209, -0.008903814, -0.0045354012, 0.019237047, -0.020880211, 0.0004846834, -0.0017817647, -0.01579041, -0.0013475952, -0.0075478693, -0.003884147, -0.006722947, -0.019758051, -0.01152219, 0.018756121, 0.014294195, 0.0035802282, -0.011575626, -0.019931719, -0.008489683, -0.007768294, -0.009251149, 0.009558408, -0.040290926, 0.014841916, -0.020038592, 0.011969718, -0.015483151, 0.006940032, 0.0066928896, 0.0068465187, 0.0038140118, -0.026664685, 0.02930978, -0.005513952, 0.02260353, 0.0029974391, -0.018368708, 0.028401364, -0.02730592, 0.0075278305, -0.005023007, -0.027573101, -0.008469644, 0.009538369, 0.0044819647, -0.016391568, 0.0020389266, 0.010700608, 0.021147393, 0.002117411, -0.022683686, -0.020733261, 0.033451088, 1.25241195e-05, 0.006722947, -0.0051799756, -0.0054404773, 0.0017934539, -0.0050664237, 0.008790262, -0.018582454, -0.044111617, -0.022416504, 0.0016273006, 0.006659492, -0.003967641, -0.0030558852, -0.047852155, -0.036496952, -0.03059225, 0.0048626983, -0.011575626, -0.013038443, -0.0020005193, 0.0412795, 0.033290777, 0.0073742014, -0.0061351485, -0.0146816075, -0.013479292, -0.0014711665, -0.03056553, -0.012617633, -0.00047257676, 0.03198159, 0.00909752, -0.010086091, -0.019704614, 0.019370638, -0.021013802, -0.0025198527, -0.00312936, 0.021227548, 0.03764583, -0.017246548, -0.008509722, -0.0026116963, 0.0031326998, 0.02615704, 0.0025949976, -0.020252336, 0.02232299, -0.0012632662, -0.004378432, 0.0018168322, 0.011007866, -0.009571767, 0.00469237, 0.008222502, -0.0046422738, 0.007507792, -0.015416356, 0.02588986, -0.022069167, 0.01237717, -0.0165118, 0.0025064938, 0.019784769, -0.012123347, -0.01051358, -0.012624312, 0.022242837, -0.023698974, 0.008369451, 0.018008014, 0.0036804213, 0.0038774672, 0.008863737, 0.014173963, -0.011261689, 0.005958141, 0.0131920725, -0.0013985267, -0.0044452273, 0.008877096, 0.0037906335, 0.0009376391, 0.0025565901, 0.013325663, 0.008890455, -0.0111080585, 1.2882883e-06, -0.0030358466, 0.036924444, 0.022523377, 0.018101526, -0.022135964, -0.0011922962, -0.026370786, 0.003510093, -0.017901141, 0.0037772744, 0.004211444, -0.045634553, -0.005787813, -0.03313047, 0.011054623, -0.015683537, -0.027546383, -0.0142407585, -0.0028822173, -0.018395426, -0.0014018664, 0.0067997617, -0.023912719, -0.0035034136, 0.00093095953, -0.016872494, 0.009478253, 0.19782098, -0.032489236, 0.002018888, 0.009304586, 0.0019788109, -0.011448715, 0.0063088164, 0.009538369, -0.020733261, 0.020225618, -0.026798276, 0.007835089, -0.0106672095, 0.005614145, 0.013185393, -0.002817092, -0.002673482, -0.019237047, -0.040664982, -0.026263913, 0.012056552, 0.013172034, 0.0028989161, -0.011442035, 0.0077816527, -0.0036436839, 0.0019404036, -0.00014705403, 0.016966008, 0.01450794, -0.02603681, -0.002316127, 0.0049562114, -0.015376279, -0.02319133, -0.011896243, 0.0066928896, 0.020412644, 0.022803916, -0.0005660902, 0.0042281426, -0.008496363, -0.015202611, 0.010493542, 0.011194893, -0.010119488, -0.009872346, 0.0068732365, -0.028347926, -0.009438177, -0.029657114, 0.0032629506, 0.04309633, 0.038313787, 0.02102716, -0.0032529312, 0.026370786, 0.017473651, 0.006171886, 0.048413236, 0.009351343, 0.028962443, -0.038073324, 0.026370786, -0.018275196, 0.014708326, -0.023845924, 0.02134778, 0.020840134, -0.0065092025, -0.002332826, -0.023632178, -0.02547573, -0.0054571764, 0.0013542748, -0.024019592, 0.018008014, -0.0067797233, -0.027599819, 0.06385631, -0.0017851045, 0.03043194, 0.0052701496, 0.0020289074, -0.009885705, -0.016551876, 0.03828707, -0.01605759, 0.028107464, -0.020359209, -0.012731185, -0.011368561, -0.0008858727, -0.0018736082, 0.014280836, -0.02118747, 0.02500816, 0.016391568, -0.004896096, -0.026798276, -0.043710846, -0.0036570427, 0.0025482408, -0.01010613, -0.018889712, -0.02092029, 0.017660677, 0.01720647, 0.008997328, -0.017593883, 0.013639601, -0.02914947, 0.009144277, -0.0027937135, 0.028935725, 0.0244738, -0.01052026, 0.0039208843, 0.017700756, -0.021361139, 0.012203502, -0.049829297, -0.009899064, -0.016298054, 0.01323883, -0.0073608425, -0.0281609, 0.016418286, -0.013479292, -0.018088168, 0.028374644, 0.008162386, 0.015576664, 0.021548165, -0.002628395, -0.024687544, 0.023271484, -0.020265695, -0.002189216, -0.0030909528, -0.012357131, 0.027466228, -0.012617633, 0.012610953, 0.018996585, -0.032328926, 0.016391568, -0.015750332, -0.0077816527, -0.022149323, -0.0065092025, -0.010052693, 0.001350935, -0.02518183, 0.008583196, 0.02729256, 0.0014770111, -0.046436094, -0.027466228, 0.0162179, -0.04184058, -0.0064357277, 0.0043817717, -0.0044819647, -0.027466228, -0.015376279, -0.16864479, 0.007901885, 0.010760724, -0.0052133733, 0.013252188, 0.01719311, 0.038180195, -0.0061217896, -0.007607985, -0.014855276, 0.028401364, 0.01835535, -0.02446044, -0.025649397, -0.0045454204, 0.018422145, -0.022563454, 0.021948937, 0.017299984, -0.00881698, 0.02973727, -0.028935725, 0.003770595, 0.011528869, 0.013813268, 0.007213893, -0.0027686653, 0.00029556922, -0.0068732365, 0.008997328, -0.03542823, -0.00067671994, 0.034519814, 0.0014143905, -0.013973578, 0.022937506, 0.013893423, -0.020679826, -0.018595813, 0.048840724, 0.015777051, 0.022055808, 0.021935578, -0.0072205723, -0.027706692, -0.0021240907, -0.0018402106, -0.020653108, 0.013125277, -0.02987086, 0.01934392, -0.016004154, 0.010353272, 0.011368561, 0.01492207, 0.016525159, 0.020238977, 0.0011313454, 0.010921032, -0.0016598633, -0.018382067, -0.019116815, 0.021134034, -0.03182128, -0.018956507, -0.026116963, -0.020572953, -0.0077749733, -0.036443517, 0.0029940994, -0.0045420807, 0.007354163, 0.011027904, -0.02773341, 0.0036336645, 0.0002913945, -0.025342138, 7.629276e-05, 0.007861807, -0.0070068273, -0.015362919, 0.03769927, 0.000111464666, -0.0033731628, -0.0119897565, 0.009979218, 0.00383739, -0.020947007, 0.00084287324, 0.0069734296, -0.007461035, 0.011034584, -0.022763839, -0.0065626386, -0.0013517699, 0.0070469044, 0.012397208, 0.0036303247, 0.0045420807, -0.0047858837, -0.023926077, -0.006298797, -0.019397356, 0.012176784, 0.031180048, 0.021414574, -0.02984414, -0.0006621084, 0.008857057, 0.005206694, -0.008543119, 0.008135668, 0.025128393, 0.022536736, -0.00867003, 0.013245509, -0.006028276, -0.0051966747, 0.0057410565, 0.01549651, 0.05450497, 6.434266e-05, 0.02063975, -0.0033781724, -0.013325663, -0.033290777, -0.08426896, -0.0403978, 0.0150022255, 0.01778091, 0.019370638, 0.04181386, 0.009985898, 0.0091042, -0.026905147, 0.031767845, 0.009458215, -0.03769927, 0.022563454, -0.0034048907, 0.023859283, 0.010086091, 0.024513876, -0.028695263, -0.019958436, 0.016271336, -0.0038206913, -0.026491018, -0.0033230663, 0.00029285566, -0.007427638, -0.0127913, -0.046890303, 0.02560932, 0.0045053433, 0.002802063, -0.016832417, 0.00096101745, 0.008703428, -0.047291074, -0.0039476026, -0.021842064, -0.008015436, -0.021574883, 0.017112957, -0.033584677, -0.008416208, 0.010199643, -0.011288406, -0.009271188, -0.026798276, -0.016030872, -0.011729255, 0.01977141, 0.017032802, -0.016257977, -0.0074543557, -0.02659789, 0.007581267, -0.014294195, 0.026090246, 0.033504523, 0.02145465, -0.008422888, -0.006198604, -0.055787437, 0.011074661, 0.0006587687, -0.01052026, -0.0076614213, 0.0008833679, 0.004498664, -0.021080598, -0.022550095, 0.024540594, 0.018876353, -0.014160604, 0.011335163, -0.009398099, -0.018609172, -0.040584825, 0.01720647, 0.007654742, -0.017567165, 0.021414574, -0.015055661, 0.016271336, -0.017820986, -0.01307852, -0.0007489423, 0.033397652, 0.005821211, 0.025636038, 0.012971648, 0.009805551, -0.0432032, -0.014107168, -0.007040225, 0.012610953, -0.020532876, 0.019130174, 0.017660677, -0.01251744, 0.015402997, 0.008002077, 0.037004597, -0.0074142786, -0.013693037, -0.07037553, 0.024500517, -0.0016865814, 0.003014138, -0.0035167728, -0.008730146, 0.01806145, -0.014147245, 0.0033230663, 0.020292412, -0.014481221, 0.013011725, 0.012985007, -0.01576369, -0.0038808072, -0.0039576218, -0.015416356, -0.027867, 0.018275196, -0.0013192073, 0.011796051, 0.009291227, 0.008489683, -0.012056552, 0.018756121, 0.024767699, -0.00038449047, -0.0040010386, -0.007748255, -0.030378504, 0.025515806, -0.018609172, -0.008262579, 0.020292412, -0.008396169, -0.0057243574, 0.009364702, 0.005350304, 0.0077616144, 0.025636038, -0.017433574, -0.02347187, 0.01720647, -0.018141605, -0.020172182, 0.0062386813, -0.017246548, 0.011922962, 0.01848894, 0.0069600707, 0.0061217896, 0.022710403, -0.049027752, 0.0003191563, 0.0019955097, 0.003854089, 0.013425856, 0.00082116475, -0.010620453, -0.0027068797, 0.029603679, 0.020706544, 0.034760274, -0.03315719, -0.0020873533, 0.010713967, -0.028134182, 0.00062495354, 0.013138636, -0.014467862, -0.020412644, -0.0055239717, 0.0073408037, 0.030725839, 0.01082084, -0.003526792, -0.01719311, -0.010814159, -0.053516395, 0.023979513, 0.041039035, -0.0031360395, -0.041626833, 0.014815198, 0.011121418, 0.033050317, -0.010139527, 0.014668249, 0.022683686, 0.026103605, -0.018502299, 0.020011872, -0.014027013, -0.0038607686, 0.03401217, 0.023231406, -0.0056108055, 0.019945078, -0.0011104719, 0.01834199, -0.013946859, -0.00087668834, -0.015402997, 0.0035234522, -0.0107740825, 0.0016974356, -0.011735935, -0.028561672, -0.006986789, 0.012083271, 0.014107168, -0.020733261, -0.010727325, 0.015990796, -0.016044231, 0.015135815, -0.0029673814, -0.014254117, -0.013733114, 0.046035323, 0.028000591, -0.009478253, 0.02659789, -0.005220053, 0.008202463, -0.02275048, 0.032890007, -0.027893718, -0.017807627, -0.0026400844, 0.010974469, -0.0024430382, -0.017299984, -0.004311637, -0.030378504, -0.0032879987, -0.009698678, 0.03085943, 0.009331304, 0.065299086, -0.0010762393, -0.03713819, 0.011896243, 0.009999257, 0.02930978, 0.022510016, -0.015429715, -0.013586164, -0.008202463, 0.0037472164, -0.008496363, 0.045634553, -0.007654742, 0.0002233468, 0.013252188, 0.026824994, 0.03826035, -0.027840283, -0.035829, 0.02202909, -0.0050129876, 0.012116668, -0.03158082, -0.035481665, -0.01280466, 0.027973874, 0.0027553062, 0.0014561376, -0.027519666, 0.005560709, -0.0055573694, -0.021735191, -0.0038908264, -0.0039208843, -0.01294493, -0.016591953, 0.009591806, 0.008175745, -0.011695857, -0.014320913, 0.007233931, -0.0026400844, -0.0090708025, 0.0061785653, -0.032195337, 0.007000148, 0.004568799, -0.0019237048], 'name': 'Elon_Musk.pdf', 'chunk': 'from\\nthe original on May 25, 2022. Retrieved May 3, 2022.\\n\\n670. Schedeen, Jesse (November 25, 2019). \"Elon Musk\\'s Rick and Morty Cameo Finally\\nExplains His \\'Elon Tusk\\' Twitter Joke\" (https://web.archive.org/web/20200131050424/https://\\nwww.ign.com/articles/2019/11/25/elon-musk-rick-and-morty-cameo-elon-tusk). IGN.\\nArchived from the original (https://www.ign.com/articles/2019/11/25/elon-musk-rick-and-mort\\ny-cameo-elon-tusk) on January 31, 2020. Retrieved November 25, 2019.\\n\\n671. Cooper, Gael Fashingbauer (November 25, 2019). \"Elon Musk shows up on Rick and Morty\\nas Elon Tusk, head of Tuskla\" (https://web.archive.org/web/20200821033512/https://www.cn\\net.com/news/elon-musk-shows-up-on-rick-and-morty-as-elon-tusk-head-of-tuskla/). CNET.\\nArchived from the original (https://www.cnet.com/news/elon-musk-shows-up-on-rick-and-mo\\nrty-as-elon-tusk-head-of-tuskla/) on August 21, 2020. Retrieved August 29, 2020.', 'ParentKey': 'aHR0cHM6Ly82d2hxand0YWVvZ2Npc2EuYmxvYi5jb3JlLndpbmRvd3MubmV0L2Vsb25tdXNrLXdpa2kvRWxvbl9NdXNrLnBkZg2', 'title': 'Elon Musk - Wikipedia', 'id': 'c75748b74652_aHR0cHM6Ly82d2hxand0YWVvZ2Npc2EuYmxvYi5jb3JlLndpbmRvd3MubmV0L2Vsb25tdXNrLXdpa2kvRWxvbl9NdXNrLnBkZg2_chunks_924', '@search.score': 1.0051787, '@search.reranker_score': None, '@search.highlights': None, '@search.captions': None})\n",
      "{'filepath': None, 'chunkVector': [-0.0061908234, -0.038767904, 0.012021716, -0.005493865, -0.016897153, -0.019370863, -0.038767904, 0.003039786, -0.021661337, -0.0054840487, 0.027197741, 0.02819246, -0.0069041424, -0.006698, 0.018140553, -0.025430804, 0.02363769, -0.0023150146, -0.011092437, -0.008880494, 0.0003325277, 0.0031199525, -0.031909574, 0.013108054, -0.011210233, -0.008697256, 0.01417476, -0.008160631, 0.015130215, -0.0116421515, 0.020784413, 0.00696304, -0.0012900275, -0.0025342456, -0.01748613, -0.008402767, 0.0039559756, -0.0109680975, 0.016229643, -0.0035633228, 0.0017178553, 0.04669949, 0.00084174913, 0.0069892174, -0.037930246, 0.0034880643, 0.013310925, -0.025142858, 0.012250762, 0.006311891, 0.01641288, 0.01617729, -0.027250094, 0.005683647, -0.0090571875, -0.03355871, -0.03813966, 0.030653084, -0.005902878, 0.003471704, 0.017931137, -0.021111624, -0.031071912, -0.0036974791, -0.01799658, -0.004715104, -0.028035399, 0.011026995, -0.0032753774, 0.020417938, 0.034029897, -0.00013395182, 0.02346754, -0.014148584, 0.036281105, -0.021020005, -0.012368559, 0.005493865, -0.0070023057, -0.021085447, 0.008265338, -0.0046103965, -0.015234923, 0.010771771, 0.030810144, 0.014200938, 0.002046702, -7.6792225e-05, -0.02214561, 0.013795196, -0.0007321336, 0.03075779, 0.00022188966, 0.031726334, -0.020090727, 0.04337503, -0.02578419, 0.013716666, 0.00058202574, -0.01240128, -0.002041794, -0.010313677, -0.007421135, -0.0045907637, -0.029658364, 0.010025731, 0.022577528, 0.0037203839, 0.00020910798, -0.019606456, 0.009580725, 0.0057916264, 0.0008711981, -0.02819246, -0.004031234, -0.008042835, 0.01823217, -0.011452369, 0.007643638, -0.03185722, 0.02845423, 0.013860638, 0.0012131331, -0.051725443, 0.009325501, 0.008769242, -0.033009, -0.012715402, 0.02761657, 0.003910166, 0.020496469, -0.01981587, -0.005487321, 0.018048933, 0.008651447, 0.04177824, -0.020928387, -0.008651447, -0.0062333606, -0.046202127, 0.016216554, 0.017904961, 0.010817581, -0.0087299775, -0.031490743, 0.029422771, 0.014357999, 0.0068125236, 0.016766269, 0.0062333606, 0.024305198, -0.02437064, -0.009233882, -0.0017342159, 0.024527702, 0.02388637, 0.022970181, 0.014528148, -0.0056967353, -0.012322749, -0.0037727375, 0.018690266, 0.005421879, 0.011792668, -0.008991745, 0.028715998, 0.046149775, -0.002511341, 0.009305867, 0.0070939246, -0.04313944, -0.0061810073, -0.020758238, 0.0025571503, 0.001986168, 0.054447833, 0.0031739422, 0.01036603, -0.038741726, -0.012486354, -0.005804715, 0.0020646986, 0.008029747, 0.02637317, 0.0143187335, 0.005248457, 0.008834684, -0.028637467, 0.021399569, -0.0056672865, 0.04418651, 0.018507028, 0.008396222, -0.0035142412, -0.62950075, -0.01642597, -0.009534915, 0.011661784, 0.0016409609, 0.0049572396, 0.0107325055, 0.021006918, -0.025509333, 0.022603704, -0.00725753, 0.018297613, -0.0018961851, -0.0116879605, -0.011759947, 0.0007411319, 0.012152599, -0.013441809, 0.026163755, 0.009587269, -0.011746858, 0.025627129, -0.028558936, -0.008121366, 0.021648249, 0.017054213, 0.00047404628, -0.018559381, -0.020876033, 0.019135272, -0.00404105, 0.01086339, 0.021373393, 0.0037596491, 0.039029673, -0.004816539, -0.039919686, 0.0071201012, 0.0018830966, 0.03955321, -0.03426549, -0.0012736671, 0.012656503, -0.0016491411, -0.019017477, 0.007911951, 0.020496469, -0.0015239831, -0.01426638, -0.00028794527, 0.010961553, -0.0074407677, 0.0010487097, 0.0006261992, -0.011269131, -0.011262587, 0.021085447, -0.013389455, -0.0180882, -0.021006918, -0.016923329, -0.0069892174, -0.024868, 0.0026127761, -0.0072771623, 0.014829182, 0.0007844873, 0.016949506, 0.0092927795, 0.005150294, 0.00033334573, 0.016556853, 0.00974433, 0.018533206, 0.013677401, 0.013055701, 0.03151692, -0.03688317, -0.00063519744, 0.024789471, -0.006302075, -0.022917826, -0.012682681, -0.02064044, 0.011210233, 0.005362981, -0.02761657, 0.0006069756, 0.01434491, -0.0017636648, -0.00047568232, 0.015732283, 0.010097717, -0.0069041424, 0.0071135573, 0.009757418, -0.0015714286, -0.008887039, -0.01115788, -0.021399569, 0.00041453485, -0.015143304, 0.038270544, 0.023820927, 0.012813564, 0.025731837, 0.0056607425, 0.010797948, 0.015339631, -0.0061646467, -0.023022534, -0.005929055, 0.008540195, -0.018611735, -0.004774002, -0.02529992, 0.00999301, -0.0015395256, -0.012905184, -0.0018029301, 0.01973734, 0.007905407, 0.016190378, -0.0018601919, -0.0062333606, 0.02122942, 0.0013988251, -0.010333309, -0.012473266, -0.02553551, -0.0044762404, -0.020509556, 0.027459508, -0.0058374363, 0.008815052, 0.019671898, 0.02363769, -0.008016658, 0.004126125, -0.027721277, 0.009240426, 0.01451506, 0.006943408, -0.008461664, -0.01675318, -0.017708635, -0.011805756, 0.0019796237, -0.005277906, -0.008481298, -0.029579833, 0.0094956495, 0.0087299775, 0.020287054, 0.0030185173, 0.0034651596, -0.016792445, -0.01916145, -0.017028037, -0.011720682, 0.006426415, 0.011943185, -0.023074888, 0.0041752066, 0.014253291, 0.013638135, 0.011000819, 0.008042835, 0.009142263, -0.0069368635, 0.003008701, 0.0044009816, 0.018847328, -0.001020897, 0.003910166, 0.0028778168, -0.012656503, -0.003946159, -0.020810591, -0.005150294, -0.0012532164, 0.024527702, -0.0042079277, 0.0058570686, 0.04319179, 0.0177479, 0.017721724, 0.014999331, -0.03141221, -0.0058799735, -0.02761657, 0.012021716, 0.013834462, 0.008736522, -0.0005129025, -0.002108872, -0.009155351, -0.019920578, -0.0018225628, -0.008677623, 0.018886592, 0.0024688034, 0.0031428572, -0.031700157, -0.016766269, -0.013153864, 0.0027371163, -0.0016933145, -0.00045482264, 0.009417119, 0.011256043, -0.034370195, -0.023153419, 0.0009489106, 0.004073771, 0.035024617, -0.010123895, 6.620901e-05, -0.005556035, 0.027983045, 0.008114821, -0.012375102, -0.01567993, -0.016857887, -0.024684763, 0.018441586, 0.009260058, 0.015483603, 0.00620064, -0.024763294, -0.0031804864, 0.016111847, 0.0051961034, 0.008186808, 0.01691024, 0.016897153, 0.024815647, 0.006462408, 0.018938946, -0.00783342, 0.0008208894, -0.0035829553, 0.036516696, -0.00696304, -0.00043069088, 0.013664313, 0.020836767, 0.03499844, -0.009220793, -0.019684987, -0.04701361, 0.0072182645, -0.011066261, 0.005801443, 0.010797948, -0.027904514, 0.001646687, -0.0071789995, 0.020823678, 0.017106567, 0.014973154, -0.017172009, 0.011753403, -0.0056640143, 0.00065033097, -0.023074888, -0.0127743, 0.009724697, 0.013651224, -0.034056075, -0.01783952, -0.0044762404, 0.022786941, -0.0070023057, 0.015732283, -0.007571652, 0.0040475945, -0.005644382, 0.020365585, 0.003386629, -0.013873727, -0.029841602, 0.0111251585, 0.033977542, -0.004191567, -0.026360082, 0.013664313, 0.01849394, -0.010051908, 0.014135496, -0.0034684318, 0.017630104, -0.027459508, 0.0022495724, -0.008088645, -0.01053618, 0.042301778, -0.010719418, -0.013742843, -0.025443891, 0.03324459, 0.015064773, 0.007997026, 0.01799658, 0.026504055, 0.004368261, -0.003036514, -0.015169481, -0.013742843, 0.009894847, 0.02677891, -0.013821374, -0.015444337, -0.020902209, -0.015588311, -0.010673608, 0.025339184, -0.016923329, 0.0071986318, 0.012931361, 0.0305222, 0.0039592474, -0.035705216, -0.0030381498, 0.08528416, 0.029972486, 0.00155425, 0.026805088, 0.001518257, -0.0004282368, -0.0021906747, -0.024239756, -0.014305645, -0.02795687, -0.0133632785, 0.016059494, -0.011439281, 0.0028483677, 0.030548377, -0.034056075, 0.00725753, -0.008939392, 0.005807987, -0.024331376, -0.0100126425, -0.021203242, 0.01289864, 0.025221389, 0.031150443, -0.0161642, 0.017473044, 0.03955321, 0.010758683, -0.017643193, 0.018467763, 0.014920801, 0.02372931, 0.015457426, -0.025653306, -0.0040443223, 0.012558341, 0.020967651, 0.007604373, 0.019383952, -0.013808285, -0.0023477357, 0.0005403064, -0.018258348, -0.0062268167, -0.019750427, -0.009469473, 0.028140107, -0.019213803, -0.029867778, 0.004567859, -0.0047478247, -0.038244367, -0.00077426195, 0.0020254334, 0.013795196, -0.0024442628, -0.038192015, -0.018938946, -0.0028614562, -0.013690489, -0.03698788, 0.003317915, -0.011851566, 0.025653306, -0.0052255522, -0.015208746, 0.004937607, -0.032118987, -0.0068845097, 0.018690266, -0.014632856, -0.020588087, 0.028585114, 0.025496246, 0.008010115, 0.02132104, -0.009201161, 0.0021530453, 0.014227115, 0.0025211573, -0.026988326, -0.010136982, -0.015208746, 0.0066652787, 0.0023215588, -0.020444114, 0.013952257, 0.0041195806, -0.0011575073, 0.034134604, -0.008278427, 0.022682235, 0.002544062, 0.009763963, 0.0021055997, -0.005173199, 0.008723433, -0.00837659, 0.023480628, -0.0039297985, -0.0060893884, -0.014619767, -0.021347215, -0.013094966, -0.0016098758, 0.00069941254, -0.0045482265, -0.019436305, 0.0072706183, 0.032223694, -0.0011599613, 0.006217, 6.436845e-05, -0.020784413, 0.008186808, 0.022001637, -0.0032361122, -0.0125648845, 0.00055421283, -0.0078072436, -0.039893508, 0.012767755, 0.015339631, -0.0025506062, 0.019082919, -0.029867778, -0.015627576, -0.02976307, 0.028428052, -0.01600714, 0.005965048, 0.009188072, -0.017813342, -0.029920133, -0.02727627, -0.00053171715, -0.030129546, -0.0018732804, -0.01723745, 0.008599093, -0.008101733, 0.005955232, -0.0036254928, 0.019423218, -0.034448724, -0.017603926, 0.0047576413, 0.03308753, 0.036385812, 0.0020892394, 0.015627576, -0.01823217, 0.007787611, 0.009777051, -0.020260876, 0.027380979, -0.018965123, 0.03374195, 0.026687292, 0.02553551, -0.01923998, 0.0066750953, -0.003134677, 0.016046405, 0.003874173, -0.0061646467, 0.020077638, -0.01302298, 0.0032393844, -0.013821374, 0.021504277, 0.026320817, 0.012735034, -0.0021923105, 0.014227115, 0.01230966, -5.8182126e-05, -0.02363769, -0.03060073, -0.015902432, 0.018847328, -0.020601176, 0.011871198, -0.016583031, -0.031804863, 0.012591062, 0.031543095, 0.017394513, 0.01725054, 0.009521827, -0.013651224, 0.032066632, 0.004594036, -0.026988326, -0.016386705, 0.0046987436, -0.032406934, -0.014528148, 0.010261322, 0.008631814, 0.019174539, -0.00020921024, 0.003105228, -0.0052190083, 0.022328848, -0.042249426, -0.020431027, 0.001489626, -0.022917826, -0.015627576, -0.038113482, -0.020771325, -0.031909574, 0.011615974, 0.027302448, -0.013860638, 0.012414368, -0.021844575, -0.019423218, -0.004669294, -0.026962148, 0.02976307, 0.028218636, 0.036752287, 0.05033807, 0.0047641853, -0.0028025582, -0.009404031, 0.0012900275, 0.0070415707, 0.026150666, 0.016111847, 0.019370863, 0.0012507623, -0.0014135495, 0.0276951, -0.01641288, -0.030469846, 0.028218636, -0.008690712, 0.002328103, 0.0072837067, -0.005336804, -0.01857247, -0.006616197, -0.0218184, -0.008887039, 0.005117573, -0.044710048, -0.012191865, 0.021517366, -0.0056051165, 0.003939615, 0.0088543175, -0.007997026, 0.0080821, -0.001956719, -0.0049572396, -0.02155663, -0.03327077, 0.03374195, -0.034946088, -0.004967056, 0.0069564963, -0.010817581, -0.014567413, -0.010693241, 0.004554771, 0.014161672, -0.024043432, -0.0022790213, -0.0054153344, -0.010640887, 0.005709824, -0.0020728789, -0.0202347, -0.014331821, -0.032145165, -0.020954562, 0.020417938, 0.03450108, -0.004901614, -0.013559605, -0.0102482345, -0.011341117, 0.027354801, 0.0058799735, 0.019292334, -0.01602023, 0.0018160185, 0.015653752, -0.013729754, -0.015745372, 0.017656282, 0.021268684, -0.012663048, 0.03416078, -0.012276939, 0.02130795, 0.0078072436, 0.025614042, -0.016138025, -0.009325501, 0.00023231948, -0.0011051536, -0.015287276, -0.013055701, -0.03931762, -0.0049048862, 0.011210233, 0.0069368635, -0.007355693, 0.0038709007, 0.014724474, 0.013533428, -0.006753626, -0.0026291367, -0.026857441, 0.015496692, -0.0003789507, 0.009220793, 0.0077418014, 0.0039297985, 0.008468209, -0.012957538, -0.01044456, 0.009161895, -0.031726334, -0.024553878, -0.006753626, 0.0039232546, -0.00422756, 0.012335838, -0.05397665, -0.0047478247, -0.029265711, 0.01675318, -0.0017473043, -0.0029857962, 0.013703577, 0.030862499, 0.016779356, -0.011910464, -0.005588756, -0.032694876, -0.016596118, -0.009482562, -0.008343869, -0.018310701, -0.008808508, 0.01011735, 0.0009971742, 0.0035011529, -0.015457426, 0.02363769, -0.011576709, 0.0011575073, -0.012715402, 0.01931851, 0.031307504, -0.0049441513, -0.008396222, 0.009410575, 0.0048001786, 0.0055854837, -0.011543988, 0.009678888, 0.017368335, 0.007035027, 0.016151112, 0.00047363725, -0.034867555, 0.0010266231, 0.018637912, -0.00845512, 0.009096453, 0.029920133, 0.006148286, -0.0035175134, -0.008370046, -0.0023395554, -0.011720682, 0.0011517811, -0.004034506, -0.035521977, 0.011059716, 0.022106344, 0.006367517, -0.018651001, 0.017067302, 0.006606381, 0.0077221687, -0.0052615455, -0.02172678, 0.0040574106, -0.021059271, -0.0033097346, 0.031176621, 0.013886816, -0.016478322, 0.018755708, 0.012132967, -0.012918272, 0.0062758983, 0.02073206, 0.002108872, -0.007545475, 0.01866409, -0.0062889867, 0.03683082, -0.009279691, 0.024174314, -0.023742396, -0.0046627503, -0.002421358, -0.014030788, -0.018637912, 0.003036514, 0.024553878, -0.03473667, -0.0028745446, 0.004554771, -0.0014552689, -0.0032770135, -0.031543095, 0.0064231427, -0.013572693, -0.024318287, -0.013324013, -0.0043649888, -0.004567859, 0.004845988, 0.0165045, 2.5550542e-05, -0.0116879605, 0.20784414, -0.017957315, -0.006082844, 0.029291887, -0.0116421515, -0.012375102, 0.03939615, 0.03075779, -0.011465457, -0.003753105, -0.022211052, 0.00484926, -0.02412196, -0.009174984, -0.0036549417, -0.0036876628, -0.011766491, -0.020561911, -0.03790407, -0.010876479, 0.0023002902, 0.0038447238, 0.00491143, -0.017381424, 0.014554325, -0.0007566744, -0.002324831, 0.019148361, -0.0051633823, 0.033139884, -0.04604507, 0.005804715, -0.005709824, 0.0087299775, -0.0024655315, -0.020718971, 0.03497226, 0.016478322, 0.020169258, 0.012780844, 0.005464416, -0.0239649, -0.003753105, 0.0020287053, 0.016098758, 0.022865472, -0.004384621, -0.008069012, -0.0128462855, 0.0043289955, -0.03714494, 0.0030872314, 0.023820927, -0.0073098834, 0.016360527, 0.009260058, 0.029658364, 0.015051685, 0.002977616, 0.008016658, -0.00348152, 0.014357999, -0.021177066, -0.0078988625, -0.020758238, 0.0031575817, -0.0010847029, 0.014999331, 0.0019959842, -0.00046422996, -0.001923998, -0.020352496, -0.010438017, 0.02014308, 0.00047690936, -0.037432887, 0.037354354, 0.0301819, 0.021006918, 0.049317174, 0.02421358, 0.019082919, 0.03722347, -0.0014683573, 0.0005120845, -0.031883396, 0.033663422, -0.008533651, 0.0154312495, -0.013978435, -0.0057032797, -0.00089982897, 0.00328683, -0.010699784, 0.018637912, -0.0054480555, 0.016949506, 0.0036680303, -0.029841602, -0.0011656876, -0.04154265, 0.02329739, -0.0014151856, 0.008716889, -0.010771771, -0.02545698, -0.0075847404, 0.018624824, -0.009181527, -0.030548377, 0.031647805, -0.00603049, 0.022695323, -0.017918048, 0.007388414, 0.023231948, -0.0035469623, -0.024318287, 0.0027551127, -0.010294043, -0.012512531, -0.016884064, -0.0077090804, -0.023611512, -0.011007363, -0.0151956575, -0.03491991, -0.0030594186, -0.0081344545, -0.027825985, 0.023781663, 0.0125648845, 0.008559828, 0.016334351, -0.006406782, -0.02861129, 0.041987658, -0.010595078, 0.014292557, -0.00014315461, -0.012708858, 0.01675318, 0.00015890162, 0.0020957836, 0.011465457, -0.03101956, 0.009803228, -0.0012957538, 0.0074342233, -0.008023202, -0.02073206, -0.016870975, -0.00077139883, -0.02711921, 0.019632632, 0.004450063, -0.021451924, -0.038767904, -0.026831264, 0.019972932, -0.025496246, -0.011040084, 0.016988771, -0.009502194, -0.023428274, 0.005120845, -0.16428587, 0.0056312936, 0.012669592, 0.007054659, 0.01567993, 0.02088912, 0.03259017, -0.017957315, -0.0076829037, -0.027145386, 0.011419648, -0.017355246, -0.024737118, -0.04918629, -0.01032022, 0.02264297, -0.013265115, 0.029736893, 0.009345133, -0.022381201, 0.03497226, -0.061672643, 0.02088912, -0.012041348, -0.018991299, 0.013088422, -0.0017096751, 0.0025227934, -0.004083588, -0.017459955, -0.029213358, -0.0028810888, 0.05837436, -0.022263406, -0.011903919, 0.010719418, 0.0026209564, -0.018978212, -0.03141221, 0.059735555, 0.01103354, 0.025470069, 0.0069761286, 0.016884064, -0.018101288, 0.008468209, 0.02329739, -0.019056741, 0.00088919466, -0.006406782, 0.015234923, -0.028794527, 0.019972932, 0.0019469027, 0.004060683, 0.011799213, 0.025286831, 0.0010225329, 0.0059486874, -0.00974433, -0.0069041424, -0.0036778464, 0.017132744, -0.03473667, -0.007695992, 0.001549342, -0.022917826, 0.003877445, -0.035940807, 0.017708635, -0.0024311743, 0.0056934636, 0.028925411, -0.02371622, 0.018546294, -0.010379119, -0.02711921, 0.002889269, 0.0045482265, 0.010634342, 0.0066816392, 0.027171563, -0.020928387, 0.004845988, 0.00071781815, 0.00086956203, 0.017878784, 0.0323284, -0.019213803, -0.010457649, -0.005091396, -0.0046954714, -0.010496914, -0.029213358, 0.007231353, -0.011007363, 0.028558936, -0.0053957016, -0.011013906, -0.01567993, 0.0040214173, 0.008703801, -0.0027714733, -0.014737563, 0.031726334, 0.026438612, -0.021451924, 0.01392608, 0.006416599, -0.0036156764, -0.034631964, 0.00014785827, 0.02073206, -0.014187849, -0.019855136, 0.0011476909, -0.011930096, -0.016543765, 0.022904739, 0.02122942, 0.03905585, 0.0019714434, -0.0077745225, 0.010817581, -0.017276717, -0.022525175, -0.08826832, -0.041071467, 0.036307283, 0.01757775, 0.0070284824, 0.014384176, -0.003785826, 0.030155724, -0.020116905, 0.041254707, -0.006269354, -0.009201161, 0.003965792, -0.0004531866, 0.04272061, -0.02206708, 0.024409907, -0.014109318, -0.03457961, 0.020561911, -0.008906671, -0.012676137, 0.013199673, -0.026111402, -0.002514613, -0.00034868374, -0.03633346, 0.026935972, 0.00086465385, -0.018402321, -0.024868, -0.010673608, 0.008808508, -0.015562133, -0.008154087, -0.011727226, -0.028270992, -0.034553435, 0.01417476, -0.059421435, -0.0066652787, 0.012224586, 0.015143304, -0.010955009, -0.016098758, -0.030312784, -0.0077090804, 0.0030217892, -0.00491143, 0.00023763666, -0.015549045, 0.0028074665, -0.00086219975, 0.0002730163, 0.026556408, 0.03622875, 0.005807987, 0.0036745744, -0.0050455867, -0.029213358, 0.0071135573, -0.0031510375, -0.017224362, 0.013297836, 0.005016138, 0.0074604005, -0.028585114, 0.00018558973, 0.027564216, -0.0010781587, 0.008605638, 0.025928164, -0.023022534, 0.008762699, -0.0361764, -0.0036614859, 0.0049179746, -0.017800253, 0.034841377, -0.007480033, 0.019881312, -0.025404627, 0.005372797, 0.010097717, 0.02910865, 0.006393694, -0.0005615751, 0.00021984459, 0.011393471, -0.015391984, 0.012172232, 0.014501971, 0.0034847923, -0.006112293, 0.002607868, 0.02222414, -0.017315982, 0.0007603555, 0.0017587567, 0.018808061, -0.03840143, -0.007944672, -0.058426715, 0.029972486, -0.016530676, -0.009724697, -0.004194839, 0.027433332, 0.0301819, 0.011674873, -0.013978435, 0.046490073, 0.004096676, 0.0025538784, -0.006050123, -0.034553435, -0.013055701, 0.017603926, 0.01024169, -0.038270544, 0.012113335, 0.0017309438, 0.009862126, -0.0012131331, 0.017551573, 0.008016658, -0.0014200937, 0.025718749, -0.0008761062, 0.014920801, 0.003596044, -0.038924966, 0.014357999, -0.03036514, 0.014279468, 0.00632498, -0.009652711, -0.013304381, 0.010699784, 0.008808508, -0.00763055, 0.014776828, -0.010555812, -0.024292111, -0.016988771, -0.0012998439, -0.00557894, 0.01725054, -0.012505987, 0.020771325, 0.013611958, 0.0010429836, -0.017145833, -0.013245483, -0.0475895, 0.0017309438, 0.028768351, -0.012937905, 0.035260208, 0.0035469623, 0.02711921, -0.008383134, 0.024580056, 0.01715892, 0.011026995, -0.034370195, 0.010424928, 0.024972709, -0.014083141, -0.012617239, 0.0106866965, -0.002015617, -0.002917082, -0.000899011, 0.014698298, 0.00899829, -0.006390422, -0.004129397, -0.012178777, 0.015588311, -0.03913438, 0.02107236, -0.003694207, -0.03175251, -0.003043058, 0.0050423145, 0.012466721, 0.03567904, -0.014214026, -0.009790139, -0.0019141816, -0.016229643, -0.0061810073, -0.007355693, -0.012335838, 0.0030185173, 0.010758683, 0.005421879, -0.0018062022, 0.009076821, 0.0001768982, 0.003507697, 0.013265115, -0.026111402, -0.024409907, -0.015313453, -0.028768351, 0.013899904, -0.0051895594, -0.007473489, 0.0030201534, 0.03306135, 0.0062824422, 0.0061417418, -0.018101288, 0.0024344465, -0.033872835, 0.022512086, -0.021582806, -0.027223917, -0.030417493, 0.04552153, 0.016766269, 0.0069041424, 0.016360527, -0.0180882, 0.015287276, 0.014436529, 0.0019796237, -0.034841377, -0.0053826133, -0.0031412211, -0.021203242, -0.008644902, 0.00304633, -0.006612925, -0.019475572, 0.0025587864, -0.020077638, 0.0033473638, 0.011046628, 0.060259093, 0.03468432, -0.029841602, -0.0025424259, -0.0035764112, 0.023663867, -0.0030545103, -0.007453856, -0.025849633, -0.024815647, -0.008016658, -0.020902209, 0.018297613, -0.0087299775, 0.0055658515, 0.0016229643, 0.010955009, 0.03567904, -0.01866409, 0.01240128, 0.027590392, -0.011498178, -0.008442032, 0.015967874, -0.026988326, 0.0028041943, 0.005520042, 0.0069564963, 0.001768573, -0.027825985, 0.012702313, 0.023101063, -0.008867405, -0.012159144, 0.0008662899, -0.005811259, -0.003965792, -0.028323345, 0.025064327, 0.0038709007, -0.0046005803, 0.016386705, 0.00458422, -0.012964082, -0.014017699, -0.028558936, 0.014148584, 0.0024426267, 0.016583031], 'name': 'Elon_Musk.pdf', 'chunk': 'https://www.nytimes.com/2022/10/27/technology/musk-twitter.html\\nhttps://web.archive.org/web/20221028015154/https://www.nytimes.com/2022/10/27/technology/elon-musk-twitter-deal-complete.html\\nhttps://web.archive.org/web/20221028015154/https://www.nytimes.com/2022/10/27/technology/elon-musk-twitter-deal-complete.html\\nhttps://web.archive.org/web/20221028015154/https://www.nytimes.com/2022/10/27/technology/elon-musk-twitter-deal-complete.html\\nhttps://www.reuters.com/technology/elon-musk-says-he-will-be-twitter-ceo-2022-10-31/\\nhttps://www.reuters.com/technology/elon-musk-says-he-will-be-twitter-ceo-2022-10-31/\\nhttps://www.reuters.com/technology/elon-musk-says-he-will-be-twitter-ceo-2022-10-31/\\nhttps://web.archive.org/web/20221101010029/https://www.reuters.com/technology/elon-musk-says-he-will-be-twitter-ceo-2022-10-31/\\nhttps://web.archive.org/web/20221101010029/https://www.reuters.com/technology/elon-musk-says-he-will-be-twitter-ceo-2022-10-31/', 'ParentKey': 'aHR0cHM6Ly82d2hxand0YWVvZ2Npc2EuYmxvYi5jb3JlLndpbmRvd3MubmV0L2Vsb25tdXNrLXdpa2kvRWxvbl9NdXNrLnBkZg2', 'title': 'Elon Musk - Wikipedia', 'id': 'c75748b74652_aHR0cHM6Ly82d2hxand0YWVvZ2Npc2EuYmxvYi5jb3JlLndpbmRvd3MubmV0L2Vsb25tdXNrLXdpa2kvRWxvbl9NdXNrLnBkZg2_chunks_394', '@search.score': 1.0008129, '@search.reranker_score': None, '@search.highlights': None, '@search.captions': None})\n",
      "{'filepath': None, 'chunkVector': [0.013050213, -0.015905567, 0.044815183, -0.034818154, -0.003048237, -0.012496288, -0.027749013, -0.005410662, -0.030096602, -0.001803554, 0.005562332, 0.00747799, 0.017870681, 0.0063503566, -0.016525434, -0.014942791, 0.026693918, -0.015166999, -0.005568926, -0.012865571, -0.030254865, 0.014731772, -0.026192747, -0.0035576504, -0.011480759, 0.0032889307, 0.010273993, -0.015654981, 0.020350156, -0.015813245, -0.002593227, -0.0065712673, 0.00018536298, 0.0032642018, -0.018002568, -0.0113488715, -0.0008420157, -0.01969072, 0.030070223, -0.021260176, -0.0013988259, 0.00858584, -0.018068511, -0.012021495, -0.013887695, 0.011896202, 0.0004278083, -0.028091919, 0.006759206, 0.03233868, 0.03281347, 0.018965343, -0.0025503638, -0.008790265, -0.015430773, -0.006459163, -0.013557978, 0.03938144, -0.011559891, 0.008308877, 0.027221465, -0.00081069255, -0.03444887, -0.0020887596, -0.027933655, 0.0042236797, -0.010419069, 0.0022618612, 0.009937681, 0.00061739574, 0.020007249, -0.008882586, -0.016644133, -0.028883241, 0.030465884, -0.0055161715, -0.020482043, -0.0050710533, -0.010030002, -0.011869825, -0.0024596916, -0.011744533, -0.0070229797, 0.01277325, 0.0009792605, 0.020666685, -0.009423322, 0.0013798672, -0.04808598, 0.015945131, 0.0019799527, 0.01277325, 0.004441293, 0.01413828, -0.023911104, 0.011909391, -0.029542675, 0.02769626, 0.0071746497, -0.02991196, 0.004134656, 0.0006248144, -0.0011317548, -0.009660719, -0.034607135, -0.011823664, 0.0069042817, -0.004672095, -0.0072801593, -0.02100959, 0.022473536, 0.008632001, -0.00069487933, -0.030887922, 0.0066174273, -0.013248044, 0.008684755, -0.009047445, 0.0035873249, -0.038168084, 0.040884953, 0.015206565, -0.008295689, -0.034791775, 0.0079000285, -0.001126809, -0.037535023, 0.0018612546, 0.01717168, 0.019295061, 0.024702424, -0.007194433, -0.001576049, 0.033631172, -0.009509048, 0.012608392, -0.01900491, -0.008645189, -0.01717168, -0.036137022, 0.0063008987, 0.008592434, -0.015312075, -0.003570839, -0.03769329, 0.028540336, -0.0061030686, 0.01196874, 0.04122786, 0.015180187, 0.0068910928, 0.0120149, 0.0036928344, 0.008209962, -0.021642648, 0.029437166, 0.021167856, 0.010425663, -0.01585281, -0.014362488, -0.013360147, 0.015298885, -0.00762966, 0.0028190834, 0.00012426224, 0.018239964, 0.03845823, -0.004085198, 0.021774534, -0.012087438, -0.03555672, 0.024504595, -0.029120637, 0.03233868, -0.0006178079, 0.042098314, 0.020284213, 0.0060338276, -0.037139364, -0.007906622, -0.022921951, 0.0046028546, 0.024821123, 0.012344618, 0.0051732655, 0.021537138, 0.034158718, -0.008546274, 0.0024085853, -0.031125318, 0.034105964, -0.002027762, -0.014494375, -0.0234495, -0.63643366, -0.037324004, -0.010399286, 0.020587552, 0.0036730515, 0.028804109, 0.014718583, 0.011625834, -0.025375048, 0.0041511417, -0.011124664, 0.01545715, 0.0076494426, -0.007952783, -0.032470565, 0.0011820367, 0.030122979, -0.023713272, 0.047215525, 0.0248475, -0.018424606, 0.017039793, -0.018859833, -0.0068185553, 0.009772822, 0.010722409, -0.007933, -0.019387381, -0.006442677, 0.013373337, -0.016749643, 0.012667741, -0.0046226373, -0.0059711817, 0.041438878, -0.005694219, -0.008559463, 0.013234855, -0.0050611617, 0.0263642, -0.0024679345, -0.011790693, 0.028144674, 0.004695175, -0.0051666712, 0.010729003, 0.0046490147, -0.0033037679, -0.015443961, -0.012951298, -0.0040753065, 0.0057041105, -0.013953639, 0.01909723, -0.0064097056, -0.0041610333, 0.0006961158, -0.010056379, 0.013116157, 0.007082329, 0.0054370393, 0.020271024, -0.017646473, -0.002354182, -0.007135084, 0.017329944, -0.036822837, 0.0054799025, 0.02354182, 0.0031586923, -0.0072076214, 0.01990174, -0.01849055, 0.0069042817, 0.0074911783, 0.03191664, 0.031389095, -0.026614785, -0.008341849, 0.017356321, -0.020719439, -0.009687096, 0.0054139593, -0.024478218, -0.014256978, 0.022486724, -0.032576077, 0.0116654, 0.0055920067, -0.0036104051, 0.0017969597, 0.008500114, -0.0012858977, -0.024676047, -0.008579246, -0.0020079787, 0.0018629031, 0.0028553524, -0.009911304, -0.014560319, 0.021840477, -0.023713272, 0.030967055, 0.010999371, 0.006208578, 0.014639451, 0.012872166, 0.0109466165, 0.029991092, -0.026337823, -0.03890665, -0.010550955, 0.0019568726, 0.0006973522, -0.020284213, -0.031468224, -0.00762966, 0.0032740934, -0.014019582, 0.005526063, 0.014164658, 0.005671139, -0.002669062, -0.0068779043, 0.016921096, 0.021840477, -0.006554781, 0.0037884526, -0.009851955, 0.0002629496, -0.003491707, 0.010847702, 0.043206163, -0.014784527, 0.016314415, 0.021840477, 0.016538624, -0.022157006, 0.0021283256, -0.028461203, 0.009469483, -0.0008795211, 0.023568198, -0.029463544, -0.027933655, 0.019440135, -0.007768141, 0.010729003, -0.020191891, -0.018015757, -0.013037025, -0.0065778615, 0.013557978, 0.022196572, 0.0058722664, 0.0011523622, -0.013676676, -0.011566485, -0.01768604, -0.004767713, 0.007464801, 0.026351012, -0.037666913, 0.005964587, 0.015892377, 0.012252297, -0.012878761, 0.024161689, -0.02191961, -0.024267199, -0.005038081, 0.0241485, 0.009911304, 0.013795375, -6.9910384e-05, -0.006211875, -0.017211247, -0.0026113614, -0.03170562, -0.014613073, 0.007893434, 0.012113816, -0.02242078, -0.0050051096, 0.022249328, 0.028804109, 0.003399386, -0.0045402083, -0.0077219806, 0.020679872, -0.00802532, 0.013050213, 0.019334625, 0.01615615, 0.018569682, -0.008862803, -0.0039961743, -0.00080533465, 0.0046424204, -0.0022288894, 0.0068844985, 0.000983382, -2.8901788e-05, -0.016723264, 0.0032691476, -0.020587552, -0.013637111, -0.0059711817, -0.006495432, 0.00090424984, 0.02393748, -0.0028932698, -0.007537339, -0.016182529, -0.0072076214, 0.015325263, -0.017356321, 0.015562659, -0.020495232, 0.019189551, -0.010788352, 0.009581586, 0.0017079359, 0.006627319, -0.0028108405, 0.01086089, -0.0028240292, -0.02243397, 0.011559891, -0.022895575, -0.0023492363, 0.03170562, 0.005868969, 0.034290604, 0.0011169176, 0.021035967, 0.026693918, -0.009924493, 0.017831115, -0.020060005, -0.004635826, 0.009871738, 0.019928118, -0.0058425916, 0.012305052, -0.004543505, 0.009429917, 0.032549698, 0.002573444, 0.0036202967, -0.017409077, 0.026285069, -0.0015158756, 0.012225919, 0.03537208, -0.0123182405, -0.0025965243, 0.0080187265, 0.0043654577, 0.018530115, 0.013914073, -0.021273365, -0.00568103, -0.008572651, 0.0046028546, -0.00070930447, -0.02264499, -0.001783771, 0.0035015985, -0.014876847, -0.012806223, -0.0035576504, -0.012799628, -0.018516928, 0.020442476, 0.0041544386, 0.0034158719, -0.005169968, 0.019532457, 0.012225919, -0.017132115, -0.03357842, 0.017791549, 0.02930528, -0.008480331, -0.018160833, 0.0028602981, 0.031468224, -0.016116586, 0.023146158, -0.018754324, -0.0036961318, -0.0081374245, -0.019756664, -0.010425663, -0.025124462, 0.022974705, -0.004863331, 0.016195716, 0.0036499712, 0.009185926, 5.888546e-05, -0.0024646374, 0.02322529, 0.021655837, -0.005526063, -0.0027481942, -0.015720924, -0.018635625, -0.010841107, 0.009014472, -0.023053838, -0.008790265, -0.012245703, -0.015035111, 0.007847274, 0.006739423, -0.019229116, 0.009555209, 0.00024007546, 0.018160833, -0.029015128, -0.049272962, -0.017791549, 0.08097859, 0.02798641, -0.013465657, 0.021510761, 0.023383556, -0.02505852, -0.00086468377, -0.020864515, -0.013406308, -0.038141705, -0.023014272, 0.012812817, -0.010788352, 0.0018052026, 0.017712416, -0.011441193, 0.008678161, -0.009977248, 0.010689437, -0.009621153, -0.0011004317, -0.012008307, 0.014573508, 0.020851325, 0.006838338, -0.004579774, 0.006413003, 0.033367395, 0.032206792, -0.016683698, 0.0024085853, 0.0040753065, 0.029437166, 0.0218141, -0.018464172, 0.009522238, -0.015048301, 0.0066536963, 0.0142306015, -0.0029938337, 0.011520324, 0.019664343, -0.008506708, -0.014270168, 0.008058293, -0.014929602, -0.009172737, 0.03655906, -0.0106168995, 0.00018567209, 0.029015128, -0.008335255, -0.030122979, -0.019769853, 0.011810476, 0.016235283, -0.0005300207, -0.013175506, -0.009001284, -0.0011515379, -0.011520324, -0.024108933, -0.010808135, -0.004731444, -0.0066009415, -0.0141119035, -0.0057799453, -0.0110653145, 0.006116257, 0.00813083, 0.029727317, -0.025717955, -0.016525434, -0.00028644197, 0.029463544, 0.018754324, 0.00600745, -0.003854396, -0.0124830995, 0.011639023, 0.008981501, -0.025783898, -0.011375249, -0.03568861, 0.0030350483, 0.006254738, -0.0226318, 0.009957464, -0.01970391, 0.017105738, 0.017501397, 0.0039500142, -0.0008040982, -0.0061261486, 0.005255695, 0.01121039, -0.004157736, 0.014890037, 0.010353126, 0.012535854, 0.02354182, -0.01990174, -0.010227833, 0.0052820724, -0.01515381, -0.00767582, 0.011249957, 0.0112301735, -0.00050776475, -0.0009800849, 0.045395486, -0.020561175, 0.0040324433, -0.008045103, 0.008229746, 0.009640936, 0.013676676, 0.0043225945, -0.008203368, -0.013887695, -0.0004020491, -0.029252525, 0.008124236, 0.049879644, -0.0010855944, 0.012595204, -0.02848758, -0.01958521, -0.025770709, 0.014744961, -0.0024415571, 0.01485047, -0.0077153863, -0.017316757, -0.021893233, -0.02666754, 0.017791549, 0.021774534, 0.006792178, 0.004978732, -0.001803554, 0.010841107, 0.016340792, -0.019519268, 0.025124462, -0.044208504, -0.007194433, -0.011856636, 0.03030762, 0.021800913, 0.037218496, 0.011441193, -0.0023195616, 0.02596854, 0.01597151, -0.025810275, -0.0040357406, -0.0016782614, 0.03455438, 0.030439507, 0.051673304, -0.013914073, 0.012496288, 0.017092548, 0.011355466, 0.007273565, -0.009251869, 0.021734968, -0.007425235, 0.0076032826, 0.009917898, 0.0048336564, 0.021392062, 0.0078011127, -0.01252926, 0.0143492995, -0.0044314014, -0.005176563, -0.018596059, -0.025638822, -0.013887695, 0.015681358, -0.008539679, 0.0030333998, -0.022869196, -0.018662002, 0.021471195, 0.015206565, 0.018965343, -0.006376734, 0.028171051, -0.007959377, 0.033631172, -0.008124236, -0.017448643, -0.010715814, -0.019070853, -0.037508648, -0.0023723166, 0.01348544, 0.013571166, 0.018239964, 0.007194433, -0.012443533, 0.011981929, 0.010260805, -0.025876218, -0.010313559, 0.005981073, -0.027115956, -0.012186354, -0.038616497, -0.0131425345, -0.0060305307, 0.019374192, 0.0032130957, -0.01605064, 0.011671995, -0.025388237, -0.017316757, -0.00013642055, -0.0024563943, 0.03423785, 0.026245503, 0.02909426, 0.0278809, -0.0180817, -0.015114244, -0.007273565, 0.014520753, -0.0036565657, 0.046714354, 0.020336967, 0.0119159855, 0.0014136632, -0.013874507, 0.008229746, -0.005677733, -0.034712642, 0.022117442, -0.010992777, 0.016235283, 0.0060239364, -0.021866856, -0.027432485, 0.002840515, 6.589195e-05, 0.0032642018, 0.016406735, -0.024913443, -0.02536186, 0.033103622, 0.002042599, 0.012535854, 0.0040687122, 0.009838766, -0.00060874067, -0.0020145732, -0.002401991, -0.0038939621, -0.016696887, 0.022948328, -0.022684556, -0.0023789108, 0.011711561, 0.00053125713, -0.010827919, -0.03041313, -0.007003197, 0.025625633, -0.0010278939, -0.0066207247, -0.006610833, -0.012826006, 0.025823465, 0.008671567, -0.0033251997, -0.009126577, -0.03030762, -0.022077875, 0.01727719, 0.028935995, 0.016208906, -0.020587552, 1.6627544e-05, -0.008533086, -0.011071909, -0.006970225, 0.002992185, -0.02273731, 0.0015447258, -0.0027350055, -0.014560319, 0.0019717098, 0.010353126, 0.017395888, -0.01626166, 0.026337823, -0.019268682, 0.023317613, 0.007214216, 0.005258992, -0.02475518, 0.0016609512, 0.005199643, -0.0391968, -0.014256978, -0.00016949534, -0.05787199, -0.039724346, 0.0012661146, 0.005766757, 0.007042763, 0.0013526655, -0.0027828147, 0.023462689, -0.003570839, -0.010524578, -0.01767285, 0.021246986, -0.013254638, -0.0061624176, 0.017329944, 0.005549143, 0.015509904, -0.0240298, 0.006508621, 0.01278644, -0.031969395, -0.008763888, -0.007082329, -0.0014730124, 0.010504795, -0.0032032041, -0.018477362, -0.015931943, -0.034818154, 0.010913645, 0.013287609, -0.010821324, 0.015654981, 0.03845823, 0.010874079, 0.03547759, 0.0044182125, -0.025704766, -0.033974078, -0.014916413, -0.019572023, 0.0069372533, 0.027801769, 0.0347654, -0.007141678, 0.013056807, -0.024478218, 0.02425401, -0.032787096, -0.012621581, 0.00550628, 0.036638193, 0.030333998, 0.00029283023, 0.018424606, 0.0055887094, 0.011784099, 0.018530115, -0.013900884, -0.002166243, 0.023568198, 0.00767582, 0.0054733083, 0.0072274045, -0.013597544, -0.008394605, -0.007913217, 0.02182729, -0.0052293176, 0.027115956, -0.020007249, 0.019967683, 0.0023937481, -0.00908701, -0.0096013695, -0.0022585639, -0.0032411218, -0.06694581, -0.004464373, 0.017606907, -0.00063429377, -0.004507236, 0.008368227, 0.0017821223, 0.009515643, -0.003239473, -0.008572651, 0.0059316154, 0.006983414, 0.009917898, 0.02232846, 0.02586303, 0.0016255066, 0.04637145, 0.0042071934, -0.013795375, -0.030940678, -0.0014449863, -0.0036961318, 0.0018744433, 0.014599885, -0.016855152, 0.04819149, -0.0021382172, 0.019189551, -0.019479701, -0.006538295, -0.021260176, -0.008262717, -0.0068844985, 0.015193376, -0.00015259732, -0.013861318, -0.013518412, -0.007616471, -0.0040093632, -0.029173393, -0.023884727, -0.0071878387, -0.023489065, -0.02666754, -0.003969797, 0.0030812088, -0.018411418, -0.0048138737, -0.007062546, 0.006152526, -0.024174877, 0.20067918, -0.00985855, 0.005104025, 0.033420153, -0.016512245, -0.01616934, 0.025678389, 0.028118297, -0.020943647, 0.031019809, -0.031019809, 0.018108077, -0.025731143, -0.0005901941, 0.0041544386, -0.01788387, -0.016736453, -0.028144674, -0.02404299, -0.02464967, -0.007847274, 0.018727947, 0.0003527976, -0.018701568, 0.0072208103, -0.0006614955, -0.0035180843, 0.012219326, 0.020468853, 0.027142333, -0.029463544, -1.0986286e-05, -0.015378018, -0.0082561225, -0.027458861, -0.0060832854, 0.009555209, 0.0046786894, 0.0064690546, 0.007346103, 0.00843417, -0.026654352, -0.022302082, 8.052316e-05, 0.00550628, 0.016578188, -0.00037010774, 0.0039665, -0.015087866, 0.008935341, -0.023264857, 0.007867056, 0.017501397, 0.008163802, 0.012720495, -0.0010897159, 0.030149356, 0.02475518, -0.008104453, 0.021062344, 0.018622437, 0.034396116, -0.01686834, 0.019229116, -0.012924921, 0.012489694, -0.0025124464, 0.017554153, 0.008348444, -0.010076162, -0.007253782, -0.021642648, -0.0037554807, 0.0053645014, -0.0053117466, -0.019084042, 0.032048527, 0.044234883, -0.0039796885, 0.05750271, 0.0077219806, 0.009818983, -0.0030218596, 0.019281872, 0.0062184697, -0.048877303, 0.03829997, 0.00028479338, -0.008414387, -0.018437795, -0.0113159, -0.01788387, -0.020838138, 0.008869397, 0.018767511, 0.008045103, 0.016921096, -0.0002452273, -0.02354182, 0.011507136, -0.037033856, 0.016353982, 0.02677305, 0.010241021, -0.0050710533, -0.005206237, 0.017936625, 0.020706251, 0.008803453, -0.021154666, -0.011493947, -0.0015999535, 0.011052126, -0.010630088, 0.0065646726, 0.03434336, -0.0022552668, -0.044419523, 0.009073822, -0.012687524, -0.023884727, -0.033657547, -8.897217e-05, -0.0048006848, 0.0030696688, -0.0012224271, -0.0180817, 0.013320581, -0.00687131, -0.05375712, 0.001466418, -0.010841107, 0.011830259, -7.701992e-05, -0.011731344, -0.009245275, 0.03851099, -0.018002568, 0.002031059, 0.00075876206, -0.011856636, 0.011988523, 0.008176991, -0.01940057, 0.006508621, 0.0024415571, 0.013597544, 0.0076230653, -0.009548615, -0.025375048, -0.039144047, 0.0025140948, 0.00079008524, -0.012931515, 0.01990174, -0.011493947, -0.024412274, -0.0394342, -0.017356321, 0.013623921, -0.037139364, -0.0045270193, 0.013353554, -0.029859204, -0.0036137023, -0.016828774, -0.1667051, 0.0032889307, 0.016129773, -0.008170396, 0.012588609, 0.013953639, 0.011236768, -0.021233799, -0.017343134, -0.01899172, 0.009469483, -0.004827062, -0.035292946, -0.021405252, -0.0225131, 0.017303567, -0.016459491, 0.001795311, 0.029489921, -0.004194005, 0.022697743, -0.030887922, 0.015826434, -0.003590622, -0.0032707963, 0.0064163, 0.00031529224, 0.010293776, -0.0026229017, -0.019664343, -0.014599885, -0.0021118398, 0.037825175, -0.0035213814, 0.011355466, 0.01242375, -0.0017178275, -0.006363545, -0.020627119, 0.022183385, 0.02534867, 0.025625633, -0.0028850269, 0.023990236, -0.024003424, 0.0013444226, 0.012338024, -0.017198058, 0.011045531, -0.0048138737, 0.0054601193, -0.03123083, 0.028672222, -0.00038597538, -0.0127666565, 0.024689237, 0.016538624, 0.020257834, -0.0011218634, 0.000578654, -0.004302812, -0.011790693, -0.0038675847, -0.014309733, -0.02120742, -0.0039434195, -0.014507564, 0.009060633, -0.029516298, -0.005628275, -0.0082561225, -0.01767285, 0.0068053664, -0.024267199, 0.011124664, -0.0074713957, -0.038642876, 0.01161924, 0.0014037717, 0.007933, -0.0064822435, 0.030149356, -0.021444818, 0.013221666, -0.000105251966, 0.013492035, 0.019651154, 0.017079359, -0.013887695, -0.0044083213, -0.0211151, -0.009476077, 0.011085098, -0.04761119, 0.004840251, 0.0034884098, 0.015074678, 0.0022602126, -0.016604567, -0.0074318293, 0.00033404492, -0.015562659, -0.019202739, -0.003171881, 0.05233274, 0.029278902, -0.021378875, -0.0020920567, 0.034501623, -0.0028372179, -0.015628602, -0.0008844668, 0.024807934, 0.00084284, -0.013307393, -0.02544099, -0.015061489, -0.03355204, -0.0030746143, 0.019994061, 0.044973448, 0.0004871574, -0.0019700613, 0.001149065, 0.0019239008, 0.005578818, -0.099231735, -0.020679872, 0.009818983, 0.022473536, 0.014626263, 0.017870681, -0.0044149156, 0.024689237, -0.031811133, 0.043760087, 0.008381415, -0.0065415925, 0.01465264, 0.004559991, 0.025994917, -0.015219754, 0.0078011127, 0.0018431201, -0.051515043, 0.016037453, 0.0043192976, -0.0046786894, 0.011184013, -0.005351313, 0.005067756, 0.021194233, -0.040990464, 0.03355204, 0.025388237, -0.018503739, -0.035292946, -0.0015661574, 0.0068976874, -0.025018953, -0.008678161, -0.010827919, -0.006627319, -0.035714984, 0.0068976874, -0.033420153, 0.00054156076, 0.026126804, -0.005997559, -0.040172763, -0.020890892, -0.02827656, -0.024108933, 0.013887695, -0.008196774, -0.014810904, -0.01545715, -0.0006157472, -0.006610833, 0.008757293, 0.046345074, 0.028619466, 0.00934419, 0.0011119718, 0.009911304, -0.038326345, -0.007834084, -0.006261333, -0.016512245, 0.0015150512, 0.014336111, -0.011428004, -0.030254865, 0.015786868, -0.012436939, -0.012694119, -0.020627119, 0.02677305, -0.026298257, 0.01797619, -0.03376306, 0.0041247644, -0.0034224663, 0.012417156, 0.019334625, -0.0035609475, 0.007965972, -0.020086382, -0.01020805, 0.004266543, 0.030360375, 0.012502883, 0.00492268, 0.01961159, 0.016222095, -0.023040649, 0.016499057, 0.0054601193, 0.0014837282, -0.012239109, -0.010069569, 0.014375677, -0.018609248, 0.0036796457, -0.009898115, 0.027247842, -0.02464967, -0.010999371, -0.065099396, 0.023581386, -0.005868969, 0.000168568, -0.0064031114, 0.004520425, 0.0068053664, -0.0066306163, -0.0047776047, 0.040462915, -0.040726688, 0.00654489, -0.005222723, -0.016525434, -0.022341648, 0.0009232086, 0.01980942, -0.015641792, 0.006291007, 0.012094033, 0.004708364, -0.0013551384, 0.016485868, -0.018965343, -0.01990174, 0.0075703105, -0.009054039, 0.027617127, -0.007669226, -0.046503335, 0.005730488, -0.02737973, 0.0025652011, -0.00020576424, -0.003607108, -0.016736453, 0.010610305, 0.0020739222, 0.019756664, 0.045712017, -0.025638822, -0.023581386, 0.009535426, -0.0131821, -0.0072405934, 0.023515442, -0.006172309, 0.03505555, 0.013063402, 0.006291007, 0.0036169994, -0.005262289, -0.027828146, 0.0024827716, 0.023396743, -0.007814301, 0.038168084, 0.012436939, 0.01747502, 0.002865244, 0.037007477, 0.009007879, 0.03402683, -0.023977047, 0.010821324, 0.015114244, -0.017659662, -0.0035642446, -0.0035840278, -0.009027662, -0.005601898, -0.013241449, 0.016274849, 0.022104252, -0.015786868, 0.0035972164, -0.019479701, 0.014125092, -0.008150613, 0.015232942, 0.0063173845, -0.0035114898, -0.005067756, 0.009350784, 0.0062184697, 0.046899, -0.0053051524, -0.0096475305, 0.012839194, 0.00046861082, -0.006604239, 0.016485868, -0.017963002, 0.0021777833, -0.00025491274, 0.005133699, -0.008770482, 0.015430773, 0.017725606, 0.01172475, 0.017198058, -0.011929174, -0.0068053664, -0.023146158, -0.037455894, 0.015734112, -0.0096475305, -0.016551811, 0.005410662, 0.0202974, 0.0024250713, 0.003643377, -0.037719667, 0.0007682415, -0.037007477, 0.02545418, -0.0060338276, -0.02434633, -0.030940678, 0.038563743, 0.00030045494, 0.008427576, 0.013274421, 0.0013740971, 0.022658177, 0.008064887, 0.012918326, -0.012549043, 0.0046226373, -0.012094033, -0.01025421, -0.0011746181, 0.013386525, -0.012338024, -0.03827359, 0.0011795638, 0.0044182125, 0.0029064585, -0.0023690192, 0.06610174, 0.023726461, -0.016617754, 0.01849055, -0.021629458, 0.030439507, -0.008117641, -0.005789837, -0.0075043673, -0.0065613757, 0.0071087065, -0.025388237, 0.0134986285, -0.011493947, 0.0009940979, 0.016525434, -0.0014408649, 0.032787096, -0.025981728, 0.005265586, 0.017237624, -0.024188066, 0.004048929, 0.013900884, -0.033683926, -0.007385669, 0.011216985, -0.0023327502, -0.0063602477, -0.022908762, 0.0142306015, 0.03769329, -0.030967055, 0.009014472, 0.004893006, -0.031178074, -0.0045501, -0.01066306, 0.021378875, 0.005470011, 0.0013411253, 0.0044709677, -0.0015331857, -0.021682214, 0.017198058, -0.013927261, -0.017356321, -0.005868969, -0.00039071508], 'name': 'Elon_Musk.pdf', 'chunk': 'https://web.archive.org/web/20201214162910/https://www.cnbc.com/2019/12/20/elon-musks-college-friend-on-why-hes-different-from-everyone-else.html\\nhttps://web.archive.org/web/20201214162910/https://www.cnbc.com/2019/12/20/elon-musks-college-friend-on-why-hes-different-from-everyone-else.html\\nhttps://edition.cnn.com/2024/09/29/us/elon-musk-immigration-gray-area-cec/index.html\\nhttps://edition.cnn.com/2024/09/29/us/elon-musk-immigration-gray-area-cec/index.html\\nhttps://edition.cnn.com/2024/09/29/us/elon-musk-immigration-gray-area-cec/index.html\\nhttps://web.archive.org/web/20241113024641/https://edition.cnn.com/2024/09/29/us/elon-musk-immigration-gray-area-cec/index.html\\nhttps://web.archive.org/web/20241113024641/https://edition.cnn.com/2024/09/29/us/elon-musk-immigration-gray-area-cec/index.html', 'ParentKey': 'aHR0cHM6Ly82d2hxand0YWVvZ2Npc2EuYmxvYi5jb3JlLndpbmRvd3MubmV0L2Vsb25tdXNrLXdpa2kvRWxvbl9NdXNrLnBkZg2', 'title': 'Elon Musk - Wikipedia', 'id': 'c75748b74652_aHR0cHM6Ly82d2hxand0YWVvZ2Npc2EuYmxvYi5jb3JlLndpbmRvd3MubmV0L2Vsb25tdXNrLXdpa2kvRWxvbl9NdXNrLnBkZg2_chunks_193', '@search.score': 0.9995269, '@search.reranker_score': None, '@search.highlights': None, '@search.captions': None})\n"
     ]
    }
   ],
   "source": [
    "results = search_client.search(search_text=\"elon musk\", top=5)\n",
    "\n",
    "for result in results:\n",
    "    print(\"{})\".format(result))"
   ]
  },
  {
   "cell_type": "markdown",
   "metadata": {},
   "source": [
    "Perform vector similarity search"
   ]
  },
  {
   "cell_type": "code",
   "execution_count": 164,
   "metadata": {},
   "outputs": [],
   "source": [
    "from azure.search.documents import SearchClient\n",
    "from azure.search.documents.models import VectorizableTextQuery\n",
    "\n",
    "# Pure Vector Search\n",
    "query = \"Who is Elon Musk?\"\n",
    "# if use_ocr:\n",
    "#     query = \"Who is the national director?\"\n",
    "  \n",
    "search_client = SearchClient(search_endpoint, search_index_name, credential=search_key_credential)\n",
    "vector_query = VectorizableTextQuery(text=query, k_nearest_neighbors=1, fields=\"vector\", exhaustive=True)\n",
    "# Use the below query to pass in the raw vector query instead of the query vectorization\n",
    "# vector_query = RawVectorQuery(vector=generate_embeddings(query), k_nearest_neighbors=3, fields=\"vector\")\n",
    "  \n",
    "results = search_client.search(  \n",
    "    search_text=None,  \n",
    "    vector_queries= [vector_query],\n",
    "    select=[\"ParentKey\", \"title\", \"chunk\"],\n",
    "    top=1\n",
    ")  \n",
    "\n",
    "\n",
    "    \n",
    "# for result in results:      \n",
    "#     # print(f\"ParentKey: {result['ParentKey']}\")  \n",
    "#     print(f\"title: {result['title']}\")  \n",
    "    # print(f\"Score: {result['@search.score']}\")  \n",
    "    # print(f\"Content: {result['chunk']}\")   "
   ]
  },
  {
   "cell_type": "code",
   "execution_count": 165,
   "metadata": {},
   "outputs": [
    {
     "name": "stdout",
     "output_type": "stream",
     "text": [
      "200\n",
      "Index: elonmusk-vindex-6whqjwtaeogci Results Found: 956, Results Returned: 10\n"
     ]
    }
   ],
   "source": [
    "query = \"Which is Elon Musk?\"\n",
    "\n",
    "agg_search_results = dict()\n",
    "k = 10\n",
    "\n",
    "\n",
    "search_payload = {\n",
    "    \"search\": query, # Text query\n",
    "    \"select\": \"id, title, name, filepath, chunk\", # Select fields to return\n",
    "    \"queryType\": \"semantic\",\n",
    "    \"vectorQueries\": [{\"text\": query, \"fields\": \"chunkVector\", \"kind\": \"text\", \"k\": k, \n",
    "                        \"threshold\": { \n",
    "                                \"kind\": \"vectorSimilarity\", \n",
    "                                \"value\": 0.8 \n",
    "                            }\n",
    "                        }], # Vector query\n",
    "    \"semanticConfiguration\": \"my-semantic-config\",\n",
    "    \"captions\": \"extractive\",\n",
    "    \"answers\": \"extractive\",\n",
    "    \"count\":\"true\",\n",
    "    \"top\": k\n",
    "}\n",
    "\n",
    "r = requests.post(search_endpoint + \"/indexes/\" + search_index_name + \"/docs/search\",\n",
    "                    data=json.dumps(search_payload), headers=headers, params=params)\n",
    "print(r.status_code)\n",
    "\n",
    "search_results = r.json()\n",
    "agg_search_results[search_index_name]=search_results\n",
    "print(\"Index:\", search_index_name, \"Results Found: {}, Results Returned: {}\".format(search_results['@odata.count'], len(search_results['value'])))"
   ]
  },
  {
   "cell_type": "code",
   "execution_count": 166,
   "metadata": {},
   "outputs": [
    {
     "data": {
      "text/plain": [
       "{'elonmusk-vindex-6whqjwtaeogci': {'@odata.context': \"https://6whqjwtaeogci-search.search.windows.net/indexes('elonmusk-vindex-6whqjwtaeogci')/$metadata#docs(*)\",\n",
       "  '@odata.count': 956,\n",
       "  '@search.answers': [{'key': 'c75748b74652_aHR0cHM6Ly82d2hxand0YWVvZ2Npc2EuYmxvYi5jb3JlLndpbmRvd3MubmV0L2Vsb25tdXNrLXdpa2kvRWxvbl9NdXNrLnBkZg2_chunks_0',\n",
       "    'text': '... chairman of X (formerly Twitter)  Founder of The Boring Company, X Corp., and xAI  Co-founder of Neuralink, OpenAI, Zip2, and X.com (part of PayPal)  President of the Musk Foundation  Elon Musk Elon Reeve Musk (/ˈiːlɒn mʌsk/; born June 28, 1971 businessman known for his key roles in the space company SpaceX and the automotive company Tesla, Inc',\n",
       "    'highlights': '',\n",
       "    'score': 0.9950000047683716}],\n",
       "  'value': [{'@search.score': 0.028431374579668045,\n",
       "    '@search.rerankerScore': 3.356907844543457,\n",
       "    '@search.captions': [{'text': '...lvania (BA, BS)  Occupation Businessman  Title Founder, CEO, and chief engineer  of SpaceX  CEO and product architect of Tesla, Inc.  Owner, CTO and executive chairman of X (formerly Twitter)  Founder of The Boring Company, X Corp., and xAI  Co-founder of Neuralink, OpenAI, Zip2, and X.com (part of PayPal)  President of the Musk Foundation .',\n",
       "      'highlights': ''}],\n",
       "    'id': 'c75748b74652_aHR0cHM6Ly82d2hxand0YWVvZ2Npc2EuYmxvYi5jb3JlLndpbmRvd3MubmV0L2Vsb25tdXNrLXdpa2kvRWxvbl9NdXNrLnBkZg2_chunks_0',\n",
       "    'title': 'Elon Musk - Wikipedia',\n",
       "    'name': 'Elon_Musk.pdf',\n",
       "    'filepath': None,\n",
       "    'chunk': 'Elon Musk\\nFRS\\n\\nMusk in 2018\\n\\nBorn Elon Reeve Musk\\nJune 28, 1971\\nPretoria, Transvaal, South Africa\\n\\nCitizenship South Africa\\n\\nCanada (from 1989)\\n\\nUnited States (from 2002)\\n\\nEducation University of Pennsylvania (BA,\\nBS)\\n\\nOccupation Businessman\\n\\nTitle Founder, CEO, and chief engineer\\n\\nof SpaceX\\n\\nCEO and product architect of\\nTesla, Inc.\\n\\nOwner, CTO and executive\\nchairman of X (formerly Twitter)\\n\\nFounder of The Boring Company,\\nX Corp., and xAI\\n\\nCo-founder of Neuralink, OpenAI,\\nZip2, and X.com (part of PayPal)\\n\\nPresident of the Musk Foundation\\n\\nElon Musk\\nElon Reeve Musk (/ˈiːlɒn mʌsk/; born June 28, 1971)\\nis a businessman known for his key roles in the space\\ncompany SpaceX and the automotive company Tesla,\\nInc. He is also known for his ownership of X Corp.\\n(the company that operates the social media platform\\nX, formerly Twitter), and his role in the founding of\\nthe Boring Company, xAI, Neuralink, and OpenAI.\\nMusk is the wealthiest individual in the world; as of'},\n",
       "   {'@search.score': 0.03057890012860298,\n",
       "    '@search.rerankerScore': 3.0733325481414795,\n",
       "    '@search.captions': [{'text': \"Elon Reeve Musk was born on June 28, 1971, in Pretoria, South Africa's administrative capital.[3][4] He is of British and Pennsylvania Dutch ancestry.[5][6] His mother, Maye (née Haldeman), is a model and dietitian born in Saskatchewan, Canada, and raised in South Africa.[7][8][9] His father, Errol Musk, is a South African electromechanical.\",\n",
       "      'highlights': \"Elon<em> Reeve </em>Musk was born on June 28, 1971, in Pretoria, South Africa's administrative capital.[3][4] He is of British and Pennsylvania Dutch ancestry.[5][6] His mother, Maye (née Haldeman), is a model and<em> dietitian </em>born in Saskatchewan, Canada, and raised in South Africa.[7][8][9] His father, Errol Musk, is a South African electromechanical.\"}],\n",
       "    'id': 'c75748b74652_aHR0cHM6Ly82d2hxand0YWVvZ2Npc2EuYmxvYi5jb3JlLndpbmRvd3MubmV0L2Vsb25tdXNrLXdpa2kvRWxvbl9NdXNrLnBkZg2_chunks_8',\n",
       "    'title': 'Elon Musk - Wikipedia',\n",
       "    'name': 'Elon_Musk.pdf',\n",
       "    'filepath': None,\n",
       "    'chunk': \"winning in November, Trump announced that he had chosen Musk along with Vivek Ramaswamy to co-\\nlead his planned Department of Government Efficiency (DOGE) advisory board, which is tasked with\\nremoving regulations in order to reduce expenditures and increase government efficiency.\\n\\nElon Reeve Musk was born on June 28, 1971, in Pretoria, South Africa's administrative capital.[3][4] He is\\nof British and Pennsylvania Dutch ancestry.[5][6] His mother, Maye (née Haldeman), is a model and\\ndietitian born in Saskatchewan, Canada, and raised in South Africa.[7][8][9] His father, Errol Musk, is a\\nSouth African electromechanical engineer, pilot, sailor, consultant, emerald dealer, and property\\ndeveloper, who partly owned a rental lodge at the Timbavati Private Nature Reserve.[10][11][12][13] Elon\\nhas a younger brother, Kimbal, and a younger sister, Tosca.[9][14] Elon has four paternal half-\\nsiblings.[15][16][17]\\n\\n0:000:00 / 0:00/ 0:00\\n\\nEarly life and education\\n\\nChildhood and family\"},\n",
       "   {'@search.score': 0.01651577278971672,\n",
       "    '@search.rerankerScore': 2.998185157775879,\n",
       "    '@search.captions': [{'text': \"2012)    (m. 2013; div. 2016)   Children 12[1]  Parents Errol Musk (father)  Maye Musk (mother)  Relatives Kimbal Musk (brother)  Tosca Musk (sister)  Lyndon Rive (cousin)  Awards Full list  Elon Musk's voice  Elon Musk speaking about India and his meeting with its prime minister, Narendra Modi  Recorded June 20, 2023  Signature  In 2015, he.\",\n",
       "      'highlights': ''}],\n",
       "    'id': 'c75748b74652_aHR0cHM6Ly82d2hxand0YWVvZ2Npc2EuYmxvYi5jb3JlLndpbmRvd3MubmV0L2Vsb25tdXNrLXdpa2kvRWxvbl9NdXNrLnBkZg2_chunks_6',\n",
       "    'title': 'Elon Musk - Wikipedia',\n",
       "    'name': 'Elon_Musk.pdf',\n",
       "    'filepath': None,\n",
       "    'chunk': \"2012) \\n  (m. 2013; div. 2016) \\n\\nChildren 12[1]\\n\\nParents Errol Musk (father)\\n\\nMaye Musk (mother)\\n\\nRelatives Kimbal Musk (brother)\\n\\nTosca Musk (sister)\\n\\nLyndon Rive (cousin)\\n\\nAwards Full list\\n\\nElon Musk's voice\\n\\nElon Musk speaking about India and his meeting\\nwith its prime minister, Narendra Modi\\n\\nRecorded June 20, 2023\\n\\nSignature\\n\\nIn 2015, he co-founded OpenAI, a nonprofit artificial\\nintelligence research company. The following year\\nMusk co-founded Neuralink, a neurotechnology\\ncompany developing brain–computer interfaces, and\\nthe Boring Company, a tunnel construction company.\\nIn 2018 the U.S. Securities and Exchange\\nCommission (SEC) sued Musk, alleging that he had\\nfalsely announced that he had secured funding for a\\nprivate takeover of Tesla. To settle the case Musk\\nstepped down as the chairman of Tesla and paid a\\n$20 million fine. In 2022, he acquired Twitter for\\n$44 billion, merged the company into his newly-\\ncreated X Corp. and rebranded the service as X the\\nfollowing year.\"},\n",
       "   {'@search.score': 0.017670581117272377,\n",
       "    '@search.rerankerScore': 2.7011399269104004,\n",
       "    '@search.captions': [{'text': '\"Elon Musk: \\'I am moderate\\' \" (https://www.thenews.com.pk/latest/1065654-elon-musk-i-am- moderate). www.thenews.com.pk. Archived (https://web.archive.org/web/20240812153155/h ttps://www.thenews.com.pk/latest/1065654-elon-musk-i-am-moderate) from the original on August 12, 2024. \"Elon Musk, SpaceX Founder, Battles Entrenched Rivals Over NASA.',\n",
       "      'highlights': '\"Elon Musk: \\'I am moderate\\' \" (https://www.thenews.com.pk/latest/1065654-elon-musk-i-am- moderate). www.thenews.com.pk. Archived (https://web.archive.org/web/20240812153155/h ttps://www.thenews.com.pk/latest/1065654-elon-musk-i-am-moderate) from the original on August 12, 2024. \"Elon Musk,<em> SpaceX Founder, </em>Battles Entrenched Rivals Over NASA.'}],\n",
       "    'id': 'c75748b74652_aHR0cHM6Ly82d2hxand0YWVvZ2Npc2EuYmxvYi5jb3JlLndpbmRvd3MubmV0L2Vsb25tdXNrLXdpa2kvRWxvbl9NdXNrLnBkZg2_chunks_629',\n",
       "    'title': 'Elon Musk - Wikipedia',\n",
       "    'name': 'Elon_Musk.pdf',\n",
       "    'filepath': None,\n",
       "    'chunk': '\"Elon Musk: \\'I am moderate\\' \" (https://www.thenews.com.pk/latest/1065654-elon-musk-i-am-\\nmoderate). www.thenews.com.pk. Archived (https://web.archive.org/web/20240812153155/h\\nttps://www.thenews.com.pk/latest/1065654-elon-musk-i-am-moderate) from the original on\\nAugust 12, 2024. Retrieved August 12, 2024.\\n\\n423. \"Elon Musk, SpaceX Founder, Battles Entrenched Rivals Over NASA Contracts\" (https://ww\\nw.huffingtonpost.com/2013/02/20/elon-musk-spacex_n_2727312.html). HuffPost. February\\n20, 2013. Archived (https://web.archive.org/web/20150530231139/http://www.huffingtonpos\\nt.com/2013/02/20/elon-musk-spacex_n_2727312.html) from the original on May 30, 2015.\\nRetrieved May 30, 2015.\\n\\n424. Peters, Jeremy W. (April 26, 2022). \"The Elusive Politics of Elon Musk\" (https://www.nytime\\ns.com/2022/04/16/business/elon-musk-politics-twitter.html). The New York Times. Archived\\n(https://web.archive.org/web/20220611171849/https://www.nytimes.com/2022/04/16/busine'},\n",
       "   {'@search.score': 0.015625,\n",
       "    '@search.rerankerScore': 2.6961774826049805,\n",
       "    '@search.captions': [{'text': 'and its people.[476]: 207–208  In 2022, Musk wrote an article for China Cyberspace, the official publication of Cyberspace Administration of China, which enforces Internet censorship in China. His writing the article was described as conflicting with his advocacy for free speech.[477][478] Musk later advocated for Taiwan to become a \"special.',\n",
       "      'highlights': 'and its people.[476]: 207–208  In 2022, Musk wrote an article for China<em> Cyberspace, </em>the official publication of<em> Cyberspace Administration </em>of<em> China, </em>which enforces<em> Internet </em>censorship in China. His writing the article was described as conflicting with his advocacy for free speech.[477][478] Musk later advocated for Taiwan to become a \"special.'}],\n",
       "    'id': 'c75748b74652_aHR0cHM6Ly82d2hxand0YWVvZ2Npc2EuYmxvYi5jb3JlLndpbmRvd3MubmV0L2Vsb25tdXNrLXdpa2kvRWxvbl9NdXNrLnBkZg2_chunks_111',\n",
       "    'title': 'Elon Musk - Wikipedia',\n",
       "    'name': 'Elon_Musk.pdf',\n",
       "    'filepath': None,\n",
       "    'chunk': 'and its people.[476]: 207–208  In 2022, Musk wrote an article for China Cyberspace, the official\\npublication of Cyberspace Administration of China, which enforces Internet censorship in China. His\\nwriting the article was described as conflicting with his advocacy for free speech.[477][478] Musk later\\nadvocated for Taiwan to become a \"special administrative zone\" of China which drew cross-party\\ncriticism from Taiwanese lawmakers.[479][480][481]\\n\\nIn October 2022, Musk posted a Twitter poll and \"peace plan\" to resolve the Russian invasion of Ukraine\\nby allowing Russia to keep the Crimea Peninsula, while Ukraine would adopt a neutral status and drop\\nthe bid to join NATO.[482][483] It was reported that Musk allegedly spoke with Russian president Vladimir\\nPutin prior to the proposal, which Musk denied.[484][485][486] Musk has repeatedly expressed concern that\\na protracted war between Russia and Ukraine could lead to the use of nuclear weapons and the outbreak\\nof World War III.[487][488]'},\n",
       "   {'@search.score': 0.016756221652030945,\n",
       "    '@search.rerankerScore': 2.6958229541778564,\n",
       "    '@search.captions': [{'text': 'a \"scam\" designed to influence the election.[655] in November 2024, he was sued again regarding the lottery[656] and two US senators called for a probe into alleged contacts with Vladimir Putin.[657]. Although his ventures have been highly influential within their separate industries starting in the 2000s, Musk only became a public figure in the.',\n",
       "      'highlights': '<em>a \"scam\" </em>designed<em> to </em>influence the<em> election.[655] </em>in November 2024, he was sued again regarding the lottery[656] and two US senators called for a probe into alleged contacts with Vladimir Putin.[657]. Although<em> his </em>ventures have been highly influential within their separate<em> industries </em>starting in the 2000s,<em> Musk only became a public figure in </em>the.'}],\n",
       "    'id': 'c75748b74652_aHR0cHM6Ly82d2hxand0YWVvZ2Npc2EuYmxvYi5jb3JlLndpbmRvd3MubmV0L2Vsb25tdXNrLXdpa2kvRWxvbl9NdXNrLnBkZg2_chunks_147',\n",
       "    'title': 'Elon Musk - Wikipedia',\n",
       "    'name': 'Elon_Musk.pdf',\n",
       "    'filepath': None,\n",
       "    'chunk': 'a \"scam\" designed to influence the election.[655] in November 2024, he was sued again regarding the\\nlottery[656] and two US senators called for a probe into alleged contacts with Vladimir Putin.[657]\\n\\nAlthough his ventures have been highly influential within their\\nseparate industries starting in the 2000s, Musk only became a\\npublic figure in the early 2010s. He has been described as an\\neccentric who makes spontaneous and impactful decisions, while\\nalso often making controversial statements, contrary to other\\nbillionaires who prefer reclusiveness to protect their businesses.\\nMusk\\'s actions and his expressed views have made him a\\npolarizing figure.[658] Biographer Ashlee Vance described people\\'s\\nopinions of Musk as polarized due to his \"part philosopher, part\\ntroll\" persona on Twitter.[659]\\n\\nMusk was a partial inspiration for the characterization of Tony\\nStark in the Marvel film Iron Man (2008).[660] Musk also had a\\ncameo appearance in the film\\'s 2010 sequel, Iron Man 2.[661]'},\n",
       "   {'@search.score': 0.014705882407724857,\n",
       "    '@search.rerankerScore': 2.6827075481414795,\n",
       "    '@search.captions': [{'text': 'remarks on the issue.[391][392] In the same interview, Musk stated that the economy would collapse without oil and gas, repeating previous statements that it was wrong to \"vilify\" the oil and gas industries.[390][393][394][395]  Musk has long promoted the colonization of Mars and argues that humanity should become a \"multiplanetary species\".[396]..',\n",
       "      'highlights': ''}],\n",
       "    'id': 'c75748b74652_aHR0cHM6Ly82d2hxand0YWVvZ2Npc2EuYmxvYi5jb3JlLndpbmRvd3MubmV0L2Vsb25tdXNrLXdpa2kvRWxvbl9NdXNrLnBkZg2_chunks_92',\n",
       "    'title': 'Elon Musk - Wikipedia',\n",
       "    'name': 'Elon_Musk.pdf',\n",
       "    'filepath': None,\n",
       "    'chunk': 'remarks on the issue.[391][392] In the same interview, Musk stated that the economy would\\ncollapse without oil and gas, repeating previous statements that it was wrong to \"vilify\" the oil and gas\\nindustries.[390][393][394][395]\\n\\nMusk has long promoted the colonization of Mars and argues that humanity should become a\\n\"multiplanetary species\".[396] He has suggested the use of nuclear weapons to terraform Mars.[397][398]\\n\\nHe envisioned establishing a direct democracy on Mars, with a system in which more votes would be\\nrequired to create laws than remove them.[399] Musk has also voiced concerns about human population\\ndecline,[400][401] saying that, \"Mars has zero human population. We need a lot of people to become a\\nmultiplanet civilization.\"[402] Speaking at The Wall Street Journal \\'s CEO Council session in 2021, Musk\\nclaimed that the supposedly declining birth rate, and consequent population decline, is one of the biggest\\nrisks to human civilization.'},\n",
       "   {'@search.score': 0.01666666753590107,\n",
       "    '@search.rerankerScore': 2.6419436931610107,\n",
       "    '@search.captions': [{'text': 'and the hub of a dark money network supporting Trump. The organization created \"Progress 2028\", which promoted misinformation about the agenda of Democratic presidential candidate Harris, and was presented as the left\\'s response to Project 2025, Musk has also promoted the Fair Election Fund, which is heavily funded by Building America\\'s Future,.',\n",
       "      'highlights': '<em>and the hub of a dark money network supporting Trump.</em> The organization created \"Progress 2028\", which promoted misinformation about the agenda of Democratic presidential candidate Harris, and was presented as the left\\'s response to Project 2025, Musk has also promoted the Fair Election Fund, which is heavily funded by Building America\\'s Future,.'}],\n",
       "    'id': 'c75748b74652_aHR0cHM6Ly82d2hxand0YWVvZ2Npc2EuYmxvYi5jb3JlLndpbmRvd3MubmV0L2Vsb25tdXNrLXdpa2kvRWxvbl9NdXNrLnBkZg2_chunks_105',\n",
       "    'title': 'Elon Musk - Wikipedia',\n",
       "    'name': 'Elon_Musk.pdf',\n",
       "    'filepath': None,\n",
       "    'chunk': 'and the hub of a dark money network supporting Trump. The organization created \"Progress\\n2028\", which promoted misinformation about the agenda of Democratic presidential candidate Harris,\\nand was presented as the left\\'s response to Project 2025, Musk has also promoted the Fair Election Fund,\\nwhich is heavily funded by Building America\\'s Future, and offers rewards for evidence of election fraud.\\nThat organization is heavily involved in America PAC, which is founded and funded exclusively by\\nMusk.[461][462][463][464][465] In October 2024, a Federal Election Commission filing showed that Musk\\ncontributed almost $75 million to his America PAC during the previous three months, and during that\\ntime, the PAC spent approximately $72 million to support Trump\\'s campaign.[466][467]\\n\\nIn October 2024, Musk promoted a sweepstakes conducted by his America PAC, offering to pay\\n$1 million per day to randomly selected registered voters in battleground states who signed a petition'},\n",
       "   {'@search.score': 0.016393441706895828,\n",
       "    '@search.rerankerScore': 2.625638008117676,\n",
       "    '@search.captions': [{'text': 'Doubt Ur Vibe\", featuring his own lyrics and vocals.[318]. While Guardian critic Alexi Petridis described it as \"indistinguishable ... from umpteen competent but unthri... Musk uses a private jet owned by Falcon Landing LLC, a SpaceX-linked company, and acquired a second jet in August 2020.[320][321] His heavy use of the jets—which flew over.',\n",
       "      'highlights': '<em>Doubt Ur Vibe\", </em>featuring his own<em> lyrics and vocals.[318].</em> While<em> Guardian </em>critic Alexi Petridis described it as \"indistinguishable ... from umpteen competent but unthri... Musk uses a private jet owned by Falcon Landing LLC, a SpaceX-linked company, and acquired a second jet in August 2020.[320][321] His heavy use of the jets—which flew over.'}],\n",
       "    'id': 'c75748b74652_aHR0cHM6Ly82d2hxand0YWVvZ2Npc2EuYmxvYi5jb3JlLndpbmRvd3MubmV0L2Vsb25tdXNrLXdpa2kvRWxvbl9NdXNrLnBkZg2_chunks_79',\n",
       "    'title': 'Elon Musk - Wikipedia',\n",
       "    'name': 'Elon_Musk.pdf',\n",
       "    'filepath': None,\n",
       "    'chunk': 'Doubt Ur Vibe\", featuring his own lyrics and vocals.[318] While Guardian critic Alexi Petridis described\\nit as \"indistinguishable ... from umpteen competent but unthrilling bits of bedroom electronica posted\\nelsewhere on SoundCloud\",[319] TechCrunch said it was \"not a bad representation of the genre\".[318]\\n\\nMusk uses a private jet owned by Falcon Landing LLC, a SpaceX-linked company, and acquired a second\\njet in August 2020.[320][321] His heavy use of the jets—which flew over 150,000 miles in 2018 alone—\\nand the consequent fossil fuel usage have received criticism.[320][322] Musk\\'s flight usage is tracked on\\nsocial media through ElonJet. After Musk said that his son X Æ A-Xii had been harassed by a stalker\\nafter the account posted the airport at which his jet had landed,[323][324][325] Musk banned the ElonJet\\naccount on Twitter, as well as the accounts of journalists that posted stories regarding the incident,'},\n",
       "   {'@search.score': 0.01315789483487606,\n",
       "    '@search.rerankerScore': 2.573176622390747,\n",
       "    '@search.captions': [{'text': '[cs.CE (https://arxiv.org/archive/cs.C E)].  277. \"Revealed: Elon Musk Explains the Hyperloop, the Solar- Powered High-Speed Future of Inter-City Transportation\" (https://web.archive.org/web/2015 0127202031/http://www.businessweek.com/articles/2013-08-12/revealed-elon-musk-explain s-the-hyperloop). Bloomberg BusinessWeek. Archived from the.',\n",
       "      'highlights': '[cs.CE (https://arxiv.org/archive/cs.C E)].  277. \"Revealed: Elon<em> Musk </em>Explains the<em> Hyperloop, </em>the Solar- Powered High-Speed Future of Inter-City Transportation\" (https://web.archive.org/web/2015 0127202031/http://www.businessweek.com/articles/2013-08-12/revealed-elon-musk-explain s-the-hyperloop). <em>Bloomberg </em>BusinessWeek. Archived from the.'}],\n",
       "    'id': 'c75748b74652_aHR0cHM6Ly82d2hxand0YWVvZ2Npc2EuYmxvYi5jb3JlLndpbmRvd3MubmV0L2Vsb25tdXNrLXdpa2kvRWxvbl9NdXNrLnBkZg2_chunks_455',\n",
       "    'title': 'Elon Musk - Wikipedia',\n",
       "    'name': 'Elon_Musk.pdf',\n",
       "    'filepath': None,\n",
       "    'chunk': '[cs.CE (https://arxiv.org/archive/cs.C\\nE)].\\n\\n277. Vance, Ashlee (August 12, 2013). \"Revealed: Elon Musk Explains the Hyperloop, the Solar-\\nPowered High-Speed Future of Inter-City Transportation\" (https://web.archive.org/web/2015\\n0127202031/http://www.businessweek.com/articles/2013-08-12/revealed-elon-musk-explain\\ns-the-hyperloop). Bloomberg BusinessWeek. Archived from the original (http://www.business\\nweek.com/articles/2013-08-12/revealed-elon-musk-explains-the-hyperloop) on January 27,\\n2015. Retrieved April 27, 2016.\\n\\n278. Ranger, Steve. \"What is Hyperloop? Everything you need to know about the race for super-\\nfast travel\" (https://www.zdnet.com/article/what-is-hyperloop-everything-you-need-to-know-a\\nbout-the-future-of-transport/). ZDNet. Archived (https://web.archive.org/web/2020103011325\\n6/https://www.zdnet.com/article/what-is-hyperloop-everything-you-need-to-know-about-the-f\\nuture-of-transport/) from the original on October 30, 2020. Retrieved September 19, 2020.'}]}}"
      ]
     },
     "execution_count": 166,
     "metadata": {},
     "output_type": "execute_result"
    }
   ],
   "source": [
    "agg_search_results"
   ]
  },
  {
   "cell_type": "markdown",
   "metadata": {},
   "source": [
    "Display the top results  based on the score"
   ]
  },
  {
   "cell_type": "code",
   "execution_count": 169,
   "metadata": {},
   "outputs": [
    {
     "data": {
      "text/html": [
       "<h4>Top Answers</h4>"
      ],
      "text/plain": [
       "<IPython.core.display.HTML object>"
      ]
     },
     "metadata": {},
     "output_type": "display_data"
    },
    {
     "data": {
      "text/html": [
       "<h5>Answer - score: 1.0</h5>"
      ],
      "text/plain": [
       "<IPython.core.display.HTML object>"
      ]
     },
     "metadata": {},
     "output_type": "display_data"
    },
    {
     "data": {
      "text/html": [
       "... chairman of X (formerly Twitter)  Founder of The Boring Company, X Corp., and xAI  Co-founder of Neuralink, OpenAI, Zip2, and X.com (part of PayPal)  President of the Musk Foundation  Elon Musk Elon Reeve Musk (/ˈiːlɒn mʌsk/; born June 28, 1971 businessman known for his key roles in the space company SpaceX and the automotive company Tesla, Inc"
      ],
      "text/plain": [
       "<IPython.core.display.HTML object>"
      ]
     },
     "metadata": {},
     "output_type": "display_data"
    },
    {
     "name": "stdout",
     "output_type": "stream",
     "text": [
      "\n",
      "\n",
      "\n"
     ]
    },
    {
     "data": {
      "text/html": [
       "<h4>Top Results</h4>"
      ],
      "text/plain": [
       "<IPython.core.display.HTML object>"
      ]
     },
     "metadata": {},
     "output_type": "display_data"
    },
    {
     "data": {
      "text/html": [
       "<h5><a href=\"Nonesv=2022-11-02&ss=bfqt&srt=sco&sp=rwdlacupiytfx&se=2027-01-04T00:48:24Z&st=2025-01-03T16:48:24Z&spr=https&sig=poBjZsE7qts4%2FzdXLA%2BQpzvDDmwmN57ZopUG2%2FwIMmU%3D\">Elon Musk - Wikipedia</a> - score: 3.36</h5>"
      ],
      "text/plain": [
       "<IPython.core.display.HTML object>"
      ]
     },
     "metadata": {},
     "output_type": "display_data"
    },
    {
     "data": {
      "text/plain": [
       "'...lvania (BA, BS)  Occupation Businessman  Title Founder, CEO, and chief engineer  of SpaceX  CEO and product architect of Tesla, Inc.  Owner, CTO and executive chairman of X (formerly Twitter)  Founder of The Boring Company, X Corp., and xAI  Co-founder of Neuralink, OpenAI, Zip2, and X.com (part of PayPal)  President of the Musk Foundation .'"
      ]
     },
     "metadata": {},
     "output_type": "display_data"
    },
    {
     "data": {
      "text/html": [
       "<h5><a href=\"Nonesv=2022-11-02&ss=bfqt&srt=sco&sp=rwdlacupiytfx&se=2027-01-04T00:48:24Z&st=2025-01-03T16:48:24Z&spr=https&sig=poBjZsE7qts4%2FzdXLA%2BQpzvDDmwmN57ZopUG2%2FwIMmU%3D\">Elon Musk - Wikipedia</a> - score: 3.07</h5>"
      ],
      "text/plain": [
       "<IPython.core.display.HTML object>"
      ]
     },
     "metadata": {},
     "output_type": "display_data"
    },
    {
     "data": {
      "text/plain": [
       "\"Elon Reeve Musk was born on June 28, 1971, in Pretoria, South Africa's administrative capital.[3][4] He is of British and Pennsylvania Dutch ancestry.[5][6] His mother, Maye (née Haldeman), is a model and dietitian born in Saskatchewan, Canada, and raised in South Africa.[7][8][9] His father, Errol Musk, is a South African electromechanical.\""
      ]
     },
     "metadata": {},
     "output_type": "display_data"
    },
    {
     "data": {
      "text/html": [
       "<h5><a href=\"Nonesv=2022-11-02&ss=bfqt&srt=sco&sp=rwdlacupiytfx&se=2027-01-04T00:48:24Z&st=2025-01-03T16:48:24Z&spr=https&sig=poBjZsE7qts4%2FzdXLA%2BQpzvDDmwmN57ZopUG2%2FwIMmU%3D\">Elon Musk - Wikipedia</a> - score: 3.0</h5>"
      ],
      "text/plain": [
       "<IPython.core.display.HTML object>"
      ]
     },
     "metadata": {},
     "output_type": "display_data"
    },
    {
     "data": {
      "text/plain": [
       "\"2012)    (m. 2013; div. 2016)   Children 12[1]  Parents Errol Musk (father)  Maye Musk (mother)  Relatives Kimbal Musk (brother)  Tosca Musk (sister)  Lyndon Rive (cousin)  Awards Full list  Elon Musk's voice  Elon Musk speaking about India and his meeting with its prime minister, Narendra Modi  Recorded June 20, 2023  Signature  In 2015, he.\""
      ]
     },
     "metadata": {},
     "output_type": "display_data"
    },
    {
     "data": {
      "text/html": [
       "<h5><a href=\"Nonesv=2022-11-02&ss=bfqt&srt=sco&sp=rwdlacupiytfx&se=2027-01-04T00:48:24Z&st=2025-01-03T16:48:24Z&spr=https&sig=poBjZsE7qts4%2FzdXLA%2BQpzvDDmwmN57ZopUG2%2FwIMmU%3D\">Elon Musk - Wikipedia</a> - score: 2.7</h5>"
      ],
      "text/plain": [
       "<IPython.core.display.HTML object>"
      ]
     },
     "metadata": {},
     "output_type": "display_data"
    },
    {
     "data": {
      "text/plain": [
       "'\"Elon Musk: \\'I am moderate\\' \" (https://www.thenews.com.pk/latest/1065654-elon-musk-i-am- moderate). www.thenews.com.pk. Archived (https://web.archive.org/web/20240812153155/h ttps://www.thenews.com.pk/latest/1065654-elon-musk-i-am-moderate) from the original on August 12, 2024. \"Elon Musk, SpaceX Founder, Battles Entrenched Rivals Over NASA.'"
      ]
     },
     "metadata": {},
     "output_type": "display_data"
    },
    {
     "data": {
      "text/html": [
       "<h5><a href=\"Nonesv=2022-11-02&ss=bfqt&srt=sco&sp=rwdlacupiytfx&se=2027-01-04T00:48:24Z&st=2025-01-03T16:48:24Z&spr=https&sig=poBjZsE7qts4%2FzdXLA%2BQpzvDDmwmN57ZopUG2%2FwIMmU%3D\">Elon Musk - Wikipedia</a> - score: 2.7</h5>"
      ],
      "text/plain": [
       "<IPython.core.display.HTML object>"
      ]
     },
     "metadata": {},
     "output_type": "display_data"
    },
    {
     "data": {
      "text/plain": [
       "'and its people.[476]: 207–208  In 2022, Musk wrote an article for China Cyberspace, the official publication of Cyberspace Administration of China, which enforces Internet censorship in China. His writing the article was described as conflicting with his advocacy for free speech.[477][478] Musk later advocated for Taiwan to become a \"special.'"
      ]
     },
     "metadata": {},
     "output_type": "display_data"
    },
    {
     "data": {
      "text/html": [
       "<h5><a href=\"Nonesv=2022-11-02&ss=bfqt&srt=sco&sp=rwdlacupiytfx&se=2027-01-04T00:48:24Z&st=2025-01-03T16:48:24Z&spr=https&sig=poBjZsE7qts4%2FzdXLA%2BQpzvDDmwmN57ZopUG2%2FwIMmU%3D\">Elon Musk - Wikipedia</a> - score: 2.7</h5>"
      ],
      "text/plain": [
       "<IPython.core.display.HTML object>"
      ]
     },
     "metadata": {},
     "output_type": "display_data"
    },
    {
     "data": {
      "text/plain": [
       "'a \"scam\" designed to influence the election.[655] in November 2024, he was sued again regarding the lottery[656] and two US senators called for a probe into alleged contacts with Vladimir Putin.[657]. Although his ventures have been highly influential within their separate industries starting in the 2000s, Musk only became a public figure in the.'"
      ]
     },
     "metadata": {},
     "output_type": "display_data"
    },
    {
     "data": {
      "text/html": [
       "<h5><a href=\"Nonesv=2022-11-02&ss=bfqt&srt=sco&sp=rwdlacupiytfx&se=2027-01-04T00:48:24Z&st=2025-01-03T16:48:24Z&spr=https&sig=poBjZsE7qts4%2FzdXLA%2BQpzvDDmwmN57ZopUG2%2FwIMmU%3D\">Elon Musk - Wikipedia</a> - score: 2.68</h5>"
      ],
      "text/plain": [
       "<IPython.core.display.HTML object>"
      ]
     },
     "metadata": {},
     "output_type": "display_data"
    },
    {
     "data": {
      "text/plain": [
       "'remarks on the issue.[391][392] In the same interview, Musk stated that the economy would collapse without oil and gas, repeating previous statements that it was wrong to \"vilify\" the oil and gas industries.[390][393][394][395]  Musk has long promoted the colonization of Mars and argues that humanity should become a \"multiplanetary species\".[396]..'"
      ]
     },
     "metadata": {},
     "output_type": "display_data"
    },
    {
     "data": {
      "text/html": [
       "<h5><a href=\"Nonesv=2022-11-02&ss=bfqt&srt=sco&sp=rwdlacupiytfx&se=2027-01-04T00:48:24Z&st=2025-01-03T16:48:24Z&spr=https&sig=poBjZsE7qts4%2FzdXLA%2BQpzvDDmwmN57ZopUG2%2FwIMmU%3D\">Elon Musk - Wikipedia</a> - score: 2.64</h5>"
      ],
      "text/plain": [
       "<IPython.core.display.HTML object>"
      ]
     },
     "metadata": {},
     "output_type": "display_data"
    },
    {
     "data": {
      "text/plain": [
       "'and the hub of a dark money network supporting Trump. The organization created \"Progress 2028\", which promoted misinformation about the agenda of Democratic presidential candidate Harris, and was presented as the left\\'s response to Project 2025, Musk has also promoted the Fair Election Fund, which is heavily funded by Building America\\'s Future,.'"
      ]
     },
     "metadata": {},
     "output_type": "display_data"
    },
    {
     "data": {
      "text/html": [
       "<h5><a href=\"Nonesv=2022-11-02&ss=bfqt&srt=sco&sp=rwdlacupiytfx&se=2027-01-04T00:48:24Z&st=2025-01-03T16:48:24Z&spr=https&sig=poBjZsE7qts4%2FzdXLA%2BQpzvDDmwmN57ZopUG2%2FwIMmU%3D\">Elon Musk - Wikipedia</a> - score: 2.63</h5>"
      ],
      "text/plain": [
       "<IPython.core.display.HTML object>"
      ]
     },
     "metadata": {},
     "output_type": "display_data"
    },
    {
     "data": {
      "text/plain": [
       "'Doubt Ur Vibe\", featuring his own lyrics and vocals.[318]. While Guardian critic Alexi Petridis described it as \"indistinguishable ... from umpteen competent but unthri... Musk uses a private jet owned by Falcon Landing LLC, a SpaceX-linked company, and acquired a second jet in August 2020.[320][321] His heavy use of the jets—which flew over.'"
      ]
     },
     "metadata": {},
     "output_type": "display_data"
    },
    {
     "data": {
      "text/html": [
       "<h5><a href=\"Nonesv=2022-11-02&ss=bfqt&srt=sco&sp=rwdlacupiytfx&se=2027-01-04T00:48:24Z&st=2025-01-03T16:48:24Z&spr=https&sig=poBjZsE7qts4%2FzdXLA%2BQpzvDDmwmN57ZopUG2%2FwIMmU%3D\">Elon Musk - Wikipedia</a> - score: 2.57</h5>"
      ],
      "text/plain": [
       "<IPython.core.display.HTML object>"
      ]
     },
     "metadata": {},
     "output_type": "display_data"
    },
    {
     "data": {
      "text/plain": [
       "'[cs.CE (https://arxiv.org/archive/cs.C E)].  277. \"Revealed: Elon Musk Explains the Hyperloop, the Solar- Powered High-Speed Future of Inter-City Transportation\" (https://web.archive.org/web/2015 0127202031/http://www.businessweek.com/articles/2013-08-12/revealed-elon-musk-explain s-the-hyperloop). Bloomberg BusinessWeek. Archived from the.'"
      ]
     },
     "metadata": {},
     "output_type": "display_data"
    }
   ],
   "source": [
    "from collections import OrderedDict\n",
    "from IPython.display import display, HTML, Markdown\n",
    "\n",
    "display(HTML('<h4>Top Answers</h4>'))\n",
    "\n",
    "for index,search_results in agg_search_results.items():\n",
    "\n",
    "    for result in search_results['@search.answers']:\n",
    "        if result['score'] > 0.5: # Show answers that are at least 50% of the max possible score=1\n",
    "            display(HTML('<h5>' + 'Answer - score: ' + str(round(result['score'],2)) + '</h5>'))\n",
    "            display(HTML(result['text']))\n",
    "\n",
    "            \n",
    "print(\"\\n\\n\")\n",
    "display(HTML('<h4>Top Results</h4>'))\n",
    "\n",
    "content = dict()\n",
    "ordered_content = OrderedDict()\n",
    "\n",
    "\n",
    "for index,search_results in agg_search_results.items():\n",
    "    for result in search_results['value']:\n",
    "        if result['@search.rerankerScore'] > 1:# Show answers that are at least 25% of the max possible score=4\n",
    "            content[result['id']]={\n",
    "                                    \"title\": result['title'],\n",
    "                                    \"chunk\": result['chunk'], \n",
    "                                    \"name\": result['name'], \n",
    "                                    \"filepath\": result['filepath'] ,\n",
    "                                    \"caption\": result['@search.captions'][0]['text'],\n",
    "                                    \"score\": result['@search.rerankerScore'],\n",
    "                                    \"index\": index\n",
    "                                    }\n",
    "    \n",
    "#After results have been filtered we will Sort and add them as an Ordered list\\n\",\n",
    "for id in sorted(content, key= lambda x: content[x][\"score\"], reverse=True):\n",
    "    ordered_content[id] = content[id]\n",
    "    url = str(ordered_content[id]['filepath']) +  os.environ['BLOB_SAS_TOKEN']\n",
    "    \n",
    "    title = str(ordered_content[id]['title']) if (ordered_content[id]['title']) else ordered_content[id]['name']\n",
    "    score = str(round(ordered_content[id]['score'],2))\n",
    "    display(HTML('<h5><a href=\"'+ url + '\">' + title + '</a> - score: '+ score + '</h5>'))\n",
    "    #use bs4 to parse the html content and display the text\n",
    "    from bs4 import BeautifulSoup\n",
    "    htmlContent = ordered_content[id]['caption']\n",
    "    soup = BeautifulSoup(htmlContent, features=\"html.parser\")\n",
    "    contextTxt = soup.get_text()\n",
    "    display(contextTxt)"
   ]
  },
  {
   "cell_type": "code",
   "execution_count": null,
   "metadata": {},
   "outputs": [],
   "source": []
  }
 ],
 "metadata": {
  "kernelspec": {
   "display_name": "Python 3",
   "language": "python",
   "name": "python3"
  },
  "language_info": {
   "codemirror_mode": {
    "name": "ipython",
    "version": 3
   },
   "file_extension": ".py",
   "mimetype": "text/x-python",
   "name": "python",
   "nbconvert_exporter": "python",
   "pygments_lexer": "ipython3",
   "version": "3.11.11"
  }
 },
 "nbformat": 4,
 "nbformat_minor": 2
}
