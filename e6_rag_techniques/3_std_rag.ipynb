{
 "cells": [
  {
   "cell_type": "code",
   "execution_count": 1,
   "metadata": {},
   "outputs": [
    {
     "data": {
      "text/plain": [
       "True"
      ]
     },
     "execution_count": 1,
     "metadata": {},
     "output_type": "execute_result"
    }
   ],
   "source": [
    "import openai\n",
    "import os\n",
    "from openai import AzureOpenAI\n",
    "import json\n",
    "import pandas as pd\n",
    "from dotenv import load_dotenv\n",
    "load_dotenv(\"credentials.env\", override=True)"
   ]
  },
  {
   "cell_type": "markdown",
   "metadata": {},
   "source": [
    "Pre-req - create vector index in Azure AI search with the name as \"elonmusk-vindex-6whqjwtaeogci\"\n",
    "\n",
    "Use document Elon_Musk.pdf from data folder."
   ]
  },
  {
   "cell_type": "code",
   "execution_count": 2,
   "metadata": {},
   "outputs": [],
   "source": [
    "aoai_endpoint = os.environ[\"AZURE_OPENAI_ENDPOINT\"]\n",
    "aoai_api_key = os.environ[\"AZURE_OPENAI_API_KEY\"]\n",
    "deployment_name = \"gpt-4o\"\n",
    "aoai_api_version = os.environ[\"AZURE_OPENAI_API_VERSION\"] #Using latest version as of this date. Older versions may not work with the code as syntax has changed drastically.\n",
    "\n",
    "# Azure AI Search setup\n",
    "search_endpoint = os.getenv(\"AZURE_SEARCH_ENDPOINT\"); # Add your Azure AI Search endpoint here\n",
    "search_key = os.getenv(\"AZURE_SEARCH_KEY\"); # Add your Azure AI Search admin key here\n",
    "search_index_name = \"elonmusk-vindex-6whqjwtaeogci\"; # Add your Azure AI Search index name here"
   ]
  },
  {
   "cell_type": "code",
   "execution_count": 4,
   "metadata": {},
   "outputs": [],
   "source": [
    "# Create an Azure OpenAI client.  \n",
    "client = openai.AzureOpenAI(        \n",
    "    #base_url=f\"{aoai_endpoint}/openai/deployments/{deployment_name}/extensions/\",\n",
    "    azure_endpoint=aoai_endpoint,    \n",
    "    api_key=aoai_api_key,    \n",
    "    api_version=aoai_api_version\n",
    ")\n"
   ]
  },
  {
   "cell_type": "code",
   "execution_count": 5,
   "metadata": {},
   "outputs": [],
   "source": [
    "# Create and return a new chat completion request\n",
    "    # Be sure to include the \"extra_body\" parameter to use Azure AI Search as the data source\n",
    "    #this is Azure Open AI On your data feature\n",
    "\n",
    "def ask_llm_rag(user_prompt):\n",
    "    sys_prompt = \"\"\"You are AI assistant who provides information from retrieved data. If the required information is not available in the retrieved data, \n",
    "                apologize and say that the requested information is not available in the retrieved data. You are friendly and concise. \n",
    "                Do not provide answers to questions not related to retrieved data or prompt message.\n",
    "                Provide your response only based on the document provided in the data source. You must generate citation based on the retrieved documents in the response\n",
    "                Summarize and explain in 1-2 paragraphs with bullet points\"\"\"\n",
    "    messages = [{\"role\": \"system\", \"content\": sys_prompt}]\n",
    "    messages.append({\"role\": \"user\", \"content\": user_prompt})\n",
    "    response = client.chat.completions.create(\n",
    "        model=deployment_name,    \n",
    "        messages = messages,\n",
    "        stream=False,\n",
    "        max_tokens=4000,\n",
    "        extra_body={\n",
    "            \"data_sources\": [\n",
    "                {\n",
    "                    \"type\": \"azure_search\",\n",
    "                    \"parameters\": {\n",
    "                        \"endpoint\": search_endpoint,                    \n",
    "                        \"index_name\": search_index_name,\n",
    "                        \"authentication\": {\n",
    "                            \"type\": \"api_key\",\n",
    "                            \"key\": search_key \n",
    "                        },                        \n",
    "                        \"top_n_documents\": 4,\n",
    "                        \"fields_mapping\": {\n",
    "                            \"content_fields_separator\": \"\\\\n\",                           \n",
    "                            \"filepath_field\": \"name\",\n",
    "                            \"title_field\": \"title\"                            \n",
    "                        }\n",
    "                                        \n",
    "                    }\n",
    "                }\n",
    "            ]\n",
    "        }\n",
    "    ) \n",
    "    return response   "
   ]
  },
  {
   "cell_type": "code",
   "execution_count": 6,
   "metadata": {},
   "outputs": [
    {
     "name": "stdout",
     "output_type": "stream",
     "text": [
      "gpt-4o\n",
      "CompletionUsage(completion_tokens=110, prompt_tokens=3715, total_tokens=3825, completion_tokens_details=None, prompt_tokens_details=None)\n",
      "1739717685\n"
     ]
    },
    {
     "data": {
      "text/markdown": [
       "Elon Musk attended Queen's University in Kingston, Ontario, starting in 1989 [doc1][doc4]. Two years later, he transferred to the University of Pennsylvania, where he studied until 1995 [doc1]. At the University of Pennsylvania, he earned a Bachelor of Arts in physics and a Bachelor of Science in economics, although the degrees were officially awarded in 1997 [doc1]."
      ],
      "text/plain": [
       "<IPython.core.display.Markdown object>"
      ]
     },
     "execution_count": 6,
     "metadata": {},
     "output_type": "execute_result"
    }
   ],
   "source": [
    "user_prompt = \"where did Elon Musk studied\"\n",
    "#\"What are the major accomplishments of Elon Musk?\" #\"What and how many companies and subsidieries founded by Elon Musk?\"\n",
    "\n",
    "response = ask_llm_rag(user_prompt)\n",
    "print(response.model)\n",
    "print(response.usage)\n",
    "print(response.created)\n",
    "#response.object\n",
    "#response.choices[0].message.context\n",
    "from IPython.display import Markdown\n",
    "Markdown(response.choices[0].message.content)\n"
   ]
  },
  {
   "cell_type": "markdown",
   "metadata": {},
   "source": [
    "List all the citations"
   ]
  },
  {
   "cell_type": "code",
   "execution_count": 7,
   "metadata": {},
   "outputs": [
    {
     "data": {
      "text/plain": [
       "[{'content': \"aHR0cHM6Ly82d2hxand0YWVvZ2Npc2EuYmxvYi5jb3JlLndpbmRvd3MubmV0L2Vsb25tdXNrLXdpa2kvRWxvbl9NdXNrLnBkZg2\\\\nQueen's University in Kingston,\\nOntario.[40][41] Two years later, he transferred to the University of Pennsylvania, where he studied until\\n1995.[42] Although Musk has said that he earned his degrees in 1995, the University of Pennsylvania did\\nnot award them until 1997 – a Bachelor of Arts in physics and a Bachelor of Science in economics from\\n\\nEducation\\n\\n  \\n\\nhttps://en.wikipedia.org/wiki/File:PBHS-facade.jpg\\nhttps://en.wikipedia.org/wiki/File:PBHS-facade.jpg\",\n",
       "  'title': 'Elon Musk - Wikipedia',\n",
       "  'url': None,\n",
       "  'filepath': 'Elon_Musk.pdf',\n",
       "  'chunk_id': '6'},\n",
       " {'content': 'aHR0cHM6Ly82d2hxand0YWVvZ2Npc2EuYmxvYi5jb3JlLndpbmRvd3MubmV0L2Vsb25tdXNrLXdpa2kvRWxvbl9NdXNrLnBkZg2\\\\n350. Werber, Cassie. \"Elon Musk says tax-free carbon is \"the dumbest experiment in history\" \" (ht\\ntps://web.archive.org/web/20200826161408/https://qz.com/564782/elon-musk-says-tax-free\\n-carbon-is-the-dumbest-experiment-in-history/). Quartz. Archived from the original (http://qz.\\ncom/564782/elon-musk-says-tax-free-carbon-is-the-dumbest-experiment-in-history/) on\\nAugust 26, 2020. Retrieved August 30, 2016.',\n",
       "  'title': 'Elon Musk - Wikipedia',\n",
       "  'url': None,\n",
       "  'filepath': 'Elon_Musk.pdf',\n",
       "  'chunk_id': '0'},\n",
       " {'content': 'aHR0cHM6Ly82d2hxand0YWVvZ2Npc2EuYmxvYi5jb3JlLndpbmRvd3MubmV0L2Vsb25tdXNrLXdpa2kvRWxvbl9NdXNrLnBkZg2\\\\nagreed with Penn that I would do at Stanford,\" he\\nsaid. \"The I put Stanford on deferment. Later, Penn\\'s requirements changed so that you\\ndon\\'t need the English and History credit. So they awarded me the degree in \\'97 when it\\nwas clear I was not going to go to grad school, and their requirement was no longer there.\"\\n\\n44. Kasprak, Alex (December 21, 2022). \"Does Elon Musk Have an Undergraduate Degree in\\nPhysics?\" (https://www.snopes.com/fact-check/musk-physics-degree/). Snopes. Archived (ht',\n",
       "  'title': 'Elon Musk - Wikipedia',\n",
       "  'url': None,\n",
       "  'filepath': 'Elon_Musk.pdf',\n",
       "  'chunk_id': '7'},\n",
       " {'content': 'aHR0cHM6Ly82d2hxand0YWVvZ2Npc2EuYmxvYi5jb3JlLndpbmRvd3MubmV0L2Vsb25tdXNrLXdpa2kvRWxvbl9NdXNrLnBkZg2\\\\ndollars an hour.\\n\\n40. Vance (2017), pp. 46–47. Elon ended up enrolling at Queen\\'s University in Kingston,\\nOntario, in 1989.\\n\\n41. Locke, Taylor (December 20, 2019). \"Elon Musk\\'s college pal: This is what \\'differentiates\\nElon from the rest of humanity\\' \" (https://www.cnbc.com/2019/12/20/elon-musks-college-frien\\nd-on-why-hes-different-from-everyone-else.html). CNBC. Archived (https://web.archive.org/\\nweb/20201214162910/https://www.cnbc.com/2019/12/20/elon-musks-college-friend-on-why-',\n",
       "  'title': 'Elon Musk - Wikipedia',\n",
       "  'url': None,\n",
       "  'filepath': 'Elon_Musk.pdf',\n",
       "  'chunk_id': '0'}]"
      ]
     },
     "execution_count": 7,
     "metadata": {},
     "output_type": "execute_result"
    }
   ],
   "source": [
    "response.choices[0].message.context['citations']\n",
    "#response.choices[0].message.context['citations'][0]\n",
    "# for citation in response.choices[0].message.context['citations']:\n",
    "#     print(citation['chunk_id'] + \"\" if(pd.isnull(citation['filepath'])) else + \"-\" + citation['filepath'])"
   ]
  },
  {
   "cell_type": "markdown",
   "metadata": {},
   "source": [
    "Check what is the intent created "
   ]
  },
  {
   "cell_type": "code",
   "execution_count": 8,
   "metadata": {},
   "outputs": [
    {
     "data": {
      "text/plain": [
       "'[\"Elon Musk education history\", \"Where did Elon Musk go to school\", \"Elon Musk university and college\"]'"
      ]
     },
     "execution_count": 8,
     "metadata": {},
     "output_type": "execute_result"
    }
   ],
   "source": [
    "response.choices[0].message.context['intent']"
   ]
  },
  {
   "cell_type": "code",
   "execution_count": 9,
   "metadata": {},
   "outputs": [
    {
     "name": "stdout",
     "output_type": "stream",
     "text": [
      "gpt-4o\n",
      "CompletionUsage(completion_tokens=308, prompt_tokens=3663, total_tokens=3971, completion_tokens_details=None, prompt_tokens_details=None)\n",
      "1739717716\n"
     ]
    },
    {
     "data": {
      "text/markdown": [
       "Elon Musk has founded several companies and subsidiaries over the years. Here are the key ones:\n",
       "\n",
       "- **Zip2**: Co-founded with his brother Kimbal Musk, Zip2 was a software company that provided business directories and maps for newspapers [doc2].\n",
       "- **X.com**: An online payment company that later became PayPal after a merger with Confinity .\n",
       "- **SpaceX**: Founded in May 2002, SpaceX is a private aerospace manufacturer and space transportation company. Musk serves as the CEO and chief engineer [doc3].\n",
       "- **Tesla, Inc.**: Although not the original founder, Musk joined Tesla Motors (now Tesla, Inc.) shortly after its founding and became its largest investor, chairman, and later CEO .\n",
       "- **SolarCity**: Co-founded with his cousins Lyndon and Peter Rive, SolarCity is a solar energy services company .\n",
       "- **OpenAI**: Co-founded as a non-profit artificial intelligence research company [doc4].\n",
       "- **Neuralink**: Co-founded to develop implantable brain–machine interfaces .\n",
       "- **The Boring Company**: Founded to construct tunnels and develop infrastructure for reducing traffic .\n",
       "\n",
       "These companies span various industries, including software, finance, aerospace, automotive, energy, artificial intelligence, neurotechnology, and infrastructure."
      ],
      "text/plain": [
       "<IPython.core.display.Markdown object>"
      ]
     },
     "execution_count": 9,
     "metadata": {},
     "output_type": "execute_result"
    }
   ],
   "source": [
    "user_prompt = \"What and how many companies and subsidieries founded by Elon Musk\"\n",
    "#\"What are the major accomplishments of Elon Musk?\" #\"What and how many companies and subsidieries founded by Elon Musk?\"\n",
    "\n",
    "response = ask_llm_rag(user_prompt)\n",
    "print(response.model)\n",
    "print(response.usage)\n",
    "print(response.created)\n",
    "#response.object\n",
    "#response.choices[0].message.context\n",
    "from IPython.display import Markdown\n",
    "Markdown(response.choices[0].message.content)"
   ]
  },
  {
   "cell_type": "code",
   "execution_count": 10,
   "metadata": {},
   "outputs": [
    {
     "name": "stdout",
     "output_type": "stream",
     "text": [
      "gpt-4o\n",
      "CompletionUsage(completion_tokens=318, prompt_tokens=3760, total_tokens=4078, completion_tokens_details=None, prompt_tokens_details=None)\n",
      "1739717727\n"
     ]
    },
    {
     "data": {
      "text/markdown": [
       "Elon Musk has achieved several notable accomplishments throughout his career:\n",
       "\n",
       "- **SpaceX**: Musk founded SpaceX in 2002 with the goal of reducing space transportation costs and enabling the colonization of Mars. SpaceX has developed the Falcon and Starship rockets, and it became the first private company to send a spacecraft to the International Space Station (ISS) [doc1].\n",
       "\n",
       "- **Tesla, Inc.**: As the CEO and product architect of Tesla, Inc., Musk has been instrumental in advancing electric vehicle technology. Tesla's Model S, Model 3, Model X, and Model Y have been significant in popularizing electric cars .\n",
       "\n",
       "- **SolarCity**: Musk co-founded SolarCity, a solar energy services company, which was later acquired by Tesla and became Tesla Energy. This venture aims to provide sustainable energy solutions .\n",
       "\n",
       "- **Neuralink**: Musk founded Neuralink, a neurotechnology company focused on developing brain-computer interface technology .\n",
       "\n",
       "- **The Boring Company**: This infrastructure and tunnel construction services company was founded by Musk to reduce traffic in urban areas through the creation of underground transportation systems .\n",
       "\n",
       "- **OpenAI**: Musk co-founded OpenAI, a research organization dedicated to ensuring that artificial general intelligence benefits all of humanity .\n",
       "\n",
       "These accomplishments highlight Musk's influence in various industries, including space exploration, electric vehicles, renewable energy, neurotechnology, and artificial intelligence."
      ],
      "text/plain": [
       "<IPython.core.display.Markdown object>"
      ]
     },
     "execution_count": 10,
     "metadata": {},
     "output_type": "execute_result"
    }
   ],
   "source": [
    "user_prompt = \"What are the major accomplishments of Elon Musk?\" \n",
    "\n",
    "response = ask_llm_rag(user_prompt)\n",
    "print(response.model)\n",
    "print(response.usage)\n",
    "print(response.created)\n",
    "#response.object\n",
    "#response.choices[0].message.context\n",
    "from IPython.display import Markdown\n",
    "Markdown(response.choices[0].message.content)"
   ]
  },
  {
   "cell_type": "code",
   "execution_count": 12,
   "metadata": {},
   "outputs": [
    {
     "name": "stdout",
     "output_type": "stream",
     "text": [
      "gpt-4o\n",
      "CompletionUsage(completion_tokens=298, prompt_tokens=3690, total_tokens=3988, completion_tokens_details=None, prompt_tokens_details=None)\n",
      "1739717760\n"
     ]
    },
    {
     "data": {
      "text/markdown": [
       "Elon Musk's business career is marked by several significant ventures and achievements:\n",
       "\n",
       "- **Zip2**: Musk's first major business venture was Zip2, a company that provided online city guide software to newspapers. This company was eventually sold to Compaq for nearly $300 million [doc1].\n",
       "- **X.com and PayPal**: Musk founded X.com, an online payment company, which later became PayPal after a merger. PayPal was sold to eBay for $1.5 billion in stock [doc1].\n",
       "- **Tesla, Inc.**: Musk joined Tesla Motors, Inc. (now Tesla, Inc.) in its early stages and became its CEO and product architect. Tesla is known for its electric vehicles and renewable energy products .\n",
       "- **SpaceX**: Musk founded SpaceX with the goal of reducing space transportation costs to enable the colonization of Mars. SpaceX has achieved numerous milestones, including the first privately funded spacecraft to reach the International Space Station .\n",
       "- **Other Ventures**: Musk has also been involved in several other ventures, including SolarCity (a solar energy services company), Neuralink (a neurotechnology company), and The Boring Company (focused on tunnel construction) .\n",
       "\n",
       "These ventures highlight Musk's diverse interests and his impact on various industries, from online payments to space exploration and renewable energy."
      ],
      "text/plain": [
       "<IPython.core.display.Markdown object>"
      ]
     },
     "execution_count": 12,
     "metadata": {},
     "output_type": "execute_result"
    }
   ],
   "source": [
    "user_prompt = \"summarize business career of Elon Musk?\" \n",
    "\n",
    "response = ask_llm_rag(user_prompt)\n",
    "print(response.model)\n",
    "print(response.usage)\n",
    "print(response.created)\n",
    "#response.object\n",
    "#response.choices[0].message.context\n",
    "from IPython.display import Markdown\n",
    "Markdown(response.choices[0].message.content)"
   ]
  },
  {
   "cell_type": "code",
   "execution_count": 13,
   "metadata": {},
   "outputs": [
    {
     "name": "stdout",
     "output_type": "stream",
     "text": [
      "gpt-4o\n",
      "CompletionUsage(completion_tokens=143, prompt_tokens=3745, total_tokens=3888, completion_tokens_details=None, prompt_tokens_details=None)\n",
      "1739717769\n"
     ]
    },
    {
     "data": {
      "text/markdown": [
       "Elon Musk has several relatives, including:\n",
       "\n",
       "- **Parents**:\n",
       "  - Errol Musk (father) [doc1]\n",
       "  - Maye Musk (mother) [doc1]\n",
       "\n",
       "- **Siblings**:\n",
       "  - Kimbal Musk (brother) [doc1]\n",
       "  - Tosca Musk (sister) [doc1][doc4]\n",
       "\n",
       "- **Half-siblings**:\n",
       "  - Four paternal half-siblings [doc4]\n",
       "\n",
       "- **Cousin**:\n",
       "  - Lyndon Rive [doc1]\n",
       "\n",
       "These are the relatives mentioned in the retrieved documents."
      ],
      "text/plain": [
       "<IPython.core.display.Markdown object>"
      ]
     },
     "execution_count": 13,
     "metadata": {},
     "output_type": "execute_result"
    }
   ],
   "source": [
    "user_prompt = \"list all relatives of Elon Musk?\" \n",
    "\n",
    "response = ask_llm_rag(user_prompt)\n",
    "print(response.model)\n",
    "print(response.usage)\n",
    "print(response.created)\n",
    "#response.object\n",
    "#response.choices[0].message.context\n",
    "from IPython.display import Markdown\n",
    "Markdown(response.choices[0].message.content)"
   ]
  },
  {
   "cell_type": "code",
   "execution_count": 14,
   "metadata": {},
   "outputs": [
    {
     "name": "stdout",
     "output_type": "stream",
     "text": [
      "gpt-4o\n",
      "CompletionUsage(completion_tokens=154, prompt_tokens=3685, total_tokens=3839, completion_tokens_details=None, prompt_tokens_details=None)\n",
      "1739718318\n"
     ]
    },
    {
     "data": {
      "text/markdown": [
       "The retrieved documents mention the following people associated with Elon Musk and their relations to him:\n",
       "\n",
       "- **Kimbal Musk**: Elon Musk's brother. They co-founded Global Link Information Network, later renamed Zip2, in 1995 [doc4].\n",
       "- **Greg Kouri**: A business associate who co-founded Global Link Information Network (Zip2) with Elon and Kimbal Musk in 1995 [doc4].\n",
       "- **Yuri Milner**: Mentioned in the context of an article about Elon Musk in Time magazine [doc1].\n",
       "\n",
       "The requested information is not available in the retrieved data. Please try another query or topic."
      ],
      "text/plain": [
       "<IPython.core.display.Markdown object>"
      ]
     },
     "execution_count": 14,
     "metadata": {},
     "output_type": "execute_result"
    }
   ],
   "source": [
    "user_prompt = \"list all peoples associated with Elon Musk with their relation to him\" \n",
    "\n",
    "response = ask_llm_rag(user_prompt)\n",
    "print(response.model)\n",
    "print(response.usage)\n",
    "print(response.created)\n",
    "#response.object\n",
    "#response.choices[0].message.context\n",
    "from IPython.display import Markdown\n",
    "Markdown(response.choices[0].message.content)"
   ]
  },
  {
   "cell_type": "code",
   "execution_count": 127,
   "metadata": {},
   "outputs": [
    {
     "name": "stdout",
     "output_type": "stream",
     "text": [
      "gpt-4o\n",
      "CompletionUsage(completion_tokens=39, prompt_tokens=3675, total_tokens=3714, completion_tokens_details=None, prompt_tokens_details=None)\n",
      "1735938455\n"
     ]
    },
    {
     "data": {
      "text/markdown": [
       "The requested information is not available in the retrieved data. Please try another query or topic."
      ],
      "text/plain": [
       "<IPython.core.display.Markdown object>"
      ]
     },
     "execution_count": 127,
     "metadata": {},
     "output_type": "execute_result"
    }
   ],
   "source": [
    "user_prompt = \"provide 10 points summary of Musk's life?\" \n",
    "\n",
    "response = ask_llm_rag(user_prompt)\n",
    "print(response.model)\n",
    "print(response.usage)\n",
    "print(response.created)\n",
    "#response.object\n",
    "#response.choices[0].message.context\n",
    "from IPython.display import Markdown\n",
    "Markdown(response.choices[0].message.content)"
   ]
  },
  {
   "cell_type": "code",
   "execution_count": 132,
   "metadata": {},
   "outputs": [
    {
     "name": "stdout",
     "output_type": "stream",
     "text": [
      "gpt-4o\n",
      "CompletionUsage(completion_tokens=122, prompt_tokens=3719, total_tokens=3841, completion_tokens_details=None, prompt_tokens_details=None)\n",
      "1735939469\n"
     ]
    },
    {
     "data": {
      "text/markdown": [
       "Elon Musk had a turbulent childhood marked by challenges and difficulties. He experienced a turbulent upbringing with an abusive father, which left him scarred [doc1]. Elon Musk has a younger brother, Kimbal, and a younger sister, Tosca, as well as four paternal half-siblings [doc2]. His father was involved in various professions, including being a sailor, consultant, emerald dealer, and property developer, and he partly owned a rental lodge at the Timbavati Private Nature Reserve [doc2]."
      ],
      "text/plain": [
       "<IPython.core.display.Markdown object>"
      ]
     },
     "execution_count": 132,
     "metadata": {},
     "output_type": "execute_result"
    }
   ],
   "source": [
    "user_prompt = \"Describe the childhood of Elon Musk based on retrieved data\" \n",
    "\n",
    "response = ask_llm_rag(user_prompt)\n",
    "print(response.model)\n",
    "print(response.usage)\n",
    "print(response.created)\n",
    "#response.object\n",
    "#response.choices[0].message.context\n",
    "from IPython.display import Markdown\n",
    "Markdown(response.choices[0].message.content)"
   ]
  },
  {
   "cell_type": "code",
   "execution_count": 131,
   "metadata": {},
   "outputs": [
    {
     "data": {
      "text/plain": [
       "[{'content': 'aHR0cHM6Ly82d2hxand0YWVvZ2Npc2EuYmxvYi5jb3JlLndpbmRvd3MubmV0L2Vsb25tdXNrLXdpa2kvRWxvbl9NdXNrLnBkZg2\\\\nhttps://web.archive.org/web/20221006104534/https://www.mercurynews.com/2012/08/13/greg-kouri-early-investor-in-paypal-dies-in-new-york-2/\\nhttps://web.archive.org/web/20221006104534/https://www.mercurynews.com/2012/08/13/greg-kouri-early-investor-in-paypal-dies-in-new-york-2/\\nhttps://www.cnbc.com/2018/06/19/how-elon-musk-founded-zip2-with-his-brother-kimbal.html',\n",
       "  'title': 'Elon Musk - Wikipedia',\n",
       "  'url': None,\n",
       "  'filepath': 'Elon_Musk.pdf',\n",
       "  'chunk_id': '3'},\n",
       " {'content': 'aHR0cHM6Ly82d2hxand0YWVvZ2Npc2EuYmxvYi5jb3JlLndpbmRvd3MubmV0L2Vsb25tdXNrLXdpa2kvRWxvbl9NdXNrLnBkZg2\\\\nWalter Isaacson says the billionaire\\'s turbulent\\nchildhood with an abusive father left him scarred\" (https://fortune.com/well/2023/09/17/does-\\nelon-musk-have-ptsd-walter-isaacson-biography/). Archived (https://web.archive.org/web/20\\n240615085723/https://fortune.com/well/2023/09/17/does-elon-musk-have-ptsd-walter-isaacs\\non-biography/) from the original on June 15, 2024. Retrieved June 15, 2024.\\n\\n24. Strauss, Neil (November 15, 2017). \"Elon Musk: The Architect of Tomorrow\" (https://web.arc',\n",
       "  'title': 'Elon Musk - Wikipedia',\n",
       "  'url': None,\n",
       "  'filepath': 'Elon_Musk.pdf',\n",
       "  'chunk_id': '0'},\n",
       " {'content': 'aHR0cHM6Ly82d2hxand0YWVvZ2Npc2EuYmxvYi5jb3JlLndpbmRvd3MubmV0L2Vsb25tdXNrLXdpa2kvRWxvbl9NdXNrLnBkZg2\\\\nsailor, consultant, emerald dealer, and property\\ndeveloper, who partly owned a rental lodge at the Timbavati Private Nature Reserve.[10][11][12][13] Elon\\nhas a younger brother, Kimbal, and a younger sister, Tosca.[9][14] Elon has four paternal half-\\nsiblings.[15][16][17]\\n\\n0:000:00 / 0:00/ 0:00\\n\\nEarly life and education\\n\\nChildhood and family\\n\\nhttps://en.wikipedia.org/wiki/Justine_Musk\\nhttps://en.wikipedia.org/wiki/Talulah_Riley\\nhttps://en.wikipedia.org/wiki/Errol_Musk',\n",
       "  'title': 'Elon Musk - Wikipedia',\n",
       "  'url': None,\n",
       "  'filepath': 'Elon_Musk.pdf',\n",
       "  'chunk_id': '1'},\n",
       " {'content': 'aHR0cHM6Ly82d2hxand0YWVvZ2Npc2EuYmxvYi5jb3JlLndpbmRvd3MubmV0L2Vsb25tdXNrLXdpa2kvRWxvbl9NdXNrLnBkZg2\\\\nhttps://www.independent.co.uk/life-style/gadgets-and-tech/news/elon-musk-stephen-hawking-luddite-award-of-the-year-itif-a6821921.html\\nhttps://www.independent.co.uk/life-style/gadgets-and-tech/news/elon-musk-stephen-hawking-luddite-award-of-the-year-itif-a6821921.html\\nhttps://www.independent.co.uk/life-style/gadgets-and-tech/news/elon-musk-stephen-hawking-luddite-award-of-the-year-itif-a6821921.html',\n",
       "  'title': 'Elon Musk - Wikipedia',\n",
       "  'url': None,\n",
       "  'filepath': 'Elon_Musk.pdf',\n",
       "  'chunk_id': '0'}]"
      ]
     },
     "execution_count": 131,
     "metadata": {},
     "output_type": "execute_result"
    }
   ],
   "source": [
    "response.choices[0].message.context['citations']"
   ]
  },
  {
   "cell_type": "code",
   "execution_count": null,
   "metadata": {},
   "outputs": [],
   "source": []
  }
 ],
 "metadata": {
  "kernelspec": {
   "display_name": "Python 3",
   "language": "python",
   "name": "python3"
  },
  "language_info": {
   "codemirror_mode": {
    "name": "ipython",
    "version": 3
   },
   "file_extension": ".py",
   "mimetype": "text/x-python",
   "name": "python",
   "nbconvert_exporter": "python",
   "pygments_lexer": "ipython3",
   "version": "3.11.11"
  }
 },
 "nbformat": 4,
 "nbformat_minor": 2
}
