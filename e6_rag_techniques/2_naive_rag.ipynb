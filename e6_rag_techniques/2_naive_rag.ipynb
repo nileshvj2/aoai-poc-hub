{
 "cells": [
  {
   "cell_type": "code",
   "execution_count": 5,
   "metadata": {},
   "outputs": [
    {
     "data": {
      "text/plain": [
       "True"
      ]
     },
     "execution_count": 5,
     "metadata": {},
     "output_type": "execute_result"
    }
   ],
   "source": [
    "import pandas as pd\n",
    "import json\n",
    "import openai\n",
    "import inspect\n",
    "from dotenv import load_dotenv\n",
    "import os\n",
    "load_dotenv(\"..\\credentials.env\",override=True)"
   ]
  },
  {
   "cell_type": "code",
   "execution_count": 24,
   "metadata": {},
   "outputs": [],
   "source": [
    "from azure.search.documents import SearchClient\n",
    "from azure.search.documents.models import VectorizableTextQuery\n",
    "from azure.core.credentials import AzureKeyCredential"
   ]
  },
  {
   "cell_type": "code",
   "execution_count": 10,
   "metadata": {},
   "outputs": [],
   "source": [
    "endpoint = os.environ[\"AZURE_OPENAI_ENDPOINT\"]\n",
    "subscription_key = os.environ[\"AZURE_OPENAI_API_KEY\"]\n",
    "deployment = \"gpt-4o\"\n",
    "\n",
    "# Azure AI Search setup\n",
    "search_endpoint = os.getenv(\"AZURE_SEARCH_ENDPOINT\"); # Add your Azure AI Search endpoint here\n",
    "search_key = os.getenv(\"AZURE_SEARCH_KEY\"); # Add your Azure AI Search admin key here\n",
    "search_index_name = \"northwind-vectorstore\""
   ]
  },
  {
   "cell_type": "code",
   "execution_count": 25,
   "metadata": {},
   "outputs": [],
   "source": [
    "client = openai.AzureOpenAI(  \n",
    "    azure_endpoint=endpoint,  \n",
    "    api_key=subscription_key,  \n",
    "    api_version=\"2024-05-01-preview\",  \n",
    ")\n",
    "\n",
    "search_client = SearchClient(\n",
    "     endpoint=search_endpoint,\n",
    "     index_name=search_index_name,    \n",
    "     credential=AzureKeyCredential(search_key)\n",
    " )"
   ]
  },
  {
   "cell_type": "code",
   "execution_count": 71,
   "metadata": {},
   "outputs": [],
   "source": [
    "# Provide instructions to the model\n",
    "GROUNDED_PROMPT=\"\"\"\n",
    "You are an AI assistant that helps users learn from the information found in the source material.\n",
    "Answer the query using only the sources provided below.\n",
    "Use bullets if the answer has multiple points.\n",
    "If the answer is longer than 3 sentences, provide a summary.\n",
    "Answer ONLY with the facts listed in the list of sources below. Cite your source when you answer the question\n",
    "If there isn't enough information below, say you don't know.\n",
    "Do not generate answers that don't use the sources below.\n",
    "Query: {query}\n",
    "Sources:\\n{sources}\n",
    "\"\"\"\n",
    "\n",
    "#"
   ]
  },
  {
   "cell_type": "code",
   "execution_count": 72,
   "metadata": {},
   "outputs": [],
   "source": [
    "\n",
    "def naive_rag(query):    \n",
    "    vector_query = VectorizableTextQuery(text=query, k_nearest_neighbors=50, fields=\"text_vector\")\n",
    "    search_results = search_client.search(  \n",
    "        search_text=query,  \n",
    "        vector_queries= [vector_query],\n",
    "        select=[\"title\", \"chunk\", \"chunk_id\"],\n",
    "        top=1\n",
    "    )\n",
    "\n",
    "    search_results.get_count()\n",
    "    \n",
    "    #for result in search_results:  \n",
    "        #print(result)\n",
    "    #     print(f\"Score: {result['@search.score']}\")\n",
    "    #     print(f\"Chunk: {result['chunk']}\")\n",
    "    sources_formatted = \"=================\\n\".join([f'TITLE: {document[\"title\"]}, CONTENT: {document[\"chunk\"]}' for document in search_results])\n",
    "    sources_formatted\n",
    "    response = client.chat.completions.create(\n",
    "        messages=[\n",
    "            {\n",
    "                \"role\": \"user\",\n",
    "                \"content\": GROUNDED_PROMPT.format(query=query, sources=sources_formatted)\n",
    "            }\n",
    "        ],\n",
    "        model=deployment\n",
    "    )\n",
    "\n",
    "    print(response.choices[0].message.content)"
   ]
  },
  {
   "cell_type": "code",
   "execution_count": 73,
   "metadata": {},
   "outputs": [
    {
     "name": "stdout",
     "output_type": "stream",
     "text": [
      "I don't know.\n"
     ]
    }
   ],
   "source": [
    "naive_rag(\"Does Northwind health plan covers eye exams?\")"
   ]
  },
  {
   "cell_type": "code",
   "execution_count": 75,
   "metadata": {},
   "outputs": [
    {
     "name": "stdout",
     "output_type": "stream",
     "text": [
      "Based on the provided sources, it is unclear whether the Northwind Standard plan specifically covers tests related to an inability to listen to sound. However, the plan includes exceptions such as not covering services that are not medically necessary or provided by health care providers not contracted with Northwind Health (Source: \"Northwind_Standard_Benefits_Details.pdf\"). Therefore, you should ensure that:\n",
      "\n",
      "- The service is deemed medically necessary.\n",
      "- The health care provider is contracted with Northwind Health.\n",
      "\n",
      "If these conditions are met, you should send the relevant documentation, including test results and physician's notes, to Northwind Health and follow up to ensure your claim is being processed. \n",
      "\n",
      "(Source: \"Northwind_Standard_Benefits_Details.pdf\")\n"
     ]
    }
   ],
   "source": [
    "naive_rag(\"I am unable to listen to the sound, does northwind cover the test?\")"
   ]
  },
  {
   "cell_type": "code",
   "execution_count": 60,
   "metadata": {},
   "outputs": [
    {
     "name": "stdout",
     "output_type": "stream",
     "text": [
      "I don't know.\n"
     ]
    }
   ],
   "source": [
    "naive_rag(\"what should I do if I feel feverish?\")"
   ]
  },
  {
   "cell_type": "code",
   "execution_count": 61,
   "metadata": {},
   "outputs": [
    {
     "name": "stdout",
     "output_type": "stream",
     "text": [
      "Based on the provided document, here are some tips to improve your health:\n",
      "\n",
      "- Track your weight loss progress to stay motivated and on track.\n",
      "- Seek support from friends, family, or a healthcare professional to remain accountable and motivated.\n",
      "\n",
      "(Source: Northwind_Standard_Benefits_Details.pdf)\n"
     ]
    }
   ],
   "source": [
    "naive_rag(\"how can I improve my health?\")"
   ]
  },
  {
   "cell_type": "code",
   "execution_count": null,
   "metadata": {},
   "outputs": [],
   "source": [
    "naive_rag(\"Does Northwind plans cover testing cholestrol levels?\")\n"
   ]
  },
  {
   "cell_type": "code",
   "execution_count": null,
   "metadata": {},
   "outputs": [],
   "source": []
  }
 ],
 "metadata": {
  "kernelspec": {
   "display_name": "Python 3",
   "language": "python",
   "name": "python3"
  },
  "language_info": {
   "codemirror_mode": {
    "name": "ipython",
    "version": 3
   },
   "file_extension": ".py",
   "mimetype": "text/x-python",
   "name": "python",
   "nbconvert_exporter": "python",
   "pygments_lexer": "ipython3",
   "version": "3.11.11"
  }
 },
 "nbformat": 4,
 "nbformat_minor": 2
}
