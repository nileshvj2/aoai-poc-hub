{
 "cells": [
  {
   "cell_type": "code",
   "execution_count": 1,
   "metadata": {},
   "outputs": [
    {
     "data": {
      "text/plain": [
       "True"
      ]
     },
     "execution_count": 1,
     "metadata": {},
     "output_type": "execute_result"
    }
   ],
   "source": [
    "from dotenv import load_dotenv\n",
    "import os\n",
    "from openai import AzureOpenAI\n",
    "load_dotenv(\"credentials.env\",override=True)"
   ]
  },
  {
   "cell_type": "code",
   "execution_count": 2,
   "metadata": {},
   "outputs": [],
   "source": [
    "aoai_api_key = os.environ[\"AZURE_OPENAI_API_KEY\"]\n",
    "aoai_endpoint = os.environ[\"AZURE_OPENAI_ENDPOINT\"]\n",
    "DEPLOYMENT_NAME = \"gpt-4o\"\n",
    "EMBEDDING_MODEL_NAME = \"text-embedding-ada-002\"\n",
    "aoai_api_version = os.environ[\"AZURE_OPENAI_API_VERSION\"]\n",
    "\n",
    "client = AzureOpenAI(\n",
    "    api_key = aoai_api_key,    \n",
    "    api_version = aoai_api_version,\n",
    "    azure_endpoint = aoai_endpoint\n",
    ")\n"
   ]
  },
  {
   "cell_type": "code",
   "execution_count": 3,
   "metadata": {},
   "outputs": [
    {
     "name": "stdout",
     "output_type": "stream",
     "text": [
      "1.63.0\n"
     ]
    }
   ],
   "source": [
    "import openai\n",
    "print(openai.__version__)"
   ]
  },
  {
   "cell_type": "code",
   "execution_count": 4,
   "metadata": {},
   "outputs": [],
   "source": [
    "import requests\n",
    "from bs4 import BeautifulSoup\n",
    "\n",
    "url = \"https://en.wikipedia.org/wiki/Elon_Musk\"  # Replace with the URL of the web page you want to scrape\n",
    "response = requests.get(url)\n",
    "soup = BeautifulSoup(response.text, \"html.parser\")\n",
    "\n",
    "if not os.path.exists('data'): \n",
    "    os.makedirs('data')\n",
    "\n",
    "if not os.path.exists('data/elon.md'):\n",
    "    elon = soup.text.split('\\nSee also')[0]\n",
    "    with open('data/elon.md', 'w', encoding='utf-8') as f:\n",
    "        f.write(elon)\n",
    "else:\n",
    "    with open('data/elon.md', 'r') as f:\n",
    "        elon = f.read()"
   ]
  },
  {
   "cell_type": "code",
   "execution_count": 5,
   "metadata": {},
   "outputs": [
    {
     "name": "stdout",
     "output_type": "stream",
     "text": [
      "⠋ GraphRAG Indexer \n",
      "Initializing project at data/graphrag\n",
      "⠋ GraphRAG Indexer \n",
      "Traceback (most recent call last):\n",
      "⠋ GraphRAG Indexer \n",
      "  File \"<frozen runpy>\", line 198, in _run_module_as_main\n",
      "⠋ GraphRAG Indexer \n",
      "  File \"<frozen runpy>\", line 88, in _run_code\n",
      "⠋ GraphRAG Indexer \n",
      "  File \n",
      "\"c:\\Users\\nileshjoshi\\git\\aoai-poc-hub\\common\\envs\\aoai_poc_e6\\Lib\\site-package\n",
      "s\\graphrag\\index\\__main__.py\", line 104, in <module>\n",
      "⠋ GraphRAG Indexer \n",
      "    index_cli(\n",
      "⠋ GraphRAG Indexer \n",
      "  File \n",
      "\"c:\\Users\\nileshjoshi\\git\\aoai-poc-hub\\common\\envs\\aoai_poc_e6\\Lib\\site-package\n",
      "s\\graphrag\\index\\cli.py\", line 126, in index_cli\n",
      "⠋ GraphRAG Indexer \n",
      "    _initialize_project_at(root_dir, progress_reporter)\n",
      "⠋ GraphRAG Indexer \n",
      "  File \n",
      "\"c:\\Users\\nileshjoshi\\git\\aoai-poc-hub\\common\\envs\\aoai_poc_e6\\Lib\\site-package\n",
      "s\\graphrag\\index\\cli.py\", line 199, in _initialize_project_at\n",
      "⠋ GraphRAG Indexer \n",
      "    raise ValueError(msg)\n",
      "⠋ GraphRAG Indexer \n",
      "ValueError: Project already initialized at data\\graphrag\n",
      "⠋ GraphRAG Indexer \n"
     ]
    }
   ],
   "source": [
    "import yaml\n",
    "\n",
    "if os.path.exists('data/graphrag'):\n",
    "    !python -m graphrag.index --init --root data/graphrag\n"
   ]
  },
  {
   "cell_type": "code",
   "execution_count": 6,
   "metadata": {},
   "outputs": [
    {
     "name": "stdout",
     "output_type": "stream",
     "text": [
      "⠋ GraphRAG Indexer \n",
      "Logging enabled at \n",
      "C:\\Users\\nileshjoshi\\git\\ai-lab\\data\\graphrag\\output\\indexing-engine.log\n",
      "⠋ GraphRAG Indexer \n",
      "⠋ GraphRAG Indexer \n",
      "Traceback (most recent call last):\n",
      "⠙ GraphRAG Indexer \n",
      "└── Loading Input (InputFileType.text) - 0 files loaded (1 filtered) - 100%  0…\n",
      "  File \"<frozen runpy>\", line 198, in _run_module_as_main\n",
      "⠙ GraphRAG Indexer \n",
      "└── Loading Input (InputFileType.text) - 0 files loaded (1 filtered) - 100%  0…\n",
      "  File \"<frozen runpy>\", line 88, in _run_code\n",
      "⠙ GraphRAG Indexer \n",
      "└── Loading Input (InputFileType.text) - 0 files loaded (1 filtered) - 100%  0…\n",
      "  File \n",
      "\"c:\\Users\\nileshjoshi\\git\\ai-lab\\.conda\\Lib\\site-packages\\graphrag\\index\\__main\n",
      "__.py\", line 104, in <module>\n",
      "⠙ GraphRAG Indexer \n",
      "└── Loading Input (InputFileType.text) - 0 files loaded (1 filtered) - 100%  0…\n",
      "    index_cli(\n",
      "⠙ GraphRAG Indexer \n",
      "└── Loading Input (InputFileType.text) - 0 files loaded (1 filtered) - 100%  0…\n",
      "  File \n",
      "\"c:\\Users\\nileshjoshi\\git\\ai-lab\\.conda\\Lib\\site-packages\\graphrag\\index\\cli.py\n",
      "\", line 163, in index_cli\n",
      "⠙ GraphRAG Indexer \n",
      "└── Loading Input (InputFileType.text) - 0 files loaded (1 filtered) - 100%  0…\n",
      "    outputs = asyncio.run(\n",
      "⠙ GraphRAG Indexer \n",
      "└── Loading Input (InputFileType.text) - 0 files loaded (1 filtered) - 100%  0…\n",
      "              ^^^^^^^^^^^^\n",
      "⠙ GraphRAG Indexer \n",
      "└── Loading Input (InputFileType.text) - 0 files loaded (1 filtered) - 100%  0…\n",
      "  File \"c:\\Users\\nileshjoshi\\git\\ai-lab\\.conda\\Lib\\asyncio\\runners.py\", line \n",
      "190, in run\n",
      "⠙ GraphRAG Indexer \n",
      "└── Loading Input (InputFileType.text) - 0 files loaded (1 filtered) - 100%  0…\n",
      "    return runner.run(main)\n",
      "⠙ GraphRAG Indexer \n",
      "└── Loading Input (InputFileType.text) - 0 files loaded (1 filtered) - 100%  0…\n",
      "           ^^^^^^^^^^^^^^^^\n",
      "⠙ GraphRAG Indexer \n",
      "└── Loading Input (InputFileType.text) - 0 files loaded (1 filtered) - 100%  0…\n",
      "  File \"c:\\Users\\nileshjoshi\\git\\ai-lab\\.conda\\Lib\\asyncio\\runners.py\", line \n",
      "118, in run\n",
      "⠙ GraphRAG Indexer \n",
      "└── Loading Input (InputFileType.text) - 0 files loaded (1 filtered) - 100%  0…\n",
      "    return self._loop.run_until_complete(task)\n",
      "⠙ GraphRAG Indexer \n",
      "└── Loading Input (InputFileType.text) - 0 files loaded (1 filtered) - 100%  0…\n",
      "           ^^^^^^^^^^^^^^^^^^^^^^^^^^^^^^^^^^^\n",
      "⠙ GraphRAG Indexer \n",
      "└── Loading Input (InputFileType.text) - 0 files loaded (1 filtered) - 100%  0…\n",
      "  File \"c:\\Users\\nileshjoshi\\git\\ai-lab\\.conda\\Lib\\asyncio\\base_events.py\", \n",
      "line 654, in run_until_complete\n",
      "⠙ GraphRAG Indexer \n",
      "└── Loading Input (InputFileType.text) - 0 files loaded (1 filtered) - 100%  0…\n",
      "    return future.result()\n",
      "⠹ GraphRAG Indexer \n",
      "└── Loading Input (InputFileType.text) - 0 files loaded (1 filtered) - 100%  0…\n",
      "           ^^^^^^^^^^^^^^^\n",
      "⠹ GraphRAG Indexer \n",
      "└── Loading Input (InputFileType.text) - 0 files loaded (1 filtered) - 100%  0…\n",
      "  File \n",
      "\"c:\\Users\\nileshjoshi\\git\\ai-lab\\.conda\\Lib\\site-packages\\graphrag\\index\\api.py\n",
      "\", line 66, in build_index\n",
      "⠹ GraphRAG Indexer \n",
      "└── Loading Input (InputFileType.text) - 0 files loaded (1 filtered) - 100%  0…\n",
      "    async for output in run_pipeline_with_config(\n",
      "⠹ GraphRAG Indexer \n",
      "└── Loading Input (InputFileType.text) - 0 files loaded (1 filtered) - 100%  0…\n",
      "  File \n",
      "\"c:\\Users\\nileshjoshi\\git\\ai-lab\\.conda\\Lib\\site-packages\\graphrag\\index\\run\\ru\n",
      "n.py\", line 111, in run_pipeline_with_config\n",
      "⠹ GraphRAG Indexer \n",
      "└── Loading Input (InputFileType.text) - 0 files loaded (1 filtered) - 100%  0…\n",
      "    else await _create_input(config.input, progress_reporter, root_dir)\n",
      "⠸ GraphRAG Indexer \n",
      "└── Loading Input (InputFileType.text) - 0 files loaded (1 filtered) - 100%  0…\n",
      "         ^^^^^^^^^^^^^^^^^^^^^^^^^^^^^^^^^^^^^^^^^^^^^^^^^^^^^^^^^^^^^^\n",
      "⠸ GraphRAG Indexer \n",
      "└── Loading Input (InputFileType.text) - 0 files loaded (1 filtered) - 100%  0…\n",
      "  File \n",
      "\"c:\\Users\\nileshjoshi\\git\\ai-lab\\.conda\\Lib\\site-packages\\graphrag\\index\\run\\ut\n",
      "ils.py\", line 58, in _create_input\n",
      "⠸ GraphRAG Indexer \n",
      "└── Loading Input (InputFileType.text) - 0 files loaded (1 filtered) - 100%  0…\n",
      "    return await load_input(config, progress_reporter, root_dir)\n",
      "⠸ GraphRAG Indexer \n",
      "└── Loading Input (InputFileType.text) - 0 files loaded (1 filtered) - 100%  0…\n",
      "           ^^^^^^^^^^^^^^^^^^^^^^^^^^^^^^^^^^^^^^^^^^^^^^^^^^^^^\n",
      "⠸ GraphRAG Indexer \n",
      "└── Loading Input (InputFileType.text) - 0 files loaded (1 filtered) - 100%  0…\n",
      "  File \n",
      "\"c:\\Users\\nileshjoshi\\git\\ai-lab\\.conda\\Lib\\site-packages\\graphrag\\index\\input\\\n",
      "load_input.py\", line 81, in load_input\n",
      "⠸ GraphRAG Indexer \n",
      "└── Loading Input (InputFileType.text) - 0 files loaded (1 filtered) - 100%  0…\n",
      "    results = await loader(config, progress, storage)\n",
      "⠼ GraphRAG Indexer \n",
      "└── Loading Input (InputFileType.text) - 0 files loaded (1 filtered) - 100%  0…\n",
      "              ^^^^^^^^^^^^^^^^^^^^^^^^^^^^^^^^^^^^^^^\n",
      "⠼ GraphRAG Indexer \n",
      "└── Loading Input (InputFileType.text) - 0 files loaded (1 filtered) - 100%  0…\n",
      "  File \n",
      "\"c:\\Users\\nileshjoshi\\git\\ai-lab\\.conda\\Lib\\site-packages\\graphrag\\index\\input\\\n",
      "text.py\", line 52, in load\n",
      "⠼ GraphRAG Indexer \n",
      "└── Loading Input (InputFileType.text) - 0 files loaded (1 filtered) - 100%  0…\n",
      "    raise ValueError(msg)\n",
      "⠼ GraphRAG Indexer \n",
      "└── Loading Input (InputFileType.text) - 0 files loaded (1 filtered) - 100%  0…\n",
      "ValueError: No text files found in input\n",
      "⠼ GraphRAG Indexer \n",
      "└── Loading Input (InputFileType.text) - 0 files loaded (1 filtered) - 100%  0…\n"
     ]
    }
   ],
   "source": [
    "\n",
    "with open('data/graphrag/settings.yaml', 'r') as f:\n",
    "    settings_yaml = yaml.load(f, Loader=yaml.FullLoader)\n",
    "settings_yaml['llm']['model'] = \"gpt-4o\"\n",
    "settings_yaml['llm']['api_key'] = aoai_api_key \n",
    "settings_yaml['llm']['type'] = 'azure_openai_chat' \n",
    "settings_yaml['embeddings']['llm']['api_key'] = aoai_api_key\n",
    "settings_yaml['embeddings']['llm']['type'] = 'azure_openai_embedding'\n",
    "settings_yaml['embeddings']['llm']['model'] = EMBEDDING_MODEL_NAME \n",
    "settings_yaml['llm']['api_version'] = aoai_api_version\n",
    "settings_yaml['llm']['deployment_name'] = DEPLOYMENT_NAME\n",
    "settings_yaml['llm']['api_base'] = aoai_endpoint\n",
    "settings_yaml['embeddings']['llm']['api_version'] = aoai_api_version\n",
    "settings_yaml['embeddings']['llm']['deployment_name'] = EMBEDDING_MODEL_NAME\n",
    "settings_yaml['embeddings']['llm']['api_base'] = aoai_endpoint\n",
    "\n",
    "with open('data/graphrag/settings.yaml', 'w') as f:\n",
    "    yaml.dump(settings_yaml, f)\n",
    "\n",
    "#if not os.path.exists('data/graphrag/input'):\n",
    "    #os.makedirs('data/graphrag/input')\n",
    "    #!copy data/elon.md data/graphrag/input/elon.txt\n",
    "!python -m graphrag.index --root ./data/graphrag"
   ]
  },
  {
   "cell_type": "code",
   "execution_count": 6,
   "metadata": {},
   "outputs": [],
   "source": [
    "import subprocess\n",
    "import re\n",
    "DEFAULT_RESPONSE_TYPE = 'Summarize and explain in 1-2 paragraphs with bullet points using at most 300 tokens'\n",
    "DEFAULT_MAX_CONTEXT_TOKENS = 10000\n",
    "\n",
    "def remove_data(text):\n",
    "  return re.sub(r'\\[Data:.*?\\]', '', text).strip()\n",
    "\n",
    "\n",
    "def ask_graph(query,method):\n",
    "  env = os.environ.copy() | {\n",
    "    'GRAPHRAG_GLOBAL_SEARCH_MAX_TOKENS': str(DEFAULT_MAX_CONTEXT_TOKENS),\n",
    "  }\n",
    "  command = [\n",
    "    'python', '-m', 'graphrag.query',\n",
    "    '--root', './data/graphrag',\n",
    "    '--method', method,\n",
    "    '--response_type', DEFAULT_RESPONSE_TYPE,\n",
    "    query,\n",
    "  ]\n",
    "  output = subprocess.check_output(command, universal_newlines=True, env=env, stderr=subprocess.DEVNULL)\n",
    "  return remove_data(output.split('Search Response: ')[0])"
   ]
  },
  {
   "cell_type": "markdown",
   "metadata": {},
   "source": [
    "GrpahRag offers 2 types of search:\n",
    "\n",
    "Global Search for reasoning about holistic questions about the corpus by leveraging the community summaries.\n",
    "Local Search for reasoning about specific entities by fanning-out to their neighbors and associated concepts."
   ]
  },
  {
   "cell_type": "code",
   "execution_count": 7,
   "metadata": {},
   "outputs": [
    {
     "data": {
      "text/markdown": [
       "creating llm client with {'api_key': 'REDACTED,len=32', 'type': \"azure_openai_chat\", 'model': 'gpt-4o', 'max_tokens': 4000, 'temperature': 0.0, 'top_p': 1.0, 'n': 1, 'request_timeout': 180.0, 'api_base': 'https://njo-npd-openai-dev-ce.openai.azure.com/', 'api_version': '2024-08-01-preview', 'organization': None, 'proxy': None, 'cognitive_services_endpoint': None, 'deployment_name': 'gpt-4o', 'model_supports_json': True, 'tokens_per_minute': 0, 'requests_per_minute': 0, 'max_retries': 10, 'max_retry_wait': 10.0, 'sleep_on_rate_limit_recommendation': True, 'concurrent_requests': 25}\n",
       "\n",
       "SUCCESS: Global Search Response:\n",
       "### Elon Musk's Educational Background\n",
       "\n",
       "- **University of Pennsylvania**: Elon Musk earned degrees in economics and physics from the University of Pennsylvania. This educational background provided a strong foundation for his later ventures in technology and business .\n",
       "- **Stanford University**: Musk briefly attended Stanford University, which contributed to his early career development before he left to pursue entrepreneurial opportunities ."
      ],
      "text/plain": [
       "<IPython.core.display.Markdown object>"
      ]
     },
     "execution_count": 7,
     "metadata": {},
     "output_type": "execute_result"
    }
   ],
   "source": [
    "from IPython.display import Markdown\n",
    "global_query=\"where did Elon Musk studied\"\n",
    "global_result = ask_graph(global_query,'global')\n",
    "\n",
    "Markdown(global_result)"
   ]
  },
  {
   "cell_type": "code",
   "execution_count": 8,
   "metadata": {},
   "outputs": [
    {
     "data": {
      "text/markdown": [
       "INFO: Vector Store Args: {}\n",
       "creating llm client with {'api_key': 'REDACTED,len=32', 'type': \"azure_openai_chat\", 'model': 'gpt-4o', 'max_tokens': 4000, 'temperature': 0.0, 'top_p': 1.0, 'n': 1, 'request_timeout': 180.0, 'api_base': 'https://njo-npd-openai-dev-ce.openai.azure.com/', 'api_version': '2024-08-01-preview', 'organization': None, 'proxy': None, 'cognitive_services_endpoint': None, 'deployment_name': 'gpt-4o', 'model_supports_json': True, 'tokens_per_minute': 0, 'requests_per_minute': 0, 'max_retries': 10, 'max_retry_wait': 10.0, 'sleep_on_rate_limit_recommendation': True, 'concurrent_requests': 25}\n",
       "creating embedding llm client with {'api_key': 'REDACTED,len=32', 'type': \"azure_openai_embedding\", 'model': 'text-embedding-ada-002', 'max_tokens': 4000, 'temperature': 0, 'top_p': 1, 'n': 1, 'request_timeout': 180.0, 'api_base': 'https://njo-npd-openai-dev-ce.openai.azure.com/', 'api_version': '2024-08-01-preview', 'organization': None, 'proxy': None, 'cognitive_services_endpoint': None, 'deployment_name': 'text-embedding-ada-002', 'model_supports_json': None, 'tokens_per_minute': 0, 'requests_per_minute': 0, 'max_retries': 10, 'max_retry_wait': 10.0, 'sleep_on_rate_limit_recommendation': True, 'concurrent_requests': 25}\n",
       "\n",
       "SUCCESS: Local Search Response:\n",
       "Elon Musk has founded and co-founded several high-profile companies and subsidiaries across various industries. Here is a summary of the key companies and subsidiaries he has been involved with:\n",
       "\n",
       "### Companies Founded or Co-Founded by Elon Musk\n",
       "- **Zip2**: Co-founded with his brother Kimbal Musk, an online city guide software company .\n",
       "- **X.com (PayPal)**: Co-founded as an online payment company, which later became PayPal .\n",
       "- **SpaceX**: Founded in 2002, specializing in spaceflight services .\n",
       "- **Tesla, Inc.**: Early investor and later CEO, product architect, and chairman .\n",
       "- **SolarCity**: Helped create in 2006, later acquired by Tesla .\n",
       "- **The Boring Company**: Founded in 2016, focusing on tunnel construction .\n",
       "- **Neuralink**: Co-founded in 2016, developing brain-machine interfaces .\n",
       "- **OpenAI**: Co-founded in 2015, focusing on artificial intelligence research .\n",
       "- **xAI**: Founded in 2023, an artificial intelligence company .\n",
       "\n",
       "### Subsidiaries\n",
       "- **Tesla Energy**: A subsidiary of Tesla, Inc., formed after the acquisition of SolarCity .\n",
       "- **Starlink**: Operated by SpaceX, providing satellite internet services .\n",
       "\n",
       "### Summary\n",
       "- **Total Companies Founded or Co-Founded**: 9\n",
       "- **Total Subsidiaries**: 2\n",
       "\n",
       "Elon Musk's ventures span various fields including technology, transportation, space exploration, and renewable energy, showcasing his diverse interests and innovative contributions ."
      ],
      "text/plain": [
       "<IPython.core.display.Markdown object>"
      ]
     },
     "execution_count": 8,
     "metadata": {},
     "output_type": "execute_result"
    }
   ],
   "source": [
    "from IPython.display import Markdown\n",
    "local_query=\"What and how many companies and subsidieries founded by Elon Musk\"\n",
    "local_result = ask_graph(local_query,'local')\n",
    "\n",
    "Markdown(local_result)"
   ]
  },
  {
   "cell_type": "code",
   "execution_count": 9,
   "metadata": {},
   "outputs": [
    {
     "data": {
      "text/markdown": [
       "creating llm client with {'api_key': 'REDACTED,len=32', 'type': \"azure_openai_chat\", 'model': 'gpt-4o', 'max_tokens': 4000, 'temperature': 0.0, 'top_p': 1.0, 'n': 1, 'request_timeout': 180.0, 'api_base': 'https://njo-npd-openai-dev-ce.openai.azure.com/', 'api_version': '2024-08-01-preview', 'organization': None, 'proxy': None, 'cognitive_services_endpoint': None, 'deployment_name': 'gpt-4o', 'model_supports_json': True, 'tokens_per_minute': 0, 'requests_per_minute': 0, 'max_retries': 10, 'max_retry_wait': 10.0, 'sleep_on_rate_limit_recommendation': True, 'concurrent_requests': 25}\n",
       "\n",
       "SUCCESS: Global Search Response:\n",
       "### Major Accomplishments of Elon Musk\n",
       "\n",
       "Elon Musk has achieved significant milestones across various industries through his leadership and entrepreneurial ventures:\n",
       "\n",
       "- **Tesla, Inc.**: Co-founded Tesla, providing initial financing and serving as CEO and product architect. Under his leadership, Tesla has become a major player in the electric vehicle and clean energy markets .\n",
       "- **SpaceX**: Founded SpaceX in 2002 with $100 million from the sale of PayPal. SpaceX has become a major player in the aerospace industry, achieving significant milestones in spaceflight services and reusable rocket technology .\n",
       "- **PayPal**: Co-founded X.com in 1999, which later merged with Confinity to form PayPal. PayPal became a leading online payment system and was acquired by eBay for $1.5 billion in 2002 .\n",
       "- **X Corp. (formerly Twitter)**: Acquired Twitter in 2022 for $44 billion and rebranded it as X Corp. in 2023. Holds multiple key positions, including owner, CTO, and executive chairman, significantly influencing the platform's direction and policies .\n",
       "- **Other Ventures**: Leads other high-profile companies such as Neuralink and The Boring Company, positioning himself as a key figure in neurotechnology and infrastructure development .\n",
       "\n",
       "These accomplishments highlight Musk's influence in advancing technology and innovation across multiple sectors."
      ],
      "text/plain": [
       "<IPython.core.display.Markdown object>"
      ]
     },
     "execution_count": 9,
     "metadata": {},
     "output_type": "execute_result"
    }
   ],
   "source": [
    "global_query=\"What are the major accomplishments of Elon Musk?\"\n",
    "global_result = ask_graph(global_query,'global')\n",
    "\n",
    "Markdown(global_result)"
   ]
  },
  {
   "cell_type": "code",
   "execution_count": 11,
   "metadata": {},
   "outputs": [
    {
     "data": {
      "text/markdown": [
       "INFO: Vector Store Args: {}\n",
       "creating llm client with {'api_key': 'REDACTED,len=32', 'type': \"azure_openai_chat\", 'model': 'gpt-4o', 'max_tokens': 4000, 'temperature': 0.0, 'top_p': 1.0, 'n': 1, 'request_timeout': 180.0, 'api_base': 'https://njo-npd-openai-dev-ce.openai.azure.com/', 'api_version': '2024-08-01-preview', 'organization': None, 'proxy': None, 'cognitive_services_endpoint': None, 'deployment_name': 'gpt-4o', 'model_supports_json': True, 'tokens_per_minute': 0, 'requests_per_minute': 0, 'max_retries': 10, 'max_retry_wait': 10.0, 'sleep_on_rate_limit_recommendation': True, 'concurrent_requests': 25}\n",
       "creating embedding llm client with {'api_key': 'REDACTED,len=32', 'type': \"azure_openai_embedding\", 'model': 'text-embedding-ada-002', 'max_tokens': 4000, 'temperature': 0, 'top_p': 1, 'n': 1, 'request_timeout': 180.0, 'api_base': 'https://njo-npd-openai-dev-ce.openai.azure.com/', 'api_version': '2024-08-01-preview', 'organization': None, 'proxy': None, 'cognitive_services_endpoint': None, 'deployment_name': 'text-embedding-ada-002', 'model_supports_json': None, 'tokens_per_minute': 0, 'requests_per_minute': 0, 'max_retries': 10, 'max_retry_wait': 10.0, 'sleep_on_rate_limit_recommendation': True, 'concurrent_requests': 25}\n",
       "\n",
       "SUCCESS: Local Search Response:\n",
       "## Elon Musk's Business Career\n",
       "\n",
       "Elon Musk has had a highly influential and diverse business career, marked by his leadership in multiple high-profile companies and innovative ventures:\n",
       "\n",
       "- **Zip2 and PayPal**: Musk co-founded Zip2 with his brother Kimbal, which was sold to Compaq for $307 million. He then co-founded X.com, which became PayPal and was acquired by eBay for $1.5 billion .\n",
       "- **SpaceX**: Founded in 2002 using $100 million from the PayPal sale, SpaceX focuses on spaceflight services and has become a leader in aerospace manufacturing .\n",
       "- **Tesla, Inc.**: Musk joined Tesla as an early investor in 2004, later becoming CEO and product architect. Tesla is a leading electric vehicle and clean energy company .\n",
       "- **SolarCity**: Created with Musk's help in 2006, SolarCity was acquired by Tesla in 2016 and became Tesla Energy .\n",
       "- **Neuralink and OpenAI**: Co-founded Neuralink in 2016 to develop brain-machine interfaces and OpenAI in 2015 to advance digital intelligence .\n",
       "- **The Boring Company and Hyperloop**: Founded The Boring Company in 2016 for tunnel construction and conceptualized the Hyperloop high-speed transportation system .\n",
       "- **Twitter/X**: Acquired Twitter in 2022 for $44 billion, rebranding it as X in 2023 .\n",
       "- **xAI**: Founded xAI in 2023 to focus on artificial intelligence .\n",
       "\n",
       "Musk's ventures have significantly impacted technology, transportation, and space exploration, solidifying his reputation as a leading figure in innovation ."
      ],
      "text/plain": [
       "<IPython.core.display.Markdown object>"
      ]
     },
     "execution_count": 11,
     "metadata": {},
     "output_type": "execute_result"
    }
   ],
   "source": [
    "from IPython.display import Markdown\n",
    "local_query=\"Summarize business career of Elon Musk\"\n",
    "local_result = ask_graph(local_query,'local')\n",
    "\n",
    "Markdown(local_result)"
   ]
  },
  {
   "cell_type": "code",
   "execution_count": 12,
   "metadata": {},
   "outputs": [
    {
     "data": {
      "text/markdown": [
       "INFO: Vector Store Args: {}\n",
       "creating llm client with {'api_key': 'REDACTED,len=32', 'type': \"azure_openai_chat\", 'model': 'gpt-4o', 'max_tokens': 4000, 'temperature': 0.0, 'top_p': 1.0, 'n': 1, 'request_timeout': 180.0, 'api_base': 'https://njo-npd-openai-dev-ce.openai.azure.com/', 'api_version': '2024-08-01-preview', 'organization': None, 'proxy': None, 'cognitive_services_endpoint': None, 'deployment_name': 'gpt-4o', 'model_supports_json': True, 'tokens_per_minute': 0, 'requests_per_minute': 0, 'max_retries': 10, 'max_retry_wait': 10.0, 'sleep_on_rate_limit_recommendation': True, 'concurrent_requests': 25}\n",
       "creating embedding llm client with {'api_key': 'REDACTED,len=32', 'type': \"azure_openai_embedding\", 'model': 'text-embedding-ada-002', 'max_tokens': 4000, 'temperature': 0, 'top_p': 1, 'n': 1, 'request_timeout': 180.0, 'api_base': 'https://njo-npd-openai-dev-ce.openai.azure.com/', 'api_version': '2024-08-01-preview', 'organization': None, 'proxy': None, 'cognitive_services_endpoint': None, 'deployment_name': 'text-embedding-ada-002', 'model_supports_json': None, 'tokens_per_minute': 0, 'requests_per_minute': 0, 'max_retries': 10, 'max_retry_wait': 10.0, 'sleep_on_rate_limit_recommendation': True, 'concurrent_requests': 25}\n",
       "\n",
       "SUCCESS: Local Search Response:\n",
       "Elon Musk has several notable relatives who have played various roles in his life and career. Here is a list of his known relatives:\n",
       "\n",
       "### Immediate Family\n",
       "- **Maye Musk**: Elon Musk's mother, a Canadian-born model and dietitian .\n",
       "- **Errol Musk**: Elon Musk's father .\n",
       "- **Kimbal Musk**: Elon Musk's brother, co-founder of Zip2 .\n",
       "- **Tosca Musk**: Elon Musk's sister .\n",
       "\n",
       "### Extended Family\n",
       "- **Lyndon Rive**: Elon Musk's cousin .\n",
       "\n",
       "### Marriages\n",
       "- **Justine Wilson**: Elon Musk's first wife .\n",
       "- **Talulah Riley**: Elon Musk's second wife, married twice .\n",
       "\n",
       "These relationships have influenced various aspects of Musk's personal and professional life."
      ],
      "text/plain": [
       "<IPython.core.display.Markdown object>"
      ]
     },
     "execution_count": 12,
     "metadata": {},
     "output_type": "execute_result"
    }
   ],
   "source": [
    "from IPython.display import Markdown\n",
    "local_query=\"list all relatives of Elon Musk\"\n",
    "local_result = ask_graph(local_query,'local')\n",
    "\n",
    "Markdown(local_result)"
   ]
  },
  {
   "cell_type": "code",
   "execution_count": 13,
   "metadata": {},
   "outputs": [
    {
     "data": {
      "text/markdown": [
       "INFO: Vector Store Args: {}\n",
       "creating llm client with {'api_key': 'REDACTED,len=32', 'type': \"azure_openai_chat\", 'model': 'gpt-4o', 'max_tokens': 4000, 'temperature': 0.0, 'top_p': 1.0, 'n': 1, 'request_timeout': 180.0, 'api_base': 'https://njo-npd-openai-dev-ce.openai.azure.com/', 'api_version': '2024-08-01-preview', 'organization': None, 'proxy': None, 'cognitive_services_endpoint': None, 'deployment_name': 'gpt-4o', 'model_supports_json': True, 'tokens_per_minute': 0, 'requests_per_minute': 0, 'max_retries': 10, 'max_retry_wait': 10.0, 'sleep_on_rate_limit_recommendation': True, 'concurrent_requests': 25}\n",
       "creating embedding llm client with {'api_key': 'REDACTED,len=32', 'type': \"azure_openai_embedding\", 'model': 'text-embedding-ada-002', 'max_tokens': 4000, 'temperature': 0, 'top_p': 1, 'n': 1, 'request_timeout': 180.0, 'api_base': 'https://njo-npd-openai-dev-ce.openai.azure.com/', 'api_version': '2024-08-01-preview', 'organization': None, 'proxy': None, 'cognitive_services_endpoint': None, 'deployment_name': 'text-embedding-ada-002', 'model_supports_json': None, 'tokens_per_minute': 0, 'requests_per_minute': 0, 'max_retries': 10, 'max_retry_wait': 10.0, 'sleep_on_rate_limit_recommendation': True, 'concurrent_requests': 25}\n",
       "\n",
       "SUCCESS: Local Search Response:\n",
       "### People Associated with Elon Musk\n",
       "\n",
       "- **Maye Musk**: Mother of Elon Musk, through whom he acquired Canadian citizenship .\n",
       "- **Errol Musk**: Father of Elon Musk .\n",
       "- **Kimbal Musk**: Brother of Elon Musk and co-founder of Zip2 .\n",
       "- **Tosca Musk**: Sister of Elon Musk .\n",
       "- **Lyndon Rive**: Cousin of Elon Musk .\n",
       "- **Talulah Riley**: Second wife of Elon Musk, married twice .\n",
       "- **Justine Wilson**: First wife of Elon Musk .\n",
       "- **Donald Trump**: US presidential candidate in the 2024 election, supported by Elon Musk .\n",
       "- **Vivek Ramaswamy**: Co-leader of the Department of Government Efficiency (DOGE) advisory board with Elon Musk .\n",
       "\n",
       "These individuals have played various roles in Elon Musk's personal and professional life, contributing to his career and public image."
      ],
      "text/plain": [
       "<IPython.core.display.Markdown object>"
      ]
     },
     "execution_count": 13,
     "metadata": {},
     "output_type": "execute_result"
    }
   ],
   "source": [
    "from IPython.display import Markdown\n",
    "local_query=\"list all peoples associated with Elon Musk with their relation to him\"\n",
    "local_result = ask_graph(local_query,'local')\n",
    "\n",
    "Markdown(local_result)"
   ]
  },
  {
   "cell_type": "code",
   "execution_count": 14,
   "metadata": {},
   "outputs": [
    {
     "data": {
      "text/markdown": [
       "creating llm client with {'api_key': 'REDACTED,len=32', 'type': \"azure_openai_chat\", 'model': 'gpt-4o', 'max_tokens': 4000, 'temperature': 0.0, 'top_p': 1.0, 'n': 1, 'request_timeout': 180.0, 'api_base': 'https://njo-npd-openai-dev-ce.openai.azure.com/', 'api_version': '2024-08-01-preview', 'organization': None, 'proxy': None, 'cognitive_services_endpoint': None, 'deployment_name': 'gpt-4o', 'model_supports_json': True, 'tokens_per_minute': 0, 'requests_per_minute': 0, 'max_retries': 10, 'max_retry_wait': 10.0, 'sleep_on_rate_limit_recommendation': True, 'concurrent_requests': 25}\n",
       "\n",
       "SUCCESS: Global Search Response:\n",
       "### People Associated with Elon Musk\n",
       "\n",
       "- **Maye Musk**\n",
       "  - Relation: Mother\n",
       "  - Involvement: Various ventures with Elon Musk .\n",
       "\n",
       "- **Kimbal Musk**\n",
       "  - Relation: Brother\n",
       "  - Involvement: Collaborated on multiple ventures with Elon Musk .\n",
       "\n",
       "- **Lyndon Rive**\n",
       "  - Relation: Cousin\n",
       "  - Involvement: Various ventures with Elon Musk .\n",
       "\n",
       "- **Donald Trump**\n",
       "  - Relation: Political Ally\n",
       "  - Involvement: Received vocal and financial support from Elon Musk during the 2024 US presidential election; appointed Musk as co-leader of the Department of Government Efficiency (DOGE) advisory board .\n",
       "\n",
       "- **Vivek Ramaswamy**\n",
       "  - Relation: Co-leader of DOGE advisory board\n",
       "  - Involvement: Co-leads the Department of Government Efficiency (DOGE) advisory board alongside Elon Musk ."
      ],
      "text/plain": [
       "<IPython.core.display.Markdown object>"
      ]
     },
     "execution_count": 14,
     "metadata": {},
     "output_type": "execute_result"
    }
   ],
   "source": [
    "from IPython.display import Markdown\n",
    "global_query=\"list all peoples associated with Elon Musk with their relation to him\"\n",
    "global_result = ask_graph(local_query,'global')\n",
    "\n",
    "Markdown(global_result)"
   ]
  },
  {
   "cell_type": "code",
   "execution_count": 15,
   "metadata": {},
   "outputs": [
    {
     "data": {
      "text/markdown": [
       "INFO: Vector Store Args: {}\n",
       "creating llm client with {'api_key': 'REDACTED,len=32', 'type': \"azure_openai_chat\", 'model': 'gpt-4o', 'max_tokens': 4000, 'temperature': 0.0, 'top_p': 1.0, 'n': 1, 'request_timeout': 180.0, 'api_base': 'https://njo-npd-openai-dev-ce.openai.azure.com/', 'api_version': '2024-08-01-preview', 'organization': None, 'proxy': None, 'cognitive_services_endpoint': None, 'deployment_name': 'gpt-4o', 'model_supports_json': True, 'tokens_per_minute': 0, 'requests_per_minute': 0, 'max_retries': 10, 'max_retry_wait': 10.0, 'sleep_on_rate_limit_recommendation': True, 'concurrent_requests': 25}\n",
       "creating embedding llm client with {'api_key': 'REDACTED,len=32', 'type': \"azure_openai_embedding\", 'model': 'text-embedding-ada-002', 'max_tokens': 4000, 'temperature': 0, 'top_p': 1, 'n': 1, 'request_timeout': 180.0, 'api_base': 'https://njo-npd-openai-dev-ce.openai.azure.com/', 'api_version': '2024-08-01-preview', 'organization': None, 'proxy': None, 'cognitive_services_endpoint': None, 'deployment_name': 'text-embedding-ada-002', 'model_supports_json': None, 'tokens_per_minute': 0, 'requests_per_minute': 0, 'max_retries': 10, 'max_retry_wait': 10.0, 'sleep_on_rate_limit_recommendation': True, 'concurrent_requests': 25}\n",
       "\n",
       "SUCCESS: Local Search Response:\n",
       "### Summary of Elon Musk's Life\n",
       "\n",
       "- **Early Life and Education**:\n",
       "  - Born in Pretoria, South Africa, Musk briefly attended the University of Pretoria before immigrating to Canada at age 18. He later attended Queen's University and the University of Pennsylvania, earning degrees in economics and physics .\n",
       "\n",
       "- **Founding Zip2 and PayPal**:\n",
       "  - Co-founded Zip2 with his brother Kimbal, which was sold to Compaq for $307 million. Later co-founded X.com, which became PayPal and was acquired by eBay for $1.5 billion .\n",
       "\n",
       "- **SpaceX**:\n",
       "  - Founded SpaceX in 2002 using $100 million from the sale of PayPal. SpaceX focuses on spaceflight services and has become a leader in aerospace manufacturing .\n",
       "\n",
       "- **Tesla, Inc.**:\n",
       "  - Early investor in Tesla, Inc., later becoming CEO and product architect. Tesla is a leading electric vehicle and clean energy company .\n",
       "\n",
       "- **SolarCity and Tesla Energy**:\n",
       "  - Helped create SolarCity, which was acquired by Tesla and became Tesla Energy, focusing on solar energy solutions .\n",
       "\n",
       "- **Neuralink and OpenAI**:\n",
       "  - Co-founded Neuralink and OpenAI, focusing on neurotechnology and artificial intelligence, respectively .\n",
       "\n",
       "- **The Boring Company and Hyperloop**:\n",
       "  - Founded The Boring Company to develop tunnel construction and conceptualized the Hyperloop high-speed transportation system .\n",
       "\n",
       "- **Acquisition of Twitter**:\n",
       "  - Acquired Twitter in 2022 for $44 billion, rebranding it as X and integrating it into X Corp. .\n",
       "\n",
       "- **Legal and Regulatory Challenges**:\n",
       "  - Faced significant legal issues, including a lawsuit from the SEC in 2018 over false statements about Tesla's privatization .\n",
       "\n",
       "- **Philanthropy and Political Involvement**:\n",
       "  - Founded the Musk Foundation, supporting various scientific and educational causes. Became a vocal supporter of Donald Trump in the 2024 US presidential election .\n",
       "\n",
       "These points provide a comprehensive overview of Elon Musk's life, highlighting his major ventures, educational background, and significant challenges."
      ],
      "text/plain": [
       "<IPython.core.display.Markdown object>"
      ]
     },
     "execution_count": 15,
     "metadata": {},
     "output_type": "execute_result"
    }
   ],
   "source": [
    "from IPython.display import Markdown\n",
    "local_query=\"provide 10 points summary of Musk's life?\"\n",
    "local_result = ask_graph(local_query,'local')\n",
    "\n",
    "Markdown(local_result)"
   ]
  },
  {
   "cell_type": "code",
   "execution_count": 7,
   "metadata": {},
   "outputs": [
    {
     "data": {
      "text/markdown": [
       "creating llm client with {'api_key': 'REDACTED,len=32', 'type': \"azure_openai_chat\", 'model': 'gpt-4o', 'max_tokens': 4000, 'temperature': 0.0, 'top_p': 1.0, 'n': 1, 'request_timeout': 180.0, 'api_base': 'https://njo-npd-openai-dev-ce.openai.azure.com/', 'api_version': '2024-08-01-preview', 'organization': None, 'proxy': None, 'cognitive_services_endpoint': None, 'deployment_name': 'gpt-4o', 'model_supports_json': True, 'tokens_per_minute': 0, 'requests_per_minute': 0, 'max_retries': 10, 'max_retry_wait': 10.0, 'sleep_on_rate_limit_recommendation': True, 'concurrent_requests': 25}\n",
       "\n",
       "SUCCESS: Global Search Response:\n",
       "I am sorry but I am unable to answer this question given the provided data."
      ],
      "text/plain": [
       "<IPython.core.display.Markdown object>"
      ]
     },
     "execution_count": 7,
     "metadata": {},
     "output_type": "execute_result"
    }
   ],
   "source": [
    "from IPython.display import Markdown\n",
    "local_query=\"Describe the childhood of Elon Musk?\"\n",
    "local_result = ask_graph(local_query,'global')\n",
    "\n",
    "Markdown(local_result)"
   ]
  },
  {
   "cell_type": "code",
   "execution_count": 8,
   "metadata": {},
   "outputs": [
    {
     "data": {
      "text/markdown": [
       "INFO: Vector Store Args: {}\n",
       "creating llm client with {'api_key': 'REDACTED,len=32', 'type': \"azure_openai_chat\", 'model': 'gpt-4o', 'max_tokens': 4000, 'temperature': 0.0, 'top_p': 1.0, 'n': 1, 'request_timeout': 180.0, 'api_base': 'https://njo-npd-openai-dev-ce.openai.azure.com/', 'api_version': '2024-08-01-preview', 'organization': None, 'proxy': None, 'cognitive_services_endpoint': None, 'deployment_name': 'gpt-4o', 'model_supports_json': True, 'tokens_per_minute': 0, 'requests_per_minute': 0, 'max_retries': 10, 'max_retry_wait': 10.0, 'sleep_on_rate_limit_recommendation': True, 'concurrent_requests': 25}\n",
       "creating embedding llm client with {'api_key': 'REDACTED,len=32', 'type': \"azure_openai_embedding\", 'model': 'text-embedding-ada-002', 'max_tokens': 4000, 'temperature': 0, 'top_p': 1, 'n': 1, 'request_timeout': 180.0, 'api_base': 'https://njo-npd-openai-dev-ce.openai.azure.com/', 'api_version': '2024-08-01-preview', 'organization': None, 'proxy': None, 'cognitive_services_endpoint': None, 'deployment_name': 'text-embedding-ada-002', 'model_supports_json': None, 'tokens_per_minute': 0, 'requests_per_minute': 0, 'max_retries': 10, 'max_retry_wait': 10.0, 'sleep_on_rate_limit_recommendation': True, 'concurrent_requests': 25}\n",
       "\n",
       "SUCCESS: Local Search Response:\n",
       "### Elon Musk's Childhood\n",
       "\n",
       "- **Birth and Early Life**: Elon Musk was born on June 28, 1971, in Pretoria, South Africa .\n",
       "- **Family Background**: He is a member of the wealthy Musk family. His father, Errol Musk, is an engineer, and his mother, Maye Musk, is a Canadian-born model and dietitian .\n",
       "- **Education**: Musk briefly attended the University of Pretoria before immigrating to Canada at the age of 18 .\n",
       "- **Immigration to Canada**: He acquired Canadian citizenship through his mother and later attended Queen's University in Canada .\n",
       "\n",
       "Elon Musk's early life was marked by his international background and the influence of his family's wealth and professional achievements."
      ],
      "text/plain": [
       "<IPython.core.display.Markdown object>"
      ]
     },
     "execution_count": 8,
     "metadata": {},
     "output_type": "execute_result"
    }
   ],
   "source": [
    "from IPython.display import Markdown\n",
    "local_query=\"Describe the childhood of Elon Musk?\"\n",
    "local_result = ask_graph(local_query,'local')\n",
    "\n",
    "Markdown(local_result)"
   ]
  },
  {
   "cell_type": "markdown",
   "metadata": {},
   "source": []
  },
  {
   "cell_type": "markdown",
   "metadata": {},
   "source": []
  },
  {
   "cell_type": "markdown",
   "metadata": {},
   "source": [
    "#### ----- Differences between RAG and GraphRAG\n",
    "\n",
    "Retrieval Mechanism\n",
    "RAG: Utilizes embeddings and vector databases for information retrieval.\n",
    "GraphRAG: Employs graph structures and graph databases to manage data.\n",
    "\n",
    "Contextual Understanding\n",
    "RAG: Lacks a comprehensive understanding of data, relying primarily on similarity scores.\n",
    "GraphRAG: Offers enhanced overall data understanding by capturing associated information and related entities.\n",
    "\n",
    "Application\n",
    "RAG: Best suited for general question-answering and straightforward information retrieval tasks.\n",
    "GraphRAG: More effective for complex use cases that involve structured knowledge and intricate relationships.\n",
    "\n",
    "Complexity\n",
    "RAG: Easier to implement and deploy.\n",
    "GraphRAG: More complicated, necessitating knowledge graph maintenance and management.\n",
    "\n",
    "Scalability\n",
    "RAG: Highly scalable and adaptable.\n",
    "GraphRAG: More complex to scale, requiring modifications to the graph structure.\n",
    "\n",
    "Maintenance\n",
    "RAG: Low maintenance with straightforward updates.\n",
    "GraphRAG: Higher maintenance demands due to the complexities of graph structures.\n",
    "\n",
    "Integration\n",
    "RAG: Easier to integrate into existing systems.\n",
    "GraphRAG: More complicated integration, involving management of graph databases.\n",
    "\n",
    "Learning Curve\n",
    "RAG: Easier to grasp with basic knowledge of vectors and embeddings.\n",
    "GraphRAG: Requires additional expertise in graph analytics and algorithms.\n",
    "\n",
    "Cost\n",
    "RAG: Generally incurs lower costs due to simpler infrastructure.\n",
    "GraphRAG: Higher costs associated with increased computational requirements and knowledge graph maintenance.\n",
    "\n"
   ]
  },
  {
   "cell_type": "markdown",
   "metadata": {},
   "source": [
    "RAG -- \n",
    "    Advantages: Simple implementation, Faster retrieval times\n",
    "\n",
    "    Limitations: Less effective at capturing complex relationships among data.\n",
    "\n",
    "GraphRAG -- \n",
    "    Advantages: Superior at capturing complex relationships, Leverages data connections effectively\n",
    "    \n",
    "    Limitations: Computationally intensive, Requires ongoing graph management."
   ]
  },
  {
   "cell_type": "markdown",
   "metadata": {},
   "source": []
  }
 ],
 "metadata": {
  "kernelspec": {
   "display_name": "Python 3",
   "language": "python",
   "name": "python3"
  },
  "language_info": {
   "codemirror_mode": {
    "name": "ipython",
    "version": 3
   },
   "file_extension": ".py",
   "mimetype": "text/x-python",
   "name": "python",
   "nbconvert_exporter": "python",
   "pygments_lexer": "ipython3",
   "version": "3.11.11"
  }
 },
 "nbformat": 4,
 "nbformat_minor": 2
}
